{
 "cells": [
  {
   "cell_type": "code",
   "execution_count": 7,
   "metadata": {
    "ExecuteTime": {
     "end_time": "2024-03-19T14:50:50.230297Z",
     "start_time": "2024-03-19T14:50:50.227559Z"
    }
   },
   "outputs": [],
   "source": [
    "import tfidf_matcher as tm\n",
    "import pandas as pd\n",
    "from concurrent.futures import ThreadPoolExecutor, as_completed"
   ]
  },
  {
   "cell_type": "code",
   "execution_count": 8,
   "metadata": {
    "ExecuteTime": {
     "end_time": "2024-03-19T14:50:50.576154Z",
     "start_time": "2024-03-19T14:50:50.231568Z"
    }
   },
   "outputs": [],
   "source": [
    "# Workstation Path\n",
    "#nets_all_data = pd.read_stata('S:/Users/Hiwi/Maris/name_matching/Data/hq_all_maris.dta')\n",
    "#nets_pub_data = pd.read_stata('S:/Users/Hiwi/Maris/name_matching/Data/hq_companies_public_maris.dta')\n",
    "#compustat_data = pd.read_stata('S:/Users/Hiwi/Maris/name_matching/Data/compustat.dta')\n",
    "\n",
    "# Mac Path\n",
    "compustat_data = pd.read_stata('/Users/marisbuttmann/Desktop/HIWI_code/geocode_project/all_data/compustat.dta')\n",
    "nets_pub_data = pd.read_stata('/Users/marisbuttmann/Desktop/HIWI_code/geocode_project/all_data/hq_companies_public_maris.dta')\n",
    "#nets_all_data = pd.read_stata('/Users/marisbuttmann/Desktop/HIWI_code/geocode_project/all_data/hq_all_maris.dta')"
   ]
  },
  {
   "cell_type": "code",
   "execution_count": 9,
   "metadata": {
    "ExecuteTime": {
     "end_time": "2024-03-19T14:50:50.582122Z",
     "start_time": "2024-03-19T14:50:50.577728Z"
    }
   },
   "outputs": [],
   "source": [
    "import numpy as np\n",
    "from concurrent.futures import ThreadPoolExecutor, as_completed\n",
    "\n",
    "def matching(compustat_names, nets_names):\n",
    "    workers = 5\n",
    "    results = []\n",
    "\n",
    "    # Split nets_all_data into 4 pieces\n",
    "    nets_splits = np.array_split(nets_names, workers)\n",
    "\n",
    "    with ThreadPoolExecutor(max_workers=workers) as executor:\n",
    "        # Submit a task for each split of nets_all_data\n",
    "        futures = [executor.submit(tm.matcher, compustat_names, data_split, k_matches=3, ngram_length=3) for data_split in nets_splits]\n",
    "\n",
    "        for future in as_completed(futures):\n",
    "            try:\n",
    "                results.append(future.result())\n",
    "            except Exception as e:\n",
    "                print(e)\n",
    "\n",
    "    return results"
   ]
  },
  {
   "cell_type": "code",
   "execution_count": 13,
   "metadata": {
    "ExecuteTime": {
     "end_time": "2024-03-19T14:54:20.811323Z",
     "start_time": "2024-03-19T14:54:05.155080Z"
    }
   },
   "outputs": [],
   "source": [
    "compustat = compustat_data['hqcompany']\n",
    "nets = nets_pub_data['hqcompany']\n",
    "result = tm.matcher(compustat, nets)"
   ]
  },
  {
   "cell_type": "code",
   "execution_count": 22,
   "metadata": {
    "ExecuteTime": {
     "end_time": "2024-03-19T15:02:54.623045Z",
     "start_time": "2024-03-19T15:02:54.602531Z"
    }
   },
   "outputs": [
    {
     "data": {
      "text/plain": "                     Original Name  \\\n29708      UNISOURCE WORLDWIDE INC   \n34975          WCI COMMUNITIES INC   \n40406            HYATT HOTELS CORP   \n37950       PALO ALTO NETWORKS INC   \n13547        LANDSING PACIFIC FUND   \n...                            ...   \n30918       USN COMMUNICATIONS INC   \n22633  ALABAMA NATL BANCORPORATION   \n34760         SHORE BANCSHARES INC   \n32427               EASYRIDERS INC   \n38415   ARMSTRONG WORLD INDUSTRIES   \n\n                                                Lookup 1  Lookup 1 Confidence  \\\n29708  UNISOURCE WORLDWIDE INC                       ...                 0.71   \n34975  WCI COMMUNITIES INC                           ...                 0.57   \n40406  HYATT HOTELS CORPORATION                      ...                 0.67   \n37950  PALO ALTO NETWORKS INC                        ...                 0.71   \n13547  LANDSING PACIFIC FUND                         ...                 0.68   \n...                                                  ...                  ...   \n30918  USN COMMUNICATIONS INC                        ...                 0.61   \n22633  ALABAMA NAT BANCORPORATION                    ...                 0.64   \n34760  SHORE BANCSHARES INC                          ...                 0.56   \n32427  EASYRIDERS INC                                ...                 0.52   \n38415  ARMSTRONG WORLD INDUSTRIES INC                ...                 0.83   \n\n       Lookup 1 Index                                           Lookup 2  \\\n29708            1667  RIPTIDE WORLDWIDE INC                         ...   \n34975            9960  W C I COMMUNITIES INC                         ...   \n40406            2197  PRATT HOTEL CORPORATION                       ...   \n37950           10961  SORRENTO NETWORKS CORPORATION                 ...   \n13547           22486  SOUTHERN PACIFIC FUNDING CORP                 ...   \n...               ...                                                ...   \n30918            6831  EON COMMUNICATIONS CORPORATION                ...   \n22633            8900  ALABAMA ACQUISITION CORP                      ...   \n34760            2728  ENCORE BANCSHARES INC                         ...   \n32427           10817  EASYLINK SERVICES INTL CORP                   ...   \n38415             308  ARMSTRONG WORLD INDUSTRIES                    ...   \n\n       Lookup 2 Confidence  Lookup 2 Index  \\\n29708                 0.46            5439   \n34975                 0.38            7896   \n40406                 0.35           11584   \n37950                 0.41           27587   \n13547                 0.48            5031   \n...                    ...             ...   \n30918                 0.47            2075   \n22633                 0.39            9551   \n34760                 0.45            8832   \n32427                 0.17            5047   \n38415                 0.77             278   \n\n                                                Lookup 3  Lookup 3 Confidence  \\\n29708  WORLDWIDE GOLF RESOURCES INC                  ...                 0.45   \n34975  AMERICAN CMPUS COMMUNITIES INC                ...                 0.35   \n40406  INTERSTATE HOTELS CORPORATION                 ...                 0.32   \n37950  PREMIERE RADIO NETWORKS INC                   ...                 0.34   \n13547  CENTRAL PACIFIC FINANCIAL CORP                ...                 0.34   \n...                                                  ...                  ...   \n30918  COMMUNITY SVC COMMUNICATIONS                  ...                 0.46   \n22633  BANCALABAMA INC                               ...                 0.35   \n34760  FIRST RELIANCE BANCSHARES INC                 ...                 0.40   \n32427  EASYLINK SERVICES CORPORATION                 ...                 0.17   \n38415  ART WORLD INDUSTRIES INC                      ...                 0.42   \n\n       Lookup 3 Index                                           Lookup 4  \\\n29708           21891  RENAISSANCE WORLDWIDE INC                     ...   \n34975            5055  MCI COMMUNICATIONS CORPORATION                ...   \n40406           10956  HILTON HOTELS HOLDINGS CORP                   ...   \n37950           23003  METRO NETWORKS INC                            ...   \n13547            2373  PACIFIC FINANCIAL CORPORATION                 ...   \n...               ...                                                ...   \n30918           17715  UNIVISION COMMUNICATIONS INC                  ...   \n22633           22696  ALABAMA AIRCRAFT INDS INC                     ...   \n34760            6566  FIRST COMMERCE BANCSHARES INC                 ...   \n32427           26616  SYROS PHARMACEUTICALS INC                     ...   \n38415            5175  RAYCOMM TRANSWORLD INDUSTRIES                 ...   \n\n       Lookup 4 Confidence  Lookup 4 Index  \\\n29708                 0.45            2313   \n34975                 0.34            5463   \n40406                 0.31            3408   \n37950                 0.33            1392   \n13547                 0.33           19931   \n...                    ...             ...   \n30918                 0.45           10975   \n22633                 0.33            3840   \n34760                 0.40            8548   \n32427                 0.15           15605   \n38415                 0.34           13114   \n\n                                                Lookup 5  Lookup 5 Confidence  \\\n29708  STAMPEDE WORLDWIDE INC                        ...                 0.44   \n34975  AVALON BAY COMMUNITIES INC                    ...                 0.34   \n40406  RED LION HOTELS CORPORATION                   ...                 0.30   \n37950  NOVO NETWORKS INC                             ...                 0.32   \n13547  CENTRAL PACIFIC FINANCIAL                     ...                 0.31   \n...                                                  ...                  ...   \n30918  ACTION COMMUNICATIONS INC                     ...                 0.44   \n22633  UNITED NATIONAL BANCORPORATION                ...                 0.30   \n34760  NEWALLIANCE BANCSHARES INC                    ...                 0.39   \n32427  PREFERRED PROVIDERS INSURANCE                 ...                 0.14   \n38415  ARMSTRONG PHARMACEUTICALS                     ...                 0.33   \n\n       Lookup 5 Index  \n29708           27096  \n34975            7105  \n40406            4503  \n37950            8911  \n13547            9793  \n...               ...  \n30918           23489  \n22633            6925  \n34760            1571  \n32427           23565  \n38415           15521  \n\n[100 rows x 16 columns]",
      "text/html": "<div>\n<style scoped>\n    .dataframe tbody tr th:only-of-type {\n        vertical-align: middle;\n    }\n\n    .dataframe tbody tr th {\n        vertical-align: top;\n    }\n\n    .dataframe thead th {\n        text-align: right;\n    }\n</style>\n<table border=\"1\" class=\"dataframe\">\n  <thead>\n    <tr style=\"text-align: right;\">\n      <th></th>\n      <th>Original Name</th>\n      <th>Lookup 1</th>\n      <th>Lookup 1 Confidence</th>\n      <th>Lookup 1 Index</th>\n      <th>Lookup 2</th>\n      <th>Lookup 2 Confidence</th>\n      <th>Lookup 2 Index</th>\n      <th>Lookup 3</th>\n      <th>Lookup 3 Confidence</th>\n      <th>Lookup 3 Index</th>\n      <th>Lookup 4</th>\n      <th>Lookup 4 Confidence</th>\n      <th>Lookup 4 Index</th>\n      <th>Lookup 5</th>\n      <th>Lookup 5 Confidence</th>\n      <th>Lookup 5 Index</th>\n    </tr>\n  </thead>\n  <tbody>\n    <tr>\n      <th>29708</th>\n      <td>UNISOURCE WORLDWIDE INC</td>\n      <td>UNISOURCE WORLDWIDE INC                       ...</td>\n      <td>0.71</td>\n      <td>1667</td>\n      <td>RIPTIDE WORLDWIDE INC                         ...</td>\n      <td>0.46</td>\n      <td>5439</td>\n      <td>WORLDWIDE GOLF RESOURCES INC                  ...</td>\n      <td>0.45</td>\n      <td>21891</td>\n      <td>RENAISSANCE WORLDWIDE INC                     ...</td>\n      <td>0.45</td>\n      <td>2313</td>\n      <td>STAMPEDE WORLDWIDE INC                        ...</td>\n      <td>0.44</td>\n      <td>27096</td>\n    </tr>\n    <tr>\n      <th>34975</th>\n      <td>WCI COMMUNITIES INC</td>\n      <td>WCI COMMUNITIES INC                           ...</td>\n      <td>0.57</td>\n      <td>9960</td>\n      <td>W C I COMMUNITIES INC                         ...</td>\n      <td>0.38</td>\n      <td>7896</td>\n      <td>AMERICAN CMPUS COMMUNITIES INC                ...</td>\n      <td>0.35</td>\n      <td>5055</td>\n      <td>MCI COMMUNICATIONS CORPORATION                ...</td>\n      <td>0.34</td>\n      <td>5463</td>\n      <td>AVALON BAY COMMUNITIES INC                    ...</td>\n      <td>0.34</td>\n      <td>7105</td>\n    </tr>\n    <tr>\n      <th>40406</th>\n      <td>HYATT HOTELS CORP</td>\n      <td>HYATT HOTELS CORPORATION                      ...</td>\n      <td>0.67</td>\n      <td>2197</td>\n      <td>PRATT HOTEL CORPORATION                       ...</td>\n      <td>0.35</td>\n      <td>11584</td>\n      <td>INTERSTATE HOTELS CORPORATION                 ...</td>\n      <td>0.32</td>\n      <td>10956</td>\n      <td>HILTON HOTELS HOLDINGS CORP                   ...</td>\n      <td>0.31</td>\n      <td>3408</td>\n      <td>RED LION HOTELS CORPORATION                   ...</td>\n      <td>0.30</td>\n      <td>4503</td>\n    </tr>\n    <tr>\n      <th>37950</th>\n      <td>PALO ALTO NETWORKS INC</td>\n      <td>PALO ALTO NETWORKS INC                        ...</td>\n      <td>0.71</td>\n      <td>10961</td>\n      <td>SORRENTO NETWORKS CORPORATION                 ...</td>\n      <td>0.41</td>\n      <td>27587</td>\n      <td>PREMIERE RADIO NETWORKS INC                   ...</td>\n      <td>0.34</td>\n      <td>23003</td>\n      <td>METRO NETWORKS INC                            ...</td>\n      <td>0.33</td>\n      <td>1392</td>\n      <td>NOVO NETWORKS INC                             ...</td>\n      <td>0.32</td>\n      <td>8911</td>\n    </tr>\n    <tr>\n      <th>13547</th>\n      <td>LANDSING PACIFIC FUND</td>\n      <td>LANDSING PACIFIC FUND                         ...</td>\n      <td>0.68</td>\n      <td>22486</td>\n      <td>SOUTHERN PACIFIC FUNDING CORP                 ...</td>\n      <td>0.48</td>\n      <td>5031</td>\n      <td>CENTRAL PACIFIC FINANCIAL CORP                ...</td>\n      <td>0.34</td>\n      <td>2373</td>\n      <td>PACIFIC FINANCIAL CORPORATION                 ...</td>\n      <td>0.33</td>\n      <td>19931</td>\n      <td>CENTRAL PACIFIC FINANCIAL                     ...</td>\n      <td>0.31</td>\n      <td>9793</td>\n    </tr>\n    <tr>\n      <th>...</th>\n      <td>...</td>\n      <td>...</td>\n      <td>...</td>\n      <td>...</td>\n      <td>...</td>\n      <td>...</td>\n      <td>...</td>\n      <td>...</td>\n      <td>...</td>\n      <td>...</td>\n      <td>...</td>\n      <td>...</td>\n      <td>...</td>\n      <td>...</td>\n      <td>...</td>\n      <td>...</td>\n    </tr>\n    <tr>\n      <th>30918</th>\n      <td>USN COMMUNICATIONS INC</td>\n      <td>USN COMMUNICATIONS INC                        ...</td>\n      <td>0.61</td>\n      <td>6831</td>\n      <td>EON COMMUNICATIONS CORPORATION                ...</td>\n      <td>0.47</td>\n      <td>2075</td>\n      <td>COMMUNITY SVC COMMUNICATIONS                  ...</td>\n      <td>0.46</td>\n      <td>17715</td>\n      <td>UNIVISION COMMUNICATIONS INC                  ...</td>\n      <td>0.45</td>\n      <td>10975</td>\n      <td>ACTION COMMUNICATIONS INC                     ...</td>\n      <td>0.44</td>\n      <td>23489</td>\n    </tr>\n    <tr>\n      <th>22633</th>\n      <td>ALABAMA NATL BANCORPORATION</td>\n      <td>ALABAMA NAT BANCORPORATION                    ...</td>\n      <td>0.64</td>\n      <td>8900</td>\n      <td>ALABAMA ACQUISITION CORP                      ...</td>\n      <td>0.39</td>\n      <td>9551</td>\n      <td>BANCALABAMA INC                               ...</td>\n      <td>0.35</td>\n      <td>22696</td>\n      <td>ALABAMA AIRCRAFT INDS INC                     ...</td>\n      <td>0.33</td>\n      <td>3840</td>\n      <td>UNITED NATIONAL BANCORPORATION                ...</td>\n      <td>0.30</td>\n      <td>6925</td>\n    </tr>\n    <tr>\n      <th>34760</th>\n      <td>SHORE BANCSHARES INC</td>\n      <td>SHORE BANCSHARES INC                          ...</td>\n      <td>0.56</td>\n      <td>2728</td>\n      <td>ENCORE BANCSHARES INC                         ...</td>\n      <td>0.45</td>\n      <td>8832</td>\n      <td>FIRST RELIANCE BANCSHARES INC                 ...</td>\n      <td>0.40</td>\n      <td>6566</td>\n      <td>FIRST COMMERCE BANCSHARES INC                 ...</td>\n      <td>0.40</td>\n      <td>8548</td>\n      <td>NEWALLIANCE BANCSHARES INC                    ...</td>\n      <td>0.39</td>\n      <td>1571</td>\n    </tr>\n    <tr>\n      <th>32427</th>\n      <td>EASYRIDERS INC</td>\n      <td>EASYRIDERS INC                                ...</td>\n      <td>0.52</td>\n      <td>10817</td>\n      <td>EASYLINK SERVICES INTL CORP                   ...</td>\n      <td>0.17</td>\n      <td>5047</td>\n      <td>EASYLINK SERVICES CORPORATION                 ...</td>\n      <td>0.17</td>\n      <td>26616</td>\n      <td>SYROS PHARMACEUTICALS INC                     ...</td>\n      <td>0.15</td>\n      <td>15605</td>\n      <td>PREFERRED PROVIDERS INSURANCE                 ...</td>\n      <td>0.14</td>\n      <td>23565</td>\n    </tr>\n    <tr>\n      <th>38415</th>\n      <td>ARMSTRONG WORLD INDUSTRIES</td>\n      <td>ARMSTRONG WORLD INDUSTRIES INC                ...</td>\n      <td>0.83</td>\n      <td>308</td>\n      <td>ARMSTRONG WORLD INDUSTRIES                    ...</td>\n      <td>0.77</td>\n      <td>278</td>\n      <td>ART WORLD INDUSTRIES INC                      ...</td>\n      <td>0.42</td>\n      <td>5175</td>\n      <td>RAYCOMM TRANSWORLD INDUSTRIES                 ...</td>\n      <td>0.34</td>\n      <td>13114</td>\n      <td>ARMSTRONG PHARMACEUTICALS                     ...</td>\n      <td>0.33</td>\n      <td>15521</td>\n    </tr>\n  </tbody>\n</table>\n<p>100 rows × 16 columns</p>\n</div>"
     },
     "execution_count": 22,
     "metadata": {},
     "output_type": "execute_result"
    }
   ],
   "source": [
    "result[result['Lookup 1 Confidence'] > 0.5].sort_values('Lookup 1 Confidence', ascending=False).sample(100)"
   ]
  },
  {
   "cell_type": "code",
   "execution_count": null,
   "metadata": {},
   "outputs": [],
   "source": []
  }
 ],
 "metadata": {
  "kernelspec": {
   "display_name": "base",
   "language": "python",
   "name": "python3"
  },
  "language_info": {
   "codemirror_mode": {
    "name": "ipython",
    "version": 3
   },
   "file_extension": ".py",
   "mimetype": "text/x-python",
   "name": "python",
   "nbconvert_exporter": "python",
   "pygments_lexer": "ipython3",
   "version": "3.9.12"
  }
 },
 "nbformat": 4,
 "nbformat_minor": 2
}
