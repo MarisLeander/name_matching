{
 "cells": [
  {
   "cell_type": "code",
   "execution_count": 7,
   "metadata": {
    "ExecuteTime": {
     "end_time": "2024-03-19T14:50:50.230297Z",
     "start_time": "2024-03-19T14:50:50.227559Z"
    }
   },
   "outputs": [],
   "source": [
    "import tfidf_matcher as tm\n",
    "import pandas as pd\n",
    "from concurrent.futures import ThreadPoolExecutor, as_completed"
   ]
  },
  {
   "cell_type": "code",
   "execution_count": 8,
   "metadata": {
    "ExecuteTime": {
     "end_time": "2024-03-19T14:50:50.576154Z",
     "start_time": "2024-03-19T14:50:50.231568Z"
    }
   },
   "outputs": [],
   "source": [
    "# Workstation Path\n",
    "#nets_all_data = pd.read_stata('S:/Users/Hiwi/Maris/name_matching/Data/hq_all_maris.dta')\n",
    "#nets_pub_data = pd.read_stata('S:/Users/Hiwi/Maris/name_matching/Data/hq_companies_public_maris.dta')\n",
    "#compustat_data = pd.read_stata('S:/Users/Hiwi/Maris/name_matching/Data/compustat.dta')\n",
    "\n",
    "# Mac Path\n",
    "compustat_data = pd.read_stata('/Users/marisbuttmann/Desktop/HIWI_code/geocode_project/all_data/compustat.dta')\n",
    "nets_pub_data = pd.read_stata('/Users/marisbuttmann/Desktop/HIWI_code/geocode_project/all_data/hq_companies_public_maris.dta')\n",
    "#nets_all_data = pd.read_stata('/Users/marisbuttmann/Desktop/HIWI_code/geocode_project/all_data/hq_all_maris.dta')"
   ]
  },
  {
   "cell_type": "code",
   "execution_count": 9,
   "metadata": {
    "ExecuteTime": {
     "end_time": "2024-03-19T14:50:50.582122Z",
     "start_time": "2024-03-19T14:50:50.577728Z"
    }
   },
   "outputs": [],
   "source": [
    "import numpy as np\n",
    "from concurrent.futures import ThreadPoolExecutor, as_completed\n",
    "\n",
    "def matching(compustat_names, nets_names):\n",
    "    workers = 5\n",
    "    results = []\n",
    "\n",
    "    # Split nets_all_data into 4 pieces\n",
    "    nets_splits = np.array_split(nets_names, workers)\n",
    "\n",
    "    with ThreadPoolExecutor(max_workers=workers) as executor:\n",
    "        # Submit a task for each split of nets_all_data\n",
    "        futures = [executor.submit(tm.matcher, compustat_names, data_split, k_matches=3, ngram_length=3) for data_split in nets_splits]\n",
    "\n",
    "        for future in as_completed(futures):\n",
    "            try:\n",
    "                results.append(future.result())\n",
    "            except Exception as e:\n",
    "                print(e)\n",
    "\n",
    "    return results"
   ]
  },
  {
   "cell_type": "code",
   "execution_count": 13,
   "metadata": {
    "ExecuteTime": {
     "end_time": "2024-03-19T14:54:20.811323Z",
     "start_time": "2024-03-19T14:54:05.155080Z"
    }
   },
   "outputs": [],
   "source": [
    "compustat = compustat_data['hqcompany']\n",
    "nets = nets_pub_data['hqcompany']\n",
    "result = tm.matcher(compustat, nets)"
   ]
  },
  {
   "cell_type": "code",
   "execution_count": 23,
   "metadata": {
    "ExecuteTime": {
     "end_time": "2024-03-19T15:31:19.595371Z",
     "start_time": "2024-03-19T15:31:19.575754Z"
    }
   },
   "outputs": [
    {
     "data": {
      "text/plain": "                     Original Name  \\\n12583              TELENETICS CORP   \n28317   ESTEE LAUDER COMPANIES INC   \n31603     NIOCORP DEVELOPMENTS LTD   \n21355     FOOD INTEGRATED TECH INC   \n13295     FOREMOST CORP OF AMERICA   \n...                            ...   \n42907  BIODEXA PHARMACEUTICALS PLC   \n36145     PORTEC RAIL PRODUCTS INC   \n2439        BLOCKBUSTER ENMNT CORP   \n20018   BUSINESS FIRST BANCSHS INC   \n8804             SPORTING LIFE INC   \n\n                                                Lookup 1  Lookup 1 Confidence  \\\n12583  TELENETICS CORPORATION                        ...                 0.52   \n28317  ESTEE LAUDER COMPANIES INC                    ...                 0.75   \n31603  NIOCORP DEVELOPMENTS LTD                      ...                 0.74   \n21355  HEALTHCARE INTEGRATED TECH INC                ...                 0.53   \n13295  FOREMOST CORP OF AMERICA                      ...                 0.69   \n...                                                  ...                  ...   \n42907  OSMOTICA PHARMACEUTICALS PLC                  ...                 0.54   \n36145  ABC RAIL PRODUCTS CORP DEL                    ...                 0.54   \n2439   BLOCKBUSTER ENTERTAINMENT CORP                ...                 0.58   \n20018  BUSINESS FIRST BANCSHARES INC                 ...                 0.69   \n8804   SPORTING LIFE INC                             ...                 0.52   \n\n       Lookup 1 Index                                           Lookup 2  \\\n12583           15134  ESCAGENETICS CORPORATION                      ...   \n28317             536  GUARANTEE LIFE COMPANIES INC                  ...   \n31603           16302  TRI-NATIONAL DEVELOPMENT CORP                 ...   \n21355           15277  ACCESS INTEGRATED TECH INC                    ...   \n13295           13404  FOREMOST CORPORATION AMERICA                  ...   \n...               ...                                                ...   \n42907           15885  ARMATA PHARMACEUTICALS INC                    ...   \n36145           10233  CRYSTAL PRODUCTS CORPORATION                  ...   \n2439            10035  BLOCKBUSTER INC                               ...   \n20018            4174  FIRST BUSINESS FINCL SVCS INC                 ...   \n8804            16956  NORTHEASTERN LIFE INSURANCE CO                ...   \n\n       Lookup 2 Confidence  Lookup 2 Index  \\\n12583                 0.33           25756   \n28317                 0.37            9380   \n31603                 0.44            6955   \n21355                 0.51           23656   \n13295                 0.56           24339   \n...                    ...             ...   \n42907                 0.44           13879   \n36145                 0.35           26614   \n2439                  0.40             730   \n20018                 0.53            8928   \n8804                  0.28           23589   \n\n                                                Lookup 3  Lookup 3 Confidence  \\\n12583  CELLCYTE GENETICS CORPORATION                 ...                 0.33   \n28317  TRUSTEE LIFE INSURANCE COMPANY                ...                 0.27   \n31603  GLOBAL ENERGY DEVELOPMENT LTD                 ...                 0.44   \n21355  ACCESS INTEGRATED TECHNOLOGIES                ...                 0.44   \n13295  TRANSPORT CORP OF AMERICA                     ...                 0.38   \n...                                                  ...                  ...   \n42907  BIOTA PHARMACEUTICALS INC                     ...                 0.43   \n36145  ARDEN INDUSTRIAL PRODUCTS INC                 ...                 0.35   \n2439   BLOC DEVELOPMENT CORPORATION                  ...                 0.18   \n20018  AMERICAN BUSINESS FINCL SVCS                  ...                 0.35   \n8804   NEWPORT FINANCIAL LIFE INSUR                  ...                 0.28   \n\n       Lookup 3 Index                                           Lookup 4  \\\n12583           25256  NEWLINK GENETICS CORPORATION                  ...   \n28317           23509  APPLETREE COMPANIES INC                       ...   \n31603           25078  EDUCATIONAL DEVELOPMENT CORP                  ...   \n21355           17654  INTEGRATED DEVICE TECH INC                    ...   \n13295            7711  COGENERATION CORP OF AMERICA                  ...   \n...               ...                                                ...   \n42907           10528  CRINETICS PHARMACEUTICALS INC                 ...   \n36145           25605  AMERICAN EDUCATIONAL PRODUCTS                 ...   \n2439            13335  BLOCKCHAIN INDUSTRIES INC                     ...   \n20018            2196  SOUTHERN FIRST BANCSHARES INC                 ...   \n8804            23497  VG LIFE SCIENCES INC                          ...   \n\n       Lookup 4 Confidence  Lookup 4 Index  \\\n12583                 0.33           16129   \n28317                 0.25           14389   \n31603                 0.42            6057   \n21355                 0.44            5118   \n13295                 0.38           21928   \n...                    ...             ...   \n42907                 0.43           25983   \n36145                 0.35           13693   \n2439                  0.17           11263   \n20018                 0.34            7667   \n8804                  0.28           18460   \n\n                                                Lookup 5  Lookup 5 Confidence  \\\n12583  CROWN ELECTROKINETICS CORP                    ...                 0.31   \n28317  PIONEER COMPANIES INC                         ...                 0.25   \n31603  TECHNOLOGY DEVELOPMENT CORP                   ...                 0.42   \n21355  INTEGRATED TECHNOLOGY USA INC                 ...                 0.43   \n13295  FIRST REPUBLIC CORP OF AMERICA                ...                 0.37   \n...                                                  ...                  ...   \n42907  ALSERES PHARMACEUTICALS INC                   ...                 0.43   \n36145  LUTHER MEDICAL PRODUCTS INC                   ...                 0.34   \n2439   BLOCKCHAIN MOON ACQSITION CORP                ...                 0.16   \n20018  RAINEN BUSINESS INTERIORS INC                 ...                 0.34   \n8804   ARTIFICIAL LIFE INC                           ...                 0.27   \n\n       Lookup 5 Index  \n12583           16369  \n28317            5507  \n31603           10475  \n21355           25565  \n13295             215  \n...               ...  \n42907           21007  \n36145           17378  \n2439            19344  \n20018           24648  \n8804            26957  \n\n[100 rows x 16 columns]",
      "text/html": "<div>\n<style scoped>\n    .dataframe tbody tr th:only-of-type {\n        vertical-align: middle;\n    }\n\n    .dataframe tbody tr th {\n        vertical-align: top;\n    }\n\n    .dataframe thead th {\n        text-align: right;\n    }\n</style>\n<table border=\"1\" class=\"dataframe\">\n  <thead>\n    <tr style=\"text-align: right;\">\n      <th></th>\n      <th>Original Name</th>\n      <th>Lookup 1</th>\n      <th>Lookup 1 Confidence</th>\n      <th>Lookup 1 Index</th>\n      <th>Lookup 2</th>\n      <th>Lookup 2 Confidence</th>\n      <th>Lookup 2 Index</th>\n      <th>Lookup 3</th>\n      <th>Lookup 3 Confidence</th>\n      <th>Lookup 3 Index</th>\n      <th>Lookup 4</th>\n      <th>Lookup 4 Confidence</th>\n      <th>Lookup 4 Index</th>\n      <th>Lookup 5</th>\n      <th>Lookup 5 Confidence</th>\n      <th>Lookup 5 Index</th>\n    </tr>\n  </thead>\n  <tbody>\n    <tr>\n      <th>12583</th>\n      <td>TELENETICS CORP</td>\n      <td>TELENETICS CORPORATION                        ...</td>\n      <td>0.52</td>\n      <td>15134</td>\n      <td>ESCAGENETICS CORPORATION                      ...</td>\n      <td>0.33</td>\n      <td>25756</td>\n      <td>CELLCYTE GENETICS CORPORATION                 ...</td>\n      <td>0.33</td>\n      <td>25256</td>\n      <td>NEWLINK GENETICS CORPORATION                  ...</td>\n      <td>0.33</td>\n      <td>16129</td>\n      <td>CROWN ELECTROKINETICS CORP                    ...</td>\n      <td>0.31</td>\n      <td>16369</td>\n    </tr>\n    <tr>\n      <th>28317</th>\n      <td>ESTEE LAUDER COMPANIES INC</td>\n      <td>ESTEE LAUDER COMPANIES INC                    ...</td>\n      <td>0.75</td>\n      <td>536</td>\n      <td>GUARANTEE LIFE COMPANIES INC                  ...</td>\n      <td>0.37</td>\n      <td>9380</td>\n      <td>TRUSTEE LIFE INSURANCE COMPANY                ...</td>\n      <td>0.27</td>\n      <td>23509</td>\n      <td>APPLETREE COMPANIES INC                       ...</td>\n      <td>0.25</td>\n      <td>14389</td>\n      <td>PIONEER COMPANIES INC                         ...</td>\n      <td>0.25</td>\n      <td>5507</td>\n    </tr>\n    <tr>\n      <th>31603</th>\n      <td>NIOCORP DEVELOPMENTS LTD</td>\n      <td>NIOCORP DEVELOPMENTS LTD                      ...</td>\n      <td>0.74</td>\n      <td>16302</td>\n      <td>TRI-NATIONAL DEVELOPMENT CORP                 ...</td>\n      <td>0.44</td>\n      <td>6955</td>\n      <td>GLOBAL ENERGY DEVELOPMENT LTD                 ...</td>\n      <td>0.44</td>\n      <td>25078</td>\n      <td>EDUCATIONAL DEVELOPMENT CORP                  ...</td>\n      <td>0.42</td>\n      <td>6057</td>\n      <td>TECHNOLOGY DEVELOPMENT CORP                   ...</td>\n      <td>0.42</td>\n      <td>10475</td>\n    </tr>\n    <tr>\n      <th>21355</th>\n      <td>FOOD INTEGRATED TECH INC</td>\n      <td>HEALTHCARE INTEGRATED TECH INC                ...</td>\n      <td>0.53</td>\n      <td>15277</td>\n      <td>ACCESS INTEGRATED TECH INC                    ...</td>\n      <td>0.51</td>\n      <td>23656</td>\n      <td>ACCESS INTEGRATED TECHNOLOGIES                ...</td>\n      <td>0.44</td>\n      <td>17654</td>\n      <td>INTEGRATED DEVICE TECH INC                    ...</td>\n      <td>0.44</td>\n      <td>5118</td>\n      <td>INTEGRATED TECHNOLOGY USA INC                 ...</td>\n      <td>0.43</td>\n      <td>25565</td>\n    </tr>\n    <tr>\n      <th>13295</th>\n      <td>FOREMOST CORP OF AMERICA</td>\n      <td>FOREMOST CORP OF AMERICA                      ...</td>\n      <td>0.69</td>\n      <td>13404</td>\n      <td>FOREMOST CORPORATION AMERICA                  ...</td>\n      <td>0.56</td>\n      <td>24339</td>\n      <td>TRANSPORT CORP OF AMERICA                     ...</td>\n      <td>0.38</td>\n      <td>7711</td>\n      <td>COGENERATION CORP OF AMERICA                  ...</td>\n      <td>0.38</td>\n      <td>21928</td>\n      <td>FIRST REPUBLIC CORP OF AMERICA                ...</td>\n      <td>0.37</td>\n      <td>215</td>\n    </tr>\n    <tr>\n      <th>...</th>\n      <td>...</td>\n      <td>...</td>\n      <td>...</td>\n      <td>...</td>\n      <td>...</td>\n      <td>...</td>\n      <td>...</td>\n      <td>...</td>\n      <td>...</td>\n      <td>...</td>\n      <td>...</td>\n      <td>...</td>\n      <td>...</td>\n      <td>...</td>\n      <td>...</td>\n      <td>...</td>\n    </tr>\n    <tr>\n      <th>42907</th>\n      <td>BIODEXA PHARMACEUTICALS PLC</td>\n      <td>OSMOTICA PHARMACEUTICALS PLC                  ...</td>\n      <td>0.54</td>\n      <td>15885</td>\n      <td>ARMATA PHARMACEUTICALS INC                    ...</td>\n      <td>0.44</td>\n      <td>13879</td>\n      <td>BIOTA PHARMACEUTICALS INC                     ...</td>\n      <td>0.43</td>\n      <td>10528</td>\n      <td>CRINETICS PHARMACEUTICALS INC                 ...</td>\n      <td>0.43</td>\n      <td>25983</td>\n      <td>ALSERES PHARMACEUTICALS INC                   ...</td>\n      <td>0.43</td>\n      <td>21007</td>\n    </tr>\n    <tr>\n      <th>36145</th>\n      <td>PORTEC RAIL PRODUCTS INC</td>\n      <td>ABC RAIL PRODUCTS CORP DEL                    ...</td>\n      <td>0.54</td>\n      <td>10233</td>\n      <td>CRYSTAL PRODUCTS CORPORATION                  ...</td>\n      <td>0.35</td>\n      <td>26614</td>\n      <td>ARDEN INDUSTRIAL PRODUCTS INC                 ...</td>\n      <td>0.35</td>\n      <td>25605</td>\n      <td>AMERICAN EDUCATIONAL PRODUCTS                 ...</td>\n      <td>0.35</td>\n      <td>13693</td>\n      <td>LUTHER MEDICAL PRODUCTS INC                   ...</td>\n      <td>0.34</td>\n      <td>17378</td>\n    </tr>\n    <tr>\n      <th>2439</th>\n      <td>BLOCKBUSTER ENMNT CORP</td>\n      <td>BLOCKBUSTER ENTERTAINMENT CORP                ...</td>\n      <td>0.58</td>\n      <td>10035</td>\n      <td>BLOCKBUSTER INC                               ...</td>\n      <td>0.40</td>\n      <td>730</td>\n      <td>BLOC DEVELOPMENT CORPORATION                  ...</td>\n      <td>0.18</td>\n      <td>13335</td>\n      <td>BLOCKCHAIN INDUSTRIES INC                     ...</td>\n      <td>0.17</td>\n      <td>11263</td>\n      <td>BLOCKCHAIN MOON ACQSITION CORP                ...</td>\n      <td>0.16</td>\n      <td>19344</td>\n    </tr>\n    <tr>\n      <th>20018</th>\n      <td>BUSINESS FIRST BANCSHS INC</td>\n      <td>BUSINESS FIRST BANCSHARES INC                 ...</td>\n      <td>0.69</td>\n      <td>4174</td>\n      <td>FIRST BUSINESS FINCL SVCS INC                 ...</td>\n      <td>0.53</td>\n      <td>8928</td>\n      <td>AMERICAN BUSINESS FINCL SVCS                  ...</td>\n      <td>0.35</td>\n      <td>2196</td>\n      <td>SOUTHERN FIRST BANCSHARES INC                 ...</td>\n      <td>0.34</td>\n      <td>7667</td>\n      <td>RAINEN BUSINESS INTERIORS INC                 ...</td>\n      <td>0.34</td>\n      <td>24648</td>\n    </tr>\n    <tr>\n      <th>8804</th>\n      <td>SPORTING LIFE INC</td>\n      <td>SPORTING LIFE INC                             ...</td>\n      <td>0.52</td>\n      <td>16956</td>\n      <td>NORTHEASTERN LIFE INSURANCE CO                ...</td>\n      <td>0.28</td>\n      <td>23589</td>\n      <td>NEWPORT FINANCIAL LIFE INSUR                  ...</td>\n      <td>0.28</td>\n      <td>23497</td>\n      <td>VG LIFE SCIENCES INC                          ...</td>\n      <td>0.28</td>\n      <td>18460</td>\n      <td>ARTIFICIAL LIFE INC                           ...</td>\n      <td>0.27</td>\n      <td>26957</td>\n    </tr>\n  </tbody>\n</table>\n<p>100 rows × 16 columns</p>\n</div>"
     },
     "execution_count": 23,
     "metadata": {},
     "output_type": "execute_result"
    }
   ],
   "source": [
    "result[result['Lookup 1 Confidence'] > 0.5].sort_values('Lookup 1 Confidence', ascending=False).sample(100)"
   ]
  },
  {
   "cell_type": "code",
   "execution_count": null,
   "metadata": {},
   "outputs": [],
   "source": []
  }
 ],
 "metadata": {
  "kernelspec": {
   "display_name": "base",
   "language": "python",
   "name": "python3"
  },
  "language_info": {
   "codemirror_mode": {
    "name": "ipython",
    "version": 3
   },
   "file_extension": ".py",
   "mimetype": "text/x-python",
   "name": "python",
   "nbconvert_exporter": "python",
   "pygments_lexer": "ipython3",
   "version": "3.9.12"
  }
 },
 "nbformat": 4,
 "nbformat_minor": 2
}
