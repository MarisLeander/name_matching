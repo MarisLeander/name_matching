{
 "cells": [
  {
   "cell_type": "code",
   "execution_count": 12,
   "metadata": {
    "ExecuteTime": {
     "end_time": "2024-03-19T12:40:18.758105Z",
     "start_time": "2024-03-19T12:40:16.197693Z"
    }
   },
   "outputs": [],
   "source": [
    "import tfidf_matcher as tm\n",
    "import pandas as pd\n",
    "import numpy as np\n",
    "from concurrent.futures import ProcessPoolExecutor, as_completed"
   ]
  },
  {
   "cell_type": "code",
   "execution_count": 13,
   "metadata": {
    "ExecuteTime": {
     "end_time": "2024-03-19T13:12:28.265268Z",
     "start_time": "2024-03-19T13:12:27.258484Z"
    }
   },
   "outputs": [],
   "source": [
    "# Workstation Path\n",
    "nets_all_data = pd.read_stata('S:/Users/Hiwi/Maris/name_matching/Data/hq_all_maris.dta')\n",
    "nets_pub_data = pd.read_stata('S:/Users/Hiwi/Maris/name_matching/Data/hq_companies_public_maris.dta')\n",
    "compustat_data = pd.read_stata('S:/Users/Hiwi/Maris/name_matching/Data/compustat.dta')\n",
    "\n",
    "# Mac Path\n",
    "# compustat_data = pd.read_stata('/Users/marisbuttmann/Desktop/HIWI_code/geocode_project/all_data/compustat.dta')\n",
    "# nets_pub_data = pd.read_stata('/Users/marisbuttmann/Desktop/HIWI_code/geocode_project/all_data/hq_companies_public_maris.dta')\n",
    "#nets_all_data = pd.read_stata('/Users/marisbuttmann/Desktop/HIWI_code/geocode_project/all_data/hq_all_maris.dta')"
   ]
  },
  {
   "cell_type": "code",
   "execution_count": 33,
   "metadata": {},
   "outputs": [
    {
     "data": {
      "text/plain": [
       "0             A & E PLASTIK PAK INCORPORATED\n",
       "1           A & M FOOD SERVICES INCORPORATED\n",
       "3        A.A. IMPORTING COMPANY INCORPORATED\n",
       "5             A.B.A. INDUSTRIES INCORPORATED\n",
       "6                      ABC INDS INCORPORATED\n",
       "                        ...                 \n",
       "42963              CONTEXTLOGIC INCORPORATED\n",
       "42964               IMMUNITYBIO INCORPORATED\n",
       "42968     NEXTPLAY TECHNOLOGIES INCORPORATED\n",
       "42970     INDAPTUS THERAPEUTICS INCORPORATED\n",
       "42971        CLEARMIND MEDICINE INCORPORATED\n",
       "Name: hqcompany, Length: 18837, dtype: object"
      ]
     },
     "execution_count": 33,
     "metadata": {},
     "output_type": "execute_result"
    }
   ],
   "source": [
    "compustat = compustat_data['hqcompany']\n",
    "nets = nets_pub_data['hqcompany']\n",
    "\n",
    "substitutions = [['\\\\bCORP\\\\b', 'CORPORATION'], ['\\\\bLTD\\\\b', 'LIMITED'], ['\\\\bINC\\\\b', 'INCORPORATED'], ['\\\\bCO\\\\b', 'COMPANY'], ['\\\\bLLC\\\\b', 'LIMITEDLIABILITYCOMPANY'], ['\\\\bPLC\\\\b', 'PUBLICLIMITEDCOMPANY'], ['\\\\bINTL\\\\b', 'INTERNATIONAL']]\n",
    "for sub in substitutions:\n",
    "    compustat = compustat.str.replace(sub[0], sub[1], regex=True)\n",
    "    nets = nets.str.replace(sub[0], sub[1], regex=True)\n",
    "\n",
    "#Check if any inc left in compustat\n",
    "compustat[compustat.str.contains('INC', na=False)]"
   ]
  },
  {
   "cell_type": "code",
   "execution_count": 14,
   "metadata": {
    "ExecuteTime": {
     "end_time": "2024-03-19T12:39:29.686794Z",
     "start_time": "2024-03-19T12:39:29.487927Z"
    }
   },
   "outputs": [],
   "source": [
    "def matching(compustat_names, nets_names):\n",
    "    workers = 12\n",
    "    results = pd.DataFrame(columns=['Original Name', 'Lookup 1', 'Lookup 1 Confidence', 'Lookup 1 Index', 'Lookup 2', 'Lookup 2 Confidence', 'Lookup 2 Index',])\n",
    "\n",
    "    # Split nets_all_data into 4 pieces\n",
    "    nets_splits = np.array_split(nets_names, workers)\n",
    "\n",
    "    with ProcessPoolExecutor(max_workers=workers) as executor:\n",
    "        # Submit a task for each split of nets_all_data\n",
    "        futures = [executor.submit(tm.matcher, compustat_names, data_split, k_matches=2, ngram_length=3) for data_split in nets_splits]\n",
    "\n",
    "        for future in as_completed(futures):\n",
    "            try:\n",
    "               print(future.result())\n",
    "               results = pd.concat([future.result(), results])\n",
    "            except Exception as e:\n",
    "                print(e)\n",
    "\n",
    "    return results"
   ]
  },
  {
   "cell_type": "code",
   "execution_count": null,
   "metadata": {},
   "outputs": [],
   "source": []
  },
  {
   "cell_type": "code",
   "execution_count": 34,
   "metadata": {},
   "outputs": [
    {
     "data": {
      "text/html": [
       "<div>\n",
       "<style scoped>\n",
       "    .dataframe tbody tr th:only-of-type {\n",
       "        vertical-align: middle;\n",
       "    }\n",
       "\n",
       "    .dataframe tbody tr th {\n",
       "        vertical-align: top;\n",
       "    }\n",
       "\n",
       "    .dataframe thead th {\n",
       "        text-align: right;\n",
       "    }\n",
       "</style>\n",
       "<table border=\"1\" class=\"dataframe\">\n",
       "  <thead>\n",
       "    <tr style=\"text-align: right;\">\n",
       "      <th></th>\n",
       "      <th>Original Name</th>\n",
       "      <th>Lookup 1</th>\n",
       "      <th>Lookup 1 Confidence</th>\n",
       "      <th>Lookup 1 Index</th>\n",
       "      <th>Lookup 2</th>\n",
       "      <th>Lookup 2 Confidence</th>\n",
       "      <th>Lookup 2 Index</th>\n",
       "    </tr>\n",
       "  </thead>\n",
       "  <tbody>\n",
       "    <tr>\n",
       "      <th>0</th>\n",
       "      <td>A &amp; E PLASTIK PAK INCORPORATED</td>\n",
       "      <td>CARLISLE PLASTICS INCORPORATED                ...</td>\n",
       "      <td>0.22</td>\n",
       "      <td>12056</td>\n",
       "      <td>AIR COMPAK INTERNATIONAL INCORPORATED         ...</td>\n",
       "      <td>0.22</td>\n",
       "      <td>15056</td>\n",
       "    </tr>\n",
       "    <tr>\n",
       "      <th>1</th>\n",
       "      <td>A &amp; M FOOD SERVICES INCORPORATED</td>\n",
       "      <td>F &amp; M FINANCIAL SERVICES CORPORATION          ...</td>\n",
       "      <td>0.46</td>\n",
       "      <td>11382</td>\n",
       "      <td>SUPER FOOD SERVICES INCORPORATED              ...</td>\n",
       "      <td>0.43</td>\n",
       "      <td>12218</td>\n",
       "    </tr>\n",
       "    <tr>\n",
       "      <th>2</th>\n",
       "      <td>AAI CORPORATION</td>\n",
       "      <td>DESAI CAPITAL MANAGEMENT INCORPORATED         ...</td>\n",
       "      <td>0.23</td>\n",
       "      <td>21041</td>\n",
       "      <td>MCI COMMUNICATIONS CORPORATION                ...</td>\n",
       "      <td>0.20</td>\n",
       "      <td>5463</td>\n",
       "    </tr>\n",
       "    <tr>\n",
       "      <th>3</th>\n",
       "      <td>A.A. IMPORTING COMPANY INCORPORATED</td>\n",
       "      <td>A A IMPORTING COMPANY INCORPORATED            ...</td>\n",
       "      <td>0.58</td>\n",
       "      <td>16774</td>\n",
       "      <td>PROMUS OPERATING COMPANY INCORPORATED         ...</td>\n",
       "      <td>0.26</td>\n",
       "      <td>19683</td>\n",
       "    </tr>\n",
       "    <tr>\n",
       "      <th>4</th>\n",
       "      <td>AAR CORPORATION</td>\n",
       "      <td>AAR CORPORATION                               ...</td>\n",
       "      <td>0.30</td>\n",
       "      <td>1034</td>\n",
       "      <td>CYBERSTAR COMPUTER CORPORATION                ...</td>\n",
       "      <td>0.28</td>\n",
       "      <td>4581</td>\n",
       "    </tr>\n",
       "    <tr>\n",
       "      <th>...</th>\n",
       "      <td>...</td>\n",
       "      <td>...</td>\n",
       "      <td>...</td>\n",
       "      <td>...</td>\n",
       "      <td>...</td>\n",
       "      <td>...</td>\n",
       "      <td>...</td>\n",
       "    </tr>\n",
       "    <tr>\n",
       "      <th>42974</th>\n",
       "      <td>IVECO GROUP N V</td>\n",
       "      <td>TCO GROUP HOLDINGS LP                         ...</td>\n",
       "      <td>0.21</td>\n",
       "      <td>16865</td>\n",
       "      <td>ALI GROUP NORTH AMERICA CORPORATION           ...</td>\n",
       "      <td>0.21</td>\n",
       "      <td>5183</td>\n",
       "    </tr>\n",
       "    <tr>\n",
       "      <th>42975</th>\n",
       "      <td>DAIMLER TRUCK HOLDING AG</td>\n",
       "      <td>FREYMILLER TRUCKING INCORPORATED              ...</td>\n",
       "      <td>0.26</td>\n",
       "      <td>13684</td>\n",
       "      <td>ROLLINS TRUCK LEASING CORPORATION             ...</td>\n",
       "      <td>0.22</td>\n",
       "      <td>4206</td>\n",
       "    </tr>\n",
       "    <tr>\n",
       "      <th>42976</th>\n",
       "      <td>COOL COMPANY LIMITED</td>\n",
       "      <td>HOTEL ACQUISITION COMPANY LIMITEDLIABILITYCOMP...</td>\n",
       "      <td>0.37</td>\n",
       "      <td>9625</td>\n",
       "      <td>HT INTERMEDIATE COMPANY LIMITEDLIABILITYCOMPAN...</td>\n",
       "      <td>0.37</td>\n",
       "      <td>21646</td>\n",
       "    </tr>\n",
       "    <tr>\n",
       "      <th>42977</th>\n",
       "      <td>HALEON PUBLICLIMITEDCOMPANY</td>\n",
       "      <td>GATES INDUSTRIAL CORPORATION PUBLICLIMITEDCOMP...</td>\n",
       "      <td>0.55</td>\n",
       "      <td>5876</td>\n",
       "      <td>ENDO INTERNATIONAL PUBLICLIMITEDCOMPANY       ...</td>\n",
       "      <td>0.49</td>\n",
       "      <td>9342</td>\n",
       "    </tr>\n",
       "    <tr>\n",
       "      <th>42978</th>\n",
       "      <td>ACCELLERON INDUSTRIES AG</td>\n",
       "      <td>MUELLER INDUSTRIES INCORPORATED               ...</td>\n",
       "      <td>0.33</td>\n",
       "      <td>4013</td>\n",
       "      <td>ACCESS INDUSTRIES INCORPORATED                ...</td>\n",
       "      <td>0.33</td>\n",
       "      <td>68</td>\n",
       "    </tr>\n",
       "  </tbody>\n",
       "</table>\n",
       "<p>42979 rows × 7 columns</p>\n",
       "</div>"
      ],
      "text/plain": [
       "                             Original Name  \\\n",
       "0           A & E PLASTIK PAK INCORPORATED   \n",
       "1         A & M FOOD SERVICES INCORPORATED   \n",
       "2                          AAI CORPORATION   \n",
       "3      A.A. IMPORTING COMPANY INCORPORATED   \n",
       "4                          AAR CORPORATION   \n",
       "...                                    ...   \n",
       "42974                      IVECO GROUP N V   \n",
       "42975             DAIMLER TRUCK HOLDING AG   \n",
       "42976                 COOL COMPANY LIMITED   \n",
       "42977          HALEON PUBLICLIMITEDCOMPANY   \n",
       "42978             ACCELLERON INDUSTRIES AG   \n",
       "\n",
       "                                                Lookup 1  Lookup 1 Confidence  \\\n",
       "0      CARLISLE PLASTICS INCORPORATED                ...                 0.22   \n",
       "1      F & M FINANCIAL SERVICES CORPORATION          ...                 0.46   \n",
       "2      DESAI CAPITAL MANAGEMENT INCORPORATED         ...                 0.23   \n",
       "3      A A IMPORTING COMPANY INCORPORATED            ...                 0.58   \n",
       "4      AAR CORPORATION                               ...                 0.30   \n",
       "...                                                  ...                  ...   \n",
       "42974  TCO GROUP HOLDINGS LP                         ...                 0.21   \n",
       "42975  FREYMILLER TRUCKING INCORPORATED              ...                 0.26   \n",
       "42976  HOTEL ACQUISITION COMPANY LIMITEDLIABILITYCOMP...                 0.37   \n",
       "42977  GATES INDUSTRIAL CORPORATION PUBLICLIMITEDCOMP...                 0.55   \n",
       "42978  MUELLER INDUSTRIES INCORPORATED               ...                 0.33   \n",
       "\n",
       "       Lookup 1 Index                                           Lookup 2  \\\n",
       "0               12056  AIR COMPAK INTERNATIONAL INCORPORATED         ...   \n",
       "1               11382  SUPER FOOD SERVICES INCORPORATED              ...   \n",
       "2               21041  MCI COMMUNICATIONS CORPORATION                ...   \n",
       "3               16774  PROMUS OPERATING COMPANY INCORPORATED         ...   \n",
       "4                1034  CYBERSTAR COMPUTER CORPORATION                ...   \n",
       "...               ...                                                ...   \n",
       "42974           16865  ALI GROUP NORTH AMERICA CORPORATION           ...   \n",
       "42975           13684  ROLLINS TRUCK LEASING CORPORATION             ...   \n",
       "42976            9625  HT INTERMEDIATE COMPANY LIMITEDLIABILITYCOMPAN...   \n",
       "42977            5876  ENDO INTERNATIONAL PUBLICLIMITEDCOMPANY       ...   \n",
       "42978            4013  ACCESS INDUSTRIES INCORPORATED                ...   \n",
       "\n",
       "       Lookup 2 Confidence  Lookup 2 Index  \n",
       "0                     0.22           15056  \n",
       "1                     0.43           12218  \n",
       "2                     0.20            5463  \n",
       "3                     0.26           19683  \n",
       "4                     0.28            4581  \n",
       "...                    ...             ...  \n",
       "42974                 0.21            5183  \n",
       "42975                 0.22            4206  \n",
       "42976                 0.37           21646  \n",
       "42977                 0.49            9342  \n",
       "42978                 0.33              68  \n",
       "\n",
       "[42979 rows x 7 columns]"
      ]
     },
     "execution_count": 34,
     "metadata": {},
     "output_type": "execute_result"
    }
   ],
   "source": [
    "# result = matching(compustat, nets)\n",
    "result = tm.matcher(compustat, nets, k_matches=2, ngram_length=3)\n",
    "#pd.DataFrame(result)\n",
    "result"
   ]
  },
  {
   "cell_type": "code",
   "execution_count": 38,
   "metadata": {},
   "outputs": [
    {
     "data": {
      "text/plain": [
       "(14032, 7)"
      ]
     },
     "execution_count": 38,
     "metadata": {},
     "output_type": "execute_result"
    }
   ],
   "source": [
    "result[result['Lookup 1 Confidence'] > 0.5].sort_values('Lookup 1 Confidence', ascending=True).shape"
   ]
  },
  {
   "cell_type": "code",
   "execution_count": null,
   "metadata": {},
   "outputs": [],
   "source": []
  }
 ],
 "metadata": {
  "kernelspec": {
   "display_name": "base",
   "language": "python",
   "name": "python3"
  },
  "language_info": {
   "codemirror_mode": {
    "name": "ipython",
    "version": 3
   },
   "file_extension": ".py",
   "mimetype": "text/x-python",
   "name": "python",
   "nbconvert_exporter": "python",
   "pygments_lexer": "ipython3",
   "version": "3.9.12"
  }
 },
 "nbformat": 4,
 "nbformat_minor": 2
}
