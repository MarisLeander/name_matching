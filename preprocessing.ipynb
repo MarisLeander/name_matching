{
 "cells": [
  {
   "cell_type": "code",
   "execution_count": 1,
   "id": "initial_id",
   "metadata": {
    "ExecuteTime": {
     "end_time": "2024-03-18T09:33:21.588623Z",
     "start_time": "2024-03-18T09:33:19.778016Z"
    },
    "collapsed": true
   },
   "outputs": [],
   "source": [
    "import pandas as pd\n",
    "import duckdb"
   ]
  },
  {
   "cell_type": "code",
   "execution_count": 2,
   "id": "a57c31374d4b05cd",
   "metadata": {
    "ExecuteTime": {
     "end_time": "2024-03-18T09:33:21.598232Z",
     "start_time": "2024-03-18T09:33:21.592420Z"
    },
    "collapsed": false
   },
   "outputs": [],
   "source": [
    "# Connect to Database\n",
    "con = duckdb.connect(database='database.db', read_only=False)"
   ]
  },
  {
   "cell_type": "code",
   "execution_count": 3,
   "id": "a02d05ca0c5b9e6a",
   "metadata": {
    "ExecuteTime": {
     "end_time": "2024-03-18T09:33:47.325704Z",
     "start_time": "2024-03-18T09:33:21.599179Z"
    },
    "collapsed": false
   },
   "outputs": [],
   "source": [
    "nets_pub_data = pd.read_stata('/Users/marisbuttmann/Desktop/HIWI_code/geocode_project/all_data/hq_companies_public_maris.dta')\n",
    "nets_all_data = pd.read_stata('/Users/marisbuttmann/Desktop/HIWI_code/geocode_project/all_data/hq_all_maris.dta')\n",
    "# ['HQDuns', 'HQCompany', 'HQAdress','HQZipCode', 'HQCity', 'HQState', 'HQArea', 'HQPhone', 'Latitude', 'Longitude', 'LevelCode']"
   ]
  },
  {
   "cell_type": "code",
   "execution_count": 4,
   "id": "bfbc74d79a3e035e",
   "metadata": {
    "ExecuteTime": {
     "end_time": "2024-03-18T09:33:47.337505Z",
     "start_time": "2024-03-18T09:33:47.328159Z"
    },
    "collapsed": false
   },
   "outputs": [
    {
     "name": "stdout",
     "output_type": "stream",
     "text": [
      "<class 'pandas.core.frame.DataFrame'>\n",
      "RangeIndex: 82365757 entries, 0 to 82365756\n",
      "Data columns (total 4 columns):\n",
      " #   Column     Dtype  \n",
      "---  ------     -----  \n",
      " 0   latitude   float32\n",
      " 1   longitude  float32\n",
      " 2   hqduns     int32  \n",
      " 3   hqcompany  object \n",
      "dtypes: float32(2), int32(1), object(1)\n",
      "memory usage: 1.5+ GB\n"
     ]
    }
   ],
   "source": [
    "nets_all_data.info()"
   ]
  },
  {
   "cell_type": "code",
   "execution_count": 5,
   "id": "dfb23792a244c768",
   "metadata": {
    "ExecuteTime": {
     "end_time": "2024-03-18T09:33:47.554499Z",
     "start_time": "2024-03-18T09:33:47.338437Z"
    },
    "collapsed": false
   },
   "outputs": [
    {
     "name": "stdout",
     "output_type": "stream",
     "text": [
      "<class 'pandas.core.frame.DataFrame'>\n",
      "RangeIndex: 42979 entries, 0 to 42978\n",
      "Data columns (total 20 columns):\n",
      " #   Column     Non-Null Count  Dtype  \n",
      "---  ------     --------------  -----  \n",
      " 0   gvkey      42979 non-null  int32  \n",
      " 1   datadate   42979 non-null  object \n",
      " 2   fyear      42808 non-null  float64\n",
      " 3   indfmt     42979 non-null  object \n",
      " 4   consol     42979 non-null  object \n",
      " 5   popsrc     42979 non-null  object \n",
      " 6   datafmt    42979 non-null  object \n",
      " 7   tic        42979 non-null  object \n",
      " 8   hqcompany  42979 non-null  object \n",
      " 9   curcd      42979 non-null  object \n",
      " 10  costat     42979 non-null  object \n",
      " 11  hqaddress  42979 non-null  object \n",
      " 12  add2       42979 non-null  object \n",
      " 13  add3       42979 non-null  object \n",
      " 14  add4       42979 non-null  object \n",
      " 15  hqzipcode  42979 non-null  object \n",
      " 16  city       42979 non-null  object \n",
      " 17  conml      42979 non-null  object \n",
      " 18  state      42979 non-null  object \n",
      " 19  hqzip4     33973 non-null  float64\n",
      "dtypes: float64(2), int32(1), object(17)\n",
      "memory usage: 6.4+ MB\n"
     ]
    }
   ],
   "source": [
    "compustat_all = pd.read_stata('/Users/marisbuttmann/Desktop/HIWI_code/geocode_project/all_data/compustat.dta')\n",
    "# ['gvkey', 'conm', 'add1', 'addzip', 'city', 'loc', 'state', 'phone']\n",
    "compustat_all.info()"
   ]
  },
  {
   "cell_type": "code",
   "execution_count": 6,
   "id": "4f431aa10bbdf960",
   "metadata": {
    "ExecuteTime": {
     "end_time": "2024-03-18T09:33:47.567948Z",
     "start_time": "2024-03-18T09:33:47.555096Z"
    },
    "collapsed": false
   },
   "outputs": [
    {
     "data": {
      "text/html": [
       "<div>\n",
       "<style scoped>\n",
       "    .dataframe tbody tr th:only-of-type {\n",
       "        vertical-align: middle;\n",
       "    }\n",
       "\n",
       "    .dataframe tbody tr th {\n",
       "        vertical-align: top;\n",
       "    }\n",
       "\n",
       "    .dataframe thead th {\n",
       "        text-align: right;\n",
       "    }\n",
       "</style>\n",
       "<table border=\"1\" class=\"dataframe\">\n",
       "  <thead>\n",
       "    <tr style=\"text-align: right;\">\n",
       "      <th></th>\n",
       "      <th>gvkey</th>\n",
       "      <th>datadate</th>\n",
       "      <th>fyear</th>\n",
       "      <th>indfmt</th>\n",
       "      <th>consol</th>\n",
       "      <th>popsrc</th>\n",
       "      <th>datafmt</th>\n",
       "      <th>tic</th>\n",
       "      <th>hqcompany</th>\n",
       "      <th>curcd</th>\n",
       "      <th>costat</th>\n",
       "      <th>hqaddress</th>\n",
       "      <th>add2</th>\n",
       "      <th>add3</th>\n",
       "      <th>add4</th>\n",
       "      <th>hqzipcode</th>\n",
       "      <th>city</th>\n",
       "      <th>conml</th>\n",
       "      <th>state</th>\n",
       "      <th>hqzip4</th>\n",
       "    </tr>\n",
       "  </thead>\n",
       "  <tbody>\n",
       "    <tr>\n",
       "      <th>14594</th>\n",
       "      <td>17145</td>\n",
       "      <td>1988-09-30</td>\n",
       "      <td>1988.0</td>\n",
       "      <td>INDL</td>\n",
       "      <td>C</td>\n",
       "      <td>D</td>\n",
       "      <td>STD</td>\n",
       "      <td>WAFD</td>\n",
       "      <td>WAFD INC</td>\n",
       "      <td>USD</td>\n",
       "      <td>A</td>\n",
       "      <td>425 Pike Street</td>\n",
       "      <td></td>\n",
       "      <td></td>\n",
       "      <td></td>\n",
       "      <td>98101</td>\n",
       "      <td>Seattle</td>\n",
       "      <td>WaFd Inc</td>\n",
       "      <td>WA</td>\n",
       "      <td>9810.0</td>\n",
       "    </tr>\n",
       "    <tr>\n",
       "      <th>30668</th>\n",
       "      <td>65846</td>\n",
       "      <td>2005-12-31</td>\n",
       "      <td>2005.0</td>\n",
       "      <td>INDL</td>\n",
       "      <td>C</td>\n",
       "      <td>D</td>\n",
       "      <td>STD</td>\n",
       "      <td>HIT.UN</td>\n",
       "      <td>FIERA HIGH INCOME TRUST</td>\n",
       "      <td>CAD</td>\n",
       "      <td>I</td>\n",
       "      <td>1981 McGill College Avenue, Suite 1500</td>\n",
       "      <td></td>\n",
       "      <td></td>\n",
       "      <td></td>\n",
       "      <td>H3A 0H5</td>\n",
       "      <td>Montreal</td>\n",
       "      <td>Fiera High Income Trust</td>\n",
       "      <td>QC</td>\n",
       "      <td>NaN</td>\n",
       "    </tr>\n",
       "    <tr>\n",
       "      <th>5169</th>\n",
       "      <td>6254</td>\n",
       "      <td>1967-12-31</td>\n",
       "      <td>1967.0</td>\n",
       "      <td>INDL</td>\n",
       "      <td>C</td>\n",
       "      <td>D</td>\n",
       "      <td>STD</td>\n",
       "      <td>JAIR</td>\n",
       "      <td>JET AIR FREIGHT</td>\n",
       "      <td>USD</td>\n",
       "      <td>I</td>\n",
       "      <td></td>\n",
       "      <td></td>\n",
       "      <td></td>\n",
       "      <td></td>\n",
       "      <td></td>\n",
       "      <td></td>\n",
       "      <td>Jet Air Freight</td>\n",
       "      <td></td>\n",
       "      <td>NaN</td>\n",
       "    </tr>\n",
       "    <tr>\n",
       "      <th>28084</th>\n",
       "      <td>61164</td>\n",
       "      <td>1993-12-31</td>\n",
       "      <td>1993.0</td>\n",
       "      <td>INDL</td>\n",
       "      <td>C</td>\n",
       "      <td>D</td>\n",
       "      <td>STD</td>\n",
       "      <td>VLNT</td>\n",
       "      <td>VIDEOLAN TECHNOLOGIES INC</td>\n",
       "      <td>USD</td>\n",
       "      <td>I</td>\n",
       "      <td>11403 Bluegrass Parkway, Suite 400</td>\n",
       "      <td></td>\n",
       "      <td></td>\n",
       "      <td></td>\n",
       "      <td>40299</td>\n",
       "      <td>Louisville</td>\n",
       "      <td>Videolan Technologies Inc</td>\n",
       "      <td>KY</td>\n",
       "      <td>4029.0</td>\n",
       "    </tr>\n",
       "    <tr>\n",
       "      <th>20426</th>\n",
       "      <td>28011</td>\n",
       "      <td>2016-12-31</td>\n",
       "      <td>2016.0</td>\n",
       "      <td>INDL</td>\n",
       "      <td>C</td>\n",
       "      <td>D</td>\n",
       "      <td>STD</td>\n",
       "      <td>MEU.</td>\n",
       "      <td>MACKENZIE MAX DVRS DEV EURO</td>\n",
       "      <td>CAD</td>\n",
       "      <td>A</td>\n",
       "      <td>180 Queen Street West</td>\n",
       "      <td></td>\n",
       "      <td></td>\n",
       "      <td></td>\n",
       "      <td>M5V 3K1</td>\n",
       "      <td>Toronto</td>\n",
       "      <td>Mackenzie Maximum Diversification Developed Eu...</td>\n",
       "      <td>ON</td>\n",
       "      <td>NaN</td>\n",
       "    </tr>\n",
       "    <tr>\n",
       "      <th>...</th>\n",
       "      <td>...</td>\n",
       "      <td>...</td>\n",
       "      <td>...</td>\n",
       "      <td>...</td>\n",
       "      <td>...</td>\n",
       "      <td>...</td>\n",
       "      <td>...</td>\n",
       "      <td>...</td>\n",
       "      <td>...</td>\n",
       "      <td>...</td>\n",
       "      <td>...</td>\n",
       "      <td>...</td>\n",
       "      <td>...</td>\n",
       "      <td>...</td>\n",
       "      <td>...</td>\n",
       "      <td>...</td>\n",
       "      <td>...</td>\n",
       "      <td>...</td>\n",
       "      <td>...</td>\n",
       "      <td>...</td>\n",
       "    </tr>\n",
       "    <tr>\n",
       "      <th>32274</th>\n",
       "      <td>112592</td>\n",
       "      <td>2001-02-28</td>\n",
       "      <td>2000.0</td>\n",
       "      <td>INDL</td>\n",
       "      <td>C</td>\n",
       "      <td>D</td>\n",
       "      <td>STD</td>\n",
       "      <td>FRMO</td>\n",
       "      <td>FRMO CORP</td>\n",
       "      <td>USD</td>\n",
       "      <td>I</td>\n",
       "      <td>1 North Lexington Avenue, Suite 12C</td>\n",
       "      <td></td>\n",
       "      <td></td>\n",
       "      <td></td>\n",
       "      <td>10601</td>\n",
       "      <td>White Plains</td>\n",
       "      <td>FRMO Corp</td>\n",
       "      <td>NY</td>\n",
       "      <td>1060.0</td>\n",
       "    </tr>\n",
       "    <tr>\n",
       "      <th>22073</th>\n",
       "      <td>30219</td>\n",
       "      <td>1994-01-31</td>\n",
       "      <td>1993.0</td>\n",
       "      <td>INDL</td>\n",
       "      <td>C</td>\n",
       "      <td>D</td>\n",
       "      <td>STD</td>\n",
       "      <td>BTH</td>\n",
       "      <td>BLYTH INC</td>\n",
       "      <td>USD</td>\n",
       "      <td>I</td>\n",
       "      <td>One East Weaver Street</td>\n",
       "      <td></td>\n",
       "      <td></td>\n",
       "      <td></td>\n",
       "      <td>06831</td>\n",
       "      <td>Greenwich</td>\n",
       "      <td>Blyth Inc</td>\n",
       "      <td>CT</td>\n",
       "      <td>683.0</td>\n",
       "    </tr>\n",
       "    <tr>\n",
       "      <th>29546</th>\n",
       "      <td>63873</td>\n",
       "      <td>1991-12-31</td>\n",
       "      <td>1991.0</td>\n",
       "      <td>INDL</td>\n",
       "      <td>C</td>\n",
       "      <td>D</td>\n",
       "      <td>STD</td>\n",
       "      <td>SMCI.1</td>\n",
       "      <td>SIMULATION SCIENCES INC</td>\n",
       "      <td>USD</td>\n",
       "      <td>I</td>\n",
       "      <td>601 Valencia Avenue, Suite 100</td>\n",
       "      <td></td>\n",
       "      <td></td>\n",
       "      <td></td>\n",
       "      <td>92823-6346</td>\n",
       "      <td>Brea</td>\n",
       "      <td>Simulation Sciences Inc</td>\n",
       "      <td>CA</td>\n",
       "      <td>9282.0</td>\n",
       "    </tr>\n",
       "    <tr>\n",
       "      <th>14467</th>\n",
       "      <td>16977</td>\n",
       "      <td>1988-12-31</td>\n",
       "      <td>1988.0</td>\n",
       "      <td>INDL</td>\n",
       "      <td>C</td>\n",
       "      <td>D</td>\n",
       "      <td>STD</td>\n",
       "      <td>HPBC</td>\n",
       "      <td>HOME PORT BANCORP INC</td>\n",
       "      <td>USD</td>\n",
       "      <td>I</td>\n",
       "      <td>104 Pleasant Street</td>\n",
       "      <td></td>\n",
       "      <td></td>\n",
       "      <td></td>\n",
       "      <td>02554</td>\n",
       "      <td>Nantucket</td>\n",
       "      <td>Home Port Bancorp Inc</td>\n",
       "      <td>MA</td>\n",
       "      <td>255.0</td>\n",
       "    </tr>\n",
       "    <tr>\n",
       "      <th>25011</th>\n",
       "      <td>36142</td>\n",
       "      <td>2020-12-31</td>\n",
       "      <td>2020.0</td>\n",
       "      <td>INDL</td>\n",
       "      <td>C</td>\n",
       "      <td>D</td>\n",
       "      <td>STD</td>\n",
       "      <td>NOVB.F</td>\n",
       "      <td>FIRST TRUST CBOE EQ ETF -NOV</td>\n",
       "      <td>CAD</td>\n",
       "      <td>A</td>\n",
       "      <td>1765 Greensboro Station, Place Tower 1, 9th Floor</td>\n",
       "      <td></td>\n",
       "      <td></td>\n",
       "      <td></td>\n",
       "      <td>22102</td>\n",
       "      <td>McLean</td>\n",
       "      <td>First Trust Cboe Vest US Equity Buffer ETF -No...</td>\n",
       "      <td>VA</td>\n",
       "      <td>2210.0</td>\n",
       "    </tr>\n",
       "  </tbody>\n",
       "</table>\n",
       "<p>100 rows × 20 columns</p>\n",
       "</div>"
      ],
      "text/plain": [
       "        gvkey    datadate   fyear indfmt consol popsrc datafmt     tic  \\\n",
       "14594   17145  1988-09-30  1988.0   INDL      C      D     STD    WAFD   \n",
       "30668   65846  2005-12-31  2005.0   INDL      C      D     STD  HIT.UN   \n",
       "5169     6254  1967-12-31  1967.0   INDL      C      D     STD    JAIR   \n",
       "28084   61164  1993-12-31  1993.0   INDL      C      D     STD    VLNT   \n",
       "20426   28011  2016-12-31  2016.0   INDL      C      D     STD    MEU.   \n",
       "...       ...         ...     ...    ...    ...    ...     ...     ...   \n",
       "32274  112592  2001-02-28  2000.0   INDL      C      D     STD    FRMO   \n",
       "22073   30219  1994-01-31  1993.0   INDL      C      D     STD     BTH   \n",
       "29546   63873  1991-12-31  1991.0   INDL      C      D     STD  SMCI.1   \n",
       "14467   16977  1988-12-31  1988.0   INDL      C      D     STD    HPBC   \n",
       "25011   36142  2020-12-31  2020.0   INDL      C      D     STD  NOVB.F   \n",
       "\n",
       "                          hqcompany curcd costat  \\\n",
       "14594                      WAFD INC   USD      A   \n",
       "30668       FIERA HIGH INCOME TRUST   CAD      I   \n",
       "5169                JET AIR FREIGHT   USD      I   \n",
       "28084     VIDEOLAN TECHNOLOGIES INC   USD      I   \n",
       "20426   MACKENZIE MAX DVRS DEV EURO   CAD      A   \n",
       "...                             ...   ...    ...   \n",
       "32274                     FRMO CORP   USD      I   \n",
       "22073                     BLYTH INC   USD      I   \n",
       "29546       SIMULATION SCIENCES INC   USD      I   \n",
       "14467         HOME PORT BANCORP INC   USD      I   \n",
       "25011  FIRST TRUST CBOE EQ ETF -NOV   CAD      A   \n",
       "\n",
       "                                               hqaddress add2 add3 add4  \\\n",
       "14594                                    425 Pike Street                  \n",
       "30668             1981 McGill College Avenue, Suite 1500                  \n",
       "5169                                                                      \n",
       "28084                 11403 Bluegrass Parkway, Suite 400                  \n",
       "20426                              180 Queen Street West                  \n",
       "...                                                  ...  ...  ...  ...   \n",
       "32274                1 North Lexington Avenue, Suite 12C                  \n",
       "22073                             One East Weaver Street                  \n",
       "29546                     601 Valencia Avenue, Suite 100                  \n",
       "14467                                104 Pleasant Street                  \n",
       "25011  1765 Greensboro Station, Place Tower 1, 9th Floor                  \n",
       "\n",
       "        hqzipcode          city  \\\n",
       "14594       98101       Seattle   \n",
       "30668     H3A 0H5      Montreal   \n",
       "5169                              \n",
       "28084       40299    Louisville   \n",
       "20426     M5V 3K1       Toronto   \n",
       "...           ...           ...   \n",
       "32274       10601  White Plains   \n",
       "22073       06831     Greenwich   \n",
       "29546  92823-6346          Brea   \n",
       "14467       02554     Nantucket   \n",
       "25011       22102        McLean   \n",
       "\n",
       "                                                   conml state  hqzip4  \n",
       "14594                                           WaFd Inc    WA  9810.0  \n",
       "30668                            Fiera High Income Trust    QC     NaN  \n",
       "5169                                     Jet Air Freight           NaN  \n",
       "28084                          Videolan Technologies Inc    KY  4029.0  \n",
       "20426  Mackenzie Maximum Diversification Developed Eu...    ON     NaN  \n",
       "...                                                  ...   ...     ...  \n",
       "32274                                          FRMO Corp    NY  1060.0  \n",
       "22073                                          Blyth Inc    CT   683.0  \n",
       "29546                            Simulation Sciences Inc    CA  9282.0  \n",
       "14467                              Home Port Bancorp Inc    MA   255.0  \n",
       "25011  First Trust Cboe Vest US Equity Buffer ETF -No...    VA  2210.0  \n",
       "\n",
       "[100 rows x 20 columns]"
      ]
     },
     "execution_count": 6,
     "metadata": {},
     "output_type": "execute_result"
    }
   ],
   "source": [
    "compustat_all.sample(100)"
   ]
  },
  {
   "cell_type": "code",
   "execution_count": 7,
   "id": "17bccde7b6acd056",
   "metadata": {
    "ExecuteTime": {
     "end_time": "2024-03-18T09:33:47.587396Z",
     "start_time": "2024-03-18T09:33:47.568681Z"
    },
    "collapsed": false
   },
   "outputs": [
    {
     "name": "stdout",
     "output_type": "stream",
     "text": [
      "<class 'pandas.core.frame.DataFrame'>\n",
      "RangeIndex: 42980 entries, 0 to 42979\n",
      "Data columns (total 5 columns):\n",
      " #   Column                Non-Null Count  Dtype  \n",
      "---  ------                --------------  -----  \n",
      " 0   gvkey                 42980 non-null  int32  \n",
      " 1   hq_address_compustat  42980 non-null  object \n",
      " 2   count                 42980 non-null  float32\n",
      " 3   lat                   41999 non-null  float64\n",
      " 4   lon                   41999 non-null  float64\n",
      "dtypes: float32(1), float64(2), int32(1), object(1)\n",
      "memory usage: 1.3+ MB\n",
      "None\n"
     ]
    },
    {
     "data": {
      "text/html": [
       "<div>\n",
       "<style scoped>\n",
       "    .dataframe tbody tr th:only-of-type {\n",
       "        vertical-align: middle;\n",
       "    }\n",
       "\n",
       "    .dataframe tbody tr th {\n",
       "        vertical-align: top;\n",
       "    }\n",
       "\n",
       "    .dataframe thead th {\n",
       "        text-align: right;\n",
       "    }\n",
       "</style>\n",
       "<table border=\"1\" class=\"dataframe\">\n",
       "  <thead>\n",
       "    <tr style=\"text-align: right;\">\n",
       "      <th></th>\n",
       "      <th>gvkey</th>\n",
       "      <th>hq_address_compustat</th>\n",
       "      <th>count</th>\n",
       "      <th>lat</th>\n",
       "      <th>lon</th>\n",
       "    </tr>\n",
       "  </thead>\n",
       "  <tbody>\n",
       "    <tr>\n",
       "      <th>0</th>\n",
       "      <td>1000</td>\n",
       "      <td></td>\n",
       "      <td>1.0</td>\n",
       "      <td>NaN</td>\n",
       "      <td>NaN</td>\n",
       "    </tr>\n",
       "    <tr>\n",
       "      <th>1</th>\n",
       "      <td>1001</td>\n",
       "      <td>1924 South Utica Avenue Tulsa OK</td>\n",
       "      <td>2.0</td>\n",
       "      <td>-95.968066</td>\n",
       "      <td>36.134328</td>\n",
       "    </tr>\n",
       "    <tr>\n",
       "      <th>2</th>\n",
       "      <td>1002</td>\n",
       "      <td>124 Industry Lane Hunt Valley MD</td>\n",
       "      <td>3.0</td>\n",
       "      <td>-76.641662</td>\n",
       "      <td>39.467797</td>\n",
       "    </tr>\n",
       "    <tr>\n",
       "      <th>3</th>\n",
       "      <td>1003</td>\n",
       "      <td>7700 Hall Street St. Louis MO</td>\n",
       "      <td>4.0</td>\n",
       "      <td>-90.225770</td>\n",
       "      <td>38.707338</td>\n",
       "    </tr>\n",
       "    <tr>\n",
       "      <th>4</th>\n",
       "      <td>1004</td>\n",
       "      <td>1100 North Wood Dale Road Wood Dale IL</td>\n",
       "      <td>5.0</td>\n",
       "      <td>-87.981054</td>\n",
       "      <td>41.986749</td>\n",
       "    </tr>\n",
       "    <tr>\n",
       "      <th>...</th>\n",
       "      <td>...</td>\n",
       "      <td>...</td>\n",
       "      <td>...</td>\n",
       "      <td>...</td>\n",
       "      <td>...</td>\n",
       "    </tr>\n",
       "    <tr>\n",
       "      <th>42975</th>\n",
       "      <td>351491</td>\n",
       "      <td>Via Puglia n. 35 Turin</td>\n",
       "      <td>42976.0</td>\n",
       "      <td>7.723420</td>\n",
       "      <td>45.106830</td>\n",
       "    </tr>\n",
       "    <tr>\n",
       "      <th>42976</th>\n",
       "      <td>351590</td>\n",
       "      <td>Fasanenweg 10 Leinfelden-Echterdingen</td>\n",
       "      <td>42977.0</td>\n",
       "      <td>9.145069</td>\n",
       "      <td>48.707416</td>\n",
       "    </tr>\n",
       "    <tr>\n",
       "      <th>42977</th>\n",
       "      <td>352262</td>\n",
       "      <td>Hamilton</td>\n",
       "      <td>42978.0</td>\n",
       "      <td>175.281099</td>\n",
       "      <td>-37.789474</td>\n",
       "    </tr>\n",
       "    <tr>\n",
       "      <th>42978</th>\n",
       "      <td>353444</td>\n",
       "      <td>The Heights Building 5 Weybridge</td>\n",
       "      <td>42979.0</td>\n",
       "      <td>-0.462543</td>\n",
       "      <td>51.352960</td>\n",
       "    </tr>\n",
       "    <tr>\n",
       "      <th>42979</th>\n",
       "      <td>353945</td>\n",
       "      <td>Bruggerstrasse 71a Baden</td>\n",
       "      <td>42980.0</td>\n",
       "      <td>8.301259</td>\n",
       "      <td>47.479280</td>\n",
       "    </tr>\n",
       "  </tbody>\n",
       "</table>\n",
       "<p>42980 rows × 5 columns</p>\n",
       "</div>"
      ],
      "text/plain": [
       "        gvkey                     hq_address_compustat    count         lat  \\\n",
       "0        1000                                               1.0         NaN   \n",
       "1        1001         1924 South Utica Avenue Tulsa OK      2.0  -95.968066   \n",
       "2        1002         124 Industry Lane Hunt Valley MD      3.0  -76.641662   \n",
       "3        1003            7700 Hall Street St. Louis MO      4.0  -90.225770   \n",
       "4        1004   1100 North Wood Dale Road Wood Dale IL      5.0  -87.981054   \n",
       "...       ...                                      ...      ...         ...   \n",
       "42975  351491                  Via Puglia n. 35 Turin   42976.0    7.723420   \n",
       "42976  351590   Fasanenweg 10 Leinfelden-Echterdingen   42977.0    9.145069   \n",
       "42977  352262                                Hamilton   42978.0  175.281099   \n",
       "42978  353444        The Heights Building 5 Weybridge   42979.0   -0.462543   \n",
       "42979  353945                Bruggerstrasse 71a Baden   42980.0    8.301259   \n",
       "\n",
       "             lon  \n",
       "0            NaN  \n",
       "1      36.134328  \n",
       "2      39.467797  \n",
       "3      38.707338  \n",
       "4      41.986749  \n",
       "...          ...  \n",
       "42975  45.106830  \n",
       "42976  48.707416  \n",
       "42977 -37.789474  \n",
       "42978  51.352960  \n",
       "42979  47.479280  \n",
       "\n",
       "[42980 rows x 5 columns]"
      ]
     },
     "execution_count": 7,
     "metadata": {},
     "output_type": "execute_result"
    }
   ],
   "source": [
    "compustat_geocoded = pd.read_stata('/Users/marisbuttmann/Desktop/HIWI_code/geocode_project/all_data/compustat_geocoded_final.dta')\n",
    "# ['gvkey', 'hq_address_compustat', 'count', 'lat', 'lon']\n",
    "print(compustat_geocoded.info())\n",
    "compustat_geocoded"
   ]
  },
  {
   "cell_type": "code",
   "execution_count": 8,
   "id": "f578580f7884f4c2",
   "metadata": {
    "ExecuteTime": {
     "end_time": "2024-03-18T09:33:47.610068Z",
     "start_time": "2024-03-18T09:33:47.588346Z"
    },
    "collapsed": false
   },
   "outputs": [
    {
     "data": {
      "text/plain": [
       "┌──────────────┐\n",
       "│ count(gvkey) │\n",
       "│    int64     │\n",
       "├──────────────┤\n",
       "│        42980 │\n",
       "└──────────────┘"
      ]
     },
     "execution_count": 8,
     "metadata": {},
     "output_type": "execute_result"
    }
   ],
   "source": [
    "con.execute('DROP TABLE IF EXISTS compustat_geocoded')\n",
    "con.execute('CREATE TABLE compustat_geocoded AS SELECT * FROM compustat_geocoded')\n",
    "con.sql('SELECT DISTINCT COUNT(gvkey) FROM compustat_geocoded;')"
   ]
  },
  {
   "cell_type": "markdown",
   "id": "e301b6d08022e207",
   "metadata": {
    "collapsed": false
   },
   "source": [
    "-- START OF COMPUSTAT PREPROCESSING --"
   ]
  },
  {
   "cell_type": "code",
   "execution_count": 9,
   "id": "3bfbde357315339e",
   "metadata": {
    "ExecuteTime": {
     "end_time": "2024-03-18T09:33:47.636256Z",
     "start_time": "2024-03-18T09:33:47.610989Z"
    },
    "collapsed": false
   },
   "outputs": [
    {
     "data": {
      "text/plain": [
       "┌──────────────┐\n",
       "│ count_star() │\n",
       "│    int64     │\n",
       "├──────────────┤\n",
       "│        42979 │\n",
       "└──────────────┘"
      ]
     },
     "execution_count": 9,
     "metadata": {},
     "output_type": "execute_result"
    }
   ],
   "source": [
    "con.execute('DROP TABLE IF EXISTS compustat')\n",
    "con.execute('CREATE TABLE compustat AS SELECT DISTINCT gvkey, hqcompany FROM compustat_all')\n",
    "con.sql('SELECT DISTINCT COUNT(*) FROM compustat;')"
   ]
  },
  {
   "cell_type": "code",
   "execution_count": 10,
   "id": "5dc43ea5e54afd4b",
   "metadata": {
    "ExecuteTime": {
     "end_time": "2024-03-18T09:33:47.642587Z",
     "start_time": "2024-03-18T09:33:47.638178Z"
    },
    "collapsed": false
   },
   "outputs": [
    {
     "data": {
      "text/html": [
       "<div>\n",
       "<style scoped>\n",
       "    .dataframe tbody tr th:only-of-type {\n",
       "        vertical-align: middle;\n",
       "    }\n",
       "\n",
       "    .dataframe tbody tr th {\n",
       "        vertical-align: top;\n",
       "    }\n",
       "\n",
       "    .dataframe thead th {\n",
       "        text-align: right;\n",
       "    }\n",
       "</style>\n",
       "<table border=\"1\" class=\"dataframe\">\n",
       "  <thead>\n",
       "    <tr style=\"text-align: right;\">\n",
       "      <th></th>\n",
       "      <th>gvkey</th>\n",
       "    </tr>\n",
       "  </thead>\n",
       "  <tbody>\n",
       "    <tr>\n",
       "      <th>0</th>\n",
       "      <td>9007</td>\n",
       "    </tr>\n",
       "  </tbody>\n",
       "</table>\n",
       "</div>"
      ],
      "text/plain": [
       "   gvkey\n",
       "0   9007"
      ]
     },
     "execution_count": 10,
     "metadata": {},
     "output_type": "execute_result"
    }
   ],
   "source": [
    "\"\"\"\n",
    "Extract entries of compustat_geocoded that are not in all_data_cleaned\n",
    "\"\"\"\n",
    "query_str = \"\"\"\n",
    "SELECT compustat_geocoded.gvkey\n",
    "FROM compustat_geocoded\n",
    "LEFT JOIN compustat ON compustat_geocoded.gvkey = compustat.gvkey\n",
    "WHERE compustat.gvkey IS NULL;\n",
    "\"\"\"\n",
    "con.sql(query_str).fetchdf()\n",
    "# (duckdb.sql(query_str).to_df()).to_excel('/Users/marisbuttmann/Desktop/HIWI_code/geocode_project/preprocessed_data/missing_entries_compustat.xlsx', index=False)\n"
   ]
  },
  {
   "cell_type": "code",
   "execution_count": 11,
   "id": "51c9995e8cd399e2",
   "metadata": {
    "ExecuteTime": {
     "end_time": "2024-03-18T09:33:47.648592Z",
     "start_time": "2024-03-18T09:33:47.643073Z"
    },
    "collapsed": false
   },
   "outputs": [
    {
     "name": "stdout",
     "output_type": "stream",
     "text": [
      "   gvkey    datadate   fyear indfmt consol popsrc datafmt    tic  \\\n",
      "1   1001  1978-12-31  1978.0   INDL      C      D     STD  AMFD.   \n",
      "\n",
      "                 hqcompany curcd costat                hqaddress add2 add3  \\\n",
      "1  A & M FOOD SERVICES INC   USD      I  1924 South Utica Avenue             \n",
      "\n",
      "  add4 hqzipcode   city                    conml state  hqzip4  \n",
      "1          94104  Tulsa  A & M Food Services Inc    OK  9410.0  \n"
     ]
    },
    {
     "data": {
      "text/html": [
       "<div>\n",
       "<style scoped>\n",
       "    .dataframe tbody tr th:only-of-type {\n",
       "        vertical-align: middle;\n",
       "    }\n",
       "\n",
       "    .dataframe tbody tr th {\n",
       "        vertical-align: top;\n",
       "    }\n",
       "\n",
       "    .dataframe thead th {\n",
       "        text-align: right;\n",
       "    }\n",
       "</style>\n",
       "<table border=\"1\" class=\"dataframe\">\n",
       "  <thead>\n",
       "    <tr style=\"text-align: right;\">\n",
       "      <th></th>\n",
       "      <th>gvkey</th>\n",
       "      <th>hq_address_compustat</th>\n",
       "      <th>count</th>\n",
       "      <th>lat</th>\n",
       "      <th>lon</th>\n",
       "    </tr>\n",
       "  </thead>\n",
       "  <tbody>\n",
       "    <tr>\n",
       "      <th>1</th>\n",
       "      <td>1001</td>\n",
       "      <td>1924 South Utica Avenue Tulsa OK</td>\n",
       "      <td>2.0</td>\n",
       "      <td>-95.968066</td>\n",
       "      <td>36.134328</td>\n",
       "    </tr>\n",
       "  </tbody>\n",
       "</table>\n",
       "</div>"
      ],
      "text/plain": [
       "   gvkey              hq_address_compustat  count        lat        lon\n",
       "1   1001  1924 South Utica Avenue Tulsa OK    2.0 -95.968066  36.134328"
      ]
     },
     "execution_count": 11,
     "metadata": {},
     "output_type": "execute_result"
    }
   ],
   "source": [
    "print(compustat_all.loc[compustat_all['gvkey'] == 1001])\n",
    "compustat_geocoded.loc[compustat_geocoded['gvkey'] == 1001]"
   ]
  },
  {
   "cell_type": "code",
   "execution_count": 12,
   "id": "f511a42c0bc87384",
   "metadata": {
    "ExecuteTime": {
     "end_time": "2024-03-18T09:33:48.012941Z",
     "start_time": "2024-03-18T09:33:47.649185Z"
    },
    "collapsed": false
   },
   "outputs": [
    {
     "data": {
      "text/plain": [
       "<duckdb.duckdb.DuckDBPyConnection at 0x12d589770>"
      ]
     },
     "execution_count": 12,
     "metadata": {},
     "output_type": "execute_result"
    }
   ],
   "source": [
    "\"\"\"\n",
    "In this cell, we want to join the geo date from compustat_geocoded with the other data from compustat_all\n",
    "\"\"\"\n",
    "\n",
    "con.execute('ALTER TABLE compustat ADD COLUMN lat DECIMAL(9,6)')\n",
    "con.execute('ALTER TABLE compustat ADD COLUMN lon DECIMAL(9,6)')\n",
    "\n",
    "# TODO: Note that lat and lon are switched in compustat_geocoded. This is probably a mistake in the geocoding process\n",
    "sql_query = \"\"\"\n",
    "UPDATE compustat\n",
    "SET lat = compustat_geocoded.lon,\n",
    "    lon = compustat_geocoded.lat\n",
    "FROM compustat_geocoded\n",
    "WHERE compustat.gvkey = compustat_geocoded.gvkey;\n",
    "\"\"\"\n",
    "con.execute(sql_query)"
   ]
  },
  {
   "cell_type": "code",
   "execution_count": 13,
   "id": "1801a956fef07298",
   "metadata": {
    "ExecuteTime": {
     "end_time": "2024-03-18T09:33:48.023403Z",
     "start_time": "2024-03-18T09:33:48.013679Z"
    },
    "collapsed": false
   },
   "outputs": [
    {
     "data": {
      "text/plain": [
       "┌────────┬──────────────────────────────┬──────────────┬──────────────┐\n",
       "│ gvkey  │          hqcompany           │     lat      │     lon      │\n",
       "│ int32  │           varchar            │ decimal(9,6) │ decimal(9,6) │\n",
       "├────────┼──────────────────────────────┼──────────────┼──────────────┤\n",
       "│  12932 │ INVESCO DORSEY WRI SM MO ETF │    41.822742 │   -88.031668 │\n",
       "│  18112 │ VANGUARD EM MKTS GOVT BD ETF │    40.051521 │   -75.504835 │\n",
       "│  18987 │ CI MRNGSTR US VLUE INDEX ETF │    43.653524 │   -79.383907 │\n",
       "│  19011 │ FIDELITY MSCI UTILITIES ETF  │    37.789152 │  -122.395878 │\n",
       "│  19279 │ SPDR MSCI EM BEYOND BRIC ETF │    42.344753 │   -71.052116 │\n",
       "│  19884 │ INVESCO INT BUYBACK ACHI ETF │    41.822742 │   -88.031668 │\n",
       "│  21119 │ SPROTT GOLD MINERS ETF       │    39.736700 │  -104.987340 │\n",
       "│  22186 │ BMO INTL DIVIDEND ETF        │    43.671294 │   -79.384772 │\n",
       "│  22905 │ HORIZONS CDN INSIDER IDX ETF │    43.646957 │   -79.384009 │\n",
       "│  23115 │ PACER PCFIC AFR HGH INCM ETF │    33.618181 │  -117.878878 │\n",
       "│    ·   │             ·                │        ·     │       ·      │\n",
       "│    ·   │             ·                │        ·     │       ·      │\n",
       "│    ·   │             ·                │        ·     │       ·      │\n",
       "│ 187312 │ RUSSELL 2000 HIGH BETA ETF   │    47.607713 │  -122.338236 │\n",
       "│ 187391 │ GUGGENHEIM ABC HIGH DIV ETF  │    41.880336 │   -87.634693 │\n",
       "│ 189479 │ HORIZONS NASDAQ-100 C C ETF  │    43.646957 │   -79.384009 │\n",
       "│ 189483 │ RBC TARGET 2018 CORP BD ETF  │    43.645845 │   -79.385746 │\n",
       "│ 189492 │ RBC TARGET 2013 CORP BD ETF  │    43.645845 │   -79.385746 │\n",
       "│ 189494 │ RBC TARGET 2015 CORP BD ETF  │    43.645845 │   -79.385746 │\n",
       "│ 189758 │ ADVISORSHARES INS ADV ETF    │    38.983169 │   -77.095609 │\n",
       "│ 191758 │ BMO COVERED CALL UTLS ETF    │    43.671294 │   -79.384772 │\n",
       "│ 195556 │ GLOBAL X SOCIAL MEDIA ETF    │    40.749096 │   -73.975398 │\n",
       "│ 333359 │ BLACKROCK ISHARES US AGG ETF │    51.509238 │    -0.072504 │\n",
       "├────────┴──────────────────────────────┴──────────────┴──────────────┤\n",
       "│ 3197 rows (20 shown)                                      4 columns │\n",
       "└─────────────────────────────────────────────────────────────────────┘"
      ]
     },
     "execution_count": 13,
     "metadata": {},
     "output_type": "execute_result"
    }
   ],
   "source": [
    "\"\"\"\n",
    "Appearantly, there are 2196 ETFS in the compustat dataset. We want to get rid of them.\n",
    "\"\"\"\n",
    "sql_query = \"\"\"\n",
    "SELECT *\n",
    "FROM compustat\n",
    "WHERE REGEXP_MATCHES(hqcompany, '\\\\bETF\\\\b');\n",
    "\"\"\"\n",
    "con.sql(sql_query)"
   ]
  },
  {
   "cell_type": "code",
   "execution_count": 14,
   "id": "8c1e663dbc7e3ba8",
   "metadata": {
    "ExecuteTime": {
     "end_time": "2024-03-18T09:33:48.035334Z",
     "start_time": "2024-03-18T09:33:48.024155Z"
    },
    "collapsed": false
   },
   "outputs": [
    {
     "data": {
      "text/html": [
       "<div>\n",
       "<style scoped>\n",
       "    .dataframe tbody tr th:only-of-type {\n",
       "        vertical-align: middle;\n",
       "    }\n",
       "\n",
       "    .dataframe tbody tr th {\n",
       "        vertical-align: top;\n",
       "    }\n",
       "\n",
       "    .dataframe thead th {\n",
       "        text-align: right;\n",
       "    }\n",
       "</style>\n",
       "<table border=\"1\" class=\"dataframe\">\n",
       "  <thead>\n",
       "    <tr style=\"text-align: right;\">\n",
       "      <th></th>\n",
       "      <th>gvkey</th>\n",
       "      <th>hqcompany</th>\n",
       "      <th>lat</th>\n",
       "      <th>lon</th>\n",
       "    </tr>\n",
       "  </thead>\n",
       "  <tbody>\n",
       "    <tr>\n",
       "      <th>0</th>\n",
       "      <td>1000</td>\n",
       "      <td>A &amp; E PLASTIK PAK INC</td>\n",
       "      <td>NaN</td>\n",
       "      <td>NaN</td>\n",
       "    </tr>\n",
       "    <tr>\n",
       "      <th>1</th>\n",
       "      <td>1002</td>\n",
       "      <td>AAI CORP</td>\n",
       "      <td>39.467797</td>\n",
       "      <td>-76.641662</td>\n",
       "    </tr>\n",
       "    <tr>\n",
       "      <th>2</th>\n",
       "      <td>1019</td>\n",
       "      <td>AFA PROTECTIVE SYSTEMS INC</td>\n",
       "      <td>40.804278</td>\n",
       "      <td>-73.517759</td>\n",
       "    </tr>\n",
       "    <tr>\n",
       "      <th>3</th>\n",
       "      <td>1026</td>\n",
       "      <td>AID INC-DEL CL A</td>\n",
       "      <td>NaN</td>\n",
       "      <td>NaN</td>\n",
       "    </tr>\n",
       "    <tr>\n",
       "      <th>4</th>\n",
       "      <td>1038</td>\n",
       "      <td>AMC ENTERTAINMENT INC -OLD</td>\n",
       "      <td>39.103020</td>\n",
       "      <td>-94.583564</td>\n",
       "    </tr>\n",
       "    <tr>\n",
       "      <th>...</th>\n",
       "      <td>...</td>\n",
       "      <td>...</td>\n",
       "      <td>...</td>\n",
       "      <td>...</td>\n",
       "    </tr>\n",
       "    <tr>\n",
       "      <th>39777</th>\n",
       "      <td>326688</td>\n",
       "      <td>NVENT ELECTRIC PLC</td>\n",
       "      <td>51.507408</td>\n",
       "      <td>-0.127699</td>\n",
       "    </tr>\n",
       "    <tr>\n",
       "      <th>39778</th>\n",
       "      <td>327832</td>\n",
       "      <td>ARGO BLOCKCHAIN PLC</td>\n",
       "      <td>51.516670</td>\n",
       "      <td>-0.138510</td>\n",
       "    </tr>\n",
       "    <tr>\n",
       "      <th>39779</th>\n",
       "      <td>334298</td>\n",
       "      <td>PROPERTYGURU GROUP LIMITED</td>\n",
       "      <td>1.317400</td>\n",
       "      <td>103.892270</td>\n",
       "    </tr>\n",
       "    <tr>\n",
       "      <th>39780</th>\n",
       "      <td>345980</td>\n",
       "      <td>CONTEXTLOGIC INC</td>\n",
       "      <td>37.790486</td>\n",
       "      <td>-122.400962</td>\n",
       "    </tr>\n",
       "    <tr>\n",
       "      <th>39781</th>\n",
       "      <td>349994</td>\n",
       "      <td>CLEARMIND MEDICINE INC</td>\n",
       "      <td>49.265809</td>\n",
       "      <td>-123.131937</td>\n",
       "    </tr>\n",
       "  </tbody>\n",
       "</table>\n",
       "<p>39782 rows × 4 columns</p>\n",
       "</div>"
      ],
      "text/plain": [
       "        gvkey                   hqcompany        lat         lon\n",
       "0        1000       A & E PLASTIK PAK INC        NaN         NaN\n",
       "1        1002                    AAI CORP  39.467797  -76.641662\n",
       "2        1019  AFA PROTECTIVE SYSTEMS INC  40.804278  -73.517759\n",
       "3        1026            AID INC-DEL CL A        NaN         NaN\n",
       "4        1038  AMC ENTERTAINMENT INC -OLD  39.103020  -94.583564\n",
       "...       ...                         ...        ...         ...\n",
       "39777  326688          NVENT ELECTRIC PLC  51.507408   -0.127699\n",
       "39778  327832         ARGO BLOCKCHAIN PLC  51.516670   -0.138510\n",
       "39779  334298  PROPERTYGURU GROUP LIMITED   1.317400  103.892270\n",
       "39780  345980            CONTEXTLOGIC INC  37.790486 -122.400962\n",
       "39781  349994      CLEARMIND MEDICINE INC  49.265809 -123.131937\n",
       "\n",
       "[39782 rows x 4 columns]"
      ]
     },
     "execution_count": 14,
     "metadata": {},
     "output_type": "execute_result"
    }
   ],
   "source": [
    "\"\"\"\n",
    "We delete all entries that contain the substring 'ETF'\n",
    "\"\"\"\n",
    "sql_query = \"\"\"\n",
    "DELETE FROM compustat\n",
    "WHERE REGEXP_MATCHES(hqcompany, '\\\\bETF\\\\b');\n",
    "\"\"\"\n",
    "con.execute(sql_query)\n",
    "con.sql('SELECT * FROM compustat;').fetchdf()"
   ]
  },
  {
   "cell_type": "code",
   "execution_count": 15,
   "id": "cb859ce1ff6b4e0",
   "metadata": {
    "ExecuteTime": {
     "end_time": "2024-03-18T09:33:48.124525Z",
     "start_time": "2024-03-18T09:33:48.036062Z"
    },
    "collapsed": false
   },
   "outputs": [
    {
     "data": {
      "text/plain": [
       "<duckdb.duckdb.DuckDBPyConnection at 0x12d589770>"
      ]
     },
     "execution_count": 15,
     "metadata": {},
     "output_type": "execute_result"
    }
   ],
   "source": [
    "\"\"\"\n",
    "In this Cell we want to preprocess the names of the compustat datasets\n",
    "\"\"\"\n",
    "# most common substrings in company names\n",
    "compustat_substring = ['INC', 'CORP', 'LTD', 'GROUP', 'CO', 'CORP']\n",
    "#TODO: Maybe get rid of things like 'ENTERPRISES', 'PROPERTIES', 'INTERNATIONAL', 'TECHNOLOGIES'\n",
    "#TODO: Mauybe ged rid of terms like -old or -llp\n",
    "#TODO replace terms like technologie through special characters like $ or ˆ, since they are often used in company names\n",
    "# other: ['etf', 'financial', 'bancorp', 'holdings', 'energy']\n",
    "\n",
    "# query_str = \"\"\"\n",
    "# UPDATE compustat\n",
    "#     SET conm = REGEXP_REPLACE(conm, '(\\\\bLLC\\\\b)|(\\\\bINC\\\\b)|(\\\\bLTD\\\\b)|(\\\\bGROUP\\\\b)|(\\\\bCO\\\\b)|(\\\\bCORP\\\\b)|(\\\\s+)|(\\\\-)', '', 'g')\n",
    "# \"\"\"\n",
    "#TOOD: We replace longer terms with their abbreviations, to reduce their weight in the name, but keeping them, to improve matching score\n",
    "query_str = \"\"\"\n",
    "UPDATE compustat\n",
    "SET hqcompany = TRIM(\n",
    "    REGEXP_REPLACE(\n",
    "        REGEXP_REPLACE(\n",
    "            REGEXP_REPLACE(\n",
    "                REGEXP_REPLACE(\n",
    "                    REGEXP_REPLACE(\n",
    "                        REGEXP_REPLACE(\n",
    "                            REGEXP_REPLACE(\n",
    "                                REGEXP_REPLACE(\n",
    "                                    REGEXP_REPLACE(\n",
    "                                        REGEXP_REPLACE(\n",
    "                                            REGEXP_REPLACE(\n",
    "                                                REGEXP_REPLACE( \n",
    "                                                    REGEXP_REPLACE(\n",
    "                                                        REGEXP_REPLACE(\n",
    "                                                            REGEXP_REPLACE(\n",
    "                                                                REGEXP_REPLACE(\n",
    "                                                                    REGEXP_REPLACE(\n",
    "                                                                        REGEXP_REPLACE(\n",
    "                                                                            REGEXP_REPLACE(hqcompany, 'INCORPORATED', 'INC'),\n",
    "                                                                        'LIMITED', '`LTD'),\n",
    "                                                                    'CORPORATION', 'CORP'),\n",
    "                                                                'COMPANY', 'CO'),\n",
    "                                                            'HOLDINGS', 'HLDGS'),\n",
    "                                                        'GROUP', 'GRP'),\n",
    "                                                    'INTERNATIONAL', 'INTL'),\n",
    "                                                'TECHNOLOGIES', '@'),\n",
    "                                            'THERAPEUTICS', '^'),\n",
    "                                        'PHARMACEUTICALS', '$'),\n",
    "                                    'INDUSTRIES', 'IND'),\n",
    "                                'TECHNOLOGY', '!'),\n",
    "                            'FINANCIAL', ')'),\n",
    "                        'COMMUNICATIONS', '('),\n",
    "                    'PROPERTIES', '\\'),\n",
    "                '\\\\b-\\\\b', ''),\n",
    "            '\\\\s+', '', 'g'),\n",
    "        'BANCORPINC', '}'),\n",
    "    'HLDGSINC', '{')\n",
    "    )\n",
    "\"\"\"\n",
    "con.execute(query_str)"
   ]
  },
  {
   "cell_type": "code",
   "execution_count": 16,
   "id": "68a0a8b3175041f9",
   "metadata": {
    "ExecuteTime": {
     "end_time": "2024-03-18T09:33:48.126796Z",
     "start_time": "2024-03-18T09:33:48.125239Z"
    },
    "collapsed": false
   },
   "outputs": [],
   "source": [
    "# \"\"\"\n",
    "# Clean up the phone numbers from whitespaces and dashes\n",
    "# \"\"\"\n",
    "# query_str = \"\"\"\n",
    "# UPDATE compustat\n",
    "#     SET phone = REGEXP_REPLACE(phone, '(\\\\s+)|-', '', 'g')\n",
    "# \"\"\"\n",
    "# con.execute(query_str)\n",
    "# con.sql('SELECT * FROM compustat WHERE hqcompany LIKE \\'%!%\\' LIMIT 10').fetchdf()"
   ]
  },
  {
   "cell_type": "markdown",
   "id": "a6c4f5840597b102",
   "metadata": {
    "collapsed": false
   },
   "source": [
    "\n",
    "-- END OF COMPUSTAT PREPROCESSING --\n",
    "\n",
    "\n",
    "-- START OF NETS PREPROCESSING --\n"
   ]
  },
  {
   "cell_type": "code",
   "execution_count": 17,
   "id": "7e20a0288c16d36d",
   "metadata": {
    "ExecuteTime": {
     "end_time": "2024-03-18T09:33:57.321219Z",
     "start_time": "2024-03-18T09:33:48.127414Z"
    },
    "collapsed": false
   },
   "outputs": [
    {
     "data": {
      "application/vnd.jupyter.widget-view+json": {
       "model_id": "fd992a6d53dd45ffb8b6bb7191631b62",
       "version_major": 2,
       "version_minor": 0
      },
      "text/plain": [
       "FloatProgress(value=0.0, layout=Layout(width='auto'), style=ProgressStyle(bar_color='black'))"
      ]
     },
     "metadata": {},
     "output_type": "display_data"
    },
    {
     "data": {
      "text/plain": [
       "<duckdb.duckdb.DuckDBPyConnection at 0x12d589770>"
      ]
     },
     "execution_count": 17,
     "metadata": {},
     "output_type": "execute_result"
    }
   ],
   "source": [
    "con.execute('DROP TABLE IF EXISTS nets_all')\n",
    "con.execute('CREATE TABLE nets_all AS SELECT hqduns, hqcompany, latitude, longitude, FROM nets_all_data')\n",
    "#con.sql('SELECT * FROM nets;').fetchdf().info()"
   ]
  },
  {
   "cell_type": "code",
   "execution_count": 18,
   "id": "4ff13a023cf30c78",
   "metadata": {
    "ExecuteTime": {
     "end_time": "2024-03-18T09:34:22.698909Z",
     "start_time": "2024-03-18T09:33:57.321954Z"
    },
    "collapsed": false
   },
   "outputs": [
    {
     "data": {
      "application/vnd.jupyter.widget-view+json": {
       "model_id": "b4ad4702730c413ab840771f1410bff1",
       "version_major": 2,
       "version_minor": 0
      },
      "text/plain": [
       "FloatProgress(value=0.0, layout=Layout(width='auto'), style=ProgressStyle(bar_color='black'))"
      ]
     },
     "metadata": {},
     "output_type": "display_data"
    },
    {
     "data": {
      "text/plain": [
       "<duckdb.duckdb.DuckDBPyConnection at 0x12d589770>"
      ]
     },
     "execution_count": 18,
     "metadata": {},
     "output_type": "execute_result"
    }
   ],
   "source": [
    "\"\"\"\n",
    "In this Cell we want to preprocess the names of the NETS datasets\n",
    "\n",
    "NETS_substring = ['LLC', 'INC', 'OF', 'GROUP', 'SERVICES', 'CO', 'CORP']\n",
    "other: ['a', 'construction', 'enterprises']\n",
    "\"\"\"\n",
    "#TODO: get rid of things like 'ENTERPRISES', 'PROPERTIES', 'INTERNATIONAL', 'TECHNOLOGIES', 'INCORPORATED', 'CORPORATION', 'COMPANY since acronyms like inc. arent that common in nets.\n",
    "#TODO: Maybe we need more preprocessing for NETS since there are a lot of entries that are not in compustat\n",
    "\n",
    "# query_str = \"\"\"\n",
    "# UPDATE nets\n",
    "#     SET hqcompany = REGEXP_REPLACE(hqcompany, '(\\\\bLLC\\\\b)|(\\\\bINC\\\\b)|(\\\\bLTD\\\\b)|(\\\\bGROUP\\\\b)|(\\\\bCO\\\\b)|(\\\\bCORP\\\\b)|(\\\\s+)|(\\\\-)', '', 'g')\n",
    "# \"\"\"\n",
    "query_str = \"\"\"\n",
    "UPDATE nets_all\n",
    "SET hqcompany = TRIM(\n",
    "    REGEXP_REPLACE(\n",
    "        REGEXP_REPLACE(\n",
    "            REGEXP_REPLACE(\n",
    "                REGEXP_REPLACE(\n",
    "                    REGEXP_REPLACE(\n",
    "                        REGEXP_REPLACE(\n",
    "                            REGEXP_REPLACE(\n",
    "                                REGEXP_REPLACE(\n",
    "                                    REGEXP_REPLACE(\n",
    "                                        REGEXP_REPLACE(\n",
    "                                            REGEXP_REPLACE(\n",
    "                                                REGEXP_REPLACE( \n",
    "                                                    REGEXP_REPLACE(\n",
    "                                                        REGEXP_REPLACE(\n",
    "                                                            REGEXP_REPLACE(\n",
    "                                                                REGEXP_REPLACE(\n",
    "                                                                    REGEXP_REPLACE(\n",
    "                                                                        REGEXP_REPLACE(\n",
    "                                                                            REGEXP_REPLACE(hqcompany, 'INCORPORATED', 'INC'),\n",
    "                                                                        'LIMITED', '`LTD'),\n",
    "                                                                    'CORPORATION', 'CORP'),\n",
    "                                                                'COMPANY', 'CO'),\n",
    "                                                            'HOLDINGS', 'HLDGS'),\n",
    "                                                        'GROUP', 'GRP'),\n",
    "                                                    'INTERNATIONAL', 'INTL'),\n",
    "                                                'TECHNOLOGIES', '@'),\n",
    "                                            'THERAPEUTICS', '^'),\n",
    "                                        'PHARMACEUTICALS', '$'),\n",
    "                                    'INDUSTRIES', 'IND'),\n",
    "                                'TECHNOLOGY', '!'),\n",
    "                            'FINANCIAL', ')'),\n",
    "                        'COMMUNICATIONS', '('),\n",
    "                    'PROPERTIES', '\\'),\n",
    "                '\\\\b-\\\\b', ''),\n",
    "            '\\\\s+', '', 'g'),\n",
    "        'BANCORPINC', '}'),\n",
    "    'HLDGSINC', '{')\n",
    "    )\n",
    "\"\"\"\n",
    "con.execute(query_str)"
   ]
  },
  {
   "cell_type": "code",
   "execution_count": 19,
   "id": "bc48bf224ddc7eeb",
   "metadata": {
    "ExecuteTime": {
     "end_time": "2024-03-18T09:34:22.701366Z",
     "start_time": "2024-03-18T09:34:22.699616Z"
    },
    "collapsed": false
   },
   "outputs": [],
   "source": [
    "# \"\"\"\n",
    "# In this Cell we want to extract the area code and the phone number from the NETS data\n",
    "# and concatenate them to one column which then will be added to the NETS data.\n",
    "# Afterwards we will compare the phone numbers of the two datasets and see if they match.\n",
    "# \"\"\"\n",
    "# con.execute('ALTER TABLE nets ADD COLUMN hqphone_concatenated VARCHAR(255)')\n",
    "# query_str = \"\"\"\n",
    "# UPDATE nets\n",
    "# SET hqphone_concatenated = REGEXP_REPLACE(\n",
    "#             REGEXP_REPLACE((CONCAT(hqarea, hqphone)), '(\\\\s+)|-', '', 'g')\n",
    "#           , '^$', '-1');\n",
    "# \"\"\"\n",
    "# con.execute(query_str)"
   ]
  },
  {
   "cell_type": "code",
   "execution_count": 20,
   "id": "7d577c43c9d7120e",
   "metadata": {
    "ExecuteTime": {
     "end_time": "2024-03-18T09:34:24.879320Z",
     "start_time": "2024-03-18T09:34:22.702109Z"
    },
    "collapsed": false
   },
   "outputs": [
    {
     "data": {
      "text/plain": [
       "<duckdb.duckdb.DuckDBPyConnection at 0x12d589770>"
      ]
     },
     "execution_count": 20,
     "metadata": {},
     "output_type": "execute_result"
    }
   ],
   "source": [
    "\"\"\"\n",
    "In this Cell we will fix the longitudes of the NETS data\n",
    "\"\"\"\n",
    "#TODO: The coordinates are not correct in our NETS sample.  Google maps gives us -119.xxxx\n",
    "#TODO: Lat-long coordinates for cities in United States are in range: Latitude from 19.50139 to 64.85694 and longitude from -161.75583 to -68.01197. (Source: https://latitudelongitude.org/us/)\n",
    "# TODO maybe we need to adjust the coordinates according to levelcode\n",
    "sql_query = \"\"\"\n",
    "    UPDATE nets_all\n",
    "    SET longitude = -longitude;\n",
    "\"\"\"\n",
    "con.execute(sql_query)"
   ]
  },
  {
   "cell_type": "markdown",
   "id": "792cd21069edb1cd",
   "metadata": {
    "collapsed": false
   },
   "source": [
    "-- NETS PUB PREPROCESSING --"
   ]
  },
  {
   "cell_type": "code",
   "execution_count": 21,
   "id": "94816e6aa2d457bf",
   "metadata": {
    "ExecuteTime": {
     "end_time": "2024-03-18T09:34:24.912382Z",
     "start_time": "2024-03-18T09:34:24.880057Z"
    },
    "collapsed": false
   },
   "outputs": [
    {
     "data": {
      "text/plain": [
       "<duckdb.duckdb.DuckDBPyConnection at 0x12d589770>"
      ]
     },
     "execution_count": 21,
     "metadata": {},
     "output_type": "execute_result"
    }
   ],
   "source": [
    "con.execute('DROP TABLE IF EXISTS nets_pub')\n",
    "con.execute('CREATE TABLE nets_pub AS SELECT hqduns, hqcompany, latitude, longitude, FROM nets_pub_data')"
   ]
  },
  {
   "cell_type": "code",
   "execution_count": 22,
   "id": "cb5a61fcecf8826a",
   "metadata": {
    "ExecuteTime": {
     "end_time": "2024-03-18T09:34:24.982097Z",
     "start_time": "2024-03-18T09:34:24.913053Z"
    },
    "collapsed": false
   },
   "outputs": [
    {
     "data": {
      "text/plain": [
       "<duckdb.duckdb.DuckDBPyConnection at 0x12d589770>"
      ]
     },
     "execution_count": 22,
     "metadata": {},
     "output_type": "execute_result"
    }
   ],
   "source": [
    "\"\"\"\n",
    "In this Cell we want to preprocess the names of the NETS datasets\n",
    "\"\"\"\n",
    "query_str = \"\"\"\n",
    "UPDATE nets_pub\n",
    "SET hqcompany = TRIM(\n",
    "    REGEXP_REPLACE(\n",
    "        REGEXP_REPLACE(\n",
    "            REGEXP_REPLACE(\n",
    "                REGEXP_REPLACE(\n",
    "                    REGEXP_REPLACE(\n",
    "                        REGEXP_REPLACE(\n",
    "                            REGEXP_REPLACE(\n",
    "                                REGEXP_REPLACE(\n",
    "                                    REGEXP_REPLACE(\n",
    "                                        REGEXP_REPLACE(\n",
    "                                            REGEXP_REPLACE(\n",
    "                                                REGEXP_REPLACE( \n",
    "                                                    REGEXP_REPLACE(\n",
    "                                                        REGEXP_REPLACE(\n",
    "                                                            REGEXP_REPLACE(\n",
    "                                                                REGEXP_REPLACE(\n",
    "                                                                    REGEXP_REPLACE(\n",
    "                                                                        REGEXP_REPLACE(\n",
    "                                                                            REGEXP_REPLACE(hqcompany, 'INCORPORATED', 'INC'),\n",
    "                                                                        'LIMITED', '`LTD'),\n",
    "                                                                    'CORPORATION', 'CORP'),\n",
    "                                                                'COMPANY', 'CO'),\n",
    "                                                            'HOLDINGS', 'HLDGS'),\n",
    "                                                        'GROUP', 'GRP'),\n",
    "                                                    'INTERNATIONAL', 'INTL'),\n",
    "                                                'TECHNOLOGIES', '@'),\n",
    "                                            'THERAPEUTICS', '^'),\n",
    "                                        'PHARMACEUTICALS', '$'),\n",
    "                                    'INDUSTRIES', 'IND'),\n",
    "                                'TECHNOLOGY', '!'),\n",
    "                            'FINANCIAL', ')'),\n",
    "                        'COMMUNICATIONS', '('),\n",
    "                    'PROPERTIES', '\\'),\n",
    "                '\\\\b-\\\\b', ''),\n",
    "            '\\\\s+', '', 'g'),\n",
    "        'BANCORPINC', '}'),\n",
    "    'HLDGSINC', '{')\n",
    "    )\n",
    "\"\"\"\n",
    "con.execute(query_str)"
   ]
  },
  {
   "cell_type": "code",
   "execution_count": 23,
   "id": "f29cdb80e9917a01",
   "metadata": {
    "ExecuteTime": {
     "end_time": "2024-03-18T09:34:24.986218Z",
     "start_time": "2024-03-18T09:34:24.982794Z"
    },
    "collapsed": false
   },
   "outputs": [
    {
     "data": {
      "text/plain": [
       "<duckdb.duckdb.DuckDBPyConnection at 0x12d589770>"
      ]
     },
     "execution_count": 23,
     "metadata": {},
     "output_type": "execute_result"
    }
   ],
   "source": [
    "\"\"\"\n",
    "In this Cell we will fix the longitudes of the NETS data\n",
    "\"\"\"\n",
    "#TODO: The coordinates are not correct in our NETS sample.  Google maps gives us -119.xxxx\n",
    "#TODO: Lat-long coordinates for cities in United States are in range: Latitude from 19.50139 to 64.85694 and longitude from -161.75583 to -68.01197. (Source: https://latitudelongitude.org/us/)\n",
    "# TODO maybe we need to adjust the coordinates according to levelcode\n",
    "sql_query = \"\"\"\n",
    "    UPDATE nets_pub\n",
    "    SET longitude = -longitude;\n",
    "\"\"\"\n",
    "con.execute(sql_query)"
   ]
  },
  {
   "cell_type": "code",
   "execution_count": 24,
   "id": "10f040ea2cbe5e9d",
   "metadata": {
    "ExecuteTime": {
     "end_time": "2024-03-18T09:34:24.988626Z",
     "start_time": "2024-03-18T09:34:24.987111Z"
    },
    "collapsed": false
   },
   "outputs": [],
   "source": [
    "# con.execute('SELECT * FROM nets').fetch_df().to_excel('/Users/marisbuttmann/Desktop/HIWI_code/geocode_project/preprocessed_data/nets_preprocessed.xlsx', index=False)\n",
    "# con.execute('SELECT * FROM compustat').fetchdf().to_excel('/Users/marisbuttmann/Desktop/HIWI_code/geocode_project/preprocessed_data/compustat_preprocessed.xlsx', index=False)"
   ]
  },
  {
   "cell_type": "code",
   "execution_count": 25,
   "id": "e70139f08aa97677",
   "metadata": {
    "ExecuteTime": {
     "end_time": "2024-03-18T09:34:25.300569Z",
     "start_time": "2024-03-18T09:34:24.989360Z"
    },
    "collapsed": false
   },
   "outputs": [],
   "source": [
    "con.commit()\n",
    "con.close()"
   ]
  },
  {
   "cell_type": "code",
   "execution_count": 25,
   "id": "bb8dcee39bded040",
   "metadata": {
    "ExecuteTime": {
     "end_time": "2024-03-18T09:34:25.302715Z",
     "start_time": "2024-03-18T09:34:25.301458Z"
    },
    "collapsed": false
   },
   "outputs": [],
   "source": []
  }
 ],
 "metadata": {
  "kernelspec": {
   "display_name": "Python 3",
   "language": "python",
   "name": "python3"
  },
  "language_info": {
   "codemirror_mode": {
    "name": "ipython",
    "version": 2
   },
   "file_extension": ".py",
   "mimetype": "text/x-python",
   "name": "python",
   "nbconvert_exporter": "python",
   "pygments_lexer": "ipython2",
   "version": "3.9.12"
  }
 },
 "nbformat": 4,
 "nbformat_minor": 5
}
