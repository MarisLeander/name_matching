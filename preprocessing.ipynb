{
 "cells": [
  {
   "cell_type": "code",
   "execution_count": 1,
   "id": "initial_id",
   "metadata": {
    "ExecuteTime": {
     "end_time": "2024-03-18T09:33:21.588623Z",
     "start_time": "2024-03-18T09:33:19.778016Z"
    },
    "collapsed": true
   },
   "outputs": [],
   "source": [
    "import pandas as pd\n",
    "import duckdb"
   ]
  },
  {
   "cell_type": "code",
   "execution_count": 2,
   "id": "a57c31374d4b05cd",
   "metadata": {
    "ExecuteTime": {
     "end_time": "2024-03-18T09:33:21.598232Z",
     "start_time": "2024-03-18T09:33:21.592420Z"
    },
    "collapsed": false
   },
   "outputs": [],
   "source": [
    "# Connect to Database\n",
    "con = duckdb.connect(database='database.db', read_only=False)"
   ]
  },
  {
   "cell_type": "code",
   "execution_count": 3,
   "id": "a02d05ca0c5b9e6a",
   "metadata": {
    "ExecuteTime": {
     "end_time": "2024-03-18T09:33:47.325704Z",
     "start_time": "2024-03-18T09:33:21.599179Z"
    },
    "collapsed": false
   },
   "outputs": [],
   "source": [
    "# Mac Path\n",
    "# nets_pub_data = pd.read_stata('/Users/marisbuttmann/Desktop/HIWI_code/geocode_project/all_data/hq_companies_public_maris.dta')\n",
    "# nets_all_data = pd.read_stata('/Users/marisbuttmann/Desktop/HIWI_code/geocode_project/all_data/hq_all_maris.dta')\n",
    "# compustat_all = pd.read_stata('/Users/marisbuttmann/Desktop/HIWI_code/geocode_project/all_data/compustat.dta')\n",
    "# Workstation Path\n",
    "nets_all_data = pd.read_stata('S:/Users/Hiwi/Maris/name_matching/Data/hq_all_maris.dta')\n",
    "nets_pub_data = pd.read_stata('S:/Users/Hiwi/Maris/name_matching/Data/hq_companies_public_maris.dta')\n",
    "nets_city_state = pd.read_stata('S:/Users/Hiwi/Maris/name_matching/Data/nets_city_state.dta')\n",
    "compustat_all = pd.read_stata('S:/Users/Hiwi/Maris/name_matching/Data/compustat.dta')\n",
    "\n",
    "# ['HQDuns', 'HQCompany', 'HQAdress','HQZipCode', 'HQCity', 'HQState', 'HQArea', 'HQPhone', 'Latitude', 'Longitude', 'LevelCode']"
   ]
  },
  {
   "cell_type": "code",
   "execution_count": 4,
   "id": "bfbc74d79a3e035e",
   "metadata": {
    "ExecuteTime": {
     "end_time": "2024-03-18T09:33:47.337505Z",
     "start_time": "2024-03-18T09:33:47.328159Z"
    },
    "collapsed": false
   },
   "outputs": [
    {
     "data": {
      "text/html": [
       "<div>\n",
       "<style scoped>\n",
       "    .dataframe tbody tr th:only-of-type {\n",
       "        vertical-align: middle;\n",
       "    }\n",
       "\n",
       "    .dataframe tbody tr th {\n",
       "        vertical-align: top;\n",
       "    }\n",
       "\n",
       "    .dataframe thead th {\n",
       "        text-align: right;\n",
       "    }\n",
       "</style>\n",
       "<table border=\"1\" class=\"dataframe\">\n",
       "  <thead>\n",
       "    <tr style=\"text-align: right;\">\n",
       "      <th></th>\n",
       "      <th>hqduns</th>\n",
       "      <th>hqcity</th>\n",
       "      <th>hqzipcode</th>\n",
       "    </tr>\n",
       "  </thead>\n",
       "  <tbody>\n",
       "    <tr>\n",
       "      <th>18612267</th>\n",
       "      <td>38195997</td>\n",
       "      <td>INDIANAPOLIS</td>\n",
       "      <td>46220</td>\n",
       "    </tr>\n",
       "  </tbody>\n",
       "</table>\n",
       "</div>"
      ],
      "text/plain": [
       "            hqduns                          hqcity  hqzipcode\n",
       "18612267  38195997  INDIANAPOLIS                        46220"
      ]
     },
     "execution_count": 4,
     "metadata": {},
     "output_type": "execute_result"
    }
   ],
   "source": [
    "nets_city_state.sample(1)"
   ]
  },
  {
   "cell_type": "code",
   "execution_count": 5,
   "id": "4f431aa10bbdf960",
   "metadata": {
    "ExecuteTime": {
     "end_time": "2024-03-18T09:33:47.567948Z",
     "start_time": "2024-03-18T09:33:47.555096Z"
    },
    "collapsed": false
   },
   "outputs": [
    {
     "name": "stdout",
     "output_type": "stream",
     "text": [
      "<class 'pandas.core.frame.DataFrame'>\n",
      "Int64Index: 42979 entries, 0 to 42978\n",
      "Data columns (total 20 columns):\n",
      " #   Column     Non-Null Count  Dtype  \n",
      "---  ------     --------------  -----  \n",
      " 0   gvkey      42979 non-null  int32  \n",
      " 1   datadate   42979 non-null  object \n",
      " 2   fyear      42808 non-null  float64\n",
      " 3   indfmt     42979 non-null  object \n",
      " 4   consol     42979 non-null  object \n",
      " 5   popsrc     42979 non-null  object \n",
      " 6   datafmt    42979 non-null  object \n",
      " 7   tic        42979 non-null  object \n",
      " 8   hqcompany  42979 non-null  object \n",
      " 9   curcd      42979 non-null  object \n",
      " 10  costat     42979 non-null  object \n",
      " 11  hqaddress  42979 non-null  object \n",
      " 12  add2       42979 non-null  object \n",
      " 13  add3       42979 non-null  object \n",
      " 14  add4       42979 non-null  object \n",
      " 15  hqzipcode  42979 non-null  object \n",
      " 16  city       42979 non-null  object \n",
      " 17  conml      42979 non-null  object \n",
      " 18  state      42979 non-null  object \n",
      " 19  hqzip4     33973 non-null  float64\n",
      "dtypes: float64(2), int32(1), object(17)\n",
      "memory usage: 6.7+ MB\n"
     ]
    }
   ],
   "source": [
    "compustat_all.info()"
   ]
  },
  {
   "cell_type": "code",
   "execution_count": 6,
   "id": "17bccde7b6acd056",
   "metadata": {
    "ExecuteTime": {
     "end_time": "2024-03-18T09:33:47.587396Z",
     "start_time": "2024-03-18T09:33:47.568681Z"
    },
    "collapsed": false
   },
   "outputs": [
    {
     "name": "stdout",
     "output_type": "stream",
     "text": [
      "<class 'pandas.core.frame.DataFrame'>\n",
      "Int64Index: 42980 entries, 0 to 42979\n",
      "Data columns (total 5 columns):\n",
      " #   Column                Non-Null Count  Dtype  \n",
      "---  ------                --------------  -----  \n",
      " 0   gvkey                 42980 non-null  int32  \n",
      " 1   hq_address_compustat  42980 non-null  object \n",
      " 2   count                 42980 non-null  float32\n",
      " 3   lat                   41999 non-null  float64\n",
      " 4   lon                   41999 non-null  float64\n",
      "dtypes: float32(1), float64(2), int32(1), object(1)\n",
      "memory usage: 1.6+ MB\n",
      "None\n"
     ]
    },
    {
     "data": {
      "text/html": [
       "<div>\n",
       "<style scoped>\n",
       "    .dataframe tbody tr th:only-of-type {\n",
       "        vertical-align: middle;\n",
       "    }\n",
       "\n",
       "    .dataframe tbody tr th {\n",
       "        vertical-align: top;\n",
       "    }\n",
       "\n",
       "    .dataframe thead th {\n",
       "        text-align: right;\n",
       "    }\n",
       "</style>\n",
       "<table border=\"1\" class=\"dataframe\">\n",
       "  <thead>\n",
       "    <tr style=\"text-align: right;\">\n",
       "      <th></th>\n",
       "      <th>gvkey</th>\n",
       "      <th>hq_address_compustat</th>\n",
       "      <th>count</th>\n",
       "      <th>lat</th>\n",
       "      <th>lon</th>\n",
       "    </tr>\n",
       "  </thead>\n",
       "  <tbody>\n",
       "    <tr>\n",
       "      <th>0</th>\n",
       "      <td>1000</td>\n",
       "      <td></td>\n",
       "      <td>1.0</td>\n",
       "      <td>NaN</td>\n",
       "      <td>NaN</td>\n",
       "    </tr>\n",
       "    <tr>\n",
       "      <th>1</th>\n",
       "      <td>1001</td>\n",
       "      <td>1924 South Utica Avenue Tulsa OK</td>\n",
       "      <td>2.0</td>\n",
       "      <td>-95.968066</td>\n",
       "      <td>36.134328</td>\n",
       "    </tr>\n",
       "    <tr>\n",
       "      <th>2</th>\n",
       "      <td>1002</td>\n",
       "      <td>124 Industry Lane Hunt Valley MD</td>\n",
       "      <td>3.0</td>\n",
       "      <td>-76.641662</td>\n",
       "      <td>39.467797</td>\n",
       "    </tr>\n",
       "    <tr>\n",
       "      <th>3</th>\n",
       "      <td>1003</td>\n",
       "      <td>7700 Hall Street St. Louis MO</td>\n",
       "      <td>4.0</td>\n",
       "      <td>-90.225770</td>\n",
       "      <td>38.707338</td>\n",
       "    </tr>\n",
       "    <tr>\n",
       "      <th>4</th>\n",
       "      <td>1004</td>\n",
       "      <td>1100 North Wood Dale Road Wood Dale IL</td>\n",
       "      <td>5.0</td>\n",
       "      <td>-87.981054</td>\n",
       "      <td>41.986749</td>\n",
       "    </tr>\n",
       "    <tr>\n",
       "      <th>...</th>\n",
       "      <td>...</td>\n",
       "      <td>...</td>\n",
       "      <td>...</td>\n",
       "      <td>...</td>\n",
       "      <td>...</td>\n",
       "    </tr>\n",
       "    <tr>\n",
       "      <th>42975</th>\n",
       "      <td>351491</td>\n",
       "      <td>Via Puglia n. 35 Turin</td>\n",
       "      <td>42976.0</td>\n",
       "      <td>7.723420</td>\n",
       "      <td>45.106830</td>\n",
       "    </tr>\n",
       "    <tr>\n",
       "      <th>42976</th>\n",
       "      <td>351590</td>\n",
       "      <td>Fasanenweg 10 Leinfelden-Echterdingen</td>\n",
       "      <td>42977.0</td>\n",
       "      <td>9.145069</td>\n",
       "      <td>48.707416</td>\n",
       "    </tr>\n",
       "    <tr>\n",
       "      <th>42977</th>\n",
       "      <td>352262</td>\n",
       "      <td>Hamilton</td>\n",
       "      <td>42978.0</td>\n",
       "      <td>175.281099</td>\n",
       "      <td>-37.789474</td>\n",
       "    </tr>\n",
       "    <tr>\n",
       "      <th>42978</th>\n",
       "      <td>353444</td>\n",
       "      <td>The Heights Building 5 Weybridge</td>\n",
       "      <td>42979.0</td>\n",
       "      <td>-0.462543</td>\n",
       "      <td>51.352960</td>\n",
       "    </tr>\n",
       "    <tr>\n",
       "      <th>42979</th>\n",
       "      <td>353945</td>\n",
       "      <td>Bruggerstrasse 71a Baden</td>\n",
       "      <td>42980.0</td>\n",
       "      <td>8.301259</td>\n",
       "      <td>47.479280</td>\n",
       "    </tr>\n",
       "  </tbody>\n",
       "</table>\n",
       "<p>42980 rows × 5 columns</p>\n",
       "</div>"
      ],
      "text/plain": [
       "        gvkey                     hq_address_compustat    count         lat  \\\n",
       "0        1000                                               1.0         NaN   \n",
       "1        1001         1924 South Utica Avenue Tulsa OK      2.0  -95.968066   \n",
       "2        1002         124 Industry Lane Hunt Valley MD      3.0  -76.641662   \n",
       "3        1003            7700 Hall Street St. Louis MO      4.0  -90.225770   \n",
       "4        1004   1100 North Wood Dale Road Wood Dale IL      5.0  -87.981054   \n",
       "...       ...                                      ...      ...         ...   \n",
       "42975  351491                  Via Puglia n. 35 Turin   42976.0    7.723420   \n",
       "42976  351590   Fasanenweg 10 Leinfelden-Echterdingen   42977.0    9.145069   \n",
       "42977  352262                                Hamilton   42978.0  175.281099   \n",
       "42978  353444        The Heights Building 5 Weybridge   42979.0   -0.462543   \n",
       "42979  353945                Bruggerstrasse 71a Baden   42980.0    8.301259   \n",
       "\n",
       "             lon  \n",
       "0            NaN  \n",
       "1      36.134328  \n",
       "2      39.467797  \n",
       "3      38.707338  \n",
       "4      41.986749  \n",
       "...          ...  \n",
       "42975  45.106830  \n",
       "42976  48.707416  \n",
       "42977 -37.789474  \n",
       "42978  51.352960  \n",
       "42979  47.479280  \n",
       "\n",
       "[42980 rows x 5 columns]"
      ]
     },
     "execution_count": 6,
     "metadata": {},
     "output_type": "execute_result"
    }
   ],
   "source": [
    "# compustat_geocoded = pd.read_stata('/Users/marisbuttmann/Desktop/HIWI_code/geocode_project/all_data/compustat_geocoded_final.dta')\n",
    "compustat_geocoded = pd.read_stata('S:/Users/Hiwi/Maris/name_matching/Data/compustat_geocoded_final.dta')\n",
    "# ['gvkey', 'hq_address_compustat', 'count', 'lat', 'lon']\n",
    "print(compustat_geocoded.info())\n",
    "compustat_geocoded"
   ]
  },
  {
   "cell_type": "code",
   "execution_count": 7,
   "id": "f578580f7884f4c2",
   "metadata": {
    "ExecuteTime": {
     "end_time": "2024-03-18T09:33:47.610068Z",
     "start_time": "2024-03-18T09:33:47.588346Z"
    },
    "collapsed": false
   },
   "outputs": [
    {
     "data": {
      "text/plain": [
       "┌──────────────┐\n",
       "│ count(gvkey) │\n",
       "│    int64     │\n",
       "├──────────────┤\n",
       "│        42980 │\n",
       "└──────────────┘"
      ]
     },
     "execution_count": 7,
     "metadata": {},
     "output_type": "execute_result"
    }
   ],
   "source": [
    "con.execute('DROP TABLE IF EXISTS compustat_geocoded')\n",
    "con.execute('CREATE TABLE compustat_geocoded AS SELECT * FROM compustat_geocoded')\n",
    "con.sql('SELECT DISTINCT COUNT(gvkey) FROM compustat_geocoded;')"
   ]
  },
  {
   "cell_type": "markdown",
   "id": "e301b6d08022e207",
   "metadata": {
    "collapsed": false
   },
   "source": [
    "-- START OF COMPUSTAT PREPROCESSING --"
   ]
  },
  {
   "cell_type": "code",
   "execution_count": 8,
   "id": "3bfbde357315339e",
   "metadata": {
    "ExecuteTime": {
     "end_time": "2024-03-18T09:33:47.636256Z",
     "start_time": "2024-03-18T09:33:47.610989Z"
    },
    "collapsed": false
   },
   "outputs": [
    {
     "data": {
      "text/plain": [
       "┌──────────────┐\n",
       "│ count_star() │\n",
       "│    int64     │\n",
       "├──────────────┤\n",
       "│        42979 │\n",
       "└──────────────┘"
      ]
     },
     "execution_count": 8,
     "metadata": {},
     "output_type": "execute_result"
    }
   ],
   "source": [
    "con.execute('DROP TABLE IF EXISTS compustat')\n",
    "con.execute('CREATE TABLE compustat AS SELECT DISTINCT gvkey, hqcompany, hqzipcode, city FROM compustat_all')\n",
    "con.sql('SELECT DISTINCT COUNT(*) FROM compustat;')"
   ]
  },
  {
   "cell_type": "code",
   "execution_count": 9,
   "id": "5dc43ea5e54afd4b",
   "metadata": {
    "ExecuteTime": {
     "end_time": "2024-03-18T09:33:47.642587Z",
     "start_time": "2024-03-18T09:33:47.638178Z"
    },
    "collapsed": false
   },
   "outputs": [
    {
     "data": {
      "text/html": [
       "<div>\n",
       "<style scoped>\n",
       "    .dataframe tbody tr th:only-of-type {\n",
       "        vertical-align: middle;\n",
       "    }\n",
       "\n",
       "    .dataframe tbody tr th {\n",
       "        vertical-align: top;\n",
       "    }\n",
       "\n",
       "    .dataframe thead th {\n",
       "        text-align: right;\n",
       "    }\n",
       "</style>\n",
       "<table border=\"1\" class=\"dataframe\">\n",
       "  <thead>\n",
       "    <tr style=\"text-align: right;\">\n",
       "      <th></th>\n",
       "      <th>gvkey</th>\n",
       "    </tr>\n",
       "  </thead>\n",
       "  <tbody>\n",
       "    <tr>\n",
       "      <th>0</th>\n",
       "      <td>9007</td>\n",
       "    </tr>\n",
       "  </tbody>\n",
       "</table>\n",
       "</div>"
      ],
      "text/plain": [
       "   gvkey\n",
       "0   9007"
      ]
     },
     "execution_count": 9,
     "metadata": {},
     "output_type": "execute_result"
    }
   ],
   "source": [
    "\"\"\"\n",
    "Extract entries of compustat_geocoded that are not in all_data_cleaned\n",
    "\"\"\"\n",
    "query_str = \"\"\"\n",
    "SELECT compustat_geocoded.gvkey\n",
    "FROM compustat_geocoded\n",
    "LEFT JOIN compustat ON compustat_geocoded.gvkey = compustat.gvkey\n",
    "WHERE compustat.gvkey IS NULL;\n",
    "\"\"\"\n",
    "con.sql(query_str).fetchdf()\n",
    "# (duckdb.sql(query_str).to_df()).to_excel('/Users/marisbuttmann/Desktop/HIWI_code/geocode_project/preprocessed_data/missing_entries_compustat.xlsx', index=False)\n"
   ]
  },
  {
   "cell_type": "code",
   "execution_count": 10,
   "id": "51c9995e8cd399e2",
   "metadata": {
    "ExecuteTime": {
     "end_time": "2024-03-18T09:33:47.648592Z",
     "start_time": "2024-03-18T09:33:47.643073Z"
    },
    "collapsed": false
   },
   "outputs": [
    {
     "name": "stdout",
     "output_type": "stream",
     "text": [
      "   gvkey    datadate   fyear indfmt consol popsrc datafmt    tic  \\\n",
      "1   1001  1978-12-31  1978.0   INDL      C      D     STD  AMFD.   \n",
      "\n",
      "                 hqcompany curcd costat                hqaddress add2 add3  \\\n",
      "1  A & M FOOD SERVICES INC   USD      I  1924 South Utica Avenue             \n",
      "\n",
      "  add4 hqzipcode   city                    conml state  hqzip4  \n",
      "1          94104  Tulsa  A & M Food Services Inc    OK  9410.0  \n"
     ]
    },
    {
     "data": {
      "text/html": [
       "<div>\n",
       "<style scoped>\n",
       "    .dataframe tbody tr th:only-of-type {\n",
       "        vertical-align: middle;\n",
       "    }\n",
       "\n",
       "    .dataframe tbody tr th {\n",
       "        vertical-align: top;\n",
       "    }\n",
       "\n",
       "    .dataframe thead th {\n",
       "        text-align: right;\n",
       "    }\n",
       "</style>\n",
       "<table border=\"1\" class=\"dataframe\">\n",
       "  <thead>\n",
       "    <tr style=\"text-align: right;\">\n",
       "      <th></th>\n",
       "      <th>gvkey</th>\n",
       "      <th>hq_address_compustat</th>\n",
       "      <th>count</th>\n",
       "      <th>lat</th>\n",
       "      <th>lon</th>\n",
       "    </tr>\n",
       "  </thead>\n",
       "  <tbody>\n",
       "    <tr>\n",
       "      <th>1</th>\n",
       "      <td>1001</td>\n",
       "      <td>1924 South Utica Avenue Tulsa OK</td>\n",
       "      <td>2.0</td>\n",
       "      <td>-95.968066</td>\n",
       "      <td>36.134328</td>\n",
       "    </tr>\n",
       "  </tbody>\n",
       "</table>\n",
       "</div>"
      ],
      "text/plain": [
       "   gvkey              hq_address_compustat  count        lat        lon\n",
       "1   1001  1924 South Utica Avenue Tulsa OK    2.0 -95.968066  36.134328"
      ]
     },
     "execution_count": 10,
     "metadata": {},
     "output_type": "execute_result"
    }
   ],
   "source": [
    "print(compustat_all.loc[compustat_all['gvkey'] == 1001])\n",
    "compustat_geocoded.loc[compustat_geocoded['gvkey'] == 1001]"
   ]
  },
  {
   "cell_type": "code",
   "execution_count": 11,
   "id": "f511a42c0bc87384",
   "metadata": {
    "ExecuteTime": {
     "end_time": "2024-03-18T09:33:48.012941Z",
     "start_time": "2024-03-18T09:33:47.649185Z"
    },
    "collapsed": false
   },
   "outputs": [],
   "source": [
    "\"\"\"\n",
    "In this cell, we want to join the geo date from compustat_geocoded with the other data from compustat_all\n",
    "Also, we want to trim and upper case the city names to make the join more robust\n",
    "\"\"\"\n",
    "\n",
    "con.execute('ALTER TABLE compustat ADD COLUMN lat DECIMAL(9,6)')\n",
    "con.execute('ALTER TABLE compustat ADD COLUMN lon DECIMAL(9,6)')\n",
    "\n",
    "# TODO: Note that lat and lon are switched in compustat_geocoded. This is probably a mistake in the geocoding process\n",
    "sql_query = \"\"\"\n",
    "UPDATE compustat\n",
    "SET lat = compustat_geocoded.lon,\n",
    "    lon = compustat_geocoded.lat\n",
    "FROM compustat_geocoded\n",
    "WHERE compustat.gvkey = compustat_geocoded.gvkey;\n",
    "\"\"\"\n",
    "con.execute(sql_query)\n",
    "con.sql('UPDATE compustat SET city = UPPER(TRIM(city));')"
   ]
  },
  {
   "cell_type": "code",
   "execution_count": 12,
   "id": "1801a956fef07298",
   "metadata": {
    "ExecuteTime": {
     "end_time": "2024-03-18T09:33:48.023403Z",
     "start_time": "2024-03-18T09:33:48.013679Z"
    },
    "collapsed": false
   },
   "outputs": [
    {
     "data": {
      "text/plain": [
       "┌────────┬──────────────────────────────┬────────────┬───────────────┬──────────────┬──────────────┐\n",
       "│ gvkey  │          hqcompany           │ hqzipcode  │     city      │     lat      │     lon      │\n",
       "│ int32  │           varchar            │  varchar   │    varchar    │ decimal(9,6) │ decimal(9,6) │\n",
       "├────────┼──────────────────────────────┼────────────┼───────────────┼──────────────┼──────────────┤\n",
       "│  12932 │ INVESCO DORSEY WRI SM MO ETF │ 60515      │ DOWNERS GROVE │    41.822742 │   -88.031668 │\n",
       "│  14435 │ ISHARES FRONTIER SLCT EM ETF │ 94105-2618 │ SAN FRANCISCO │    37.789152 │  -122.395878 │\n",
       "│  16164 │ VANGUARD S&P 500 INDEX ETF   │ M5H 4E3    │ TORONTO       │    43.650511 │   -79.379722 │\n",
       "│  16508 │ BMO S&P 500 INDEX ETF        │ M5K 1J5    │ TORONTO       │    43.671294 │   -79.384772 │\n",
       "│  17336 │ VANECK BDC INCOME ETF        │ 10017      │ NEW YORK      │    40.751203 │   -73.974362 │\n",
       "│  17589 │ MIDDLEFIELD SUS GLBL DIV ETF │ M5V 0S8    │ TORONTO       │    43.643048 │   -79.394359 │\n",
       "│  18359 │ INVESCO BULTSHRS 2022 CP ETF │ 60515      │ DOWNERS GROVE │    41.822742 │   -88.031668 │\n",
       "│  18602 │ CI U S & CAN LIFE COV CL ETF │ M5J 0A3    │ TORONTO       │    43.653524 │   -79.383907 │\n",
       "│  19279 │ SPDR MSCI EM BEYOND BRIC ETF │ 02210      │ BOSTON        │    42.344753 │   -71.052116 │\n",
       "│  19780 │ ADVISORSHARES INTL GOLD ETF  │ 20814      │ BETHESDA      │    38.983169 │   -77.095609 │\n",
       "│    ·   │              ·               │   ·        │   ·           │        ·     │        ·     │\n",
       "│    ·   │              ·               │   ·        │   ·           │        ·     │        ·     │\n",
       "│    ·   │              ·               │   ·        │   ·           │        ·     │        ·     │\n",
       "│ 186573 │ SPDR S&P EMERG MKTS DIV ETF  │ 02210      │ BOSTON        │    42.344753 │   -71.052116 │\n",
       "│ 186623 │ GLOBAL X MSCI ARGENTINA ETF  │ 10158      │ NEW YORK      │    40.749096 │   -73.975398 │\n",
       "│ 186883 │ HORIZONS US DLR CURRENCY ETF │ M5J 2H7    │ TORONTO       │    43.646957 │   -79.384009 │\n",
       "│ 187139 │ IQ GLOBAL OIL SMLCP ETF      │ 10010      │ NEW YORK      │    40.743251 │   -73.986058 │\n",
       "│ 187153 │ FIRST T-T FII F S-NF V&T ETF │ 60187      │ WHEATON       │    41.863945 │   -88.105727 │\n",
       "│ 187820 │ ISHARES TARGET DATE 2050 ETF │ 94105-2618 │ SAN FRANCISCO │    37.789152 │  -122.395878 │\n",
       "│ 189482 │ RBC TARGET 2017 CORP BD ETF  │ M5V 3K7    │ TORONTO       │    43.645845 │   -79.385746 │\n",
       "│ 189758 │ ADVISORSHARES INS ADV ETF    │ 20814      │ BETHESDA      │    38.983169 │   -77.095609 │\n",
       "│ 190770 │ ISHARES JP MORGAN EM LC ETF  │ 94105-2618 │ SAN FRANCISCO │    37.789152 │  -122.395878 │\n",
       "│ 333359 │ BLACKROCK ISHARES US AGG ETF │ EC3N 4HH   │ LONDON        │    51.509238 │    -0.072504 │\n",
       "├────────┴──────────────────────────────┴────────────┴───────────────┴──────────────┴──────────────┤\n",
       "│ 3197 rows (20 shown)                                                                   6 columns │\n",
       "└──────────────────────────────────────────────────────────────────────────────────────────────────┘"
      ]
     },
     "execution_count": 12,
     "metadata": {},
     "output_type": "execute_result"
    }
   ],
   "source": [
    "\"\"\"\n",
    "Appearantly, there are 2196 ETFS in the compustat dataset. We want to get rid of them.\n",
    "\"\"\"\n",
    "sql_query = \"\"\"\n",
    "SELECT *\n",
    "FROM compustat\n",
    "WHERE REGEXP_MATCHES(hqcompany, '\\\\bETF\\\\b');\n",
    "\"\"\"\n",
    "con.sql(sql_query)"
   ]
  },
  {
   "cell_type": "code",
   "execution_count": 13,
   "id": "8c1e663dbc7e3ba8",
   "metadata": {
    "ExecuteTime": {
     "end_time": "2024-03-18T09:33:48.035334Z",
     "start_time": "2024-03-18T09:33:48.024155Z"
    },
    "collapsed": false
   },
   "outputs": [
    {
     "data": {
      "text/html": [
       "<div>\n",
       "<style scoped>\n",
       "    .dataframe tbody tr th:only-of-type {\n",
       "        vertical-align: middle;\n",
       "    }\n",
       "\n",
       "    .dataframe tbody tr th {\n",
       "        vertical-align: top;\n",
       "    }\n",
       "\n",
       "    .dataframe thead th {\n",
       "        text-align: right;\n",
       "    }\n",
       "</style>\n",
       "<table border=\"1\" class=\"dataframe\">\n",
       "  <thead>\n",
       "    <tr style=\"text-align: right;\">\n",
       "      <th></th>\n",
       "      <th>gvkey</th>\n",
       "      <th>hqcompany</th>\n",
       "      <th>hqzipcode</th>\n",
       "      <th>city</th>\n",
       "      <th>lat</th>\n",
       "      <th>lon</th>\n",
       "    </tr>\n",
       "  </thead>\n",
       "  <tbody>\n",
       "    <tr>\n",
       "      <th>0</th>\n",
       "      <td>1005</td>\n",
       "      <td>A.B.A. INDUSTRIES INC</td>\n",
       "      <td>33782</td>\n",
       "      <td>PINELLAS PARK</td>\n",
       "      <td>27.865440</td>\n",
       "      <td>-82.703376</td>\n",
       "    </tr>\n",
       "    <tr>\n",
       "      <th>1</th>\n",
       "      <td>1006</td>\n",
       "      <td>ABC INDS INC</td>\n",
       "      <td>46590</td>\n",
       "      <td>WINONA LAKE</td>\n",
       "      <td>41.230724</td>\n",
       "      <td>-85.818859</td>\n",
       "    </tr>\n",
       "    <tr>\n",
       "      <th>2</th>\n",
       "      <td>1007</td>\n",
       "      <td>ABKCO INDUSTRIES INC</td>\n",
       "      <td>10019</td>\n",
       "      <td>NEW YORK</td>\n",
       "      <td>40.763350</td>\n",
       "      <td>-73.982401</td>\n",
       "    </tr>\n",
       "    <tr>\n",
       "      <th>3</th>\n",
       "      <td>1008</td>\n",
       "      <td>ABM COMPUTER SYSTEMS INC</td>\n",
       "      <td>92714</td>\n",
       "      <td>IRVINE</td>\n",
       "      <td>33.636143</td>\n",
       "      <td>-117.718777</td>\n",
       "    </tr>\n",
       "    <tr>\n",
       "      <th>4</th>\n",
       "      <td>1017</td>\n",
       "      <td>AEL INDUSTRIES  -CL A</td>\n",
       "      <td>19446</td>\n",
       "      <td>LANSDALE</td>\n",
       "      <td>40.269510</td>\n",
       "      <td>-75.244686</td>\n",
       "    </tr>\n",
       "    <tr>\n",
       "      <th>...</th>\n",
       "      <td>...</td>\n",
       "      <td>...</td>\n",
       "      <td>...</td>\n",
       "      <td>...</td>\n",
       "      <td>...</td>\n",
       "      <td>...</td>\n",
       "    </tr>\n",
       "    <tr>\n",
       "      <th>39777</th>\n",
       "      <td>325778</td>\n",
       "      <td>MYNARIC AG</td>\n",
       "      <td>82205</td>\n",
       "      <td>GILCHING</td>\n",
       "      <td>48.091320</td>\n",
       "      <td>11.309010</td>\n",
       "    </tr>\n",
       "    <tr>\n",
       "      <th>39778</th>\n",
       "      <td>325867</td>\n",
       "      <td>ORPHAZYME A/S</td>\n",
       "      <td>2200</td>\n",
       "      <td>COPENHAGEN</td>\n",
       "      <td>55.698830</td>\n",
       "      <td>12.556294</td>\n",
       "    </tr>\n",
       "    <tr>\n",
       "      <th>39779</th>\n",
       "      <td>329579</td>\n",
       "      <td>BITFARMS LTD</td>\n",
       "      <td>M5C 1C4</td>\n",
       "      <td>TORONTO</td>\n",
       "      <td>43.649535</td>\n",
       "      <td>-79.377094</td>\n",
       "    </tr>\n",
       "    <tr>\n",
       "      <th>39780</th>\n",
       "      <td>331856</td>\n",
       "      <td>IMMUNIC INC</td>\n",
       "      <td>10036</td>\n",
       "      <td>NEW YORK</td>\n",
       "      <td>40.758111</td>\n",
       "      <td>-73.981505</td>\n",
       "    </tr>\n",
       "    <tr>\n",
       "      <th>39781</th>\n",
       "      <td>349972</td>\n",
       "      <td>INDAPTUS THERAPEUTICS INC</td>\n",
       "      <td>10019</td>\n",
       "      <td>NEW YORK</td>\n",
       "      <td>40.766844</td>\n",
       "      <td>-73.981968</td>\n",
       "    </tr>\n",
       "  </tbody>\n",
       "</table>\n",
       "<p>39782 rows × 6 columns</p>\n",
       "</div>"
      ],
      "text/plain": [
       "        gvkey                  hqcompany hqzipcode           city        lat  \\\n",
       "0        1005      A.B.A. INDUSTRIES INC     33782  PINELLAS PARK  27.865440   \n",
       "1        1006               ABC INDS INC     46590    WINONA LAKE  41.230724   \n",
       "2        1007       ABKCO INDUSTRIES INC     10019       NEW YORK  40.763350   \n",
       "3        1008   ABM COMPUTER SYSTEMS INC     92714         IRVINE  33.636143   \n",
       "4        1017      AEL INDUSTRIES  -CL A     19446       LANSDALE  40.269510   \n",
       "...       ...                        ...       ...            ...        ...   \n",
       "39777  325778                 MYNARIC AG     82205       GILCHING  48.091320   \n",
       "39778  325867              ORPHAZYME A/S      2200     COPENHAGEN  55.698830   \n",
       "39779  329579               BITFARMS LTD   M5C 1C4        TORONTO  43.649535   \n",
       "39780  331856                IMMUNIC INC     10036       NEW YORK  40.758111   \n",
       "39781  349972  INDAPTUS THERAPEUTICS INC     10019       NEW YORK  40.766844   \n",
       "\n",
       "              lon  \n",
       "0      -82.703376  \n",
       "1      -85.818859  \n",
       "2      -73.982401  \n",
       "3     -117.718777  \n",
       "4      -75.244686  \n",
       "...           ...  \n",
       "39777   11.309010  \n",
       "39778   12.556294  \n",
       "39779  -79.377094  \n",
       "39780  -73.981505  \n",
       "39781  -73.981968  \n",
       "\n",
       "[39782 rows x 6 columns]"
      ]
     },
     "execution_count": 13,
     "metadata": {},
     "output_type": "execute_result"
    }
   ],
   "source": [
    "\"\"\"\n",
    "We delete all entries that contain the substring 'ETF'\n",
    "\"\"\"\n",
    "sql_query = \"\"\"\n",
    "DELETE FROM compustat\n",
    "WHERE REGEXP_MATCHES(hqcompany, '\\\\bETF\\\\b');\n",
    "\"\"\"\n",
    "con.execute(sql_query)\n",
    "con.sql('SELECT * FROM compustat;').fetchdf()"
   ]
  },
  {
   "cell_type": "code",
   "execution_count": 14,
   "id": "cb859ce1ff6b4e0",
   "metadata": {
    "ExecuteTime": {
     "end_time": "2024-03-18T09:33:48.124525Z",
     "start_time": "2024-03-18T09:33:48.036062Z"
    },
    "collapsed": false
   },
   "outputs": [
    {
     "data": {
      "text/plain": [
       "<duckdb.duckdb.DuckDBPyConnection at 0x1ad61ddbdf0>"
      ]
     },
     "execution_count": 14,
     "metadata": {},
     "output_type": "execute_result"
    }
   ],
   "source": [
    "\"\"\"\n",
    "In this Cell we want to preprocess the names of the compustat datasets\n",
    "\"\"\"\n",
    "# most common substrings in company names\n",
    "compustat_substring = ['INC', 'CORP', 'LTD', 'GROUP', 'CO', 'CORP']\n",
    "#TODO: Maybe get rid of things like 'ENTERPRISES', 'PROPERTIES', 'INTERNATIONAL', 'TECHNOLOGIES'\n",
    "#TODO: Mauybe ged rid of terms like -old or -llp\n",
    "#TODO replace terms like technologie through special characters like $ or ˆ, since they are often used in company names\n",
    "# other: ['etf', 'financial', 'bancorp', 'holdings', 'energy']\n",
    "\n",
    "# query_str = \"\"\"\n",
    "# UPDATE compustat\n",
    "#     SET conm = REGEXP_REPLACE(conm, '(\\\\bLLC\\\\b)|(\\\\bINC\\\\b)|(\\\\bLTD\\\\b)|(\\\\bGROUP\\\\b)|(\\\\bCO\\\\b)|(\\\\bCORP\\\\b)|(\\\\s+)|(\\\\-)', '', 'g')\n",
    "# \"\"\"\n",
    "#TOOD: We replace longer terms with their abbreviations, to reduce their weight in the name, but keeping them, to improve matching score\n",
    "query_str = \"\"\"\n",
    "UPDATE compustat\n",
    "SET hqcompany = TRIM(\n",
    "    REGEXP_REPLACE(\n",
    "        REGEXP_REPLACE(\n",
    "            REGEXP_REPLACE(\n",
    "                REGEXP_REPLACE(\n",
    "                    REGEXP_REPLACE(\n",
    "                        REGEXP_REPLACE(\n",
    "                            REGEXP_REPLACE(\n",
    "                                REGEXP_REPLACE(\n",
    "                                    REGEXP_REPLACE(\n",
    "                                        REGEXP_REPLACE(\n",
    "                                            REGEXP_REPLACE(\n",
    "                                                REGEXP_REPLACE( \n",
    "                                                    REGEXP_REPLACE(\n",
    "                                                        REGEXP_REPLACE(\n",
    "                                                            REGEXP_REPLACE(\n",
    "                                                                REGEXP_REPLACE(\n",
    "                                                                    REGEXP_REPLACE(\n",
    "                                                                        REGEXP_REPLACE(\n",
    "                                                                            REGEXP_REPLACE(hqcompany, 'INCORPORATED', 'INC'),\n",
    "                                                                        'LIMITED', '`LTD'),\n",
    "                                                                    'CORPORATION', 'CORP'),\n",
    "                                                                'COMPANY', 'CO'),\n",
    "                                                            'HOLDINGS', 'HLDGS'),\n",
    "                                                        'GROUP', 'GRP'),\n",
    "                                                    'INTERNATIONAL', 'INTL'),\n",
    "                                                'TECHNOLOGIES', '@'),\n",
    "                                            'THERAPEUTICS', '^'),\n",
    "                                        'PHARMACEUTICALS', '$'),\n",
    "                                    'INDUSTRIES', 'IND'),\n",
    "                                'TECHNOLOGY', '!'),\n",
    "                            'FINANCIAL', ')'),\n",
    "                        'COMMUNICATIONS', '('),\n",
    "                    'PROPERTIES', '\\'),\n",
    "                '\\\\b-\\\\b', ''),\n",
    "            '\\\\s+', '', 'g'),\n",
    "        'BANCORPINC', '}'),\n",
    "    'HLDGSINC', '{')\n",
    "    )\n",
    "\"\"\"\n",
    "con.execute(query_str)"
   ]
  },
  {
   "cell_type": "code",
   "execution_count": 15,
   "id": "68a0a8b3175041f9",
   "metadata": {
    "ExecuteTime": {
     "end_time": "2024-03-18T09:33:48.126796Z",
     "start_time": "2024-03-18T09:33:48.125239Z"
    },
    "collapsed": false
   },
   "outputs": [],
   "source": [
    "# \"\"\"\n",
    "# Clean up the phone numbers from whitespaces and dashes\n",
    "# \"\"\"\n",
    "# query_str = \"\"\"\n",
    "# UPDATE compustat\n",
    "#     SET phone = REGEXP_REPLACE(phone, '(\\\\s+)|-', '', 'g')\n",
    "# \"\"\"\n",
    "# con.execute(query_str)\n",
    "# con.sql('SELECT * FROM compustat WHERE hqcompany LIKE \\'%!%\\' LIMIT 10').fetchdf()"
   ]
  },
  {
   "cell_type": "markdown",
   "id": "a6c4f5840597b102",
   "metadata": {
    "collapsed": false
   },
   "source": [
    "\n",
    "-- END OF COMPUSTAT PREPROCESSING --\n",
    "\n",
    "\n",
    "-- START OF NETS PREPROCESSING --\n"
   ]
  },
  {
   "cell_type": "code",
   "execution_count": 16,
   "id": "7e20a0288c16d36d",
   "metadata": {
    "ExecuteTime": {
     "end_time": "2024-03-18T09:33:57.321219Z",
     "start_time": "2024-03-18T09:33:48.127414Z"
    },
    "collapsed": false
   },
   "outputs": [
    {
     "data": {
      "application/vnd.jupyter.widget-view+json": {
       "model_id": "1972e13d7cce49d8bfca372e2f037dfc",
       "version_major": 2,
       "version_minor": 0
      },
      "text/plain": [
       "FloatProgress(value=0.0, layout=Layout(width='auto'), style=ProgressStyle(bar_color='black'))"
      ]
     },
     "metadata": {},
     "output_type": "display_data"
    },
    {
     "data": {
      "text/plain": [
       "<duckdb.duckdb.DuckDBPyConnection at 0x1ad61ddbdf0>"
      ]
     },
     "execution_count": 16,
     "metadata": {},
     "output_type": "execute_result"
    }
   ],
   "source": [
    "con.execute('DROP TABLE IF EXISTS nets_all')\n",
    "con.execute('CREATE TABLE nets_all AS SELECT hqduns, hqcompany, latitude, longitude, FROM nets_all_data')\n",
    "#con.sql('SELECT * FROM nets;').fetchdf().info()"
   ]
  },
  {
   "cell_type": "code",
   "execution_count": 17,
   "id": "4ff13a023cf30c78",
   "metadata": {
    "ExecuteTime": {
     "end_time": "2024-03-18T09:34:22.698909Z",
     "start_time": "2024-03-18T09:33:57.321954Z"
    },
    "collapsed": false
   },
   "outputs": [
    {
     "data": {
      "application/vnd.jupyter.widget-view+json": {
       "model_id": "dfad863747184677b9b19b0493899c8d",
       "version_major": 2,
       "version_minor": 0
      },
      "text/plain": [
       "FloatProgress(value=0.0, layout=Layout(width='auto'), style=ProgressStyle(bar_color='black'))"
      ]
     },
     "metadata": {},
     "output_type": "display_data"
    },
    {
     "data": {
      "text/plain": [
       "<duckdb.duckdb.DuckDBPyConnection at 0x1ad61ddbdf0>"
      ]
     },
     "execution_count": 17,
     "metadata": {},
     "output_type": "execute_result"
    }
   ],
   "source": [
    "\"\"\"\n",
    "In this Cell we want to preprocess the names of the NETS datasets\n",
    "\n",
    "NETS_substring = ['LLC', 'INC', 'OF', 'GROUP', 'SERVICES', 'CO', 'CORP']\n",
    "other: ['a', 'construction', 'enterprises']\n",
    "\"\"\"\n",
    "#TODO: get rid of things like 'ENTERPRISES', 'PROPERTIES', 'INTERNATIONAL', 'TECHNOLOGIES', 'INCORPORATED', 'CORPORATION', 'COMPANY since acronyms like inc. arent that common in nets.\n",
    "#TODO: Maybe we need more preprocessing for NETS since there are a lot of entries that are not in compustat\n",
    "\n",
    "# query_str = \"\"\"\n",
    "# UPDATE nets\n",
    "#     SET hqcompany = REGEXP_REPLACE(hqcompany, '(\\\\bLLC\\\\b)|(\\\\bINC\\\\b)|(\\\\bLTD\\\\b)|(\\\\bGROUP\\\\b)|(\\\\bCO\\\\b)|(\\\\bCORP\\\\b)|(\\\\s+)|(\\\\-)', '', 'g')\n",
    "# \"\"\"\n",
    "query_str = \"\"\"\n",
    "UPDATE nets_all\n",
    "SET hqcompany = TRIM(\n",
    "    REGEXP_REPLACE(\n",
    "        REGEXP_REPLACE(\n",
    "            REGEXP_REPLACE(\n",
    "                REGEXP_REPLACE(\n",
    "                    REGEXP_REPLACE(\n",
    "                        REGEXP_REPLACE(\n",
    "                            REGEXP_REPLACE(\n",
    "                                REGEXP_REPLACE(\n",
    "                                    REGEXP_REPLACE(\n",
    "                                        REGEXP_REPLACE(\n",
    "                                            REGEXP_REPLACE(\n",
    "                                                REGEXP_REPLACE( \n",
    "                                                    REGEXP_REPLACE(\n",
    "                                                        REGEXP_REPLACE(\n",
    "                                                            REGEXP_REPLACE(\n",
    "                                                                REGEXP_REPLACE(\n",
    "                                                                    REGEXP_REPLACE(\n",
    "                                                                        REGEXP_REPLACE(\n",
    "                                                                            REGEXP_REPLACE(hqcompany, 'INCORPORATED', 'INC'),\n",
    "                                                                        'LIMITED', '`LTD'),\n",
    "                                                                    'CORPORATION', 'CORP'),\n",
    "                                                                'COMPANY', 'CO'),\n",
    "                                                            'HOLDINGS', 'HLDGS'),\n",
    "                                                        'GROUP', 'GRP'),\n",
    "                                                    'INTERNATIONAL', 'INTL'),\n",
    "                                                'TECHNOLOGIES', '@'),\n",
    "                                            'THERAPEUTICS', '^'),\n",
    "                                        'PHARMACEUTICALS', '$'),\n",
    "                                    'INDUSTRIES', 'IND'),\n",
    "                                'TECHNOLOGY', '!'),\n",
    "                            'FINANCIAL', ')'),\n",
    "                        'COMMUNICATIONS', '('),\n",
    "                    'PROPERTIES', '\\'),\n",
    "                '\\\\b-\\\\b', ''),\n",
    "            '\\\\s+', '', 'g'),\n",
    "        'BANCORPINC', '}'),\n",
    "    'HLDGSINC', '{')\n",
    "    )\n",
    "\"\"\"\n",
    "con.execute(query_str)"
   ]
  },
  {
   "cell_type": "code",
   "execution_count": 18,
   "id": "bc48bf224ddc7eeb",
   "metadata": {
    "ExecuteTime": {
     "end_time": "2024-03-18T09:34:22.701366Z",
     "start_time": "2024-03-18T09:34:22.699616Z"
    },
    "collapsed": false
   },
   "outputs": [],
   "source": [
    "# \"\"\"\n",
    "# In this Cell we want to extract the area code and the phone number from the NETS data\n",
    "# and concatenate them to one column which then will be added to the NETS data.\n",
    "# Afterwards we will compare the phone numbers of the two datasets and see if they match.\n",
    "# \"\"\"\n",
    "# con.execute('ALTER TABLE nets ADD COLUMN hqphone_concatenated VARCHAR(255)')\n",
    "# query_str = \"\"\"\n",
    "# UPDATE nets\n",
    "# SET hqphone_concatenated = REGEXP_REPLACE(\n",
    "#             REGEXP_REPLACE((CONCAT(hqarea, hqphone)), '(\\\\s+)|-', '', 'g')\n",
    "#           , '^$', '-1');\n",
    "# \"\"\"\n",
    "# con.execute(query_str)"
   ]
  },
  {
   "cell_type": "code",
   "execution_count": 19,
   "id": "7d577c43c9d7120e",
   "metadata": {
    "ExecuteTime": {
     "end_time": "2024-03-18T09:34:24.879320Z",
     "start_time": "2024-03-18T09:34:22.702109Z"
    },
    "collapsed": false
   },
   "outputs": [
    {
     "data": {
      "application/vnd.jupyter.widget-view+json": {
       "model_id": "cf7dec6093a840e8b018a6eec6960108",
       "version_major": 2,
       "version_minor": 0
      },
      "text/plain": [
       "FloatProgress(value=0.0, layout=Layout(width='auto'), style=ProgressStyle(bar_color='black'))"
      ]
     },
     "metadata": {},
     "output_type": "display_data"
    },
    {
     "data": {
      "text/plain": [
       "<duckdb.duckdb.DuckDBPyConnection at 0x1ad61ddbdf0>"
      ]
     },
     "execution_count": 19,
     "metadata": {},
     "output_type": "execute_result"
    }
   ],
   "source": [
    "\"\"\"\n",
    "In this Cell we will fix the longitudes of the NETS data\n",
    "\"\"\"\n",
    "#TODO: The coordinates are not correct in our NETS sample.  Google maps gives us -119.xxxx\n",
    "#TODO: Lat-long coordinates for cities in United States are in range: Latitude from 19.50139 to 64.85694 and longitude from -161.75583 to -68.01197. (Source: https://latitudelongitude.org/us/)\n",
    "# TODO maybe we need to adjust the coordinates according to levelcode\n",
    "sql_query = \"\"\"\n",
    "    UPDATE nets_all\n",
    "    SET longitude = -longitude;\n",
    "\"\"\"\n",
    "con.execute(sql_query)"
   ]
  },
  {
   "cell_type": "code",
   "execution_count": 21,
   "id": "3b2d96ba",
   "metadata": {},
   "outputs": [
    {
     "data": {
      "application/vnd.jupyter.widget-view+json": {
       "model_id": "09ba4650c78b4e5586614f663c860263",
       "version_major": 2,
       "version_minor": 0
      },
      "text/plain": [
       "FloatProgress(value=0.0, layout=Layout(width='auto'), style=ProgressStyle(bar_color='black'))"
      ]
     },
     "metadata": {},
     "output_type": "display_data"
    },
    {
     "data": {
      "text/plain": [
       "<duckdb.duckdb.DuckDBPyConnection at 0x1ad61ddbdf0>"
      ]
     },
     "execution_count": 21,
     "metadata": {},
     "output_type": "execute_result"
    }
   ],
   "source": [
    "\"\"\"\n",
    "In this cell we will join the zip codes and cities to the NETS data\n",
    "\"\"\"\n",
    "con.execute('ALTER TABLE nets_all ADD COLUMN hqzipcode VARCHAR(255)')\n",
    "con.execute('ALTER TABLE nets_all ADD COLUMN hqcity VARCHAR(255)')\n",
    "query_str = \"\"\"\n",
    "UPDATE nets_all\n",
    "SET hqzipcode = nets_city_state.hqzipcode,\n",
    "    hqcity = nets_city_state.hqcity\n",
    "FROM nets_city_state\n",
    "WHERE nets_all.hqduns = nets_city_state.hqduns;\n",
    "\"\"\"\n",
    "con.execute(query_str)"
   ]
  },
  {
   "cell_type": "code",
   "execution_count": 22,
   "id": "0dc4e238",
   "metadata": {},
   "outputs": [
    {
     "data": {
      "text/html": [
       "<div>\n",
       "<style scoped>\n",
       "    .dataframe tbody tr th:only-of-type {\n",
       "        vertical-align: middle;\n",
       "    }\n",
       "\n",
       "    .dataframe tbody tr th {\n",
       "        vertical-align: top;\n",
       "    }\n",
       "\n",
       "    .dataframe thead th {\n",
       "        text-align: right;\n",
       "    }\n",
       "</style>\n",
       "<table border=\"1\" class=\"dataframe\">\n",
       "  <thead>\n",
       "    <tr style=\"text-align: right;\">\n",
       "      <th></th>\n",
       "      <th>hqduns</th>\n",
       "      <th>hqcompany</th>\n",
       "      <th>latitude</th>\n",
       "      <th>longitude</th>\n",
       "      <th>hqzipcode</th>\n",
       "      <th>hqcity</th>\n",
       "    </tr>\n",
       "  </thead>\n",
       "  <tbody>\n",
       "    <tr>\n",
       "      <th>709</th>\n",
       "      <td>1006738</td>\n",
       "      <td>AEDYNINC</td>\n",
       "      <td>45.208199</td>\n",
       "      <td>-123.212898</td>\n",
       "      <td>97128</td>\n",
       "      <td>MCMINNVILLE</td>\n",
       "    </tr>\n",
       "    <tr>\n",
       "      <th>695</th>\n",
       "      <td>1006472</td>\n",
       "      <td>PENINSULAHEALTHALLIANCEINC</td>\n",
       "      <td>38.698002</td>\n",
       "      <td>-75.396500</td>\n",
       "      <td>19947</td>\n",
       "      <td>GEORGETOWN</td>\n",
       "    </tr>\n",
       "    <tr>\n",
       "      <th>416</th>\n",
       "      <td>1003586</td>\n",
       "      <td>CROOKEDCREEKRVPARK</td>\n",
       "      <td>60.320499</td>\n",
       "      <td>-151.284103</td>\n",
       "      <td>99610</td>\n",
       "      <td>KASILOF</td>\n",
       "    </tr>\n",
       "    <tr>\n",
       "      <th>125</th>\n",
       "      <td>1001051</td>\n",
       "      <td>SPIRITUALSCENTS</td>\n",
       "      <td>40.896999</td>\n",
       "      <td>-72.883797</td>\n",
       "      <td>11961</td>\n",
       "      <td>RIDGE</td>\n",
       "    </tr>\n",
       "    <tr>\n",
       "      <th>566</th>\n",
       "      <td>1005032</td>\n",
       "      <td>SOLUTEKCORP</td>\n",
       "      <td>42.324699</td>\n",
       "      <td>-71.070297</td>\n",
       "      <td>2119</td>\n",
       "      <td>BOSTON</td>\n",
       "    </tr>\n",
       "    <tr>\n",
       "      <th>652</th>\n",
       "      <td>1005891</td>\n",
       "      <td>PIONEERMANUFACTURINGCORP</td>\n",
       "      <td>42.370300</td>\n",
       "      <td>-71.154602</td>\n",
       "      <td>2472</td>\n",
       "      <td>WATERTOWN</td>\n",
       "    </tr>\n",
       "    <tr>\n",
       "      <th>664</th>\n",
       "      <td>1006006</td>\n",
       "      <td>AMERICANKOSHERPRODUCTSCO</td>\n",
       "      <td>42.283699</td>\n",
       "      <td>-71.091202</td>\n",
       "      <td>2126</td>\n",
       "      <td>MATTAPAN</td>\n",
       "    </tr>\n",
       "    <tr>\n",
       "      <th>26</th>\n",
       "      <td>1000231</td>\n",
       "      <td>BELLAIREBAPTISTCHURCH</td>\n",
       "      <td>29.932501</td>\n",
       "      <td>-93.932098</td>\n",
       "      <td>77642</td>\n",
       "      <td>PORT ARTHUR</td>\n",
       "    </tr>\n",
       "    <tr>\n",
       "      <th>990</th>\n",
       "      <td>1009455</td>\n",
       "      <td>NUSTYLECOINC</td>\n",
       "      <td>42.080601</td>\n",
       "      <td>-71.422997</td>\n",
       "      <td>2038</td>\n",
       "      <td>FRANKLIN</td>\n",
       "    </tr>\n",
       "    <tr>\n",
       "      <th>65</th>\n",
       "      <td>1000558</td>\n",
       "      <td>ONTIMEFREIGHT</td>\n",
       "      <td>41.294102</td>\n",
       "      <td>-72.938797</td>\n",
       "      <td>6519</td>\n",
       "      <td>NEW HAVEN</td>\n",
       "    </tr>\n",
       "  </tbody>\n",
       "</table>\n",
       "</div>"
      ],
      "text/plain": [
       "      hqduns                   hqcompany   latitude   longitude hqzipcode  \\\n",
       "709  1006738                    AEDYNINC  45.208199 -123.212898     97128   \n",
       "695  1006472  PENINSULAHEALTHALLIANCEINC  38.698002  -75.396500     19947   \n",
       "416  1003586          CROOKEDCREEKRVPARK  60.320499 -151.284103     99610   \n",
       "125  1001051             SPIRITUALSCENTS  40.896999  -72.883797     11961   \n",
       "566  1005032                 SOLUTEKCORP  42.324699  -71.070297      2119   \n",
       "652  1005891    PIONEERMANUFACTURINGCORP  42.370300  -71.154602      2472   \n",
       "664  1006006    AMERICANKOSHERPRODUCTSCO  42.283699  -71.091202      2126   \n",
       "26   1000231       BELLAIREBAPTISTCHURCH  29.932501  -93.932098     77642   \n",
       "990  1009455                NUSTYLECOINC  42.080601  -71.422997      2038   \n",
       "65   1000558               ONTIMEFREIGHT  41.294102  -72.938797      6519   \n",
       "\n",
       "                             hqcity  \n",
       "709  MCMINNVILLE                     \n",
       "695  GEORGETOWN                      \n",
       "416  KASILOF                         \n",
       "125  RIDGE                           \n",
       "566  BOSTON                          \n",
       "652  WATERTOWN                       \n",
       "664  MATTAPAN                        \n",
       "26   PORT ARTHUR                     \n",
       "990  FRANKLIN                        \n",
       "65   NEW HAVEN                       "
      ]
     },
     "execution_count": 22,
     "metadata": {},
     "output_type": "execute_result"
    }
   ],
   "source": [
    "con.execute('SELECT * FROM nets_all LIMIT 1000').fetchdf().sample(10)"
   ]
  },
  {
   "cell_type": "markdown",
   "id": "792cd21069edb1cd",
   "metadata": {
    "collapsed": false
   },
   "source": [
    "-- NETS PUB PREPROCESSING --"
   ]
  },
  {
   "cell_type": "code",
   "execution_count": 23,
   "id": "94816e6aa2d457bf",
   "metadata": {
    "ExecuteTime": {
     "end_time": "2024-03-18T09:34:24.912382Z",
     "start_time": "2024-03-18T09:34:24.880057Z"
    },
    "collapsed": false
   },
   "outputs": [
    {
     "data": {
      "text/plain": [
       "<duckdb.duckdb.DuckDBPyConnection at 0x1ad61ddbdf0>"
      ]
     },
     "execution_count": 23,
     "metadata": {},
     "output_type": "execute_result"
    }
   ],
   "source": [
    "con.execute('DROP TABLE IF EXISTS nets_pub')\n",
    "con.execute('CREATE TABLE nets_pub AS SELECT hqduns, hqcompany, latitude, longitude, FROM nets_pub_data')"
   ]
  },
  {
   "cell_type": "code",
   "execution_count": 24,
   "id": "cb5a61fcecf8826a",
   "metadata": {
    "ExecuteTime": {
     "end_time": "2024-03-18T09:34:24.982097Z",
     "start_time": "2024-03-18T09:34:24.913053Z"
    },
    "collapsed": false
   },
   "outputs": [
    {
     "data": {
      "text/plain": [
       "<duckdb.duckdb.DuckDBPyConnection at 0x1ad61ddbdf0>"
      ]
     },
     "execution_count": 24,
     "metadata": {},
     "output_type": "execute_result"
    }
   ],
   "source": [
    "\"\"\"\n",
    "In this Cell we want to preprocess the names of the NETS datasets\n",
    "\"\"\"\n",
    "query_str = \"\"\"\n",
    "UPDATE nets_pub\n",
    "SET hqcompany = TRIM(\n",
    "    REGEXP_REPLACE(\n",
    "        REGEXP_REPLACE(\n",
    "            REGEXP_REPLACE(\n",
    "                REGEXP_REPLACE(\n",
    "                    REGEXP_REPLACE(\n",
    "                        REGEXP_REPLACE(\n",
    "                            REGEXP_REPLACE(\n",
    "                                REGEXP_REPLACE(\n",
    "                                    REGEXP_REPLACE(\n",
    "                                        REGEXP_REPLACE(\n",
    "                                            REGEXP_REPLACE(\n",
    "                                                REGEXP_REPLACE( \n",
    "                                                    REGEXP_REPLACE(\n",
    "                                                        REGEXP_REPLACE(\n",
    "                                                            REGEXP_REPLACE(\n",
    "                                                                REGEXP_REPLACE(\n",
    "                                                                    REGEXP_REPLACE(\n",
    "                                                                        REGEXP_REPLACE(\n",
    "                                                                            REGEXP_REPLACE(hqcompany, 'INCORPORATED', 'INC'),\n",
    "                                                                        'LIMITED', '`LTD'),\n",
    "                                                                    'CORPORATION', 'CORP'),\n",
    "                                                                'COMPANY', 'CO'),\n",
    "                                                            'HOLDINGS', 'HLDGS'),\n",
    "                                                        'GROUP', 'GRP'),\n",
    "                                                    'INTERNATIONAL', 'INTL'),\n",
    "                                                'TECHNOLOGIES', '@'),\n",
    "                                            'THERAPEUTICS', '^'),\n",
    "                                        'PHARMACEUTICALS', '$'),\n",
    "                                    'INDUSTRIES', 'IND'),\n",
    "                                'TECHNOLOGY', '!'),\n",
    "                            'FINANCIAL', ')'),\n",
    "                        'COMMUNICATIONS', '('),\n",
    "                    'PROPERTIES', '\\'),\n",
    "                '\\\\b-\\\\b', ''),\n",
    "            '\\\\s+', '', 'g'),\n",
    "        'BANCORPINC', '}'),\n",
    "    'HLDGSINC', '{')\n",
    "    )\n",
    "\"\"\"\n",
    "con.execute(query_str)"
   ]
  },
  {
   "cell_type": "code",
   "execution_count": 25,
   "id": "f29cdb80e9917a01",
   "metadata": {
    "ExecuteTime": {
     "end_time": "2024-03-18T09:34:24.986218Z",
     "start_time": "2024-03-18T09:34:24.982794Z"
    },
    "collapsed": false
   },
   "outputs": [
    {
     "data": {
      "text/plain": [
       "<duckdb.duckdb.DuckDBPyConnection at 0x1ad61ddbdf0>"
      ]
     },
     "execution_count": 25,
     "metadata": {},
     "output_type": "execute_result"
    }
   ],
   "source": [
    "\"\"\"\n",
    "In this Cell we will fix the longitudes of the NETS data\n",
    "\"\"\"\n",
    "#TODO: The coordinates are not correct in our NETS sample.  Google maps gives us -119.xxxx\n",
    "#TODO: Lat-long coordinates for cities in United States are in range: Latitude from 19.50139 to 64.85694 and longitude from -161.75583 to -68.01197. (Source: https://latitudelongitude.org/us/)\n",
    "# TODO maybe we need to adjust the coordinates according to levelcode\n",
    "sql_query = \"\"\"\n",
    "    UPDATE nets_pub\n",
    "    SET longitude = -longitude;\n",
    "\"\"\"\n",
    "con.execute(sql_query)"
   ]
  },
  {
   "cell_type": "code",
   "execution_count": 26,
   "id": "10f040ea2cbe5e9d",
   "metadata": {
    "ExecuteTime": {
     "end_time": "2024-03-18T09:34:24.988626Z",
     "start_time": "2024-03-18T09:34:24.987111Z"
    },
    "collapsed": false
   },
   "outputs": [],
   "source": [
    "# con.execute('SELECT * FROM nets').fetch_df().to_excel('/Users/marisbuttmann/Desktop/HIWI_code/geocode_project/preprocessed_data/nets_preprocessed.xlsx', index=False)\n",
    "# con.execute('SELECT * FROM compustat').fetchdf().to_excel('/Users/marisbuttmann/Desktop/HIWI_code/geocode_project/preprocessed_data/compustat_preprocessed.xlsx', index=False)"
   ]
  },
  {
   "cell_type": "code",
   "execution_count": 27,
   "id": "e70139f08aa97677",
   "metadata": {
    "ExecuteTime": {
     "end_time": "2024-03-18T09:34:25.300569Z",
     "start_time": "2024-03-18T09:34:24.989360Z"
    },
    "collapsed": false
   },
   "outputs": [],
   "source": [
    "con.commit()\n",
    "con.close()"
   ]
  },
  {
   "cell_type": "code",
   "execution_count": null,
   "id": "598ef9ff",
   "metadata": {},
   "outputs": [],
   "source": []
  }
 ],
 "metadata": {
  "kernelspec": {
   "display_name": "Python 3",
   "language": "python",
   "name": "python3"
  },
  "language_info": {
   "codemirror_mode": {
    "name": "ipython",
    "version": 3
   },
   "file_extension": ".py",
   "mimetype": "text/x-python",
   "name": "python",
   "nbconvert_exporter": "python",
   "pygments_lexer": "ipython3",
   "version": "3.9.12"
  }
 },
 "nbformat": 4,
 "nbformat_minor": 5
}
