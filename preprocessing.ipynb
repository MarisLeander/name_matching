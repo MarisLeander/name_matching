{
 "cells": [
  {
   "cell_type": "code",
   "execution_count": 1,
   "id": "initial_id",
   "metadata": {
    "ExecuteTime": {
     "end_time": "2024-03-18T09:33:21.588623Z",
     "start_time": "2024-03-18T09:33:19.778016Z"
    },
    "collapsed": true
   },
   "outputs": [],
   "source": [
    "import pandas as pd\n",
    "import duckdb"
   ]
  },
  {
   "cell_type": "code",
   "execution_count": 2,
   "id": "a57c31374d4b05cd",
   "metadata": {
    "ExecuteTime": {
     "end_time": "2024-03-18T09:33:21.598232Z",
     "start_time": "2024-03-18T09:33:21.592420Z"
    },
    "collapsed": false
   },
   "outputs": [],
   "source": [
    "# Connect to Database\n",
    "con = duckdb.connect(database='database.db', read_only=False)"
   ]
  },
  {
   "cell_type": "code",
   "execution_count": 3,
   "id": "a02d05ca0c5b9e6a",
   "metadata": {
    "ExecuteTime": {
     "end_time": "2024-03-18T09:33:47.325704Z",
     "start_time": "2024-03-18T09:33:21.599179Z"
    },
    "collapsed": false
   },
   "outputs": [],
   "source": [
    "# Mac Path\n",
    "# nets_pub_data = pd.read_stata('/Users/marisbuttmann/Desktop/HIWI_code/geocode_project/all_data/hq_companies_public_maris.dta')\n",
    "# nets_all_data = pd.read_stata('/Users/marisbuttmann/Desktop/HIWI_code/geocode_project/all_data/hq_all_maris.dta')\n",
    "# compustat_all = pd.read_stata('/Users/marisbuttmann/Desktop/HIWI_code/geocode_project/all_data/compustat.dta')\n",
    "# Workstation Path\n",
    "nets_all_data = pd.read_stata('S:/Users/Hiwi/Maris/name_matching/Data/hq_all_maris.dta')\n",
    "nets_pub_data = pd.read_stata('S:/Users/Hiwi/Maris/name_matching/Data/hq_companies_public_maris.dta')\n",
    "nets_city_state = pd.read_stata('S:/Users/Hiwi/Maris/name_matching/Data/nets_city_state.dta')\n",
    "compustat_all = pd.read_stata('S:/Users/Hiwi/Maris/name_matching/Data/compustat.dta')\n",
    "\n",
    "# ['HQDuns', 'HQCompany', 'HQAdress','HQZipCode', 'HQCity', 'HQState', 'HQArea', 'HQPhone', 'Latitude', 'Longitude', 'LevelCode']"
   ]
  },
  {
   "cell_type": "code",
   "execution_count": 4,
   "id": "bfbc74d79a3e035e",
   "metadata": {
    "ExecuteTime": {
     "end_time": "2024-03-18T09:33:47.337505Z",
     "start_time": "2024-03-18T09:33:47.328159Z"
    },
    "collapsed": false
   },
   "outputs": [
    {
     "data": {
      "text/html": [
       "<div>\n",
       "<style scoped>\n",
       "    .dataframe tbody tr th:only-of-type {\n",
       "        vertical-align: middle;\n",
       "    }\n",
       "\n",
       "    .dataframe tbody tr th {\n",
       "        vertical-align: top;\n",
       "    }\n",
       "\n",
       "    .dataframe thead th {\n",
       "        text-align: right;\n",
       "    }\n",
       "</style>\n",
       "<table border=\"1\" class=\"dataframe\">\n",
       "  <thead>\n",
       "    <tr style=\"text-align: right;\">\n",
       "      <th></th>\n",
       "      <th>hqduns</th>\n",
       "      <th>hqcity</th>\n",
       "      <th>hqzipcode</th>\n",
       "    </tr>\n",
       "  </thead>\n",
       "  <tbody>\n",
       "    <tr>\n",
       "      <th>67937642</th>\n",
       "      <td>616966347</td>\n",
       "      <td>OCALA</td>\n",
       "      <td>34474</td>\n",
       "    </tr>\n",
       "  </tbody>\n",
       "</table>\n",
       "</div>"
      ],
      "text/plain": [
       "             hqduns                          hqcity  hqzipcode\n",
       "67937642  616966347  OCALA                               34474"
      ]
     },
     "execution_count": 4,
     "metadata": {},
     "output_type": "execute_result"
    }
   ],
   "source": [
    "nets_city_state.sample(1)"
   ]
  },
  {
   "cell_type": "code",
   "execution_count": 5,
   "id": "4f431aa10bbdf960",
   "metadata": {
    "ExecuteTime": {
     "end_time": "2024-03-18T09:33:47.567948Z",
     "start_time": "2024-03-18T09:33:47.555096Z"
    },
    "collapsed": false
   },
   "outputs": [
    {
     "name": "stdout",
     "output_type": "stream",
     "text": [
      "<class 'pandas.core.frame.DataFrame'>\n",
      "Int64Index: 42979 entries, 0 to 42978\n",
      "Data columns (total 20 columns):\n",
      " #   Column     Non-Null Count  Dtype  \n",
      "---  ------     --------------  -----  \n",
      " 0   gvkey      42979 non-null  int32  \n",
      " 1   datadate   42979 non-null  object \n",
      " 2   fyear      42808 non-null  float64\n",
      " 3   indfmt     42979 non-null  object \n",
      " 4   consol     42979 non-null  object \n",
      " 5   popsrc     42979 non-null  object \n",
      " 6   datafmt    42979 non-null  object \n",
      " 7   tic        42979 non-null  object \n",
      " 8   hqcompany  42979 non-null  object \n",
      " 9   curcd      42979 non-null  object \n",
      " 10  costat     42979 non-null  object \n",
      " 11  hqaddress  42979 non-null  object \n",
      " 12  add2       42979 non-null  object \n",
      " 13  add3       42979 non-null  object \n",
      " 14  add4       42979 non-null  object \n",
      " 15  hqzipcode  42979 non-null  object \n",
      " 16  city       42979 non-null  object \n",
      " 17  conml      42979 non-null  object \n",
      " 18  state      42979 non-null  object \n",
      " 19  hqzip4     33973 non-null  float64\n",
      "dtypes: float64(2), int32(1), object(17)\n",
      "memory usage: 6.7+ MB\n"
     ]
    }
   ],
   "source": [
    "compustat_all.info()"
   ]
  },
  {
   "cell_type": "code",
   "execution_count": 6,
   "id": "17bccde7b6acd056",
   "metadata": {
    "ExecuteTime": {
     "end_time": "2024-03-18T09:33:47.587396Z",
     "start_time": "2024-03-18T09:33:47.568681Z"
    },
    "collapsed": false
   },
   "outputs": [
    {
     "name": "stdout",
     "output_type": "stream",
     "text": [
      "<class 'pandas.core.frame.DataFrame'>\n",
      "Int64Index: 42980 entries, 0 to 42979\n",
      "Data columns (total 5 columns):\n",
      " #   Column                Non-Null Count  Dtype  \n",
      "---  ------                --------------  -----  \n",
      " 0   gvkey                 42980 non-null  int32  \n",
      " 1   hq_address_compustat  42980 non-null  object \n",
      " 2   count                 42980 non-null  float32\n",
      " 3   lat                   41999 non-null  float64\n",
      " 4   lon                   41999 non-null  float64\n",
      "dtypes: float32(1), float64(2), int32(1), object(1)\n",
      "memory usage: 1.6+ MB\n",
      "None\n"
     ]
    },
    {
     "data": {
      "text/html": [
       "<div>\n",
       "<style scoped>\n",
       "    .dataframe tbody tr th:only-of-type {\n",
       "        vertical-align: middle;\n",
       "    }\n",
       "\n",
       "    .dataframe tbody tr th {\n",
       "        vertical-align: top;\n",
       "    }\n",
       "\n",
       "    .dataframe thead th {\n",
       "        text-align: right;\n",
       "    }\n",
       "</style>\n",
       "<table border=\"1\" class=\"dataframe\">\n",
       "  <thead>\n",
       "    <tr style=\"text-align: right;\">\n",
       "      <th></th>\n",
       "      <th>gvkey</th>\n",
       "      <th>hq_address_compustat</th>\n",
       "      <th>count</th>\n",
       "      <th>lat</th>\n",
       "      <th>lon</th>\n",
       "    </tr>\n",
       "  </thead>\n",
       "  <tbody>\n",
       "    <tr>\n",
       "      <th>0</th>\n",
       "      <td>1000</td>\n",
       "      <td></td>\n",
       "      <td>1.0</td>\n",
       "      <td>NaN</td>\n",
       "      <td>NaN</td>\n",
       "    </tr>\n",
       "    <tr>\n",
       "      <th>1</th>\n",
       "      <td>1001</td>\n",
       "      <td>1924 South Utica Avenue Tulsa OK</td>\n",
       "      <td>2.0</td>\n",
       "      <td>-95.968066</td>\n",
       "      <td>36.134328</td>\n",
       "    </tr>\n",
       "    <tr>\n",
       "      <th>2</th>\n",
       "      <td>1002</td>\n",
       "      <td>124 Industry Lane Hunt Valley MD</td>\n",
       "      <td>3.0</td>\n",
       "      <td>-76.641662</td>\n",
       "      <td>39.467797</td>\n",
       "    </tr>\n",
       "    <tr>\n",
       "      <th>3</th>\n",
       "      <td>1003</td>\n",
       "      <td>7700 Hall Street St. Louis MO</td>\n",
       "      <td>4.0</td>\n",
       "      <td>-90.225770</td>\n",
       "      <td>38.707338</td>\n",
       "    </tr>\n",
       "    <tr>\n",
       "      <th>4</th>\n",
       "      <td>1004</td>\n",
       "      <td>1100 North Wood Dale Road Wood Dale IL</td>\n",
       "      <td>5.0</td>\n",
       "      <td>-87.981054</td>\n",
       "      <td>41.986749</td>\n",
       "    </tr>\n",
       "    <tr>\n",
       "      <th>...</th>\n",
       "      <td>...</td>\n",
       "      <td>...</td>\n",
       "      <td>...</td>\n",
       "      <td>...</td>\n",
       "      <td>...</td>\n",
       "    </tr>\n",
       "    <tr>\n",
       "      <th>42975</th>\n",
       "      <td>351491</td>\n",
       "      <td>Via Puglia n. 35 Turin</td>\n",
       "      <td>42976.0</td>\n",
       "      <td>7.723420</td>\n",
       "      <td>45.106830</td>\n",
       "    </tr>\n",
       "    <tr>\n",
       "      <th>42976</th>\n",
       "      <td>351590</td>\n",
       "      <td>Fasanenweg 10 Leinfelden-Echterdingen</td>\n",
       "      <td>42977.0</td>\n",
       "      <td>9.145069</td>\n",
       "      <td>48.707416</td>\n",
       "    </tr>\n",
       "    <tr>\n",
       "      <th>42977</th>\n",
       "      <td>352262</td>\n",
       "      <td>Hamilton</td>\n",
       "      <td>42978.0</td>\n",
       "      <td>175.281099</td>\n",
       "      <td>-37.789474</td>\n",
       "    </tr>\n",
       "    <tr>\n",
       "      <th>42978</th>\n",
       "      <td>353444</td>\n",
       "      <td>The Heights Building 5 Weybridge</td>\n",
       "      <td>42979.0</td>\n",
       "      <td>-0.462543</td>\n",
       "      <td>51.352960</td>\n",
       "    </tr>\n",
       "    <tr>\n",
       "      <th>42979</th>\n",
       "      <td>353945</td>\n",
       "      <td>Bruggerstrasse 71a Baden</td>\n",
       "      <td>42980.0</td>\n",
       "      <td>8.301259</td>\n",
       "      <td>47.479280</td>\n",
       "    </tr>\n",
       "  </tbody>\n",
       "</table>\n",
       "<p>42980 rows × 5 columns</p>\n",
       "</div>"
      ],
      "text/plain": [
       "        gvkey                     hq_address_compustat    count         lat  \\\n",
       "0        1000                                               1.0         NaN   \n",
       "1        1001         1924 South Utica Avenue Tulsa OK      2.0  -95.968066   \n",
       "2        1002         124 Industry Lane Hunt Valley MD      3.0  -76.641662   \n",
       "3        1003            7700 Hall Street St. Louis MO      4.0  -90.225770   \n",
       "4        1004   1100 North Wood Dale Road Wood Dale IL      5.0  -87.981054   \n",
       "...       ...                                      ...      ...         ...   \n",
       "42975  351491                  Via Puglia n. 35 Turin   42976.0    7.723420   \n",
       "42976  351590   Fasanenweg 10 Leinfelden-Echterdingen   42977.0    9.145069   \n",
       "42977  352262                                Hamilton   42978.0  175.281099   \n",
       "42978  353444        The Heights Building 5 Weybridge   42979.0   -0.462543   \n",
       "42979  353945                Bruggerstrasse 71a Baden   42980.0    8.301259   \n",
       "\n",
       "             lon  \n",
       "0            NaN  \n",
       "1      36.134328  \n",
       "2      39.467797  \n",
       "3      38.707338  \n",
       "4      41.986749  \n",
       "...          ...  \n",
       "42975  45.106830  \n",
       "42976  48.707416  \n",
       "42977 -37.789474  \n",
       "42978  51.352960  \n",
       "42979  47.479280  \n",
       "\n",
       "[42980 rows x 5 columns]"
      ]
     },
     "execution_count": 6,
     "metadata": {},
     "output_type": "execute_result"
    }
   ],
   "source": [
    "# compustat_geocoded = pd.read_stata('/Users/marisbuttmann/Desktop/HIWI_code/geocode_project/all_data/compustat_geocoded_final.dta')\n",
    "compustat_geocoded = pd.read_stata('S:/Users/Hiwi/Maris/name_matching/Data/compustat_geocoded_final.dta')\n",
    "# ['gvkey', 'hq_address_compustat', 'count', 'lat', 'lon']\n",
    "print(compustat_geocoded.info())\n",
    "compustat_geocoded"
   ]
  },
  {
   "cell_type": "code",
   "execution_count": 7,
   "id": "f578580f7884f4c2",
   "metadata": {
    "ExecuteTime": {
     "end_time": "2024-03-18T09:33:47.610068Z",
     "start_time": "2024-03-18T09:33:47.588346Z"
    },
    "collapsed": false
   },
   "outputs": [
    {
     "data": {
      "text/plain": [
       "┌──────────────┐\n",
       "│ count(gvkey) │\n",
       "│    int64     │\n",
       "├──────────────┤\n",
       "│        42980 │\n",
       "└──────────────┘"
      ]
     },
     "execution_count": 7,
     "metadata": {},
     "output_type": "execute_result"
    }
   ],
   "source": [
    "con.execute('DROP TABLE IF EXISTS compustat_geocoded')\n",
    "con.execute('CREATE TABLE compustat_geocoded AS SELECT * FROM compustat_geocoded')\n",
    "con.sql('SELECT DISTINCT COUNT(gvkey) FROM compustat_geocoded;')"
   ]
  },
  {
   "cell_type": "markdown",
   "id": "e301b6d08022e207",
   "metadata": {
    "collapsed": false
   },
   "source": [
    "-- START OF COMPUSTAT PREPROCESSING --"
   ]
  },
  {
   "cell_type": "code",
   "execution_count": 8,
   "id": "3bfbde357315339e",
   "metadata": {
    "ExecuteTime": {
     "end_time": "2024-03-18T09:33:47.636256Z",
     "start_time": "2024-03-18T09:33:47.610989Z"
    },
    "collapsed": false
   },
   "outputs": [
    {
     "data": {
      "text/plain": [
       "┌──────────────┐\n",
       "│ count_star() │\n",
       "│    int64     │\n",
       "├──────────────┤\n",
       "│        42979 │\n",
       "└──────────────┘"
      ]
     },
     "execution_count": 8,
     "metadata": {},
     "output_type": "execute_result"
    }
   ],
   "source": [
    "con.execute('DROP TABLE IF EXISTS compustat')\n",
    "con.execute('CREATE TABLE compustat AS SELECT DISTINCT gvkey, hqcompany, hqzipcode, city FROM compustat_all')\n",
    "con.sql('SELECT DISTINCT COUNT(*) FROM compustat;')"
   ]
  },
  {
   "cell_type": "code",
   "execution_count": 9,
   "id": "5dc43ea5e54afd4b",
   "metadata": {
    "ExecuteTime": {
     "end_time": "2024-03-18T09:33:47.642587Z",
     "start_time": "2024-03-18T09:33:47.638178Z"
    },
    "collapsed": false
   },
   "outputs": [
    {
     "data": {
      "text/html": [
       "<div>\n",
       "<style scoped>\n",
       "    .dataframe tbody tr th:only-of-type {\n",
       "        vertical-align: middle;\n",
       "    }\n",
       "\n",
       "    .dataframe tbody tr th {\n",
       "        vertical-align: top;\n",
       "    }\n",
       "\n",
       "    .dataframe thead th {\n",
       "        text-align: right;\n",
       "    }\n",
       "</style>\n",
       "<table border=\"1\" class=\"dataframe\">\n",
       "  <thead>\n",
       "    <tr style=\"text-align: right;\">\n",
       "      <th></th>\n",
       "      <th>gvkey</th>\n",
       "    </tr>\n",
       "  </thead>\n",
       "  <tbody>\n",
       "    <tr>\n",
       "      <th>0</th>\n",
       "      <td>9007</td>\n",
       "    </tr>\n",
       "  </tbody>\n",
       "</table>\n",
       "</div>"
      ],
      "text/plain": [
       "   gvkey\n",
       "0   9007"
      ]
     },
     "execution_count": 9,
     "metadata": {},
     "output_type": "execute_result"
    }
   ],
   "source": [
    "\"\"\"\n",
    "Extract entries of compustat_geocoded that are not in all_data_cleaned\n",
    "\"\"\"\n",
    "query_str = \"\"\"\n",
    "SELECT compustat_geocoded.gvkey\n",
    "FROM compustat_geocoded\n",
    "LEFT JOIN compustat ON compustat_geocoded.gvkey = compustat.gvkey\n",
    "WHERE compustat.gvkey IS NULL;\n",
    "\"\"\"\n",
    "con.sql(query_str).fetchdf()\n",
    "# (duckdb.sql(query_str).to_df()).to_excel('/Users/marisbuttmann/Desktop/HIWI_code/geocode_project/preprocessed_data/missing_entries_compustat.xlsx', index=False)\n"
   ]
  },
  {
   "cell_type": "code",
   "execution_count": 10,
   "id": "51c9995e8cd399e2",
   "metadata": {
    "ExecuteTime": {
     "end_time": "2024-03-18T09:33:47.648592Z",
     "start_time": "2024-03-18T09:33:47.643073Z"
    },
    "collapsed": false
   },
   "outputs": [
    {
     "name": "stdout",
     "output_type": "stream",
     "text": [
      "   gvkey    datadate   fyear indfmt consol popsrc datafmt    tic  \\\n",
      "1   1001  1978-12-31  1978.0   INDL      C      D     STD  AMFD.   \n",
      "\n",
      "                 hqcompany curcd costat                hqaddress add2 add3  \\\n",
      "1  A & M FOOD SERVICES INC   USD      I  1924 South Utica Avenue             \n",
      "\n",
      "  add4 hqzipcode   city                    conml state  hqzip4  \n",
      "1          94104  Tulsa  A & M Food Services Inc    OK  9410.0  \n"
     ]
    },
    {
     "data": {
      "text/html": [
       "<div>\n",
       "<style scoped>\n",
       "    .dataframe tbody tr th:only-of-type {\n",
       "        vertical-align: middle;\n",
       "    }\n",
       "\n",
       "    .dataframe tbody tr th {\n",
       "        vertical-align: top;\n",
       "    }\n",
       "\n",
       "    .dataframe thead th {\n",
       "        text-align: right;\n",
       "    }\n",
       "</style>\n",
       "<table border=\"1\" class=\"dataframe\">\n",
       "  <thead>\n",
       "    <tr style=\"text-align: right;\">\n",
       "      <th></th>\n",
       "      <th>gvkey</th>\n",
       "      <th>hq_address_compustat</th>\n",
       "      <th>count</th>\n",
       "      <th>lat</th>\n",
       "      <th>lon</th>\n",
       "    </tr>\n",
       "  </thead>\n",
       "  <tbody>\n",
       "    <tr>\n",
       "      <th>1</th>\n",
       "      <td>1001</td>\n",
       "      <td>1924 South Utica Avenue Tulsa OK</td>\n",
       "      <td>2.0</td>\n",
       "      <td>-95.968066</td>\n",
       "      <td>36.134328</td>\n",
       "    </tr>\n",
       "  </tbody>\n",
       "</table>\n",
       "</div>"
      ],
      "text/plain": [
       "   gvkey              hq_address_compustat  count        lat        lon\n",
       "1   1001  1924 South Utica Avenue Tulsa OK    2.0 -95.968066  36.134328"
      ]
     },
     "execution_count": 10,
     "metadata": {},
     "output_type": "execute_result"
    }
   ],
   "source": [
    "print(compustat_all.loc[compustat_all['gvkey'] == 1001])\n",
    "compustat_geocoded.loc[compustat_geocoded['gvkey'] == 1001]"
   ]
  },
  {
   "cell_type": "code",
   "execution_count": 11,
   "id": "f511a42c0bc87384",
   "metadata": {
    "ExecuteTime": {
     "end_time": "2024-03-18T09:33:48.012941Z",
     "start_time": "2024-03-18T09:33:47.649185Z"
    },
    "collapsed": false
   },
   "outputs": [],
   "source": [
    "\"\"\"\n",
    "In this cell, we want to join the geo date from compustat_geocoded with the other data from compustat_all\n",
    "Also, we want to trim and upper case the city names to make the join more robust\n",
    "\"\"\"\n",
    "\n",
    "con.execute('ALTER TABLE compustat ADD COLUMN lat DECIMAL(9,6)')\n",
    "con.execute('ALTER TABLE compustat ADD COLUMN lon DECIMAL(9,6)')\n",
    "\n",
    "# TODO: Note that lat and lon are switched in compustat_geocoded. This is probably a mistake in the geocoding process\n",
    "sql_query = \"\"\"\n",
    "UPDATE compustat\n",
    "SET lat = compustat_geocoded.lon,\n",
    "    lon = compustat_geocoded.lat\n",
    "FROM compustat_geocoded\n",
    "WHERE compustat.gvkey = compustat_geocoded.gvkey;\n",
    "\"\"\"\n",
    "con.execute(sql_query)\n",
    "con.sql('UPDATE compustat SET city = UPPER(TRIM(city));')"
   ]
  },
  {
   "cell_type": "code",
   "execution_count": 12,
   "id": "1801a956fef07298",
   "metadata": {
    "ExecuteTime": {
     "end_time": "2024-03-18T09:33:48.023403Z",
     "start_time": "2024-03-18T09:33:48.013679Z"
    },
    "collapsed": false
   },
   "outputs": [
    {
     "data": {
      "text/plain": [
       "┌────────┬──────────────────────────────┬────────────┬───────────────┬──────────────┬──────────────┐\n",
       "│ gvkey  │          hqcompany           │ hqzipcode  │     city      │     lat      │     lon      │\n",
       "│ int32  │           varchar            │  varchar   │    varchar    │ decimal(9,6) │ decimal(9,6) │\n",
       "├────────┼──────────────────────────────┼────────────┼───────────────┼──────────────┼──────────────┤\n",
       "│  16709 │ PROSHARES MERGER ETF         │ 20814      │ BETHESDA      │    38.982081 │   -77.093941 │\n",
       "│  17051 │ GLOBAL X JUNIOR MLP ETF      │ 10158      │ NEW YORK      │    40.749096 │   -73.975398 │\n",
       "│  17360 │ INVESCO S&P SMCP LOW VOL ETF │ 60515      │ DOWNERS GROVE │    41.822742 │   -88.031668 │\n",
       "│  17682 │ ALPS ETF VLCTYSHRS EMG MKTS  │ 80203      │ DENVER        │    39.736700 │  -104.987340 │\n",
       "│  18988 │ CI MRNGSTR US MO INDEX ETF   │ M5J 0A3    │ TORONTO       │    43.653524 │   -79.383907 │\n",
       "│  19008 │ FIDELITY MSCI INFO TECH ETF  │ 94105-2618 │ SAN FRANCISCO │    37.789152 │  -122.395878 │\n",
       "│  19553 │ RBC QUANT CDN DIV LEADRS ETF │ M5V 3K7    │ TORONTO       │    43.645845 │   -79.385746 │\n",
       "│  19809 │ BMO MSCI EAFE INDEX ETF      │ M5K 1J5    │ TORONTO       │    43.671294 │   -79.384772 │\n",
       "│  19949 │ GLOBAL X GURU INTL INDEX ETF │ 10158      │ NEW YORK      │    40.749096 │   -73.975398 │\n",
       "│  20723 │ INVESCO MULTI-STRTGY ALT ETF │ 60515      │ DOWNERS GROVE │    41.822742 │   -88.031668 │\n",
       "│    ·   │             ·                │   ·        │    ·          │        ·     │        ·     │\n",
       "│    ·   │             ·                │   ·        │    ·          │        ·     │        ·     │\n",
       "│    ·   │             ·                │   ·        │    ·          │        ·     │        ·     │\n",
       "│ 187242 │ RUSSELL EQUITY INCOME ETF    │ 98101      │ SEATTLE       │    47.607713 │  -122.338236 │\n",
       "│ 187312 │ RUSSELL 2000 HIGH BETA ETF   │ 98101      │ SEATTLE       │    47.607713 │  -122.338236 │\n",
       "│ 187754 │ COLUMBIA EM QUALITY DIVI ETF │ 02210      │ BOSTON        │    42.352992 │   -71.052367 │\n",
       "│ 187804 │ VANECK MORTGAGE REIT INC ETF │ 10017      │ NEW YORK      │    40.751203 │   -73.974362 │\n",
       "│ 189492 │ RBC TARGET 2013 CORP BD ETF  │ M5V 3K7    │ TORONTO       │    43.645845 │   -79.385746 │\n",
       "│ 189494 │ RBC TARGET 2015 CORP BD ETF  │ M5V 3K7    │ TORONTO       │    43.645845 │   -79.385746 │\n",
       "│ 191756 │ BMO CVRD CL DJIA HD CAD ETF  │ M5K 1J5    │ TORONTO       │    43.671294 │   -79.384772 │\n",
       "│ 191964 │ INVESCO KBW BANK ETF         │ 60515      │ DOWNERS GROVE │    41.822742 │   -88.031668 │\n",
       "│ 194457 │ PIMCO CANADA BOND INDEX ETF  │ 92660      │ NEWPORT BEACH │    33.619506 │  -117.873802 │\n",
       "│ 195556 │ GLOBAL X SOCIAL MEDIA ETF    │ 10158      │ NEW YORK      │    40.749096 │   -73.975398 │\n",
       "├────────┴──────────────────────────────┴────────────┴───────────────┴──────────────┴──────────────┤\n",
       "│ 3197 rows (20 shown)                                                                   6 columns │\n",
       "└──────────────────────────────────────────────────────────────────────────────────────────────────┘"
      ]
     },
     "execution_count": 12,
     "metadata": {},
     "output_type": "execute_result"
    }
   ],
   "source": [
    "\"\"\"\n",
    "Appearantly, there are 2196 ETFS in the compustat dataset. We want to get rid of them.\n",
    "\"\"\"\n",
    "sql_query = \"\"\"\n",
    "SELECT *\n",
    "FROM compustat\n",
    "WHERE REGEXP_MATCHES(hqcompany, '\\\\bETF\\\\b');\n",
    "\"\"\"\n",
    "con.sql(sql_query)"
   ]
  },
  {
   "cell_type": "code",
   "execution_count": 13,
   "id": "8c1e663dbc7e3ba8",
   "metadata": {
    "ExecuteTime": {
     "end_time": "2024-03-18T09:33:48.035334Z",
     "start_time": "2024-03-18T09:33:48.024155Z"
    },
    "collapsed": false
   },
   "outputs": [
    {
     "data": {
      "text/html": [
       "<div>\n",
       "<style scoped>\n",
       "    .dataframe tbody tr th:only-of-type {\n",
       "        vertical-align: middle;\n",
       "    }\n",
       "\n",
       "    .dataframe tbody tr th {\n",
       "        vertical-align: top;\n",
       "    }\n",
       "\n",
       "    .dataframe thead th {\n",
       "        text-align: right;\n",
       "    }\n",
       "</style>\n",
       "<table border=\"1\" class=\"dataframe\">\n",
       "  <thead>\n",
       "    <tr style=\"text-align: right;\">\n",
       "      <th></th>\n",
       "      <th>gvkey</th>\n",
       "      <th>hqcompany</th>\n",
       "      <th>hqzipcode</th>\n",
       "      <th>city</th>\n",
       "      <th>lat</th>\n",
       "      <th>lon</th>\n",
       "    </tr>\n",
       "  </thead>\n",
       "  <tbody>\n",
       "    <tr>\n",
       "      <th>0</th>\n",
       "      <td>1000</td>\n",
       "      <td>A &amp; E PLASTIK PAK INC</td>\n",
       "      <td></td>\n",
       "      <td></td>\n",
       "      <td>NaN</td>\n",
       "      <td>NaN</td>\n",
       "    </tr>\n",
       "    <tr>\n",
       "      <th>1</th>\n",
       "      <td>1004</td>\n",
       "      <td>AAR CORP</td>\n",
       "      <td>60191</td>\n",
       "      <td>WOOD DALE</td>\n",
       "      <td>41.986749</td>\n",
       "      <td>-87.981054</td>\n",
       "    </tr>\n",
       "    <tr>\n",
       "      <th>2</th>\n",
       "      <td>1009</td>\n",
       "      <td>ABS INDUSTRIES INC</td>\n",
       "      <td>44904</td>\n",
       "      <td>WILLOUGHBY</td>\n",
       "      <td>41.639570</td>\n",
       "      <td>-81.406850</td>\n",
       "    </tr>\n",
       "    <tr>\n",
       "      <th>3</th>\n",
       "      <td>1015</td>\n",
       "      <td>ADI ELECTRONICS INC</td>\n",
       "      <td>11779</td>\n",
       "      <td>RONKONKOMA</td>\n",
       "      <td>40.783736</td>\n",
       "      <td>-73.090500</td>\n",
       "    </tr>\n",
       "    <tr>\n",
       "      <th>4</th>\n",
       "      <td>1019</td>\n",
       "      <td>AFA PROTECTIVE SYSTEMS INC</td>\n",
       "      <td>11791-5319</td>\n",
       "      <td>SYOSSET</td>\n",
       "      <td>40.804278</td>\n",
       "      <td>-73.517759</td>\n",
       "    </tr>\n",
       "    <tr>\n",
       "      <th>...</th>\n",
       "      <td>...</td>\n",
       "      <td>...</td>\n",
       "      <td>...</td>\n",
       "      <td>...</td>\n",
       "      <td>...</td>\n",
       "      <td>...</td>\n",
       "    </tr>\n",
       "    <tr>\n",
       "      <th>39777</th>\n",
       "      <td>327451</td>\n",
       "      <td>GRINDROD SHIPPING</td>\n",
       "      <td>089763</td>\n",
       "      <td>SINGAPORE</td>\n",
       "      <td>1.273422</td>\n",
       "      <td>103.840856</td>\n",
       "    </tr>\n",
       "    <tr>\n",
       "      <th>39778</th>\n",
       "      <td>332115</td>\n",
       "      <td>ARMATA PHARMACEUTICALS INC</td>\n",
       "      <td>90292</td>\n",
       "      <td>MARINA DEL REY</td>\n",
       "      <td>33.983990</td>\n",
       "      <td>-118.434767</td>\n",
       "    </tr>\n",
       "    <tr>\n",
       "      <th>39779</th>\n",
       "      <td>345764</td>\n",
       "      <td>T STAMP INC</td>\n",
       "      <td>30305</td>\n",
       "      <td>ATLANTA</td>\n",
       "      <td>33.839265</td>\n",
       "      <td>-84.378456</td>\n",
       "    </tr>\n",
       "    <tr>\n",
       "      <th>39780</th>\n",
       "      <td>349530</td>\n",
       "      <td>NEXTPLAY TECHNOLOGIES INC</td>\n",
       "      <td>33323</td>\n",
       "      <td>SUNRISE</td>\n",
       "      <td>26.141587</td>\n",
       "      <td>-80.339874</td>\n",
       "    </tr>\n",
       "    <tr>\n",
       "      <th>39781</th>\n",
       "      <td>353444</td>\n",
       "      <td>HALEON PLC</td>\n",
       "      <td>KT13 0NY</td>\n",
       "      <td>WEYBRIDGE</td>\n",
       "      <td>51.352960</td>\n",
       "      <td>-0.462543</td>\n",
       "    </tr>\n",
       "  </tbody>\n",
       "</table>\n",
       "<p>39782 rows × 6 columns</p>\n",
       "</div>"
      ],
      "text/plain": [
       "        gvkey                   hqcompany   hqzipcode            city  \\\n",
       "0        1000       A & E PLASTIK PAK INC                               \n",
       "1        1004                    AAR CORP       60191       WOOD DALE   \n",
       "2        1009          ABS INDUSTRIES INC       44904      WILLOUGHBY   \n",
       "3        1015         ADI ELECTRONICS INC       11779      RONKONKOMA   \n",
       "4        1019  AFA PROTECTIVE SYSTEMS INC  11791-5319         SYOSSET   \n",
       "...       ...                         ...         ...             ...   \n",
       "39777  327451           GRINDROD SHIPPING      089763       SINGAPORE   \n",
       "39778  332115  ARMATA PHARMACEUTICALS INC       90292  MARINA DEL REY   \n",
       "39779  345764                 T STAMP INC       30305         ATLANTA   \n",
       "39780  349530   NEXTPLAY TECHNOLOGIES INC       33323         SUNRISE   \n",
       "39781  353444                  HALEON PLC    KT13 0NY       WEYBRIDGE   \n",
       "\n",
       "             lat         lon  \n",
       "0            NaN         NaN  \n",
       "1      41.986749  -87.981054  \n",
       "2      41.639570  -81.406850  \n",
       "3      40.783736  -73.090500  \n",
       "4      40.804278  -73.517759  \n",
       "...          ...         ...  \n",
       "39777   1.273422  103.840856  \n",
       "39778  33.983990 -118.434767  \n",
       "39779  33.839265  -84.378456  \n",
       "39780  26.141587  -80.339874  \n",
       "39781  51.352960   -0.462543  \n",
       "\n",
       "[39782 rows x 6 columns]"
      ]
     },
     "execution_count": 13,
     "metadata": {},
     "output_type": "execute_result"
    }
   ],
   "source": [
    "\"\"\"\n",
    "We delete all entries that contain the substring 'ETF'\n",
    "\"\"\"\n",
    "sql_query = \"\"\"\n",
    "DELETE FROM compustat\n",
    "WHERE REGEXP_MATCHES(hqcompany, '\\\\bETF\\\\b');\n",
    "\"\"\"\n",
    "con.execute(sql_query)\n",
    "con.sql('SELECT * FROM compustat;').fetchdf()"
   ]
  },
  {
   "cell_type": "code",
   "execution_count": 14,
   "id": "cb859ce1ff6b4e0",
   "metadata": {
    "ExecuteTime": {
     "end_time": "2024-03-18T09:33:48.124525Z",
     "start_time": "2024-03-18T09:33:48.036062Z"
    },
    "collapsed": false
   },
   "outputs": [
    {
     "data": {
      "text/plain": [
       "<duckdb.duckdb.DuckDBPyConnection at 0x1d4dde141b0>"
      ]
     },
     "execution_count": 14,
     "metadata": {},
     "output_type": "execute_result"
    }
   ],
   "source": [
    "\"\"\"\n",
    "In this Cell we want to preprocess the names of the compustat datasets\n",
    "\"\"\"\n",
    "# most common substrings in company names\n",
    "compustat_substring = ['INC', 'CORP', 'LTD', 'GROUP', 'CO', 'CORP']\n",
    "#TODO: Maybe get rid of things like 'ENTERPRISES', 'PROPERTIES', 'INTERNATIONAL', 'TECHNOLOGIES'\n",
    "#TODO: Mauybe ged rid of terms like -old or -llp\n",
    "#TODO replace terms like technologie through special characters like $ or ˆ, since they are often used in company names\n",
    "# other: ['etf', 'financial', 'bancorp', 'holdings', 'energy']\n",
    "\n",
    "# query_str = \"\"\"\n",
    "# UPDATE compustat\n",
    "#     SET conm = REGEXP_REPLACE(conm, '(\\\\bLLC\\\\b)|(\\\\bINC\\\\b)|(\\\\bLTD\\\\b)|(\\\\bGROUP\\\\b)|(\\\\bCO\\\\b)|(\\\\bCORP\\\\b)|(\\\\s+)|(\\\\-)', '', 'g')\n",
    "# \"\"\"\n",
    "#TOOD: We replace longer terms with their abbreviations, to reduce their weight in the name, but keeping them, to improve matching score\n",
    "query_str = \"\"\"\n",
    "UPDATE compustat\n",
    "SET hqcompany = TRIM(\n",
    "    REGEXP_REPLACE(\n",
    "        REGEXP_REPLACE(\n",
    "            REGEXP_REPLACE(\n",
    "                REGEXP_REPLACE(\n",
    "                    REGEXP_REPLACE(\n",
    "                        REGEXP_REPLACE(\n",
    "                            REGEXP_REPLACE(\n",
    "                                REGEXP_REPLACE(\n",
    "                                    REGEXP_REPLACE(\n",
    "                                        REGEXP_REPLACE(\n",
    "                                            REGEXP_REPLACE(\n",
    "                                                REGEXP_REPLACE( \n",
    "                                                    REGEXP_REPLACE(\n",
    "                                                        REGEXP_REPLACE(\n",
    "                                                            REGEXP_REPLACE(\n",
    "                                                                REGEXP_REPLACE(\n",
    "                                                                    REGEXP_REPLACE(\n",
    "                                                                        REGEXP_REPLACE(\n",
    "                                                                            REGEXP_REPLACE(hqcompany, 'INCORPORATED', 'INC'),\n",
    "                                                                        'LIMITED', '`LTD'),\n",
    "                                                                    'CORPORATION', 'CORP'),\n",
    "                                                                'COMPANY', 'CO'),\n",
    "                                                            'HOLDINGS', 'HLDGS'),\n",
    "                                                        'GROUP', 'GRP'),\n",
    "                                                    'INTERNATIONAL', 'INTL'),\n",
    "                                                'TECHNOLOGIES', '@'),\n",
    "                                            'THERAPEUTICS', '^'),\n",
    "                                        'PHARMACEUTICALS', '$'),\n",
    "                                    'INDUSTRIES', 'IND'),\n",
    "                                'TECHNOLOGY', '!'),\n",
    "                            'FINANCIAL', ')'),\n",
    "                        'COMMUNICATIONS', '('),\n",
    "                    'PROPERTIES', '\\'),\n",
    "                '\\\\b-\\\\b', ''),\n",
    "            '\\\\s+', '', 'g'),\n",
    "        'BANCORPINC', '}'),\n",
    "    'HLDGSINC', '{')\n",
    "    )\n",
    "\"\"\"\n",
    "con.execute(query_str)"
   ]
  },
  {
   "cell_type": "code",
   "execution_count": 15,
   "id": "68a0a8b3175041f9",
   "metadata": {
    "ExecuteTime": {
     "end_time": "2024-03-18T09:33:48.126796Z",
     "start_time": "2024-03-18T09:33:48.125239Z"
    },
    "collapsed": false
   },
   "outputs": [],
   "source": [
    "# \"\"\"\n",
    "# Clean up the phone numbers from whitespaces and dashes\n",
    "# \"\"\"\n",
    "# query_str = \"\"\"\n",
    "# UPDATE compustat\n",
    "#     SET phone = REGEXP_REPLACE(phone, '(\\\\s+)|-', '', 'g')\n",
    "# \"\"\"\n",
    "# con.execute(query_str)\n",
    "# con.sql('SELECT * FROM compustat WHERE hqcompany LIKE \\'%!%\\' LIMIT 10').fetchdf()"
   ]
  },
  {
   "cell_type": "markdown",
   "id": "a6c4f5840597b102",
   "metadata": {
    "collapsed": false
   },
   "source": [
    "\n",
    "-- END OF COMPUSTAT PREPROCESSING --\n",
    "\n",
    "\n",
    "-- START OF NETS PREPROCESSING --\n"
   ]
  },
  {
   "cell_type": "code",
   "execution_count": 16,
   "id": "7e20a0288c16d36d",
   "metadata": {
    "ExecuteTime": {
     "end_time": "2024-03-18T09:33:57.321219Z",
     "start_time": "2024-03-18T09:33:48.127414Z"
    },
    "collapsed": false
   },
   "outputs": [
    {
     "data": {
      "application/vnd.jupyter.widget-view+json": {
       "model_id": "cccf8f7feeba45cb9c792cf6fcbb7b13",
       "version_major": 2,
       "version_minor": 0
      },
      "text/plain": [
       "FloatProgress(value=0.0, layout=Layout(width='auto'), style=ProgressStyle(bar_color='black'))"
      ]
     },
     "metadata": {},
     "output_type": "display_data"
    },
    {
     "data": {
      "text/plain": [
       "<duckdb.duckdb.DuckDBPyConnection at 0x1d4dde141b0>"
      ]
     },
     "execution_count": 16,
     "metadata": {},
     "output_type": "execute_result"
    }
   ],
   "source": [
    "con.execute('DROP TABLE IF EXISTS nets_all')\n",
    "con.execute('CREATE TABLE nets_all AS SELECT hqduns, hqcompany, latitude, longitude, FROM nets_all_data')\n",
    "#con.sql('SELECT * FROM nets;').fetchdf().info()"
   ]
  },
  {
   "cell_type": "code",
   "execution_count": 17,
   "id": "4ff13a023cf30c78",
   "metadata": {
    "ExecuteTime": {
     "end_time": "2024-03-18T09:34:22.698909Z",
     "start_time": "2024-03-18T09:33:57.321954Z"
    },
    "collapsed": false
   },
   "outputs": [
    {
     "data": {
      "application/vnd.jupyter.widget-view+json": {
       "model_id": "06871654878a41499218f0b6004877e4",
       "version_major": 2,
       "version_minor": 0
      },
      "text/plain": [
       "FloatProgress(value=0.0, layout=Layout(width='auto'), style=ProgressStyle(bar_color='black'))"
      ]
     },
     "metadata": {},
     "output_type": "display_data"
    },
    {
     "data": {
      "text/plain": [
       "<duckdb.duckdb.DuckDBPyConnection at 0x1d4dde141b0>"
      ]
     },
     "execution_count": 17,
     "metadata": {},
     "output_type": "execute_result"
    }
   ],
   "source": [
    "\"\"\"\n",
    "In this Cell we want to preprocess the names of the NETS datasets\n",
    "\n",
    "NETS_substring = ['LLC', 'INC', 'OF', 'GROUP', 'SERVICES', 'CO', 'CORP']\n",
    "other: ['a', 'construction', 'enterprises']\n",
    "\"\"\"\n",
    "#TODO: get rid of things like 'ENTERPRISES', 'PROPERTIES', 'INTERNATIONAL', 'TECHNOLOGIES', 'INCORPORATED', 'CORPORATION', 'COMPANY since acronyms like inc. arent that common in nets.\n",
    "#TODO: Maybe we need more preprocessing for NETS since there are a lot of entries that are not in compustat\n",
    "\n",
    "# query_str = \"\"\"\n",
    "# UPDATE nets\n",
    "#     SET hqcompany = REGEXP_REPLACE(hqcompany, '(\\\\bLLC\\\\b)|(\\\\bINC\\\\b)|(\\\\bLTD\\\\b)|(\\\\bGROUP\\\\b)|(\\\\bCO\\\\b)|(\\\\bCORP\\\\b)|(\\\\s+)|(\\\\-)', '', 'g')\n",
    "# \"\"\"\n",
    "query_str = \"\"\"\n",
    "UPDATE nets_all\n",
    "SET hqcompany = TRIM(\n",
    "    REGEXP_REPLACE(\n",
    "        REGEXP_REPLACE(\n",
    "            REGEXP_REPLACE(\n",
    "                REGEXP_REPLACE(\n",
    "                    REGEXP_REPLACE(\n",
    "                        REGEXP_REPLACE(\n",
    "                            REGEXP_REPLACE(\n",
    "                                REGEXP_REPLACE(\n",
    "                                    REGEXP_REPLACE(\n",
    "                                        REGEXP_REPLACE(\n",
    "                                            REGEXP_REPLACE(\n",
    "                                                REGEXP_REPLACE( \n",
    "                                                    REGEXP_REPLACE(\n",
    "                                                        REGEXP_REPLACE(\n",
    "                                                            REGEXP_REPLACE(\n",
    "                                                                REGEXP_REPLACE(\n",
    "                                                                    REGEXP_REPLACE(\n",
    "                                                                        REGEXP_REPLACE(\n",
    "                                                                            REGEXP_REPLACE(hqcompany, 'INCORPORATED', 'INC'),\n",
    "                                                                        'LIMITED', '`LTD'),\n",
    "                                                                    'CORPORATION', 'CORP'),\n",
    "                                                                'COMPANY', 'CO'),\n",
    "                                                            'HOLDINGS', 'HLDGS'),\n",
    "                                                        'GROUP', 'GRP'),\n",
    "                                                    'INTERNATIONAL', 'INTL'),\n",
    "                                                'TECHNOLOGIES', '@'),\n",
    "                                            'THERAPEUTICS', '^'),\n",
    "                                        'PHARMACEUTICALS', '$'),\n",
    "                                    'INDUSTRIES', 'IND'),\n",
    "                                'TECHNOLOGY', '!'),\n",
    "                            'FINANCIAL', ')'),\n",
    "                        'COMMUNICATIONS', '('),\n",
    "                    'PROPERTIES', '\\'),\n",
    "                '\\\\b-\\\\b', ''),\n",
    "            '\\\\s+', '', 'g'),\n",
    "        'BANCORPINC', '}'),\n",
    "    'HLDGSINC', '{')\n",
    "    )\n",
    "\"\"\"\n",
    "con.execute(query_str)"
   ]
  },
  {
   "cell_type": "code",
   "execution_count": 18,
   "id": "bc48bf224ddc7eeb",
   "metadata": {
    "ExecuteTime": {
     "end_time": "2024-03-18T09:34:22.701366Z",
     "start_time": "2024-03-18T09:34:22.699616Z"
    },
    "collapsed": false
   },
   "outputs": [],
   "source": [
    "# \"\"\"\n",
    "# In this Cell we want to extract the area code and the phone number from the NETS data\n",
    "# and concatenate them to one column which then will be added to the NETS data.\n",
    "# Afterwards we will compare the phone numbers of the two datasets and see if they match.\n",
    "# \"\"\"\n",
    "# con.execute('ALTER TABLE nets ADD COLUMN hqphone_concatenated VARCHAR(255)')\n",
    "# query_str = \"\"\"\n",
    "# UPDATE nets\n",
    "# SET hqphone_concatenated = REGEXP_REPLACE(\n",
    "#             REGEXP_REPLACE((CONCAT(hqarea, hqphone)), '(\\\\s+)|-', '', 'g')\n",
    "#           , '^$', '-1');\n",
    "# \"\"\"\n",
    "# con.execute(query_str)"
   ]
  },
  {
   "cell_type": "code",
   "execution_count": 19,
   "id": "7d577c43c9d7120e",
   "metadata": {
    "ExecuteTime": {
     "end_time": "2024-03-18T09:34:24.879320Z",
     "start_time": "2024-03-18T09:34:22.702109Z"
    },
    "collapsed": false
   },
   "outputs": [
    {
     "data": {
      "application/vnd.jupyter.widget-view+json": {
       "model_id": "de52940fbbd74b649931c9a027d6b720",
       "version_major": 2,
       "version_minor": 0
      },
      "text/plain": [
       "FloatProgress(value=0.0, layout=Layout(width='auto'), style=ProgressStyle(bar_color='black'))"
      ]
     },
     "metadata": {},
     "output_type": "display_data"
    },
    {
     "data": {
      "text/plain": [
       "<duckdb.duckdb.DuckDBPyConnection at 0x1d4dde141b0>"
      ]
     },
     "execution_count": 19,
     "metadata": {},
     "output_type": "execute_result"
    }
   ],
   "source": [
    "\"\"\"\n",
    "In this Cell we will fix the longitudes of the NETS data\n",
    "\"\"\"\n",
    "#TODO: The coordinates are not correct in our NETS sample.  Google maps gives us -119.xxxx\n",
    "#TODO: Lat-long coordinates for cities in United States are in range: Latitude from 19.50139 to 64.85694 and longitude from -161.75583 to -68.01197. (Source: https://latitudelongitude.org/us/)\n",
    "# TODO maybe we need to adjust the coordinates according to levelcode\n",
    "sql_query = \"\"\"\n",
    "    UPDATE nets_all\n",
    "    SET longitude = -longitude;\n",
    "\"\"\"\n",
    "con.execute(sql_query)"
   ]
  },
  {
   "cell_type": "code",
   "execution_count": 20,
   "id": "3b2d96ba",
   "metadata": {},
   "outputs": [
    {
     "data": {
      "application/vnd.jupyter.widget-view+json": {
       "model_id": "6951d74739be401f959bc11d3348015f",
       "version_major": 2,
       "version_minor": 0
      },
      "text/plain": [
       "FloatProgress(value=0.0, layout=Layout(width='auto'), style=ProgressStyle(bar_color='black'))"
      ]
     },
     "metadata": {},
     "output_type": "display_data"
    },
    {
     "data": {
      "application/vnd.jupyter.widget-view+json": {
       "model_id": "5ba6d759e01740e0a8bc95b00b8de56a",
       "version_major": 2,
       "version_minor": 0
      },
      "text/plain": [
       "FloatProgress(value=0.0, layout=Layout(width='auto'), style=ProgressStyle(bar_color='black'))"
      ]
     },
     "metadata": {},
     "output_type": "display_data"
    },
    {
     "data": {
      "text/plain": [
       "<duckdb.duckdb.DuckDBPyConnection at 0x1d4dde141b0>"
      ]
     },
     "execution_count": 20,
     "metadata": {},
     "output_type": "execute_result"
    }
   ],
   "source": [
    "\"\"\"\n",
    "In this cell we will join the zip codes and cities to the NETS data\n",
    "Also we will trim the city names to make the join more robust\n",
    "\"\"\"\n",
    "con.execute('ALTER TABLE nets_all ADD COLUMN hqzipcode VARCHAR(255)')\n",
    "con.execute('ALTER TABLE nets_all ADD COLUMN hqcity VARCHAR(255)')\n",
    "query_str = \"\"\"\n",
    "UPDATE nets_all\n",
    "SET hqzipcode = nets_city_state.hqzipcode,\n",
    "    hqcity = nets_city_state.hqcity\n",
    "FROM nets_city_state\n",
    "WHERE nets_all.hqduns = nets_city_state.hqduns;\n",
    "\"\"\"\n",
    "con.execute(query_str)\n",
    "con.execute('UPDATE nets_all SET hqcity = UPPER(TRIM(hqcity));')"
   ]
  },
  {
   "cell_type": "code",
   "execution_count": 21,
   "id": "0dc4e238",
   "metadata": {},
   "outputs": [
    {
     "data": {
      "text/html": [
       "<div>\n",
       "<style scoped>\n",
       "    .dataframe tbody tr th:only-of-type {\n",
       "        vertical-align: middle;\n",
       "    }\n",
       "\n",
       "    .dataframe tbody tr th {\n",
       "        vertical-align: top;\n",
       "    }\n",
       "\n",
       "    .dataframe thead th {\n",
       "        text-align: right;\n",
       "    }\n",
       "</style>\n",
       "<table border=\"1\" class=\"dataframe\">\n",
       "  <thead>\n",
       "    <tr style=\"text-align: right;\">\n",
       "      <th></th>\n",
       "      <th>hqduns</th>\n",
       "      <th>hqcompany</th>\n",
       "      <th>latitude</th>\n",
       "      <th>longitude</th>\n",
       "      <th>hqzipcode</th>\n",
       "      <th>hqcity</th>\n",
       "    </tr>\n",
       "  </thead>\n",
       "  <tbody>\n",
       "    <tr>\n",
       "      <th>917</th>\n",
       "      <td>1008817</td>\n",
       "      <td>CALIBERCONSULTINGINC</td>\n",
       "      <td>40.757900</td>\n",
       "      <td>-73.968903</td>\n",
       "      <td>10022</td>\n",
       "      <td>NEW YORK</td>\n",
       "    </tr>\n",
       "    <tr>\n",
       "      <th>509</th>\n",
       "      <td>1004485</td>\n",
       "      <td>VISIONSECURITY</td>\n",
       "      <td>39.020500</td>\n",
       "      <td>-94.705299</td>\n",
       "      <td>66203</td>\n",
       "      <td>SHAWNEE MISSION</td>\n",
       "    </tr>\n",
       "    <tr>\n",
       "      <th>607</th>\n",
       "      <td>1005482</td>\n",
       "      <td>RESIDENTIALCONTRACTORSINC</td>\n",
       "      <td>40.528702</td>\n",
       "      <td>-85.673698</td>\n",
       "      <td>46953</td>\n",
       "      <td>MARION</td>\n",
       "    </tr>\n",
       "    <tr>\n",
       "      <th>648</th>\n",
       "      <td>1005847</td>\n",
       "      <td>K&amp;FLOCKSMITHSERVICE</td>\n",
       "      <td>41.231701</td>\n",
       "      <td>-74.592598</td>\n",
       "      <td>7461</td>\n",
       "      <td>SUSSEX</td>\n",
       "    </tr>\n",
       "    <tr>\n",
       "      <th>41</th>\n",
       "      <td>1000355</td>\n",
       "      <td>HARRISONSPECIALTYCOINC</td>\n",
       "      <td>42.190601</td>\n",
       "      <td>-71.158203</td>\n",
       "      <td>2021</td>\n",
       "      <td>CANTON</td>\n",
       "    </tr>\n",
       "    <tr>\n",
       "      <th>135</th>\n",
       "      <td>1001127</td>\n",
       "      <td>GREENTARAHAWAII</td>\n",
       "      <td>19.995600</td>\n",
       "      <td>-155.742294</td>\n",
       "      <td>96743</td>\n",
       "      <td>KAMUELA</td>\n",
       "    </tr>\n",
       "    <tr>\n",
       "      <th>618</th>\n",
       "      <td>1005560</td>\n",
       "      <td>ABBOTTEDCOINC</td>\n",
       "      <td>42.345600</td>\n",
       "      <td>-71.086998</td>\n",
       "      <td>2115</td>\n",
       "      <td>BOSTON</td>\n",
       "    </tr>\n",
       "    <tr>\n",
       "      <th>942</th>\n",
       "      <td>1009039</td>\n",
       "      <td>HOMEMAINTENANCESERVICE</td>\n",
       "      <td>42.027599</td>\n",
       "      <td>-71.209297</td>\n",
       "      <td>2048</td>\n",
       "      <td>MANSFIELD</td>\n",
       "    </tr>\n",
       "    <tr>\n",
       "      <th>276</th>\n",
       "      <td>1002344</td>\n",
       "      <td>G&amp;TENTERPRISESINC</td>\n",
       "      <td>35.451698</td>\n",
       "      <td>-82.530403</td>\n",
       "      <td>28704</td>\n",
       "      <td>ARDEN</td>\n",
       "    </tr>\n",
       "    <tr>\n",
       "      <th>246</th>\n",
       "      <td>1002054</td>\n",
       "      <td>BOMASMACHINESPECIALTIESINC</td>\n",
       "      <td>42.378899</td>\n",
       "      <td>-71.101898</td>\n",
       "      <td>2143</td>\n",
       "      <td>SOMERVILLE</td>\n",
       "    </tr>\n",
       "  </tbody>\n",
       "</table>\n",
       "</div>"
      ],
      "text/plain": [
       "      hqduns                   hqcompany   latitude   longitude hqzipcode  \\\n",
       "917  1008817        CALIBERCONSULTINGINC  40.757900  -73.968903     10022   \n",
       "509  1004485              VISIONSECURITY  39.020500  -94.705299     66203   \n",
       "607  1005482   RESIDENTIALCONTRACTORSINC  40.528702  -85.673698     46953   \n",
       "648  1005847         K&FLOCKSMITHSERVICE  41.231701  -74.592598      7461   \n",
       "41   1000355      HARRISONSPECIALTYCOINC  42.190601  -71.158203      2021   \n",
       "135  1001127             GREENTARAHAWAII  19.995600 -155.742294     96743   \n",
       "618  1005560               ABBOTTEDCOINC  42.345600  -71.086998      2115   \n",
       "942  1009039      HOMEMAINTENANCESERVICE  42.027599  -71.209297      2048   \n",
       "276  1002344           G&TENTERPRISESINC  35.451698  -82.530403     28704   \n",
       "246  1002054  BOMASMACHINESPECIALTIESINC  42.378899  -71.101898      2143   \n",
       "\n",
       "              hqcity  \n",
       "917         NEW YORK  \n",
       "509  SHAWNEE MISSION  \n",
       "607           MARION  \n",
       "648           SUSSEX  \n",
       "41            CANTON  \n",
       "135          KAMUELA  \n",
       "618           BOSTON  \n",
       "942        MANSFIELD  \n",
       "276            ARDEN  \n",
       "246       SOMERVILLE  "
      ]
     },
     "execution_count": 21,
     "metadata": {},
     "output_type": "execute_result"
    }
   ],
   "source": [
    "con.execute('SELECT * FROM nets_all LIMIT 1000').fetchdf().sample(10)"
   ]
  },
  {
   "cell_type": "markdown",
   "id": "792cd21069edb1cd",
   "metadata": {
    "collapsed": false
   },
   "source": [
    "-- NETS PUB PREPROCESSING --"
   ]
  },
  {
   "cell_type": "code",
   "execution_count": 22,
   "id": "94816e6aa2d457bf",
   "metadata": {
    "ExecuteTime": {
     "end_time": "2024-03-18T09:34:24.912382Z",
     "start_time": "2024-03-18T09:34:24.880057Z"
    },
    "collapsed": false
   },
   "outputs": [
    {
     "data": {
      "text/plain": [
       "<duckdb.duckdb.DuckDBPyConnection at 0x1d4dde141b0>"
      ]
     },
     "execution_count": 22,
     "metadata": {},
     "output_type": "execute_result"
    }
   ],
   "source": [
    "con.execute('DROP TABLE IF EXISTS nets_pub')\n",
    "con.execute('CREATE TABLE nets_pub AS SELECT hqduns, hqcompany, latitude, longitude, FROM nets_pub_data')"
   ]
  },
  {
   "cell_type": "code",
   "execution_count": 23,
   "id": "cb5a61fcecf8826a",
   "metadata": {
    "ExecuteTime": {
     "end_time": "2024-03-18T09:34:24.982097Z",
     "start_time": "2024-03-18T09:34:24.913053Z"
    },
    "collapsed": false
   },
   "outputs": [
    {
     "data": {
      "text/plain": [
       "<duckdb.duckdb.DuckDBPyConnection at 0x1d4dde141b0>"
      ]
     },
     "execution_count": 23,
     "metadata": {},
     "output_type": "execute_result"
    }
   ],
   "source": [
    "\"\"\"\n",
    "In this Cell we want to preprocess the names of the NETS datasets\n",
    "\"\"\"\n",
    "query_str = \"\"\"\n",
    "UPDATE nets_pub\n",
    "SET hqcompany = TRIM(\n",
    "    REGEXP_REPLACE(\n",
    "        REGEXP_REPLACE(\n",
    "            REGEXP_REPLACE(\n",
    "                REGEXP_REPLACE(\n",
    "                    REGEXP_REPLACE(\n",
    "                        REGEXP_REPLACE(\n",
    "                            REGEXP_REPLACE(\n",
    "                                REGEXP_REPLACE(\n",
    "                                    REGEXP_REPLACE(\n",
    "                                        REGEXP_REPLACE(\n",
    "                                            REGEXP_REPLACE(\n",
    "                                                REGEXP_REPLACE( \n",
    "                                                    REGEXP_REPLACE(\n",
    "                                                        REGEXP_REPLACE(\n",
    "                                                            REGEXP_REPLACE(\n",
    "                                                                REGEXP_REPLACE(\n",
    "                                                                    REGEXP_REPLACE(\n",
    "                                                                        REGEXP_REPLACE(\n",
    "                                                                            REGEXP_REPLACE(hqcompany, 'INCORPORATED', 'INC'),\n",
    "                                                                        'LIMITED', '`LTD'),\n",
    "                                                                    'CORPORATION', 'CORP'),\n",
    "                                                                'COMPANY', 'CO'),\n",
    "                                                            'HOLDINGS', 'HLDGS'),\n",
    "                                                        'GROUP', 'GRP'),\n",
    "                                                    'INTERNATIONAL', 'INTL'),\n",
    "                                                'TECHNOLOGIES', '@'),\n",
    "                                            'THERAPEUTICS', '^'),\n",
    "                                        'PHARMACEUTICALS', '$'),\n",
    "                                    'INDUSTRIES', 'IND'),\n",
    "                                'TECHNOLOGY', '!'),\n",
    "                            'FINANCIAL', ')'),\n",
    "                        'COMMUNICATIONS', '('),\n",
    "                    'PROPERTIES', '\\'),\n",
    "                '\\\\b-\\\\b', ''),\n",
    "            '\\\\s+', '', 'g'),\n",
    "        'BANCORPINC', '}'),\n",
    "    'HLDGSINC', '{')\n",
    "    )\n",
    "\"\"\"\n",
    "con.execute(query_str)"
   ]
  },
  {
   "cell_type": "code",
   "execution_count": 24,
   "id": "f29cdb80e9917a01",
   "metadata": {
    "ExecuteTime": {
     "end_time": "2024-03-18T09:34:24.986218Z",
     "start_time": "2024-03-18T09:34:24.982794Z"
    },
    "collapsed": false
   },
   "outputs": [
    {
     "data": {
      "text/plain": [
       "<duckdb.duckdb.DuckDBPyConnection at 0x1d4dde141b0>"
      ]
     },
     "execution_count": 24,
     "metadata": {},
     "output_type": "execute_result"
    }
   ],
   "source": [
    "\"\"\"\n",
    "In this Cell we will fix the longitudes of the NETS data\n",
    "\"\"\"\n",
    "#TODO: The coordinates are not correct in our NETS sample.  Google maps gives us -119.xxxx\n",
    "#TODO: Lat-long coordinates for cities in United States are in range: Latitude from 19.50139 to 64.85694 and longitude from -161.75583 to -68.01197. (Source: https://latitudelongitude.org/us/)\n",
    "# TODO maybe we need to adjust the coordinates according to levelcode\n",
    "sql_query = \"\"\"\n",
    "    UPDATE nets_pub\n",
    "    SET longitude = -longitude;\n",
    "\"\"\"\n",
    "con.execute(sql_query)"
   ]
  },
  {
   "cell_type": "code",
   "execution_count": 25,
   "id": "10f040ea2cbe5e9d",
   "metadata": {
    "ExecuteTime": {
     "end_time": "2024-03-18T09:34:24.988626Z",
     "start_time": "2024-03-18T09:34:24.987111Z"
    },
    "collapsed": false
   },
   "outputs": [],
   "source": [
    "# con.execute('SELECT * FROM nets').fetch_df().to_excel('/Users/marisbuttmann/Desktop/HIWI_code/geocode_project/preprocessed_data/nets_preprocessed.xlsx', index=False)\n",
    "# con.execute('SELECT * FROM compustat').fetchdf().to_excel('/Users/marisbuttmann/Desktop/HIWI_code/geocode_project/preprocessed_data/compustat_preprocessed.xlsx', index=False)"
   ]
  },
  {
   "cell_type": "code",
   "execution_count": null,
   "id": "e70139f08aa97677",
   "metadata": {
    "ExecuteTime": {
     "end_time": "2024-03-18T09:34:25.300569Z",
     "start_time": "2024-03-18T09:34:24.989360Z"
    },
    "collapsed": false
   },
   "outputs": [],
   "source": [
    "con.commit()\n",
    "con.close()"
   ]
  },
  {
   "cell_type": "code",
   "execution_count": null,
   "id": "598ef9ff",
   "metadata": {},
   "outputs": [],
   "source": []
  }
 ],
 "metadata": {
  "kernelspec": {
   "display_name": "Python 3",
   "language": "python",
   "name": "python3"
  },
  "language_info": {
   "codemirror_mode": {
    "name": "ipython",
    "version": 3
   },
   "file_extension": ".py",
   "mimetype": "text/x-python",
   "name": "python",
   "nbconvert_exporter": "python",
   "pygments_lexer": "ipython3",
   "version": "3.9.12"
  }
 },
 "nbformat": 4,
 "nbformat_minor": 5
}
