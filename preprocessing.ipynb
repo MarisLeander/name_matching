{
 "cells": [
  {
   "cell_type": "code",
   "execution_count": 1,
   "id": "initial_id",
   "metadata": {
    "ExecuteTime": {
     "end_time": "2024-03-18T09:33:21.588623Z",
     "start_time": "2024-03-18T09:33:19.778016Z"
    },
    "collapsed": true
   },
   "outputs": [],
   "source": [
    "import pandas as pd\n",
    "import duckdb"
   ]
  },
  {
   "cell_type": "code",
   "execution_count": 2,
   "id": "a57c31374d4b05cd",
   "metadata": {
    "ExecuteTime": {
     "end_time": "2024-03-18T09:33:21.598232Z",
     "start_time": "2024-03-18T09:33:21.592420Z"
    },
    "collapsed": false
   },
   "outputs": [],
   "source": [
    "# Connect to Database\n",
    "con = duckdb.connect(database='database.db', read_only=False)"
   ]
  },
  {
   "cell_type": "code",
   "execution_count": 3,
   "id": "a02d05ca0c5b9e6a",
   "metadata": {
    "ExecuteTime": {
     "end_time": "2024-03-18T09:33:47.325704Z",
     "start_time": "2024-03-18T09:33:21.599179Z"
    },
    "collapsed": false
   },
   "outputs": [],
   "source": [
    "# Mac Path\n",
    "# nets_pub_data = pd.read_stata('/Users/marisbuttmann/Desktop/HIWI_code/geocode_project/all_data/hq_companies_public_maris.dta')\n",
    "# nets_all_data = pd.read_stata('/Users/marisbuttmann/Desktop/HIWI_code/geocode_project/all_data/hq_all_maris.dta')\n",
    "# compustat_all = pd.read_stata('/Users/marisbuttmann/Desktop/HIWI_code/geocode_project/all_data/compustat.dta')\n",
    "# Workstation Path\n",
    "nets_all_data = pd.read_stata('S:/Users/Hiwi/Maris/name_matching/Data/hq_all_maris.dta')\n",
    "nets_pub_data = pd.read_stata('S:/Users/Hiwi/Maris/name_matching/Data/hq_companies_public_maris.dta')\n",
    "nets_city_state = pd.read_stata('S:/Users/Hiwi/Maris/name_matching/Data/nets_city_state.dta')\n",
    "compustat_all = pd.read_stata('S:/Users/Hiwi/Maris/name_matching/Data/compustat.dta')\n",
    "\n",
    "# ['HQDuns', 'HQCompany', 'HQAdress','HQZipCode', 'HQCity', 'HQState', 'HQArea', 'HQPhone', 'Latitude', 'Longitude', 'LevelCode']"
   ]
  },
  {
   "cell_type": "code",
   "execution_count": null,
   "id": "17bccde7b6acd056",
   "metadata": {
    "collapsed": false
   },
   "outputs": [],
   "source": [
    "# compustat_geocoded = pd.read_stata('/Users/marisbuttmann/Desktop/HIWI_code/geocode_project/all_data/compustat_geocoded_final.dta')\n",
    "compustat_geocoded = pd.read_stata('S:/Users/Hiwi/Maris/name_matching/Data/compustat_geocoded_final.dta')\n",
    "# ['gvkey', 'hq_address_compustat', 'count', 'lat', 'lon']"
   ]
  },
  {
   "cell_type": "code",
   "execution_count": 7,
   "id": "f578580f7884f4c2",
   "metadata": {
    "ExecuteTime": {
     "end_time": "2024-03-18T09:33:47.610068Z",
     "start_time": "2024-03-18T09:33:47.588346Z"
    },
    "collapsed": false
   },
   "outputs": [
    {
     "data": {
      "text/plain": [
       "┌──────────────┐\n",
       "│ count(gvkey) │\n",
       "│    int64     │\n",
       "├──────────────┤\n",
       "│        42980 │\n",
       "└──────────────┘"
      ]
     },
     "execution_count": 7,
     "metadata": {},
     "output_type": "execute_result"
    }
   ],
   "source": [
    "con.execute('DROP TABLE IF EXISTS compustat_geocoded')\n",
    "con.execute('CREATE TABLE compustat_geocoded AS SELECT * FROM compustat_geocoded')"
   ]
  },
  {
   "cell_type": "markdown",
   "id": "e301b6d08022e207",
   "metadata": {
    "collapsed": false
   },
   "source": [
    "-- START OF COMPUSTAT PREPROCESSING --"
   ]
  },
  {
   "cell_type": "code",
   "execution_count": 8,
   "id": "3bfbde357315339e",
   "metadata": {
    "ExecuteTime": {
     "end_time": "2024-03-18T09:33:47.636256Z",
     "start_time": "2024-03-18T09:33:47.610989Z"
    },
    "collapsed": false
   },
   "outputs": [
    {
     "data": {
      "text/plain": [
       "┌──────────────┐\n",
       "│ count_star() │\n",
       "│    int64     │\n",
       "├──────────────┤\n",
       "│        42979 │\n",
       "└──────────────┘"
      ]
     },
     "execution_count": 8,
     "metadata": {},
     "output_type": "execute_result"
    }
   ],
   "source": [
    "con.execute('DROP TABLE IF EXISTS compustat')\n",
    "con.execute('CREATE TABLE compustat AS SELECT DISTINCT gvkey, hqcompany, hqzipcode, city FROM compustat_all')"
   ]
  },
  {
   "cell_type": "code",
   "execution_count": null,
   "id": "5dc43ea5e54afd4b",
   "metadata": {
    "collapsed": false
   },
   "outputs": [],
   "source": [
    "# \"\"\"\n",
    "# Extract entries of compustat_geocoded that are not in all_data_cleaned\n",
    "# \"\"\"\n",
    "# query_str = \"\"\"\n",
    "# SELECT compustat_geocoded.gvkey\n",
    "# FROM compustat_geocoded\n",
    "# LEFT JOIN compustat ON compustat_geocoded.gvkey = compustat.gvkey\n",
    "# WHERE compustat.gvkey IS NULL;\n",
    "# \"\"\"\n",
    "# con.sql(query_str).fetchdf()"
   ]
  },
  {
   "cell_type": "code",
   "execution_count": 11,
   "id": "f511a42c0bc87384",
   "metadata": {
    "ExecuteTime": {
     "end_time": "2024-03-18T09:33:48.012941Z",
     "start_time": "2024-03-18T09:33:47.649185Z"
    },
    "collapsed": false
   },
   "outputs": [],
   "source": [
    "\"\"\"\n",
    "In this cell, we want to join the geo date from compustat_geocoded with the other data from compustat_all\n",
    "Also, we want to trim and upper case the city names to make the join more robust\n",
    "\"\"\"\n",
    "\n",
    "con.execute('ALTER TABLE compustat ADD COLUMN lat DECIMAL(9,6)')\n",
    "con.execute('ALTER TABLE compustat ADD COLUMN lon DECIMAL(9,6)')\n",
    "\n",
    "# TODO: Note that lat and lon are switched in compustat_geocoded. This is probably a mistake in the geocoding process\n",
    "sql_query = \"\"\"\n",
    "UPDATE compustat\n",
    "SET lat = compustat_geocoded.lon,\n",
    "    lon = compustat_geocoded.lat\n",
    "FROM compustat_geocoded\n",
    "WHERE compustat.gvkey = compustat_geocoded.gvkey;\n",
    "\"\"\"\n",
    "con.execute(sql_query)\n",
    "con.sql('UPDATE compustat SET city = UPPER(TRIM(city));')"
   ]
  },
  {
   "cell_type": "code",
   "execution_count": 12,
   "id": "1801a956fef07298",
   "metadata": {
    "ExecuteTime": {
     "end_time": "2024-03-18T09:33:48.023403Z",
     "start_time": "2024-03-18T09:33:48.013679Z"
    },
    "collapsed": false
   },
   "outputs": [
    {
     "data": {
      "text/plain": [
       "┌────────┬──────────────────────────────┬────────────┬───────────────┬──────────────┬──────────────┐\n",
       "│ gvkey  │          hqcompany           │ hqzipcode  │     city      │     lat      │     lon      │\n",
       "│ int32  │           varchar            │  varchar   │    varchar    │ decimal(9,6) │ decimal(9,6) │\n",
       "├────────┼──────────────────────────────┼────────────┼───────────────┼──────────────┼──────────────┤\n",
       "│  16709 │ PROSHARES MERGER ETF         │ 20814      │ BETHESDA      │    38.982081 │   -77.093941 │\n",
       "│  17051 │ GLOBAL X JUNIOR MLP ETF      │ 10158      │ NEW YORK      │    40.749096 │   -73.975398 │\n",
       "│  17360 │ INVESCO S&P SMCP LOW VOL ETF │ 60515      │ DOWNERS GROVE │    41.822742 │   -88.031668 │\n",
       "│  17682 │ ALPS ETF VLCTYSHRS EMG MKTS  │ 80203      │ DENVER        │    39.736700 │  -104.987340 │\n",
       "│  18988 │ CI MRNGSTR US MO INDEX ETF   │ M5J 0A3    │ TORONTO       │    43.653524 │   -79.383907 │\n",
       "│  19008 │ FIDELITY MSCI INFO TECH ETF  │ 94105-2618 │ SAN FRANCISCO │    37.789152 │  -122.395878 │\n",
       "│  19553 │ RBC QUANT CDN DIV LEADRS ETF │ M5V 3K7    │ TORONTO       │    43.645845 │   -79.385746 │\n",
       "│  19809 │ BMO MSCI EAFE INDEX ETF      │ M5K 1J5    │ TORONTO       │    43.671294 │   -79.384772 │\n",
       "│  19949 │ GLOBAL X GURU INTL INDEX ETF │ 10158      │ NEW YORK      │    40.749096 │   -73.975398 │\n",
       "│  20723 │ INVESCO MULTI-STRTGY ALT ETF │ 60515      │ DOWNERS GROVE │    41.822742 │   -88.031668 │\n",
       "│    ·   │             ·                │   ·        │    ·          │        ·     │        ·     │\n",
       "│    ·   │             ·                │   ·        │    ·          │        ·     │        ·     │\n",
       "│    ·   │             ·                │   ·        │    ·          │        ·     │        ·     │\n",
       "│ 187242 │ RUSSELL EQUITY INCOME ETF    │ 98101      │ SEATTLE       │    47.607713 │  -122.338236 │\n",
       "│ 187312 │ RUSSELL 2000 HIGH BETA ETF   │ 98101      │ SEATTLE       │    47.607713 │  -122.338236 │\n",
       "│ 187754 │ COLUMBIA EM QUALITY DIVI ETF │ 02210      │ BOSTON        │    42.352992 │   -71.052367 │\n",
       "│ 187804 │ VANECK MORTGAGE REIT INC ETF │ 10017      │ NEW YORK      │    40.751203 │   -73.974362 │\n",
       "│ 189492 │ RBC TARGET 2013 CORP BD ETF  │ M5V 3K7    │ TORONTO       │    43.645845 │   -79.385746 │\n",
       "│ 189494 │ RBC TARGET 2015 CORP BD ETF  │ M5V 3K7    │ TORONTO       │    43.645845 │   -79.385746 │\n",
       "│ 191756 │ BMO CVRD CL DJIA HD CAD ETF  │ M5K 1J5    │ TORONTO       │    43.671294 │   -79.384772 │\n",
       "│ 191964 │ INVESCO KBW BANK ETF         │ 60515      │ DOWNERS GROVE │    41.822742 │   -88.031668 │\n",
       "│ 194457 │ PIMCO CANADA BOND INDEX ETF  │ 92660      │ NEWPORT BEACH │    33.619506 │  -117.873802 │\n",
       "│ 195556 │ GLOBAL X SOCIAL MEDIA ETF    │ 10158      │ NEW YORK      │    40.749096 │   -73.975398 │\n",
       "├────────┴──────────────────────────────┴────────────┴───────────────┴──────────────┴──────────────┤\n",
       "│ 3197 rows (20 shown)                                                                   6 columns │\n",
       "└──────────────────────────────────────────────────────────────────────────────────────────────────┘"
      ]
     },
     "execution_count": 12,
     "metadata": {},
     "output_type": "execute_result"
    }
   ],
   "source": [
    "\"\"\"\n",
    "Apparently, there are 3197 ETFS in the compustat dataset. We want to get rid of them.\n",
    "# \"\"\"\n",
    "# sql_query = \"\"\"\n",
    "# SELECT *\n",
    "# FROM compustat\n",
    "# WHERE REGEXP_MATCHES(hqcompany, '\\\\bETF\\\\b');\n",
    "# \"\"\"\n",
    "# con.execute(sql_query)\n",
    "\"\"\"\n",
    "We delete all entries that contain the substring 'ETF'\n",
    "\"\"\"\n",
    "sql_query = \"\"\"\n",
    "DELETE FROM compustat\n",
    "WHERE REGEXP_MATCHES(hqcompany, '\\\\bETF\\\\b');\n",
    "\"\"\"\n",
    "con.execute(sql_query)"
   ]
  },
  {
   "cell_type": "code",
   "execution_count": null,
   "id": "cb859ce1ff6b4e0",
   "metadata": {
    "collapsed": false
   },
   "outputs": [],
   "source": [
    "\"\"\"\n",
    "In this Cell we want to preprocess the names of the compustat datasets\n",
    "We replace longer terms with their abbreviations or special Characters, to reduce their weight in the name, but keeping them, to improve matching score\n",
    "Also we want to get rid of whitespaces and dashes\n",
    "\"\"\"\n",
    "\n",
    "query_str = \"\"\"\n",
    "UPDATE compustat\n",
    "SET hqcompany = TRIM(\n",
    "    REGEXP_REPLACE(\n",
    "        REGEXP_REPLACE(\n",
    "            REGEXP_REPLACE(\n",
    "                REGEXP_REPLACE(\n",
    "                    REGEXP_REPLACE(\n",
    "                        REGEXP_REPLACE(\n",
    "                            REGEXP_REPLACE(\n",
    "                                REGEXP_REPLACE(\n",
    "                                    REGEXP_REPLACE(\n",
    "                                        REGEXP_REPLACE(\n",
    "                                            REGEXP_REPLACE(\n",
    "                                                REGEXP_REPLACE( \n",
    "                                                    REGEXP_REPLACE(\n",
    "                                                        REGEXP_REPLACE(\n",
    "                                                            REGEXP_REPLACE(\n",
    "                                                                REGEXP_REPLACE(\n",
    "                                                                    REGEXP_REPLACE(\n",
    "                                                                        REGEXP_REPLACE(\n",
    "                                                                            REGEXP_REPLACE(hqcompany, 'INCORPORATED', 'INC'),\n",
    "                                                                        'LIMITED', '`LTD'),\n",
    "                                                                    'CORPORATION', 'CORP'),\n",
    "                                                                'COMPANY', 'CO'),\n",
    "                                                            'HOLDINGS', 'HLDGS'),\n",
    "                                                        'GROUP', 'GRP'),\n",
    "                                                    'INTERNATIONAL', 'INTL'),\n",
    "                                                'TECHNOLOGIES', '@'),\n",
    "                                            'THERAPEUTICS', '^'),\n",
    "                                        'PHARMACEUTICALS', '$'),\n",
    "                                    'INDUSTRIES', 'IND'),\n",
    "                                'TECHNOLOGY', '!'),\n",
    "                            'FINANCIAL', ')'),\n",
    "                        'COMMUNICATIONS', '('),\n",
    "                    'PROPERTIES', '\\'),\n",
    "                '\\\\b-\\\\b', ''),\n",
    "            '\\\\s+', '', 'g'),\n",
    "        'BANCORPINC', '}'),\n",
    "    'HLDGSINC', '{')\n",
    "    )\n",
    "\"\"\"\n",
    "con.execute(query_str)"
   ]
  },
  {
   "cell_type": "markdown",
   "id": "a6c4f5840597b102",
   "metadata": {
    "collapsed": false
   },
   "source": [
    "\n",
    "-- END OF COMPUSTAT PREPROCESSING --\n",
    "\n",
    "\n",
    "-- START OF NETS PREPROCESSING --\n"
   ]
  },
  {
   "cell_type": "code",
   "execution_count": null,
   "id": "7e20a0288c16d36d",
   "metadata": {
    "collapsed": false
   },
   "outputs": [],
   "source": [
    "con.execute('DROP TABLE IF EXISTS nets_all')\n",
    "con.execute('CREATE TABLE nets_all AS SELECT hqduns, hqcompany, latitude, longitude, FROM nets_all_data')"
   ]
  },
  {
   "cell_type": "code",
   "execution_count": null,
   "id": "4ff13a023cf30c78",
   "metadata": {
    "collapsed": false
   },
   "outputs": [],
   "source": [
    "\"\"\"\n",
    "In this Cell we want to preprocess the names of the Nets datasets\n",
    "We replace longer terms with their abbreviations or special Characters, to reduce their weight in the name, but keeping them, to improve matching score\n",
    "Also we want to get rid of whitespaces and dashes\n",
    "\"\"\"\n",
    "\n",
    "query_str = \"\"\"\n",
    "UPDATE nets_all\n",
    "SET hqcompany = TRIM(\n",
    "    REGEXP_REPLACE(\n",
    "        REGEXP_REPLACE(\n",
    "            REGEXP_REPLACE(\n",
    "                REGEXP_REPLACE(\n",
    "                    REGEXP_REPLACE(\n",
    "                        REGEXP_REPLACE(\n",
    "                            REGEXP_REPLACE(\n",
    "                                REGEXP_REPLACE(\n",
    "                                    REGEXP_REPLACE(\n",
    "                                        REGEXP_REPLACE(\n",
    "                                            REGEXP_REPLACE(\n",
    "                                                REGEXP_REPLACE( \n",
    "                                                    REGEXP_REPLACE(\n",
    "                                                        REGEXP_REPLACE(\n",
    "                                                            REGEXP_REPLACE(\n",
    "                                                                REGEXP_REPLACE(\n",
    "                                                                    REGEXP_REPLACE(\n",
    "                                                                        REGEXP_REPLACE(\n",
    "                                                                            REGEXP_REPLACE(hqcompany, 'INCORPORATED', 'INC'),\n",
    "                                                                        'LIMITED', '`LTD'),\n",
    "                                                                    'CORPORATION', 'CORP'),\n",
    "                                                                'COMPANY', 'CO'),\n",
    "                                                            'HOLDINGS', 'HLDGS'),\n",
    "                                                        'GROUP', 'GRP'),\n",
    "                                                    'INTERNATIONAL', 'INTL'),\n",
    "                                                'TECHNOLOGIES', '@'),\n",
    "                                            'THERAPEUTICS', '^'),\n",
    "                                        'PHARMACEUTICALS', '$'),\n",
    "                                    'INDUSTRIES', 'IND'),\n",
    "                                'TECHNOLOGY', '!'),\n",
    "                            'FINANCIAL', ')'),\n",
    "                        'COMMUNICATIONS', '('),\n",
    "                    'PROPERTIES', '\\'),\n",
    "                '\\\\b-\\\\b', ''),\n",
    "            '\\\\s+', '', 'g'),\n",
    "        'BANCORPINC', '}'),\n",
    "    'HLDGSINC', '{')\n",
    "    )\n",
    "\"\"\"\n",
    "con.execute(query_str)"
   ]
  },
  {
   "cell_type": "code",
   "execution_count": null,
   "id": "7d577c43c9d7120e",
   "metadata": {
    "collapsed": false
   },
   "outputs": [],
   "source": [
    "\"\"\"\n",
    "In this Cell we will fix the longitudes of the NETS all data\n",
    "The coordinates are not correct in our NETS sample. \n",
    "Lat-long coordinates for cities in United States are in range: Latitude from 19.50139 to 64.85694 and longitude from -161.75583 to -68.01197. (Source: https://latitudelongitude.org/us/)\n",
    "We need to invert the longitudes\n",
    "\"\"\"\n",
    "sql_query = \"\"\"\n",
    "    UPDATE nets_all\n",
    "    SET longitude = -longitude;\n",
    "\"\"\"\n",
    "con.execute(sql_query)"
   ]
  },
  {
   "cell_type": "markdown",
   "id": "792cd21069edb1cd",
   "metadata": {
    "collapsed": false
   },
   "source": [
    "-- NETS PUB PREPROCESSING --"
   ]
  },
  {
   "cell_type": "code",
   "execution_count": 22,
   "id": "94816e6aa2d457bf",
   "metadata": {
    "ExecuteTime": {
     "end_time": "2024-03-18T09:34:24.912382Z",
     "start_time": "2024-03-18T09:34:24.880057Z"
    },
    "collapsed": false
   },
   "outputs": [
    {
     "data": {
      "text/plain": [
       "<duckdb.duckdb.DuckDBPyConnection at 0x1d4dde141b0>"
      ]
     },
     "execution_count": 22,
     "metadata": {},
     "output_type": "execute_result"
    }
   ],
   "source": [
    "con.execute('DROP TABLE IF EXISTS nets_pub')\n",
    "con.execute('CREATE TABLE nets_pub AS SELECT hqduns, hqcompany, latitude, longitude, FROM nets_pub_data')"
   ]
  },
  {
   "cell_type": "code",
   "execution_count": 23,
   "id": "cb5a61fcecf8826a",
   "metadata": {
    "ExecuteTime": {
     "end_time": "2024-03-18T09:34:24.982097Z",
     "start_time": "2024-03-18T09:34:24.913053Z"
    },
    "collapsed": false
   },
   "outputs": [
    {
     "data": {
      "text/plain": [
       "<duckdb.duckdb.DuckDBPyConnection at 0x1d4dde141b0>"
      ]
     },
     "execution_count": 23,
     "metadata": {},
     "output_type": "execute_result"
    }
   ],
   "source": [
    "\"\"\"\n",
    "In this Cell we want to preprocess the names of the NETS datasets\n",
    "\"\"\"\n",
    "query_str = \"\"\"\n",
    "UPDATE nets_pub\n",
    "SET hqcompany = TRIM(\n",
    "    REGEXP_REPLACE(\n",
    "        REGEXP_REPLACE(\n",
    "            REGEXP_REPLACE(\n",
    "                REGEXP_REPLACE(\n",
    "                    REGEXP_REPLACE(\n",
    "                        REGEXP_REPLACE(\n",
    "                            REGEXP_REPLACE(\n",
    "                                REGEXP_REPLACE(\n",
    "                                    REGEXP_REPLACE(\n",
    "                                        REGEXP_REPLACE(\n",
    "                                            REGEXP_REPLACE(\n",
    "                                                REGEXP_REPLACE( \n",
    "                                                    REGEXP_REPLACE(\n",
    "                                                        REGEXP_REPLACE(\n",
    "                                                            REGEXP_REPLACE(\n",
    "                                                                REGEXP_REPLACE(\n",
    "                                                                    REGEXP_REPLACE(\n",
    "                                                                        REGEXP_REPLACE(\n",
    "                                                                            REGEXP_REPLACE(hqcompany, 'INCORPORATED', 'INC'),\n",
    "                                                                        'LIMITED', '`LTD'),\n",
    "                                                                    'CORPORATION', 'CORP'),\n",
    "                                                                'COMPANY', 'CO'),\n",
    "                                                            'HOLDINGS', 'HLDGS'),\n",
    "                                                        'GROUP', 'GRP'),\n",
    "                                                    'INTERNATIONAL', 'INTL'),\n",
    "                                                'TECHNOLOGIES', '@'),\n",
    "                                            'THERAPEUTICS', '^'),\n",
    "                                        'PHARMACEUTICALS', '$'),\n",
    "                                    'INDUSTRIES', 'IND'),\n",
    "                                'TECHNOLOGY', '!'),\n",
    "                            'FINANCIAL', ')'),\n",
    "                        'COMMUNICATIONS', '('),\n",
    "                    'PROPERTIES', '\\'),\n",
    "                '\\\\b-\\\\b', ''),\n",
    "            '\\\\s+', '', 'g'),\n",
    "        'BANCORPINC', '}'),\n",
    "    'HLDGSINC', '{')\n",
    "    )\n",
    "\"\"\"\n",
    "con.execute(query_str)"
   ]
  },
  {
   "cell_type": "code",
   "execution_count": 24,
   "id": "f29cdb80e9917a01",
   "metadata": {
    "ExecuteTime": {
     "end_time": "2024-03-18T09:34:24.986218Z",
     "start_time": "2024-03-18T09:34:24.982794Z"
    },
    "collapsed": false
   },
   "outputs": [
    {
     "data": {
      "text/plain": [
       "<duckdb.duckdb.DuckDBPyConnection at 0x1d4dde141b0>"
      ]
     },
     "execution_count": 24,
     "metadata": {},
     "output_type": "execute_result"
    }
   ],
   "source": [
    "\"\"\"\n",
    "In this Cell we will fix the longitudes of the NETS pub data\n",
    "The coordinates are not correct in our NETS sample. \n",
    "Lat-long coordinates for cities in United States are in range: Latitude from 19.50139 to 64.85694 and longitude from -161.75583 to -68.01197. (Source: https://latitudelongitude.org/us/)\n",
    "We need to invert the longitudes\n",
    "\"\"\"\n",
    "\n",
    "sql_query = \"\"\"\n",
    "    UPDATE nets_pub\n",
    "    SET longitude = -longitude;\n",
    "\"\"\"\n",
    "con.execute(sql_query)"
   ]
  },
  {
   "cell_type": "code",
   "execution_count": null,
   "id": "e70139f08aa97677",
   "metadata": {
    "ExecuteTime": {
     "end_time": "2024-03-18T09:34:25.300569Z",
     "start_time": "2024-03-18T09:34:24.989360Z"
    },
    "collapsed": false
   },
   "outputs": [],
   "source": [
    "con.commit()\n",
    "con.close()"
   ]
  }
 ],
 "metadata": {
  "kernelspec": {
   "display_name": "Python 3",
   "language": "python",
   "name": "python3"
  },
  "language_info": {
   "codemirror_mode": {
    "name": "ipython",
    "version": 3
   },
   "file_extension": ".py",
   "mimetype": "text/x-python",
   "name": "python",
   "nbconvert_exporter": "python",
   "pygments_lexer": "ipython3",
   "version": "3.9.12"
  }
 },
 "nbformat": 4,
 "nbformat_minor": 5
}
