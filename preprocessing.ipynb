{
 "cells": [
  {
   "cell_type": "code",
   "execution_count": 1,
   "id": "initial_id",
   "metadata": {
    "collapsed": true,
    "ExecuteTime": {
     "end_time": "2024-03-17T19:20:19.765235Z",
     "start_time": "2024-03-17T19:20:19.479695Z"
    }
   },
   "outputs": [],
   "source": [
    "import pandas as pd\n",
    "import duckdb"
   ]
  },
  {
   "cell_type": "code",
   "outputs": [],
   "source": [
    "# Connect to Database\n",
    "con = duckdb.connect(database='test.db', read_only=False)"
   ],
   "metadata": {
    "collapsed": false,
    "ExecuteTime": {
     "end_time": "2024-03-17T19:20:19.770384Z",
     "start_time": "2024-03-17T19:20:19.766267Z"
    }
   },
   "id": "a57c31374d4b05cd",
   "execution_count": 2
  },
  {
   "cell_type": "code",
   "outputs": [],
   "source": [
    "nets_pub_data = pd.read_stata('/Users/marisbuttmann/Desktop/HIWI_code/geocode_project/all_data/hq_companies_public_maris.dta')\n",
    "nets_all_data = pd.read_stata('/Users/marisbuttmann/Desktop/HIWI_code/geocode_project/all_data/hq_all_maris.dta')\n",
    "# ['HQDuns', 'HQCompany', 'HQAdress','HQZipCode', 'HQCity', 'HQState', 'HQArea', 'HQPhone', 'Latitude', 'Longitude', 'LevelCode']"
   ],
   "metadata": {
    "collapsed": false,
    "ExecuteTime": {
     "end_time": "2024-03-17T19:20:46.526644Z",
     "start_time": "2024-03-17T19:20:19.770938Z"
    }
   },
   "id": "a02d05ca0c5b9e6a",
   "execution_count": 3
  },
  {
   "cell_type": "code",
   "outputs": [
    {
     "name": "stdout",
     "output_type": "stream",
     "text": [
      "<class 'pandas.core.frame.DataFrame'>\n",
      "RangeIndex: 82365757 entries, 0 to 82365756\n",
      "Data columns (total 4 columns):\n",
      " #   Column     Dtype  \n",
      "---  ------     -----  \n",
      " 0   latitude   float32\n",
      " 1   longitude  float32\n",
      " 2   hqduns     int32  \n",
      " 3   hqcompany  object \n",
      "dtypes: float32(2), int32(1), object(1)\n",
      "memory usage: 1.5+ GB\n"
     ]
    }
   ],
   "source": [
    "nets_all_data.info()"
   ],
   "metadata": {
    "collapsed": false,
    "ExecuteTime": {
     "end_time": "2024-03-17T19:20:46.540287Z",
     "start_time": "2024-03-17T19:20:46.528453Z"
    }
   },
   "id": "bfbc74d79a3e035e",
   "execution_count": 4
  },
  {
   "cell_type": "code",
   "outputs": [
    {
     "name": "stdout",
     "output_type": "stream",
     "text": [
      "<class 'pandas.core.frame.DataFrame'>\n",
      "RangeIndex: 42979 entries, 0 to 42978\n",
      "Data columns (total 20 columns):\n",
      " #   Column     Non-Null Count  Dtype  \n",
      "---  ------     --------------  -----  \n",
      " 0   gvkey      42979 non-null  int32  \n",
      " 1   datadate   42979 non-null  object \n",
      " 2   fyear      42808 non-null  float64\n",
      " 3   indfmt     42979 non-null  object \n",
      " 4   consol     42979 non-null  object \n",
      " 5   popsrc     42979 non-null  object \n",
      " 6   datafmt    42979 non-null  object \n",
      " 7   tic        42979 non-null  object \n",
      " 8   hqcompany  42979 non-null  object \n",
      " 9   curcd      42979 non-null  object \n",
      " 10  costat     42979 non-null  object \n",
      " 11  hqaddress  42979 non-null  object \n",
      " 12  add2       42979 non-null  object \n",
      " 13  add3       42979 non-null  object \n",
      " 14  add4       42979 non-null  object \n",
      " 15  hqzipcode  42979 non-null  object \n",
      " 16  city       42979 non-null  object \n",
      " 17  conml      42979 non-null  object \n",
      " 18  state      42979 non-null  object \n",
      " 19  hqzip4     33973 non-null  float64\n",
      "dtypes: float64(2), int32(1), object(17)\n",
      "memory usage: 6.4+ MB\n"
     ]
    }
   ],
   "source": [
    "compustat_all = pd.read_stata('/Users/marisbuttmann/Desktop/HIWI_code/geocode_project/all_data/compustat.dta')\n",
    "# ['gvkey', 'conm', 'add1', 'addzip', 'city', 'loc', 'state', 'phone']\n",
    "compustat_all.info()"
   ],
   "metadata": {
    "collapsed": false,
    "ExecuteTime": {
     "end_time": "2024-03-17T19:20:46.762129Z",
     "start_time": "2024-03-17T19:20:46.541804Z"
    }
   },
   "id": "dfb23792a244c768",
   "execution_count": 5
  },
  {
   "cell_type": "code",
   "outputs": [
    {
     "data": {
      "text/plain": "        gvkey    datadate   fyear indfmt consol popsrc datafmt     tic  \\\n21543   29477  1994-12-31  1994.0   INDL      C      D     STD   VGS.Z   \n22279   30539  1994-12-31  1994.0   INDL      C      D     STD     HME   \n31734  107754  1996-04-30  1995.0   INDL      C      D     STD   PFG.2   \n11828   13170  1986-03-31  1985.0   INDL      C      D     STD    TNEX   \n33409  125614  1999-08-31  1999.0   INDL      C      D     STD     EWU   \n...       ...         ...     ...    ...    ...    ...     ...     ...   \n3393     4451  1984-05-31  1983.0   INDL      C      D     STD    ESPT   \n13348   14885  1986-09-30  1986.0   INDL      C      D     STD  3STXXQ   \n14938   17896  2011-12-31  2011.0   INDL      C      D     STD    HCAP   \n35109  146136  1999-12-31  1999.0   INDL      C      D     STD    HTOG   \n42721  270509  2019-12-31  2019.0   INDL      C      D     STD    NTCO   \n\n                          hqcompany curcd costat  \\\n21543        VGS SEISMIC CANADA INC   CAD      I   \n22279           HOME PROPERTIES INC   USD      I   \n31734   PACIFIC RIM MINING CORP-OLD   CAD      I   \n11828       TUNEX INTERNATIONAL INC   USD      I   \n33409          ISHARES MSCI U K ETF   USD      A   \n...                             ...   ...    ...   \n3393             ESPRIT SYSTEMS INC   USD      I   \n13348  STERLING CHEMICALS HLDGS INC   USD      I   \n14938   HARVEST CAPITAL CREDIT CORP   USD      I   \n35109      HEARTLAND OIL & GAS CORP   USD      I   \n42721         NATURA &CO HOLDING SA   USD      A   \n\n                                               hqaddress add2 add3 add4  \\\n21543                       333-5 Avenue S.W., Suite 500                  \n22279                                 850 Clinton Square                  \n31734                            595 Burrard St Ste 2393                  \n11828                                556 East 2100 South                  \n33409                                  400 Howard Street                  \n...                                                  ...  ...  ...  ...   \n3393                                   6723 Mowry Avenue                  \n13348                      1200 Smith Street, Suite 1900                  \n14938                         450 Park Avenue, 5th Floor                  \n35109                                  600 Travis Street                  \n42721  Avenida Alexandre Colares, No. 1188, Sala A17-...                  \n\n        hqzipcode            city                            conml state  \\\n21543     T2P 3B6         Calgary           VGS Seismic Canada Inc    AB   \n22279  14604-1730       Rochester             Home Properties Inc.    NY   \n31734     V7X 1K8       Vancouver      Pacific Rim Mining Corp-Old    BC   \n11828  84106-1423  Salt Lake City          Tunex International Inc    UT   \n33409  94105-2618   San Francisco  iShares MSCI United Kingdom ETF    CA   \n...           ...             ...                              ...   ...   \n3393        94560          Newark               Esprit Systems Inc    CA   \n13348       77002         Houston  Sterling Chemicals Holdings Inc    TX   \n14938       10022        New York      Harvest Capital Credit Corp    NY   \n35109       77002         Houston         Heartland Oil & Gas Corp    TX   \n42721   05106-000       Sao Paulo            Natura &Co Holding SA         \n\n       hqzip4  \n21543     NaN  \n22279  1460.0  \n31734     NaN  \n11828  8410.0  \n33409  9410.0  \n...       ...  \n3393   9456.0  \n13348  7700.0  \n14938  1002.0  \n35109  7700.0  \n42721   510.0  \n\n[100 rows x 20 columns]",
      "text/html": "<div>\n<style scoped>\n    .dataframe tbody tr th:only-of-type {\n        vertical-align: middle;\n    }\n\n    .dataframe tbody tr th {\n        vertical-align: top;\n    }\n\n    .dataframe thead th {\n        text-align: right;\n    }\n</style>\n<table border=\"1\" class=\"dataframe\">\n  <thead>\n    <tr style=\"text-align: right;\">\n      <th></th>\n      <th>gvkey</th>\n      <th>datadate</th>\n      <th>fyear</th>\n      <th>indfmt</th>\n      <th>consol</th>\n      <th>popsrc</th>\n      <th>datafmt</th>\n      <th>tic</th>\n      <th>hqcompany</th>\n      <th>curcd</th>\n      <th>costat</th>\n      <th>hqaddress</th>\n      <th>add2</th>\n      <th>add3</th>\n      <th>add4</th>\n      <th>hqzipcode</th>\n      <th>city</th>\n      <th>conml</th>\n      <th>state</th>\n      <th>hqzip4</th>\n    </tr>\n  </thead>\n  <tbody>\n    <tr>\n      <th>21543</th>\n      <td>29477</td>\n      <td>1994-12-31</td>\n      <td>1994.0</td>\n      <td>INDL</td>\n      <td>C</td>\n      <td>D</td>\n      <td>STD</td>\n      <td>VGS.Z</td>\n      <td>VGS SEISMIC CANADA INC</td>\n      <td>CAD</td>\n      <td>I</td>\n      <td>333-5 Avenue S.W., Suite 500</td>\n      <td></td>\n      <td></td>\n      <td></td>\n      <td>T2P 3B6</td>\n      <td>Calgary</td>\n      <td>VGS Seismic Canada Inc</td>\n      <td>AB</td>\n      <td>NaN</td>\n    </tr>\n    <tr>\n      <th>22279</th>\n      <td>30539</td>\n      <td>1994-12-31</td>\n      <td>1994.0</td>\n      <td>INDL</td>\n      <td>C</td>\n      <td>D</td>\n      <td>STD</td>\n      <td>HME</td>\n      <td>HOME PROPERTIES INC</td>\n      <td>USD</td>\n      <td>I</td>\n      <td>850 Clinton Square</td>\n      <td></td>\n      <td></td>\n      <td></td>\n      <td>14604-1730</td>\n      <td>Rochester</td>\n      <td>Home Properties Inc.</td>\n      <td>NY</td>\n      <td>1460.0</td>\n    </tr>\n    <tr>\n      <th>31734</th>\n      <td>107754</td>\n      <td>1996-04-30</td>\n      <td>1995.0</td>\n      <td>INDL</td>\n      <td>C</td>\n      <td>D</td>\n      <td>STD</td>\n      <td>PFG.2</td>\n      <td>PACIFIC RIM MINING CORP-OLD</td>\n      <td>CAD</td>\n      <td>I</td>\n      <td>595 Burrard St Ste 2393</td>\n      <td></td>\n      <td></td>\n      <td></td>\n      <td>V7X 1K8</td>\n      <td>Vancouver</td>\n      <td>Pacific Rim Mining Corp-Old</td>\n      <td>BC</td>\n      <td>NaN</td>\n    </tr>\n    <tr>\n      <th>11828</th>\n      <td>13170</td>\n      <td>1986-03-31</td>\n      <td>1985.0</td>\n      <td>INDL</td>\n      <td>C</td>\n      <td>D</td>\n      <td>STD</td>\n      <td>TNEX</td>\n      <td>TUNEX INTERNATIONAL INC</td>\n      <td>USD</td>\n      <td>I</td>\n      <td>556 East 2100 South</td>\n      <td></td>\n      <td></td>\n      <td></td>\n      <td>84106-1423</td>\n      <td>Salt Lake City</td>\n      <td>Tunex International Inc</td>\n      <td>UT</td>\n      <td>8410.0</td>\n    </tr>\n    <tr>\n      <th>33409</th>\n      <td>125614</td>\n      <td>1999-08-31</td>\n      <td>1999.0</td>\n      <td>INDL</td>\n      <td>C</td>\n      <td>D</td>\n      <td>STD</td>\n      <td>EWU</td>\n      <td>ISHARES MSCI U K ETF</td>\n      <td>USD</td>\n      <td>A</td>\n      <td>400 Howard Street</td>\n      <td></td>\n      <td></td>\n      <td></td>\n      <td>94105-2618</td>\n      <td>San Francisco</td>\n      <td>iShares MSCI United Kingdom ETF</td>\n      <td>CA</td>\n      <td>9410.0</td>\n    </tr>\n    <tr>\n      <th>...</th>\n      <td>...</td>\n      <td>...</td>\n      <td>...</td>\n      <td>...</td>\n      <td>...</td>\n      <td>...</td>\n      <td>...</td>\n      <td>...</td>\n      <td>...</td>\n      <td>...</td>\n      <td>...</td>\n      <td>...</td>\n      <td>...</td>\n      <td>...</td>\n      <td>...</td>\n      <td>...</td>\n      <td>...</td>\n      <td>...</td>\n      <td>...</td>\n      <td>...</td>\n    </tr>\n    <tr>\n      <th>3393</th>\n      <td>4451</td>\n      <td>1984-05-31</td>\n      <td>1983.0</td>\n      <td>INDL</td>\n      <td>C</td>\n      <td>D</td>\n      <td>STD</td>\n      <td>ESPT</td>\n      <td>ESPRIT SYSTEMS INC</td>\n      <td>USD</td>\n      <td>I</td>\n      <td>6723 Mowry Avenue</td>\n      <td></td>\n      <td></td>\n      <td></td>\n      <td>94560</td>\n      <td>Newark</td>\n      <td>Esprit Systems Inc</td>\n      <td>CA</td>\n      <td>9456.0</td>\n    </tr>\n    <tr>\n      <th>13348</th>\n      <td>14885</td>\n      <td>1986-09-30</td>\n      <td>1986.0</td>\n      <td>INDL</td>\n      <td>C</td>\n      <td>D</td>\n      <td>STD</td>\n      <td>3STXXQ</td>\n      <td>STERLING CHEMICALS HLDGS INC</td>\n      <td>USD</td>\n      <td>I</td>\n      <td>1200 Smith Street, Suite 1900</td>\n      <td></td>\n      <td></td>\n      <td></td>\n      <td>77002</td>\n      <td>Houston</td>\n      <td>Sterling Chemicals Holdings Inc</td>\n      <td>TX</td>\n      <td>7700.0</td>\n    </tr>\n    <tr>\n      <th>14938</th>\n      <td>17896</td>\n      <td>2011-12-31</td>\n      <td>2011.0</td>\n      <td>INDL</td>\n      <td>C</td>\n      <td>D</td>\n      <td>STD</td>\n      <td>HCAP</td>\n      <td>HARVEST CAPITAL CREDIT CORP</td>\n      <td>USD</td>\n      <td>I</td>\n      <td>450 Park Avenue, 5th Floor</td>\n      <td></td>\n      <td></td>\n      <td></td>\n      <td>10022</td>\n      <td>New York</td>\n      <td>Harvest Capital Credit Corp</td>\n      <td>NY</td>\n      <td>1002.0</td>\n    </tr>\n    <tr>\n      <th>35109</th>\n      <td>146136</td>\n      <td>1999-12-31</td>\n      <td>1999.0</td>\n      <td>INDL</td>\n      <td>C</td>\n      <td>D</td>\n      <td>STD</td>\n      <td>HTOG</td>\n      <td>HEARTLAND OIL &amp; GAS CORP</td>\n      <td>USD</td>\n      <td>I</td>\n      <td>600 Travis Street</td>\n      <td></td>\n      <td></td>\n      <td></td>\n      <td>77002</td>\n      <td>Houston</td>\n      <td>Heartland Oil &amp; Gas Corp</td>\n      <td>TX</td>\n      <td>7700.0</td>\n    </tr>\n    <tr>\n      <th>42721</th>\n      <td>270509</td>\n      <td>2019-12-31</td>\n      <td>2019.0</td>\n      <td>INDL</td>\n      <td>C</td>\n      <td>D</td>\n      <td>STD</td>\n      <td>NTCO</td>\n      <td>NATURA &amp;CO HOLDING SA</td>\n      <td>USD</td>\n      <td>A</td>\n      <td>Avenida Alexandre Colares, No. 1188, Sala A17-...</td>\n      <td></td>\n      <td></td>\n      <td></td>\n      <td>05106-000</td>\n      <td>Sao Paulo</td>\n      <td>Natura &amp;Co Holding SA</td>\n      <td></td>\n      <td>510.0</td>\n    </tr>\n  </tbody>\n</table>\n<p>100 rows × 20 columns</p>\n</div>"
     },
     "execution_count": 6,
     "metadata": {},
     "output_type": "execute_result"
    }
   ],
   "source": [
    "compustat_all.sample(100)"
   ],
   "metadata": {
    "collapsed": false,
    "ExecuteTime": {
     "end_time": "2024-03-17T19:20:46.775403Z",
     "start_time": "2024-03-17T19:20:46.762682Z"
    }
   },
   "id": "4f431aa10bbdf960",
   "execution_count": 6
  },
  {
   "cell_type": "code",
   "outputs": [
    {
     "name": "stdout",
     "output_type": "stream",
     "text": [
      "<class 'pandas.core.frame.DataFrame'>\n",
      "RangeIndex: 42980 entries, 0 to 42979\n",
      "Data columns (total 5 columns):\n",
      " #   Column                Non-Null Count  Dtype  \n",
      "---  ------                --------------  -----  \n",
      " 0   gvkey                 42980 non-null  int32  \n",
      " 1   hq_address_compustat  42980 non-null  object \n",
      " 2   count                 42980 non-null  float32\n",
      " 3   lat                   41999 non-null  float64\n",
      " 4   lon                   41999 non-null  float64\n",
      "dtypes: float32(1), float64(2), int32(1), object(1)\n",
      "memory usage: 1.3+ MB\n",
      "None\n"
     ]
    },
    {
     "data": {
      "text/plain": "        gvkey                     hq_address_compustat    count         lat  \\\n0        1000                                               1.0         NaN   \n1        1001         1924 South Utica Avenue Tulsa OK      2.0  -95.968066   \n2        1002         124 Industry Lane Hunt Valley MD      3.0  -76.641662   \n3        1003            7700 Hall Street St. Louis MO      4.0  -90.225770   \n4        1004   1100 North Wood Dale Road Wood Dale IL      5.0  -87.981054   \n...       ...                                      ...      ...         ...   \n42975  351491                  Via Puglia n. 35 Turin   42976.0    7.723420   \n42976  351590   Fasanenweg 10 Leinfelden-Echterdingen   42977.0    9.145069   \n42977  352262                                Hamilton   42978.0  175.281099   \n42978  353444        The Heights Building 5 Weybridge   42979.0   -0.462543   \n42979  353945                Bruggerstrasse 71a Baden   42980.0    8.301259   \n\n             lon  \n0            NaN  \n1      36.134328  \n2      39.467797  \n3      38.707338  \n4      41.986749  \n...          ...  \n42975  45.106830  \n42976  48.707416  \n42977 -37.789474  \n42978  51.352960  \n42979  47.479280  \n\n[42980 rows x 5 columns]",
      "text/html": "<div>\n<style scoped>\n    .dataframe tbody tr th:only-of-type {\n        vertical-align: middle;\n    }\n\n    .dataframe tbody tr th {\n        vertical-align: top;\n    }\n\n    .dataframe thead th {\n        text-align: right;\n    }\n</style>\n<table border=\"1\" class=\"dataframe\">\n  <thead>\n    <tr style=\"text-align: right;\">\n      <th></th>\n      <th>gvkey</th>\n      <th>hq_address_compustat</th>\n      <th>count</th>\n      <th>lat</th>\n      <th>lon</th>\n    </tr>\n  </thead>\n  <tbody>\n    <tr>\n      <th>0</th>\n      <td>1000</td>\n      <td></td>\n      <td>1.0</td>\n      <td>NaN</td>\n      <td>NaN</td>\n    </tr>\n    <tr>\n      <th>1</th>\n      <td>1001</td>\n      <td>1924 South Utica Avenue Tulsa OK</td>\n      <td>2.0</td>\n      <td>-95.968066</td>\n      <td>36.134328</td>\n    </tr>\n    <tr>\n      <th>2</th>\n      <td>1002</td>\n      <td>124 Industry Lane Hunt Valley MD</td>\n      <td>3.0</td>\n      <td>-76.641662</td>\n      <td>39.467797</td>\n    </tr>\n    <tr>\n      <th>3</th>\n      <td>1003</td>\n      <td>7700 Hall Street St. Louis MO</td>\n      <td>4.0</td>\n      <td>-90.225770</td>\n      <td>38.707338</td>\n    </tr>\n    <tr>\n      <th>4</th>\n      <td>1004</td>\n      <td>1100 North Wood Dale Road Wood Dale IL</td>\n      <td>5.0</td>\n      <td>-87.981054</td>\n      <td>41.986749</td>\n    </tr>\n    <tr>\n      <th>...</th>\n      <td>...</td>\n      <td>...</td>\n      <td>...</td>\n      <td>...</td>\n      <td>...</td>\n    </tr>\n    <tr>\n      <th>42975</th>\n      <td>351491</td>\n      <td>Via Puglia n. 35 Turin</td>\n      <td>42976.0</td>\n      <td>7.723420</td>\n      <td>45.106830</td>\n    </tr>\n    <tr>\n      <th>42976</th>\n      <td>351590</td>\n      <td>Fasanenweg 10 Leinfelden-Echterdingen</td>\n      <td>42977.0</td>\n      <td>9.145069</td>\n      <td>48.707416</td>\n    </tr>\n    <tr>\n      <th>42977</th>\n      <td>352262</td>\n      <td>Hamilton</td>\n      <td>42978.0</td>\n      <td>175.281099</td>\n      <td>-37.789474</td>\n    </tr>\n    <tr>\n      <th>42978</th>\n      <td>353444</td>\n      <td>The Heights Building 5 Weybridge</td>\n      <td>42979.0</td>\n      <td>-0.462543</td>\n      <td>51.352960</td>\n    </tr>\n    <tr>\n      <th>42979</th>\n      <td>353945</td>\n      <td>Bruggerstrasse 71a Baden</td>\n      <td>42980.0</td>\n      <td>8.301259</td>\n      <td>47.479280</td>\n    </tr>\n  </tbody>\n</table>\n<p>42980 rows × 5 columns</p>\n</div>"
     },
     "execution_count": 7,
     "metadata": {},
     "output_type": "execute_result"
    }
   ],
   "source": [
    "compustat_geocoded = pd.read_stata('/Users/marisbuttmann/Desktop/HIWI_code/geocode_project/all_data/compustat_geocoded_final.dta')\n",
    "# ['gvkey', 'hq_address_compustat', 'count', 'lat', 'lon']\n",
    "print(compustat_geocoded.info())\n",
    "compustat_geocoded"
   ],
   "metadata": {
    "collapsed": false,
    "ExecuteTime": {
     "end_time": "2024-03-17T19:20:46.796064Z",
     "start_time": "2024-03-17T19:20:46.775941Z"
    }
   },
   "id": "17bccde7b6acd056",
   "execution_count": 7
  },
  {
   "cell_type": "code",
   "outputs": [
    {
     "data": {
      "text/plain": "┌──────────────┐\n│ count(gvkey) │\n│    int64     │\n├──────────────┤\n│        42980 │\n└──────────────┘"
     },
     "execution_count": 8,
     "metadata": {},
     "output_type": "execute_result"
    }
   ],
   "source": [
    "con.execute('DROP TABLE IF EXISTS compustat_geocoded')\n",
    "con.execute('CREATE TABLE compustat_geocoded AS SELECT * FROM compustat_geocoded')\n",
    "con.sql('SELECT DISTINCT COUNT(gvkey) FROM compustat_geocoded;')"
   ],
   "metadata": {
    "collapsed": false,
    "ExecuteTime": {
     "end_time": "2024-03-17T19:20:46.818386Z",
     "start_time": "2024-03-17T19:20:46.796697Z"
    }
   },
   "id": "f578580f7884f4c2",
   "execution_count": 8
  },
  {
   "cell_type": "markdown",
   "source": [
    "-- START OF COMPUSTAT PREPROCESSING --"
   ],
   "metadata": {
    "collapsed": false
   },
   "id": "e301b6d08022e207"
  },
  {
   "cell_type": "code",
   "outputs": [
    {
     "data": {
      "text/plain": "┌──────────────┐\n│ count_star() │\n│    int64     │\n├──────────────┤\n│        42979 │\n└──────────────┘"
     },
     "execution_count": 9,
     "metadata": {},
     "output_type": "execute_result"
    }
   ],
   "source": [
    "con.execute('DROP TABLE IF EXISTS compustat')\n",
    "con.execute('CREATE TABLE compustat AS SELECT DISTINCT gvkey, hqcompany FROM compustat_all')\n",
    "con.sql('SELECT DISTINCT COUNT(*) FROM compustat;')"
   ],
   "metadata": {
    "collapsed": false,
    "ExecuteTime": {
     "end_time": "2024-03-17T19:20:46.849694Z",
     "start_time": "2024-03-17T19:20:46.819064Z"
    }
   },
   "id": "3bfbde357315339e",
   "execution_count": 9
  },
  {
   "cell_type": "code",
   "outputs": [
    {
     "data": {
      "text/plain": "   gvkey\n0   9007",
      "text/html": "<div>\n<style scoped>\n    .dataframe tbody tr th:only-of-type {\n        vertical-align: middle;\n    }\n\n    .dataframe tbody tr th {\n        vertical-align: top;\n    }\n\n    .dataframe thead th {\n        text-align: right;\n    }\n</style>\n<table border=\"1\" class=\"dataframe\">\n  <thead>\n    <tr style=\"text-align: right;\">\n      <th></th>\n      <th>gvkey</th>\n    </tr>\n  </thead>\n  <tbody>\n    <tr>\n      <th>0</th>\n      <td>9007</td>\n    </tr>\n  </tbody>\n</table>\n</div>"
     },
     "execution_count": 10,
     "metadata": {},
     "output_type": "execute_result"
    }
   ],
   "source": [
    "\"\"\"\n",
    "Extract entries of compustat_geocoded that are not in all_data_cleaned\n",
    "\"\"\"\n",
    "query_str = \"\"\"\n",
    "SELECT compustat_geocoded.gvkey\n",
    "FROM compustat_geocoded\n",
    "LEFT JOIN compustat ON compustat_geocoded.gvkey = compustat.gvkey\n",
    "WHERE compustat.gvkey IS NULL;\n",
    "\"\"\"\n",
    "con.sql(query_str).fetchdf()\n",
    "# (duckdb.sql(query_str).to_df()).to_excel('/Users/marisbuttmann/Desktop/HIWI_code/geocode_project/preprocessed_data/missing_entries_compustat.xlsx', index=False)\n"
   ],
   "metadata": {
    "collapsed": false,
    "ExecuteTime": {
     "end_time": "2024-03-17T19:20:46.855184Z",
     "start_time": "2024-03-17T19:20:46.850450Z"
    }
   },
   "id": "5dc43ea5e54afd4b",
   "execution_count": 10
  },
  {
   "cell_type": "code",
   "outputs": [
    {
     "name": "stdout",
     "output_type": "stream",
     "text": [
      "   gvkey    datadate   fyear indfmt consol popsrc datafmt    tic  \\\n",
      "1   1001  1978-12-31  1978.0   INDL      C      D     STD  AMFD.   \n",
      "\n",
      "                 hqcompany curcd costat                hqaddress add2 add3  \\\n",
      "1  A & M FOOD SERVICES INC   USD      I  1924 South Utica Avenue             \n",
      "\n",
      "  add4 hqzipcode   city                    conml state  hqzip4  \n",
      "1          94104  Tulsa  A & M Food Services Inc    OK  9410.0  \n"
     ]
    },
    {
     "data": {
      "text/plain": "   gvkey              hq_address_compustat  count        lat        lon\n1   1001  1924 South Utica Avenue Tulsa OK    2.0 -95.968066  36.134328",
      "text/html": "<div>\n<style scoped>\n    .dataframe tbody tr th:only-of-type {\n        vertical-align: middle;\n    }\n\n    .dataframe tbody tr th {\n        vertical-align: top;\n    }\n\n    .dataframe thead th {\n        text-align: right;\n    }\n</style>\n<table border=\"1\" class=\"dataframe\">\n  <thead>\n    <tr style=\"text-align: right;\">\n      <th></th>\n      <th>gvkey</th>\n      <th>hq_address_compustat</th>\n      <th>count</th>\n      <th>lat</th>\n      <th>lon</th>\n    </tr>\n  </thead>\n  <tbody>\n    <tr>\n      <th>1</th>\n      <td>1001</td>\n      <td>1924 South Utica Avenue Tulsa OK</td>\n      <td>2.0</td>\n      <td>-95.968066</td>\n      <td>36.134328</td>\n    </tr>\n  </tbody>\n</table>\n</div>"
     },
     "execution_count": 11,
     "metadata": {},
     "output_type": "execute_result"
    }
   ],
   "source": [
    "print(compustat_all.loc[compustat_all['gvkey'] == 1001])\n",
    "compustat_geocoded.loc[compustat_geocoded['gvkey'] == 1001]"
   ],
   "metadata": {
    "collapsed": false,
    "ExecuteTime": {
     "end_time": "2024-03-17T19:20:46.861256Z",
     "start_time": "2024-03-17T19:20:46.855749Z"
    }
   },
   "id": "51c9995e8cd399e2",
   "execution_count": 11
  },
  {
   "cell_type": "code",
   "outputs": [
    {
     "data": {
      "text/plain": "<duckdb.duckdb.DuckDBPyConnection at 0x1184ca2f0>"
     },
     "execution_count": 12,
     "metadata": {},
     "output_type": "execute_result"
    }
   ],
   "source": [
    "\"\"\"\n",
    "In this cell, we want to join the geo date from compustat_geocoded with the other data from compustat_all\n",
    "\"\"\"\n",
    "\n",
    "con.execute('ALTER TABLE compustat ADD COLUMN lat DECIMAL(9,6)')\n",
    "con.execute('ALTER TABLE compustat ADD COLUMN lon DECIMAL(9,6)')\n",
    "\n",
    "# TODO: Note that lat and lon are switched in compustat_geocoded. This is probably a mistake in the geocoding process\n",
    "sql_query = \"\"\"\n",
    "UPDATE compustat\n",
    "SET lat = compustat_geocoded.lon,\n",
    "    lon = compustat_geocoded.lat\n",
    "FROM compustat_geocoded\n",
    "WHERE compustat.gvkey = compustat_geocoded.gvkey;\n",
    "\"\"\"\n",
    "con.execute(sql_query)"
   ],
   "metadata": {
    "collapsed": false,
    "ExecuteTime": {
     "end_time": "2024-03-17T19:20:47.235347Z",
     "start_time": "2024-03-17T19:20:46.861737Z"
    }
   },
   "id": "f511a42c0bc87384",
   "execution_count": 12
  },
  {
   "cell_type": "code",
   "outputs": [
    {
     "data": {
      "text/plain": "┌────────┬──────────────────────────────┬──────────────┬──────────────┐\n│ gvkey  │          hqcompany           │     lat      │     lon      │\n│ int32  │           varchar            │ decimal(9,6) │ decimal(9,6) │\n├────────┼──────────────────────────────┼──────────────┼──────────────┤\n│  10342 │ HORIZONS US EQ MGD RISK ETF  │    43.646957 │   -79.384009 │\n│  11890 │ SPDR PORTFOLIO HGH YD BD ETF │    42.344753 │   -71.052116 │\n│  13748 │ COLUMBIA EM STR OPPS ETF     │    42.352992 │   -71.052367 │\n│  13837 │ ISHARES US HI DIV EQ IDX ETF │    43.646528 │   -79.378779 │\n│  16607 │ INVESCO S&P 500 DWNSD HG ETF │    41.822742 │   -88.031668 │\n│  16709 │ PROSHARES MERGER ETF         │    38.982081 │   -77.093941 │\n│  18821 │ XTRACKERS INTERNATINL RE ETF │    40.757116 │   -73.969572 │\n│  19392 │ MIDDLEFIELD US EQ DIVI ETF   │    43.643048 │   -79.394359 │\n│  19488 │ FIRST TRUST NAS BUYWR IN ETF │    41.863945 │   -88.105727 │\n│  21470 │ FIRST TRUST HIGH INC S F ETF │    41.863945 │   -88.105727 │\n│    ·   │              ·               │        ·     │        ·     │\n│    ·   │              ·               │        ·     │        ·     │\n│    ·   │              ·               │        ·     │        ·     │\n│ 187153 │ FIRST T-T FII F S-NF V&T ETF │    41.863945 │   -88.105727 │\n│ 187305 │ RUSSELL 1000 LOW BETA ETF    │    47.607713 │  -122.338236 │\n│ 187388 │ CI CANADIAN CONV BOND ETF    │    43.653524 │   -79.383907 │\n│ 187754 │ COLUMBIA EM QUALITY DIVI ETF │    42.352992 │   -71.052367 │\n│ 189477 │ HORIZONS US LRG C E C C ETF  │    43.646957 │   -79.384009 │\n│ 189481 │ RBC TARGET 2016 CORP BD ETF  │    43.645845 │   -79.385746 │\n│ 189482 │ RBC TARGET 2017 CORP BD ETF  │    43.645845 │   -79.385746 │\n│ 191756 │ BMO CVRD CL DJIA HD CAD ETF  │    43.671294 │   -79.384772 │\n│ 191965 │ INVESCO KBW REGINL BANKG ETF │    41.822742 │   -88.031668 │\n│ 198957 │ VANGUARD FTSE CANADA IDX ETF │    43.650511 │   -79.379722 │\n├────────┴──────────────────────────────┴──────────────┴──────────────┤\n│ 3197 rows (20 shown)                                      4 columns │\n└─────────────────────────────────────────────────────────────────────┘"
     },
     "execution_count": 13,
     "metadata": {},
     "output_type": "execute_result"
    }
   ],
   "source": [
    "\"\"\"\n",
    "Appearantly, there are 2196 ETFS in the compustat dataset. We want to get rid of them.\n",
    "\"\"\"\n",
    "sql_query = \"\"\"\n",
    "SELECT *\n",
    "FROM compustat\n",
    "WHERE REGEXP_MATCHES(hqcompany, '\\\\bETF\\\\b');\n",
    "\"\"\"\n",
    "con.sql(sql_query)"
   ],
   "metadata": {
    "collapsed": false,
    "ExecuteTime": {
     "end_time": "2024-03-17T19:20:47.245748Z",
     "start_time": "2024-03-17T19:20:47.235964Z"
    }
   },
   "id": "1801a956fef07298",
   "execution_count": 13
  },
  {
   "cell_type": "code",
   "outputs": [
    {
     "data": {
      "text/plain": "        gvkey                   hqcompany        lat         lon\n0        1001     A & M FOOD SERVICES INC  36.134328  -95.968066\n1        1007        ABKCO INDUSTRIES INC  40.763350  -73.982401\n2        1017       AEL INDUSTRIES  -CL A  40.269510  -75.244686\n3        1022          AGM INDUSTRIES INC  44.125200  -84.196698\n4        1027                   A I M COS        NaN         NaN\n...       ...                         ...        ...         ...\n39777  329579                BITFARMS LTD  43.649535  -79.377094\n39778  332115  ARMATA PHARMACEUTICALS INC  33.983990 -118.434767\n39779  343180               FREYR BATTERY  49.612991    6.125890\n39780  347085                KAROOOOO LTD   1.290880  103.852390\n39781  349972   INDAPTUS THERAPEUTICS INC  40.766844  -73.981968\n\n[39782 rows x 4 columns]",
      "text/html": "<div>\n<style scoped>\n    .dataframe tbody tr th:only-of-type {\n        vertical-align: middle;\n    }\n\n    .dataframe tbody tr th {\n        vertical-align: top;\n    }\n\n    .dataframe thead th {\n        text-align: right;\n    }\n</style>\n<table border=\"1\" class=\"dataframe\">\n  <thead>\n    <tr style=\"text-align: right;\">\n      <th></th>\n      <th>gvkey</th>\n      <th>hqcompany</th>\n      <th>lat</th>\n      <th>lon</th>\n    </tr>\n  </thead>\n  <tbody>\n    <tr>\n      <th>0</th>\n      <td>1001</td>\n      <td>A &amp; M FOOD SERVICES INC</td>\n      <td>36.134328</td>\n      <td>-95.968066</td>\n    </tr>\n    <tr>\n      <th>1</th>\n      <td>1007</td>\n      <td>ABKCO INDUSTRIES INC</td>\n      <td>40.763350</td>\n      <td>-73.982401</td>\n    </tr>\n    <tr>\n      <th>2</th>\n      <td>1017</td>\n      <td>AEL INDUSTRIES  -CL A</td>\n      <td>40.269510</td>\n      <td>-75.244686</td>\n    </tr>\n    <tr>\n      <th>3</th>\n      <td>1022</td>\n      <td>AGM INDUSTRIES INC</td>\n      <td>44.125200</td>\n      <td>-84.196698</td>\n    </tr>\n    <tr>\n      <th>4</th>\n      <td>1027</td>\n      <td>A I M COS</td>\n      <td>NaN</td>\n      <td>NaN</td>\n    </tr>\n    <tr>\n      <th>...</th>\n      <td>...</td>\n      <td>...</td>\n      <td>...</td>\n      <td>...</td>\n    </tr>\n    <tr>\n      <th>39777</th>\n      <td>329579</td>\n      <td>BITFARMS LTD</td>\n      <td>43.649535</td>\n      <td>-79.377094</td>\n    </tr>\n    <tr>\n      <th>39778</th>\n      <td>332115</td>\n      <td>ARMATA PHARMACEUTICALS INC</td>\n      <td>33.983990</td>\n      <td>-118.434767</td>\n    </tr>\n    <tr>\n      <th>39779</th>\n      <td>343180</td>\n      <td>FREYR BATTERY</td>\n      <td>49.612991</td>\n      <td>6.125890</td>\n    </tr>\n    <tr>\n      <th>39780</th>\n      <td>347085</td>\n      <td>KAROOOOO LTD</td>\n      <td>1.290880</td>\n      <td>103.852390</td>\n    </tr>\n    <tr>\n      <th>39781</th>\n      <td>349972</td>\n      <td>INDAPTUS THERAPEUTICS INC</td>\n      <td>40.766844</td>\n      <td>-73.981968</td>\n    </tr>\n  </tbody>\n</table>\n<p>39782 rows × 4 columns</p>\n</div>"
     },
     "execution_count": 14,
     "metadata": {},
     "output_type": "execute_result"
    }
   ],
   "source": [
    "\"\"\"\n",
    "We delete all entries that contain the substring 'ETF'\n",
    "\"\"\"\n",
    "sql_query = \"\"\"\n",
    "DELETE FROM compustat\n",
    "WHERE REGEXP_MATCHES(hqcompany, '\\\\bETF\\\\b');\n",
    "\"\"\"\n",
    "con.execute(sql_query)\n",
    "con.sql('SELECT * FROM compustat;').fetchdf()"
   ],
   "metadata": {
    "collapsed": false,
    "ExecuteTime": {
     "end_time": "2024-03-17T19:20:47.259210Z",
     "start_time": "2024-03-17T19:20:47.247826Z"
    }
   },
   "id": "8c1e663dbc7e3ba8",
   "execution_count": 14
  },
  {
   "cell_type": "code",
   "outputs": [
    {
     "data": {
      "text/plain": "<duckdb.duckdb.DuckDBPyConnection at 0x1184ca2f0>"
     },
     "execution_count": 15,
     "metadata": {},
     "output_type": "execute_result"
    }
   ],
   "source": [
    "\"\"\"\n",
    "In this Cell we want to preprocess the names of the compustat datasets\n",
    "\"\"\"\n",
    "# most common substrings in company names\n",
    "compustat_substring = ['INC', 'CORP', 'LTD', 'GROUP', 'CO', 'CORP']\n",
    "#TODO: Maybe get rid of things like 'ENTERPRISES', 'PROPERTIES', 'INTERNATIONAL', 'TECHNOLOGIES'\n",
    "#TODO: Mauybe ged rid of terms like -old or -llp\n",
    "#TODO replace terms like technologie through special characters like $ or ˆ, since they are often used in company names\n",
    "# other: ['etf', 'financial', 'bancorp', 'holdings', 'energy']\n",
    "\n",
    "# query_str = \"\"\"\n",
    "# UPDATE compustat\n",
    "#     SET conm = REGEXP_REPLACE(conm, '(\\\\bLLC\\\\b)|(\\\\bINC\\\\b)|(\\\\bLTD\\\\b)|(\\\\bGROUP\\\\b)|(\\\\bCO\\\\b)|(\\\\bCORP\\\\b)|(\\\\s+)|(\\\\-)', '', 'g')\n",
    "# \"\"\"\n",
    "#TOOD: We replace longer terms with their abbreviations, to reduce their weight in the name, but keeping them, to improve matching score\n",
    "query_str = \"\"\"\n",
    "UPDATE compustat\n",
    "SET hqcompany = TRIM(\n",
    "    REGEXP_REPLACE(\n",
    "        REGEXP_REPLACE(\n",
    "            REGEXP_REPLACE(\n",
    "                REGEXP_REPLACE(\n",
    "                    REGEXP_REPLACE(\n",
    "                        REGEXP_REPLACE(\n",
    "                            REGEXP_REPLACE(\n",
    "                                REGEXP_REPLACE(\n",
    "                                    REGEXP_REPLACE(\n",
    "                                        REGEXP_REPLACE(\n",
    "                                            REGEXP_REPLACE(\n",
    "                                                REGEXP_REPLACE( \n",
    "                                                    REGEXP_REPLACE(\n",
    "                                                        REGEXP_REPLACE(\n",
    "                                                            REGEXP_REPLACE(\n",
    "                                                                REGEXP_REPLACE(\n",
    "                                                                    REGEXP_REPLACE(\n",
    "                                                                        REGEXP_REPLACE(\n",
    "                                                                            REGEXP_REPLACE(hqcompany, 'INCORPORATED', 'INC'),\n",
    "                                                                        'LIMITED', '`LTD'),\n",
    "                                                                    'CORPORATION', 'CORP'),\n",
    "                                                                'COMPANY', 'CO'),\n",
    "                                                            'HOLDINGS', 'HLDGS'),\n",
    "                                                        'GROUP', 'GRP'),\n",
    "                                                    'INTERNATIONAL', 'INTL'),\n",
    "                                                'TECHNOLOGIES', '@'),\n",
    "                                            'THERAPEUTICS', '^'),\n",
    "                                        'PHARMACEUTICALS', '$'),\n",
    "                                    'INDUSTRIES', 'IND'),\n",
    "                                'TECHNOLOGY', '!'),\n",
    "                            'FINANCIAL', ')'),\n",
    "                        'COMMUNICATIONS', '('),\n",
    "                    'PROPERTIES', '\\'),\n",
    "                '\\\\b-\\\\b', ''),\n",
    "            '\\\\s+', '', 'g'),\n",
    "        'BANCORPINC', '}'),\n",
    "    'HLDGSINC', '{')\n",
    "    )\n",
    "\"\"\"\n",
    "con.execute(query_str)"
   ],
   "metadata": {
    "collapsed": false,
    "ExecuteTime": {
     "end_time": "2024-03-17T19:20:47.346584Z",
     "start_time": "2024-03-17T19:20:47.259856Z"
    }
   },
   "id": "cb859ce1ff6b4e0",
   "execution_count": 15
  },
  {
   "cell_type": "code",
   "outputs": [],
   "source": [
    "# \"\"\"\n",
    "# Clean up the phone numbers from whitespaces and dashes\n",
    "# \"\"\"\n",
    "# query_str = \"\"\"\n",
    "# UPDATE compustat\n",
    "#     SET phone = REGEXP_REPLACE(phone, '(\\\\s+)|-', '', 'g')\n",
    "# \"\"\"\n",
    "# con.execute(query_str)\n",
    "# con.sql('SELECT * FROM compustat WHERE hqcompany LIKE \\'%!%\\' LIMIT 10').fetchdf()"
   ],
   "metadata": {
    "collapsed": false,
    "ExecuteTime": {
     "end_time": "2024-03-17T19:20:47.348828Z",
     "start_time": "2024-03-17T19:20:47.347303Z"
    }
   },
   "id": "68a0a8b3175041f9",
   "execution_count": 16
  },
  {
   "cell_type": "markdown",
   "source": [
    "\n",
    "-- END OF COMPUSTAT PREPROCESSING --\n",
    "\n",
    "\n",
    "-- START OF NETS PREPROCESSING --\n"
   ],
   "metadata": {
    "collapsed": false
   },
   "id": "a6c4f5840597b102"
  },
  {
   "cell_type": "code",
   "outputs": [
    {
     "data": {
      "text/plain": "FloatProgress(value=0.0, layout=Layout(width='auto'), style=ProgressStyle(bar_color='black'))",
      "application/vnd.jupyter.widget-view+json": {
       "version_major": 2,
       "version_minor": 0,
       "model_id": "bde432fbc256423da647ed12ee8b3065"
      }
     },
     "metadata": {},
     "output_type": "display_data"
    },
    {
     "data": {
      "text/plain": "<duckdb.duckdb.DuckDBPyConnection at 0x1184ca2f0>"
     },
     "execution_count": 17,
     "metadata": {},
     "output_type": "execute_result"
    }
   ],
   "source": [
    "con.execute('DROP TABLE IF EXISTS nets_all')\n",
    "con.execute('CREATE TABLE nets_all AS SELECT hqduns, hqcompany, latitude, longitude, FROM nets_all_data')\n",
    "#con.sql('SELECT * FROM nets;').fetchdf().info()"
   ],
   "metadata": {
    "collapsed": false,
    "ExecuteTime": {
     "end_time": "2024-03-17T19:20:58.935251Z",
     "start_time": "2024-03-17T19:20:47.349442Z"
    }
   },
   "id": "7e20a0288c16d36d",
   "execution_count": 17
  },
  {
   "cell_type": "code",
   "outputs": [
    {
     "data": {
      "text/plain": "FloatProgress(value=0.0, layout=Layout(width='auto'), style=ProgressStyle(bar_color='black'))",
      "application/vnd.jupyter.widget-view+json": {
       "version_major": 2,
       "version_minor": 0,
       "model_id": "ec60fcdf0a064504bb737fc5e3d70e9d"
      }
     },
     "metadata": {},
     "output_type": "display_data"
    },
    {
     "data": {
      "text/plain": "<duckdb.duckdb.DuckDBPyConnection at 0x1184ca2f0>"
     },
     "execution_count": 18,
     "metadata": {},
     "output_type": "execute_result"
    }
   ],
   "source": [
    "\"\"\"\n",
    "In this Cell we want to preprocess the names of the NETS datasets\n",
    "\n",
    "NETS_substring = ['LLC', 'INC', 'OF', 'GROUP', 'SERVICES', 'CO', 'CORP']\n",
    "other: ['a', 'construction', 'enterprises']\n",
    "\"\"\"\n",
    "#TODO: get rid of things like 'ENTERPRISES', 'PROPERTIES', 'INTERNATIONAL', 'TECHNOLOGIES', 'INCORPORATED', 'CORPORATION', 'COMPANY since acronyms like inc. arent that common in nets.\n",
    "#TODO: Maybe we need more preprocessing for NETS since there are a lot of entries that are not in compustat\n",
    "\n",
    "# query_str = \"\"\"\n",
    "# UPDATE nets\n",
    "#     SET hqcompany = REGEXP_REPLACE(hqcompany, '(\\\\bLLC\\\\b)|(\\\\bINC\\\\b)|(\\\\bLTD\\\\b)|(\\\\bGROUP\\\\b)|(\\\\bCO\\\\b)|(\\\\bCORP\\\\b)|(\\\\s+)|(\\\\-)', '', 'g')\n",
    "# \"\"\"\n",
    "query_str = \"\"\"\n",
    "UPDATE nets_all\n",
    "SET hqcompany = TRIM(\n",
    "    REGEXP_REPLACE(\n",
    "        REGEXP_REPLACE(\n",
    "            REGEXP_REPLACE(\n",
    "                REGEXP_REPLACE(\n",
    "                    REGEXP_REPLACE(\n",
    "                        REGEXP_REPLACE(\n",
    "                            REGEXP_REPLACE(\n",
    "                                REGEXP_REPLACE(\n",
    "                                    REGEXP_REPLACE(\n",
    "                                        REGEXP_REPLACE(\n",
    "                                            REGEXP_REPLACE(\n",
    "                                                REGEXP_REPLACE( \n",
    "                                                    REGEXP_REPLACE(\n",
    "                                                        REGEXP_REPLACE(\n",
    "                                                            REGEXP_REPLACE(\n",
    "                                                                REGEXP_REPLACE(\n",
    "                                                                    REGEXP_REPLACE(\n",
    "                                                                        REGEXP_REPLACE(\n",
    "                                                                            REGEXP_REPLACE(hqcompany, 'INCORPORATED', 'INC'),\n",
    "                                                                        'LIMITED', '`LTD'),\n",
    "                                                                    'CORPORATION', 'CORP'),\n",
    "                                                                'COMPANY', 'CO'),\n",
    "                                                            'HOLDINGS', 'HLDGS'),\n",
    "                                                        'GROUP', 'GRP'),\n",
    "                                                    'INTERNATIONAL', 'INTL'),\n",
    "                                                'TECHNOLOGIES', '@'),\n",
    "                                            'THERAPEUTICS', '^'),\n",
    "                                        'PHARMACEUTICALS', '$'),\n",
    "                                    'INDUSTRIES', 'IND'),\n",
    "                                'TECHNOLOGY', '!'),\n",
    "                            'FINANCIAL', ')'),\n",
    "                        'COMMUNICATIONS', '('),\n",
    "                    'PROPERTIES', '\\'),\n",
    "                '\\\\b-\\\\b', ''),\n",
    "            '\\\\s+', '', 'g'),\n",
    "        'BANCORPINC', '}'),\n",
    "    'HLDGSINC', '{')\n",
    "    )\n",
    "\"\"\"\n",
    "con.execute(query_str)"
   ],
   "metadata": {
    "collapsed": false,
    "ExecuteTime": {
     "end_time": "2024-03-17T19:21:27.052959Z",
     "start_time": "2024-03-17T19:20:58.936364Z"
    }
   },
   "id": "4ff13a023cf30c78",
   "execution_count": 18
  },
  {
   "cell_type": "code",
   "outputs": [],
   "source": [
    "# \"\"\"\n",
    "# In this Cell we want to extract the area code and the phone number from the NETS data\n",
    "# and concatenate them to one column which then will be added to the NETS data.\n",
    "# Afterwards we will compare the phone numbers of the two datasets and see if they match.\n",
    "# \"\"\"\n",
    "# con.execute('ALTER TABLE nets ADD COLUMN hqphone_concatenated VARCHAR(255)')\n",
    "# query_str = \"\"\"\n",
    "# UPDATE nets\n",
    "# SET hqphone_concatenated = REGEXP_REPLACE(\n",
    "#             REGEXP_REPLACE((CONCAT(hqarea, hqphone)), '(\\\\s+)|-', '', 'g')\n",
    "#           , '^$', '-1');\n",
    "# \"\"\"\n",
    "# con.execute(query_str)"
   ],
   "metadata": {
    "collapsed": false,
    "ExecuteTime": {
     "end_time": "2024-03-17T19:21:27.056123Z",
     "start_time": "2024-03-17T19:21:27.054080Z"
    }
   },
   "id": "bc48bf224ddc7eeb",
   "execution_count": 19
  },
  {
   "cell_type": "code",
   "outputs": [
    {
     "data": {
      "text/plain": "<duckdb.duckdb.DuckDBPyConnection at 0x1184ca2f0>"
     },
     "execution_count": 20,
     "metadata": {},
     "output_type": "execute_result"
    }
   ],
   "source": [
    "\"\"\"\n",
    "In this Cell we will fix the longitudes of the NETS data\n",
    "\"\"\"\n",
    "#TODO: The coordinates are not correct in our NETS sample.  Google maps gives us -119.xxxx\n",
    "#TODO: Lat-long coordinates for cities in United States are in range: Latitude from 19.50139 to 64.85694 and longitude from -161.75583 to -68.01197. (Source: https://latitudelongitude.org/us/)\n",
    "# TODO maybe we need to adjust the coordinates according to levelcode\n",
    "sql_query = \"\"\"\n",
    "    UPDATE nets_all\n",
    "    SET longitude = -longitude;\n",
    "\"\"\"\n",
    "con.execute(sql_query)"
   ],
   "metadata": {
    "collapsed": false,
    "ExecuteTime": {
     "end_time": "2024-03-17T19:21:29.325755Z",
     "start_time": "2024-03-17T19:21:27.056694Z"
    }
   },
   "id": "7d577c43c9d7120e",
   "execution_count": 20
  },
  {
   "cell_type": "markdown",
   "source": [
    "-- NETS PUB PREPROCESSING --"
   ],
   "metadata": {
    "collapsed": false
   },
   "id": "792cd21069edb1cd"
  },
  {
   "cell_type": "code",
   "outputs": [
    {
     "data": {
      "text/plain": "<duckdb.duckdb.DuckDBPyConnection at 0x1184ca2f0>"
     },
     "execution_count": 21,
     "metadata": {},
     "output_type": "execute_result"
    }
   ],
   "source": [
    "con.execute('DROP TABLE IF EXISTS nets_pub')\n",
    "con.execute('CREATE TABLE nets_pub AS SELECT hqduns, hqcompany, latitude, longitude, FROM nets_pub_data')"
   ],
   "metadata": {
    "collapsed": false,
    "ExecuteTime": {
     "end_time": "2024-03-17T19:21:29.358368Z",
     "start_time": "2024-03-17T19:21:29.326590Z"
    }
   },
   "id": "94816e6aa2d457bf",
   "execution_count": 21
  },
  {
   "cell_type": "code",
   "outputs": [
    {
     "data": {
      "text/plain": "<duckdb.duckdb.DuckDBPyConnection at 0x1184ca2f0>"
     },
     "execution_count": 22,
     "metadata": {},
     "output_type": "execute_result"
    }
   ],
   "source": [
    "\"\"\"\n",
    "In this Cell we want to preprocess the names of the NETS datasets\n",
    "\"\"\"\n",
    "query_str = \"\"\"\n",
    "UPDATE nets_pub\n",
    "SET hqcompany = TRIM(\n",
    "    REGEXP_REPLACE(\n",
    "        REGEXP_REPLACE(\n",
    "            REGEXP_REPLACE(\n",
    "                REGEXP_REPLACE(\n",
    "                    REGEXP_REPLACE(\n",
    "                        REGEXP_REPLACE(\n",
    "                            REGEXP_REPLACE(\n",
    "                                REGEXP_REPLACE(\n",
    "                                    REGEXP_REPLACE(\n",
    "                                        REGEXP_REPLACE(\n",
    "                                            REGEXP_REPLACE(\n",
    "                                                REGEXP_REPLACE( \n",
    "                                                    REGEXP_REPLACE(\n",
    "                                                        REGEXP_REPLACE(\n",
    "                                                            REGEXP_REPLACE(\n",
    "                                                                REGEXP_REPLACE(\n",
    "                                                                    REGEXP_REPLACE(\n",
    "                                                                        REGEXP_REPLACE(\n",
    "                                                                            REGEXP_REPLACE(hqcompany, 'INCORPORATED', 'INC'),\n",
    "                                                                        'LIMITED', '`LTD'),\n",
    "                                                                    'CORPORATION', 'CORP'),\n",
    "                                                                'COMPANY', 'CO'),\n",
    "                                                            'HOLDINGS', 'HLDGS'),\n",
    "                                                        'GROUP', 'GRP'),\n",
    "                                                    'INTERNATIONAL', 'INTL'),\n",
    "                                                'TECHNOLOGIES', '@'),\n",
    "                                            'THERAPEUTICS', '^'),\n",
    "                                        'PHARMACEUTICALS', '$'),\n",
    "                                    'INDUSTRIES', 'IND'),\n",
    "                                'TECHNOLOGY', '!'),\n",
    "                            'FINANCIAL', ')'),\n",
    "                        'COMMUNICATIONS', '('),\n",
    "                    'PROPERTIES', '\\'),\n",
    "                '\\\\b-\\\\b', ''),\n",
    "            '\\\\s+', '', 'g'),\n",
    "        'BANCORPINC', '}'),\n",
    "    'HLDGSINC', '{')\n",
    "    )\n",
    "\"\"\"\n",
    "con.execute(query_str)"
   ],
   "metadata": {
    "collapsed": false,
    "ExecuteTime": {
     "end_time": "2024-03-17T19:21:29.428412Z",
     "start_time": "2024-03-17T19:21:29.359071Z"
    }
   },
   "id": "cb5a61fcecf8826a",
   "execution_count": 22
  },
  {
   "cell_type": "code",
   "outputs": [
    {
     "data": {
      "text/plain": "<duckdb.duckdb.DuckDBPyConnection at 0x1184ca2f0>"
     },
     "execution_count": 23,
     "metadata": {},
     "output_type": "execute_result"
    }
   ],
   "source": [
    "\"\"\"\n",
    "In this Cell we will fix the longitudes of the NETS data\n",
    "\"\"\"\n",
    "#TODO: The coordinates are not correct in our NETS sample.  Google maps gives us -119.xxxx\n",
    "#TODO: Lat-long coordinates for cities in United States are in range: Latitude from 19.50139 to 64.85694 and longitude from -161.75583 to -68.01197. (Source: https://latitudelongitude.org/us/)\n",
    "# TODO maybe we need to adjust the coordinates according to levelcode\n",
    "sql_query = \"\"\"\n",
    "    UPDATE nets_pub\n",
    "    SET longitude = -longitude;\n",
    "\"\"\"\n",
    "con.execute(sql_query)"
   ],
   "metadata": {
    "collapsed": false,
    "ExecuteTime": {
     "end_time": "2024-03-17T19:21:29.432897Z",
     "start_time": "2024-03-17T19:21:29.429030Z"
    }
   },
   "id": "f29cdb80e9917a01",
   "execution_count": 23
  },
  {
   "cell_type": "code",
   "outputs": [],
   "source": [
    "# con.execute('SELECT * FROM nets').fetch_df().to_excel('/Users/marisbuttmann/Desktop/HIWI_code/geocode_project/preprocessed_data/nets_preprocessed.xlsx', index=False)\n",
    "# con.execute('SELECT * FROM compustat').fetchdf().to_excel('/Users/marisbuttmann/Desktop/HIWI_code/geocode_project/preprocessed_data/compustat_preprocessed.xlsx', index=False)"
   ],
   "metadata": {
    "collapsed": false,
    "ExecuteTime": {
     "end_time": "2024-03-17T19:21:29.435111Z",
     "start_time": "2024-03-17T19:21:29.433661Z"
    }
   },
   "id": "10f040ea2cbe5e9d",
   "execution_count": 24
  },
  {
   "cell_type": "code",
   "outputs": [],
   "source": [
    "con.commit()\n",
    "con.close()"
   ],
   "metadata": {
    "collapsed": false,
    "ExecuteTime": {
     "end_time": "2024-03-17T19:21:29.749574Z",
     "start_time": "2024-03-17T19:21:29.435634Z"
    }
   },
   "id": "e70139f08aa97677",
   "execution_count": 25
  },
  {
   "cell_type": "code",
   "outputs": [],
   "source": [],
   "metadata": {
    "collapsed": false,
    "ExecuteTime": {
     "end_time": "2024-03-17T19:21:29.751880Z",
     "start_time": "2024-03-17T19:21:29.750451Z"
    }
   },
   "id": "bb8dcee39bded040",
   "execution_count": 25
  }
 ],
 "metadata": {
  "kernelspec": {
   "display_name": "Python 3",
   "language": "python",
   "name": "python3"
  },
  "language_info": {
   "codemirror_mode": {
    "name": "ipython",
    "version": 2
   },
   "file_extension": ".py",
   "mimetype": "text/x-python",
   "name": "python",
   "nbconvert_exporter": "python",
   "pygments_lexer": "ipython2",
   "version": "2.7.6"
  }
 },
 "nbformat": 4,
 "nbformat_minor": 5
}
