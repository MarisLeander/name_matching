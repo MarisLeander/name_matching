{
 "cells": [
  {
   "cell_type": "code",
   "execution_count": 1,
   "id": "f6f603996deacda8",
   "metadata": {
    "ExecuteTime": {
     "end_time": "2024-03-19T10:46:42.636177Z",
     "start_time": "2024-03-19T10:46:42.273638Z"
    },
    "collapsed": false
   },
   "outputs": [],
   "source": [
    "import numpy as np\n",
    "import pandas as pd\n",
    "import duckdb\n",
    "# suppress scientific notation by setting float_format\n",
    "pd.set_option('display.float_format', '{:f}'.format)"
   ]
  },
  {
   "cell_type": "code",
   "execution_count": 2,
   "id": "c824611b7f823838",
   "metadata": {
    "ExecuteTime": {
     "end_time": "2024-03-19T10:46:42.922661Z",
     "start_time": "2024-03-19T10:46:42.835160Z"
    },
    "collapsed": false
   },
   "outputs": [
    {
     "data": {
      "text/html": [
       "<div>\n",
       "<style scoped>\n",
       "    .dataframe tbody tr th:only-of-type {\n",
       "        vertical-align: middle;\n",
       "    }\n",
       "\n",
       "    .dataframe tbody tr th {\n",
       "        vertical-align: top;\n",
       "    }\n",
       "\n",
       "    .dataframe thead th {\n",
       "        text-align: right;\n",
       "    }\n",
       "</style>\n",
       "<table border=\"1\" class=\"dataframe\">\n",
       "  <thead>\n",
       "    <tr style=\"text-align: right;\">\n",
       "      <th></th>\n",
       "      <th>name</th>\n",
       "    </tr>\n",
       "  </thead>\n",
       "  <tbody>\n",
       "    <tr>\n",
       "      <th>0</th>\n",
       "      <td>compustat</td>\n",
       "    </tr>\n",
       "    <tr>\n",
       "      <th>1</th>\n",
       "      <td>compustat_geocoded</td>\n",
       "    </tr>\n",
       "    <tr>\n",
       "      <th>2</th>\n",
       "      <td>fnam</td>\n",
       "    </tr>\n",
       "    <tr>\n",
       "      <th>3</th>\n",
       "      <td>fnpm</td>\n",
       "    </tr>\n",
       "    <tr>\n",
       "      <th>4</th>\n",
       "      <td>matched</td>\n",
       "    </tr>\n",
       "    <tr>\n",
       "      <th>5</th>\n",
       "      <td>nets_all</td>\n",
       "    </tr>\n",
       "    <tr>\n",
       "      <th>6</th>\n",
       "      <td>nets_pub</td>\n",
       "    </tr>\n",
       "  </tbody>\n",
       "</table>\n",
       "</div>"
      ],
      "text/plain": [
       "                 name\n",
       "0           compustat\n",
       "1  compustat_geocoded\n",
       "2                fnam\n",
       "3                fnpm\n",
       "4             matched\n",
       "5            nets_all\n",
       "6            nets_pub"
      ]
     },
     "execution_count": 2,
     "metadata": {},
     "output_type": "execute_result"
    }
   ],
   "source": [
    "# Conect to Database\n",
    "con = duckdb.connect(database='database.db', read_only=False)\n",
    "con.execute('INSTALL spatial')\n",
    "con.execute('LOAD spatial')\n",
    "#TODO build training data\n",
    "con.sql('SHOW TABLES').fetchdf()"
   ]
  },
  {
   "cell_type": "code",
   "execution_count": 3,
   "id": "da18e4ce4d4f0be3",
   "metadata": {
    "ExecuteTime": {
     "end_time": "2024-03-19T00:34:32.104664Z",
     "start_time": "2024-03-19T00:34:32.101348Z"
    },
    "collapsed": false
   },
   "outputs": [
    {
     "data": {
      "text/html": [
       "<div>\n",
       "<style scoped>\n",
       "    .dataframe tbody tr th:only-of-type {\n",
       "        vertical-align: middle;\n",
       "    }\n",
       "\n",
       "    .dataframe tbody tr th {\n",
       "        vertical-align: top;\n",
       "    }\n",
       "\n",
       "    .dataframe thead th {\n",
       "        text-align: right;\n",
       "    }\n",
       "</style>\n",
       "<table border=\"1\" class=\"dataframe\">\n",
       "  <thead>\n",
       "    <tr style=\"text-align: right;\">\n",
       "      <th></th>\n",
       "      <th>count_star()</th>\n",
       "    </tr>\n",
       "  </thead>\n",
       "  <tbody>\n",
       "    <tr>\n",
       "      <th>0</th>\n",
       "      <td>39782</td>\n",
       "    </tr>\n",
       "  </tbody>\n",
       "</table>\n",
       "</div>"
      ],
      "text/plain": [
       "   count_star()\n",
       "0         39782"
      ]
     },
     "execution_count": 3,
     "metadata": {},
     "output_type": "execute_result"
    }
   ],
   "source": [
    "con.sql('SELECT COUNT (*) FROM compustat').fetchdf()"
   ]
  },
  {
   "cell_type": "code",
   "execution_count": 4,
   "id": "97312723",
   "metadata": {},
   "outputs": [
    {
     "data": {
      "text/html": [
       "<div>\n",
       "<style scoped>\n",
       "    .dataframe tbody tr th:only-of-type {\n",
       "        vertical-align: middle;\n",
       "    }\n",
       "\n",
       "    .dataframe tbody tr th {\n",
       "        vertical-align: top;\n",
       "    }\n",
       "\n",
       "    .dataframe thead th {\n",
       "        text-align: right;\n",
       "    }\n",
       "</style>\n",
       "<table border=\"1\" class=\"dataframe\">\n",
       "  <thead>\n",
       "    <tr style=\"text-align: right;\">\n",
       "      <th></th>\n",
       "      <th>gvkey</th>\n",
       "      <th>hqcompany</th>\n",
       "      <th>hqzipcode</th>\n",
       "      <th>city</th>\n",
       "      <th>lat</th>\n",
       "      <th>lon</th>\n",
       "    </tr>\n",
       "  </thead>\n",
       "  <tbody>\n",
       "    <tr>\n",
       "      <th>484</th>\n",
       "      <td>5133</td>\n",
       "      <td>BONTEXINC</td>\n",
       "      <td>24416</td>\n",
       "      <td>BUENA VISTA</td>\n",
       "      <td>37.744292</td>\n",
       "      <td>-79.365747</td>\n",
       "    </tr>\n",
       "    <tr>\n",
       "      <th>518</th>\n",
       "      <td>5386</td>\n",
       "      <td>GULFUSACORP</td>\n",
       "      <td>83837</td>\n",
       "      <td>KELLOGG</td>\n",
       "      <td>47.544760</td>\n",
       "      <td>-116.134760</td>\n",
       "    </tr>\n",
       "    <tr>\n",
       "      <th>187</th>\n",
       "      <td>2729</td>\n",
       "      <td>CAPITALCITIES/ABCINC</td>\n",
       "      <td>10023</td>\n",
       "      <td>NEW YORK</td>\n",
       "      <td>40.632098</td>\n",
       "      <td>-74.013308</td>\n",
       "    </tr>\n",
       "    <tr>\n",
       "      <th>414</th>\n",
       "      <td>4488</td>\n",
       "      <td>EXETEROILCOLTD-CLA</td>\n",
       "      <td></td>\n",
       "      <td></td>\n",
       "      <td>60.108670</td>\n",
       "      <td>-113.642580</td>\n",
       "    </tr>\n",
       "    <tr>\n",
       "      <th>192</th>\n",
       "      <td>2755</td>\n",
       "      <td>CARDIOSEARCHINC</td>\n",
       "      <td>33607</td>\n",
       "      <td>TAMPA</td>\n",
       "      <td>27.960150</td>\n",
       "      <td>-82.512272</td>\n",
       "    </tr>\n",
       "    <tr>\n",
       "      <th>479</th>\n",
       "      <td>5107</td>\n",
       "      <td>GENERALWATERWORKSCORP</td>\n",
       "      <td>19804-0508</td>\n",
       "      <td>WILMINGTON</td>\n",
       "      <td>39.737610</td>\n",
       "      <td>-75.532980</td>\n",
       "    </tr>\n",
       "    <tr>\n",
       "      <th>361</th>\n",
       "      <td>4092</td>\n",
       "      <td>DUKE&amp;COINC</td>\n",
       "      <td>1002-24731</td>\n",
       "      <td>NEW YORK</td>\n",
       "      <td>40.758544</td>\n",
       "      <td>-73.968458</td>\n",
       "    </tr>\n",
       "    <tr>\n",
       "      <th>390</th>\n",
       "      <td>4294</td>\n",
       "      <td>ELECTRONICTRANSISTORSCORP</td>\n",
       "      <td>10550</td>\n",
       "      <td>HEMPSTEAD</td>\n",
       "      <td>40.704301</td>\n",
       "      <td>-73.637071</td>\n",
       "    </tr>\n",
       "    <tr>\n",
       "      <th>417</th>\n",
       "      <td>4516</td>\n",
       "      <td>FPINDINCOLD</td>\n",
       "      <td>96813</td>\n",
       "      <td>HONOLULU</td>\n",
       "      <td>21.307781</td>\n",
       "      <td>-157.863508</td>\n",
       "    </tr>\n",
       "    <tr>\n",
       "      <th>808</th>\n",
       "      <td>7804</td>\n",
       "      <td>NAVAJOFREIGHTLINESINC</td>\n",
       "      <td></td>\n",
       "      <td></td>\n",
       "      <td>NaN</td>\n",
       "      <td>NaN</td>\n",
       "    </tr>\n",
       "  </tbody>\n",
       "</table>\n",
       "</div>"
      ],
      "text/plain": [
       "     gvkey                  hqcompany   hqzipcode         city       lat  \\\n",
       "484   5133                  BONTEXINC       24416  BUENA VISTA 37.744292   \n",
       "518   5386                GULFUSACORP       83837      KELLOGG 47.544760   \n",
       "187   2729       CAPITALCITIES/ABCINC       10023     NEW YORK 40.632098   \n",
       "414   4488         EXETEROILCOLTD-CLA                          60.108670   \n",
       "192   2755            CARDIOSEARCHINC       33607        TAMPA 27.960150   \n",
       "479   5107      GENERALWATERWORKSCORP  19804-0508   WILMINGTON 39.737610   \n",
       "361   4092                 DUKE&COINC  1002-24731     NEW YORK 40.758544   \n",
       "390   4294  ELECTRONICTRANSISTORSCORP       10550    HEMPSTEAD 40.704301   \n",
       "417   4516                FPINDINCOLD       96813     HONOLULU 21.307781   \n",
       "808   7804      NAVAJOFREIGHTLINESINC                                NaN   \n",
       "\n",
       "            lon  \n",
       "484  -79.365747  \n",
       "518 -116.134760  \n",
       "187  -74.013308  \n",
       "414 -113.642580  \n",
       "192  -82.512272  \n",
       "479  -75.532980  \n",
       "361  -73.968458  \n",
       "390  -73.637071  \n",
       "417 -157.863508  \n",
       "808         NaN  "
      ]
     },
     "execution_count": 4,
     "metadata": {},
     "output_type": "execute_result"
    }
   ],
   "source": [
    "con.execute('SELECT * FROM compustat LIMIT 1000').fetchdf().sample(10)"
   ]
  },
  {
   "cell_type": "code",
   "execution_count": 5,
   "id": "6ffd0172d8f12bb4",
   "metadata": {
    "ExecuteTime": {
     "end_time": "2024-03-19T00:34:32.106793Z",
     "start_time": "2024-03-19T00:34:32.105227Z"
    },
    "collapsed": false
   },
   "outputs": [],
   "source": [
    "# DuckDB configuration\n",
    "# con.execute('SET memory_limit=\"10GB\"')\n",
    "# con.execute('SET threads TO 1')"
   ]
  },
  {
   "cell_type": "code",
   "execution_count": 6,
   "id": "58b3f6701bac76b6",
   "metadata": {
    "ExecuteTime": {
     "end_time": "2024-03-19T00:34:32.122326Z",
     "start_time": "2024-03-19T00:34:32.116581Z"
    },
    "collapsed": false
   },
   "outputs": [
    {
     "data": {
      "text/html": [
       "<div>\n",
       "<style scoped>\n",
       "    .dataframe tbody tr th:only-of-type {\n",
       "        vertical-align: middle;\n",
       "    }\n",
       "\n",
       "    .dataframe tbody tr th {\n",
       "        vertical-align: top;\n",
       "    }\n",
       "\n",
       "    .dataframe thead th {\n",
       "        text-align: right;\n",
       "    }\n",
       "</style>\n",
       "<table border=\"1\" class=\"dataframe\">\n",
       "  <thead>\n",
       "    <tr style=\"text-align: right;\">\n",
       "      <th></th>\n",
       "      <th>hqduns</th>\n",
       "      <th>hqcompany</th>\n",
       "      <th>latitude</th>\n",
       "      <th>longitude</th>\n",
       "    </tr>\n",
       "  </thead>\n",
       "  <tbody>\n",
       "    <tr>\n",
       "      <th>0</th>\n",
       "      <td>878115161</td>\n",
       "      <td>CSGSYSTEMSINTL</td>\n",
       "      <td>39.924500</td>\n",
       "      <td>-104.977600</td>\n",
       "    </tr>\n",
       "  </tbody>\n",
       "</table>\n",
       "</div>"
      ],
      "text/plain": [
       "      hqduns       hqcompany  latitude   longitude\n",
       "0  878115161  CSGSYSTEMSINTL 39.924500 -104.977600"
      ]
     },
     "execution_count": 6,
     "metadata": {},
     "output_type": "execute_result"
    }
   ],
   "source": [
    "# Get one random row of nets\n",
    "con.sql('SELECT * FROM nets_pub ORDER BY RANDOM() LIMIT 1').fetchdf()"
   ]
  },
  {
   "cell_type": "code",
   "execution_count": 7,
   "id": "e1b8e6077f5a53d8",
   "metadata": {
    "ExecuteTime": {
     "end_time": "2024-03-19T00:34:32.125207Z",
     "start_time": "2024-03-19T00:34:32.123267Z"
    },
    "collapsed": false
   },
   "outputs": [],
   "source": [
    "prepared_statement_name_pub = \"\"\"\n",
    "    CREATE TABLE tmp AS\n",
    "    SELECT\n",
    "        hqduns, \n",
    "        hqcompany,\n",
    "        latitude,\n",
    "        longitude,\n",
    "        jaro_winkler_similarity(n.hqcompany, ?) AS similarity_score\n",
    "    FROM\n",
    "        nets_pub n\n",
    "        --we can use other similarity functions\n",
    "        --we can also use other similarity scores\n",
    "\"\"\"\n",
    "prepared_statement_name_all = \"\"\"\n",
    "    CREATE TABLE tmp AS\n",
    "    SELECT\n",
    "        hqduns, \n",
    "        hqcompany,\n",
    "        latitude,\n",
    "        longitude,\n",
    "        jaro_winkler_similarity(n.hqcompany, ?) AS similarity_score\n",
    "    FROM\n",
    "        nets_all n\n",
    "        WHERE hqcity = ?\n",
    "        --we can use other similarity functions\n",
    "        --we can also use other similarity scores\n",
    "\"\"\"\n",
    "\n",
    "prepared_statement_add_match = \"\"\"\n",
    "    INSERT INTO matched\n",
    "    VALUES (?, --gvkey \n",
    "            (SELECT hqcompany FROM compustat WHERE gvkey = ?), --hqcompany\n",
    "            ?, --hqduns_pub\n",
    "            (SELECT hqcompany FROM nets_pub WHERE hqduns = ?),\n",
    "            ?, --name similarity_pub\n",
    "            ?, --distance pub\n",
    "            ?, --hqduns_all\n",
    "            (SELECT hqcompany FROM nets_all WHERE hqduns = ?),\n",
    "            ?,  --name similarity_all\n",
    "            ?); --distance all\n",
    "\"\"\"\n",
    "\n",
    "prepared_statement_geo_match_all = \"\"\"\n",
    "    SELECT \n",
    "        hqduns,\n",
    "        similarity_score,\n",
    "        ST_Distance(\n",
    "            ST_Point(n.latitude, n.longitude)::GEOMETRY,\n",
    "            ST_Point(?, ?)::GEOMETRY\n",
    "            ) AS distance\n",
    "    FROM fnam n\n",
    "    ORDER BY distance ASC\n",
    "    LIMIT 1;\n",
    "\"\"\"\n",
    "\n",
    "prepared_statement_geo_match_pub = \"\"\"\n",
    "    SELECT \n",
    "        hqduns,\n",
    "        similarity_score,\n",
    "        ST_Distance(\n",
    "            ST_Point(n.latitude, n.longitude)::GEOMETRY,\n",
    "            ST_Point(?, ?)::GEOMETRY\n",
    "            ) AS distance\n",
    "    FROM fnpm n\n",
    "    ORDER BY distance ASC\n",
    "    LIMIT 1;\n",
    "\"\"\""
   ]
  },
  {
   "cell_type": "code",
   "execution_count": 8,
   "id": "3b33b19523b5bc8b",
   "metadata": {
    "ExecuteTime": {
     "end_time": "2024-03-19T00:34:32.136909Z",
     "start_time": "2024-03-19T00:34:32.134751Z"
    },
    "collapsed": false
   },
   "outputs": [],
   "source": [
    "# Get the matches for a specific name\n",
    "def name_similarity_pub(comp_name):\n",
    "    con.execute('DROP TABLE IF EXISTS tmp;')\n",
    "    con.execute(prepared_statement_name_pub, [comp_name])\n",
    "    return con.sql('SELECT * FROM tmp WHERE similarity_score > 0.9 ORDER BY similarity_score DESC LIMIT 5').fetchdf() #TODO change threshold\n",
    "\n",
    "def name_similarity_all(comp_name, city):\n",
    "    con.execute('DROP TABLE IF EXISTS tmp;')\n",
    "    con.execute(prepared_statement_name_all, [comp_name, city])\n",
    "    return con.sql('SELECT * FROM tmp WHERE similarity_score > 0.9 ORDER BY similarity_score DESC LIMIT 10').fetchdf() #TODO change threshold\n"
   ]
  },
  {
   "cell_type": "code",
   "execution_count": 9,
   "id": "86f538d00b6583c6",
   "metadata": {
    "ExecuteTime": {
     "end_time": "2024-03-19T00:34:32.140124Z",
     "start_time": "2024-03-19T00:34:32.137786Z"
    },
    "collapsed": false
   },
   "outputs": [
    {
     "data": {
      "text/plain": [
       "<duckdb.duckdb.DuckDBPyConnection at 0x2a813fba970>"
      ]
     },
     "execution_count": 9,
     "metadata": {},
     "output_type": "execute_result"
    }
   ],
   "source": [
    "#con.execute('DROP TABLE IF EXISTS matched;')\n",
    "sql_query = \"\"\"\n",
    "CREATE TABLE IF NOT EXISTS matched (\n",
    "    gvkey INTEGER,\n",
    "    hqcompany TEXT,\n",
    "    hqduns_pub INTEGER,\n",
    "    hqcompany_pub TEXT,\n",
    "    similarity_pub FLOAT,\n",
    "    distance_pub FLOAT,\n",
    "    hqduns_all INTEGER,\n",
    "    hqcompany_all TEXT,\n",
    "    similarity_all FLOAT,\n",
    "    distance_all FLOAT\n",
    ");\n",
    "\"\"\"\n",
    "con.execute(sql_query)"
   ]
  },
  {
   "cell_type": "code",
   "execution_count": 10,
   "id": "e08e86a8b814d0df",
   "metadata": {
    "ExecuteTime": {
     "end_time": "2024-03-19T00:34:32.148689Z",
     "start_time": "2024-03-19T00:34:32.140992Z"
    },
    "collapsed": false
   },
   "outputs": [],
   "source": [
    "\n",
    "compustat_df = con.sql('SELECT * FROM compustat').fetchdf()\n",
    "\n",
    "# Fill missing values\n",
    "compustat_df['lat'] = compustat_df['lat'].fillna(0)\n",
    "compustat_df['lon'] = compustat_df['lon'].fillna(0)\n",
    "# compustat_df['phone'] = compustat_df['phone'].fillna('')\n",
    "#compustat_df = compustat_df[0:2000]"
   ]
  },
  {
   "cell_type": "code",
   "execution_count": 11,
   "id": "fee2e6385058cd99",
   "metadata": {
    "ExecuteTime": {
     "end_time": "2024-03-19T00:34:32.150723Z",
     "start_time": "2024-03-19T00:34:32.149463Z"
    },
    "collapsed": false
   },
   "outputs": [],
   "source": [
    "# Stats Counter\n",
    "pub_match_all = 0"
   ]
  },
  {
   "cell_type": "code",
   "execution_count": 12,
   "id": "984464a7622e2ef7",
   "metadata": {
    "ExecuteTime": {
     "end_time": "2024-03-19T00:34:32.186413Z",
     "start_time": "2024-03-19T00:34:32.181413Z"
    },
    "collapsed": false
   },
   "outputs": [],
   "source": [
    "def matching(compustat_df):\n",
    "    pub_match_all = 0\n",
    "    i = 0\n",
    "    for index, row in compustat_df.iterrows():\n",
    "        i += 1\n",
    "        if i % 50 == 0:\n",
    "            print(f'Processing {i} of {compustat_df.shape[0]}')\n",
    "        #TODO get rid of this print\n",
    "        gvkey = row['gvkey']\n",
    "        #check if gvkey is already in matched\n",
    "        if con.sql(f'SELECT COUNT(*) FROM matched WHERE gvkey = {gvkey}').fetchdf()['count_star()'].iloc[0] > 0:\n",
    "            print(f'Already processed {gvkey}, {row[\"hqcompany\"]}')\n",
    "            continue\n",
    "        # Get candidate matches\n",
    "        name_pub_match = name_similarity_pub(row['hqcompany'])\n",
    "        \n",
    "        try:\n",
    "            filtered_name_pub_matches = name_pub_match[name_pub_match['similarity_score'] == name_pub_match['similarity_score'].iloc[0]]\n",
    "            # Create a temporary table with the filtered results\n",
    "            con.execute('DROP TABLE IF EXISTS fnpm;')\n",
    "            con.execute('DROP TABLE IF EXISTS tmp;')\n",
    "            con.execute('CREATE TABLE fnpm AS SELECT * FROM filtered_name_pub_matches;')\n",
    "            pub_match = con.execute(prepared_statement_geo_match_pub, [row['lat'], row['lon']]).fetchdf().iloc[0]\n",
    "        except IndexError:\n",
    "            pub_match = pd.DataFrame(columns= ['hqduns', 'similarity_score', 'distance'])\n",
    "            pub_match.loc[0] = [-1, -1, 9999999]  # Fill with default values\n",
    "            \n",
    "        name_all_matches = name_similarity_all(row['hqcompany'], row['city'])\n",
    "        \n",
    "        try:\n",
    "            # Get the top similarity score\n",
    "            top_similarity_score = name_all_matches['similarity_score'].iloc[0]\n",
    "            # Filter the DataFrame\n",
    "            filtered_name_all_matches = name_all_matches[name_all_matches['similarity_score'] == top_similarity_score]\n",
    "            # Create a temporary table with the filtered results\n",
    "            con.execute('DROP TABLE IF EXISTS fnam;')\n",
    "            con.execute('DROP TABLE IF EXISTS tmp;')\n",
    "            con.execute('CREATE TABLE fnam AS SELECT * FROM filtered_name_all_matches;')\n",
    "            name_all_match = con.execute(prepared_statement_geo_match_all, [row['lat'], row['lon']]).fetchdf().iloc[0]\n",
    "        except IndexError:\n",
    "            name_all_match = pd.DataFrame(columns= ['hqduns', 'similarity_score', 'distance'])\n",
    "            name_all_match.loc[0] = [-1, -1, 9999999]  # Fill with default values\n",
    "    \n",
    "        if pub_match['hqduns'].item() in name_all_matches['hqduns'].values and pub_match['similarity_score'].item() >= name_all_match['similarity_score'].item():\n",
    "            name_all_match = pub_match\n",
    "            pub_match_all += 1\n",
    "        \n",
    "        try:    \n",
    "            con.execute(prepared_statement_add_match, [gvkey, gvkey, pub_match['hqduns'].item(), pub_match['hqduns'].item(), pub_match['similarity_score'].item(), pub_match['distance'].item(), name_all_match['hqduns'].item(), name_all_match['hqduns'].item(), name_all_match['similarity_score'].item(), name_all_match['distance'].item()])\n",
    "        except KeyError:\n",
    "             con.execute(prepared_statement_add_match, [gvkey, gvkey, pub_match['hqduns'].item(), pub_match['hqduns'].item(), pub_match['similarity_score'].item(), pub_match['distance'].item(), name_all_match['hqduns'].item(), name_all_match['hqduns'].item(), name_all_match['similarity_score'].item(), -1])"
   ]
  },
  {
   "cell_type": "code",
   "execution_count": 13,
   "id": "358e7c9a003a719b",
   "metadata": {
    "ExecuteTime": {
     "start_time": "2024-03-19T00:34:32.219620Z"
    },
    "collapsed": false,
    "is_executing": true
   },
   "outputs": [
    {
     "name": "stdout",
     "output_type": "stream",
     "text": [
      "Already processed 9406, SANTAFESNYDERCORP\n",
      "Already processed 9410, SANYOMANUFACTURINGCORP\n",
      "Already processed 9411, HILLSHIREBRANDSCO\n",
      "Already processed 9429, SAVA-STOPINC\n",
      "Already processed 9433, SAVANNAHFOODS&INDS\n",
      "Already processed 9435, SAVOYINDINC\n",
      "Already processed 9462, SCHILLERIND\n",
      "Already processed 9463, SCHLITZ(JOS.)BREWINGCO\n",
      "Already processed 9482, SCIENCEMANAGEMENTCORP\n",
      "Already processed 9491, SCIENTIFICLEASINGINC\n",
      "Already processed 9496, SCIENTIFICTEXTILESYSTEMS\n",
      "Already processed 9504, SCOPEIND\n",
      "Already processed 9505, COLORADOWYOMINGRESERVECO\n",
      "Already processed 9518, CONSOLIDATEDSYHCORP\n",
      "Already processed 9533, SEAGALLEYSTORESINC\n",
      "Already processed 9536, SEAWORLDINC\n",
      "Already processed 9545, SEAGATE!-OLD\n",
      "Already processed 9582, SEEQ!INC\n",
      "Already processed 9610, SERVAMERICAINC\n",
      "Already processed 9612, SERVICEMERCHANDISECO\n",
      "Already processed 9615, SERVINATIONALINC/OH\n",
      "Already processed 9632, SHANLEYCORP\n",
      "Already processed 9633, SHANNONGRPINC\n",
      "Already processed 9640, SHATTUCKDENNMININGCORP\n",
      "Already processed 9662, SHEPMYERSINVESTMENTCO\n",
      "Already processed 9669, SYNPROENVIRONMENTSVCS\n",
      "Already processed 9679, SHOPSMITHINC\n",
      "Already processed 9688, SIERRAEXPLORATIONCORP\n",
      "Already processed 9689, SIERRAHEALTHSERVICES\n",
      "Already processed 9696, SIERRASPRINGWATERCO\n",
      "Already processed 9698, SIFCOIND\n",
      "Already processed 9704, SIGMATICS\n",
      "Already processed 9707, SIGNETICSCORP\n",
      "Already processed 9714, SILICONELECTROPHYSICSINC\n",
      "Already processed 9717, SILICONTRANSISTORCORP\n",
      "Already processed 9728, MCEWENMININGINC\n",
      "Already processed 9732, SIMERACORP\n",
      "Already processed 9733, SIMKINSIND\n",
      "Already processed 9735, SIMMONSAIRLINESINC\n",
      "Already processed 9739, SIMONSTORESINC\n",
      "Already processed 9746, BICOASTALCORP\n",
      "Already processed 9747, SINGERCREDITCORP\n",
      "Already processed 9748, PERVASIPCORP\n",
      "Already processed 9751, SITKINSMELTING&REFINING\n",
      "Already processed 9760, SKYEXPRESSINC\n",
      "Already processed 9768, SLICKCORP\n",
      "Already processed 9772, SMITHINTLINC\n",
      "Already processed 9778, SNAPONINC\n",
      "Already processed 9801, SOLONAUTOMATEDSERVICESINC\n",
      "Processing 50 of 13782\n",
      "Already processed 9816, SONOMAINTL\n",
      "Already processed 9820, SOONERDEFENSEOFFLORIDA\n",
      "Already processed 9826, SOUNDESIGNCORP\n",
      "Already processed 9829, SOUTHCAROLINANATLCORP\n",
      "Already processed 9836, SOUTHAMINC\n",
      "Already processed 9838, SOUTHEASTBANKINGCORP\n",
      "Already processed 9884, SOUTHWESTBANCORP\n",
      "Already processed 9885, SOUTHWESTBANCSHARES\n",
      "Already processed 9895, SOUTHWESTPPTYTRINC\n",
      "Already processed 9900, SOUTHWESTERNBELLTELEPHONE\n",
      "Already processed 9902, SOUTHWESTERNELECTRICPWRCO\n",
      "Already processed 9915, SPACERAYSINC\n",
      "Already processed 9926, SPECIALTYRESTAURANTS\n",
      "Already processed 9929, SPECTRAPHYSICS\n",
      "Already processed 9938, SPECTRUMGRPINC\n",
      "Already processed 9942, SPEIZMANINDINC\n",
      "Already processed 9974, STAFFORDFOODSLTD\n",
      "Already processed 9979, STAMPEDEINTLRESOURCESINC\n",
      "Already processed 10005, STANDARDREGISTERCO\n",
      "Already processed 10032, STARTELCORP\n",
      "Already processed 10042, STECHERTRAUNG-SCHMIDTCORP\n",
      "Already processed 10050, STEINBERGINC-CLA\n",
      "Already processed 10054, STELLARINDINCDEL\n",
      "Already processed 10055, STELLEXINDINC\n",
      "Already processed 10076, STERNERLIGHTINGSYSTEMS\n",
      "Already processed 10081, STEVCOKNITINC\n",
      "Already processed 10084, STEVIAINC\n",
      "Already processed 10092, STONE&WEBSTERINC\n",
      "Already processed 10096, PUBLICSTORAGE\n",
      "Already processed 10101, BTENERGYCORP-CLA\n",
      "Already processed 10112, STRUTHERSINDINC\n",
      "Already processed 10124, STURMRUGER&COINC\n",
      "Already processed 10131, SUBURBANPROPANEGASCORP\n",
      "Already processed 10133, SUKUTCONSTRUCTIONINC\n",
      "Already processed 10134, SULCUSHOSPITALITYTECHCP\n",
      "Already processed 10142, SUMMITBANCORP\n",
      "Already processed 10149, SUMMITSYSTEMSINC\n",
      "Already processed 10164, SUNERGYCOMMUNITIESINC\n",
      "Already processed 10168, SUNLITEOILCOLTD\n",
      "Already processed 10171, SUNSHINECONSOLIDATEDINC\n",
      "Already processed 10178, SUNSTATESCORP-OLD\n",
      "Already processed 10179, SUNTECSYSTEMSINC\n",
      "Already processed 10184, SUPERSKYINTLINC\n",
      "Already processed 10189, SUPERSTORESINC\n",
      "Already processed 10192, SUPERIORCAREINC\n",
      "Already processed 10195, SUPERIORINDINTL\n",
      "Already processed 10201, SUPPLYRESOURCESINC\n",
      "Already processed 10202, SUPRADURCOSINC\n",
      "Already processed 10206, SUPRONENERGYCORP\n",
      "Already processed 10213, SUTRONCORP\n",
      "Processing 100 of 13782\n",
      "Already processed 10228, SYCORINC\n",
      "Already processed 10246, SYRACUSESUPPLYCO\n",
      "Already processed 10247, SYSCOCORP\n",
      "Already processed 10252, SYSTEMS&COMPUTERTECHCORP\n",
      "Already processed 10254, NETCAREHEALTHGRPINC\n",
      "Already processed 10267, TBCINDINC\n",
      "Already processed 10268, TBSCOMPUTERCENTERSCORP\n",
      "Already processed 10280, TGCINCOLD\n",
      "Already processed 10282, TGIFRIDAY'SINC\n",
      "Already processed 10285, INTERCOMSYSTEMSINC\n",
      "Already processed 10286, TIINETWORK@INC\n",
      "Already processed 10296, KESTRELENERGYINC\n",
      "Already processed 10301, TRWINC\n",
      "Already processed 10310, TVICORP\n",
      "Already processed 10313, TACAINTLAIRLSSA\n",
      "Already processed 10316, TACOVILLAINCOLD\n",
      "Already processed 10322, TALCAPINC\n",
      "Already processed 10323, TALLEYINDINC\n",
      "Already processed 10332, RSLEGACYCORP\n",
      "Already processed 10334, TANNETICSINC\n",
      "Already processed 10340, TARGETOIL&GASINC\n",
      "Already processed 10358, TECHSERVINC\n",
      "Already processed 10362, TECHNALYSISCORP\n",
      "Already processed 10373, TECHNICONCORP\n",
      "Already processed 10383, TECHOCORP\n",
      "Already processed 10384, TECHTRANINDINC\n",
      "Already processed 10389, TEJASOIL&GASCO\n",
      "Already processed 10404, TELECREDITINC\n",
      "Already processed 10405, ATIINC-NEW\n",
      "Already processed 10407, TELEFLEXINC\n",
      "Already processed 10409, TELEMEDCORP\n",
      "Already processed 10415, TELERATEINC\n",
      "Already processed 10419, TELEXCORP\n",
      "Already processed 10426, TEMPLEINLANDINC\n",
      "Already processed 10435, WENDTBRISTOLHEALTHSVCCP\n",
      "Already processed 10441, TENNANTCO\n",
      "Already processed 10445, TENNESSEEFORGINGSTEELCORP\n",
      "Already processed 10450, TENNISLADYINC\n",
      "Already processed 10452, TENERAINC\n",
      "Already processed 10456, TERMINALDATACORP\n",
      "Already processed 10476, ETERNITYHEALTHCAREINC\n",
      "Already processed 10480, TEXACOCANADAINC\n",
      "Already processed 10487, TEXASAMERICANRESOURCES\n",
      "Already processed 10489, TEXASEAGLEOILCO\n",
      "Already processed 10504, TEXASPACIFICLANDCORP\n",
      "Already processed 10508, ENERGYFUTURECOMPETITIVE\n",
      "Already processed 10510, TEXASGULFINC\n",
      "Already processed 10515, TEXONENERGYCORP\n",
      "Already processed 10527, THERMALPROFILESINC\n",
      "Already processed 10533, THERMOTECHINDINC\n",
      "Processing 150 of 13782\n",
      "Already processed 10552, THOUSANDTRAILSINC\n",
      "Already processed 10554, THREEDDEPARTMENT-CLB\n",
      "Already processed 10556, THRESHOLD!\n",
      "Already processed 10558, THRIFTYCORP\n",
      "Already processed 10567, SIXFLAGSENTERTAINMENTCORP\n",
      "Already processed 10569, TIFFANY&CO-OLD\n",
      "Already processed 10572, TIMBERLANDINDINC\n",
      "Already processed 10593, TOBIASKOTZINCO\n",
      "Already processed 10602, TOLEDO!INC\n",
      "Already processed 10605, SPARTACOMMERCIALSERVI-OLD\n",
      "Already processed 10608, TONKACORP\n",
      "Already processed 10613, TFCINTLINC-CLA\n",
      "Already processed 10614, GLOBELIFEINC\n",
      "Already processed 10616, TORGINOLINDINC\n",
      "Already processed 10629, TOWERCO\n",
      "Already processed 10644, TRAILEREQUIPMENTDISTRSINC\n",
      "Already processed 10660, TRANSNATIONALLEASINGINC\n",
      "Already processed 10674, TRANSCOREALTYTRUST\n",
      "Already processed 10686, TRANSNETCORP\n",
      "Already processed 10694, TRANSSTERLINGINC\n",
      "Already processed 10696, TRANSAMERICAOCCIDENTALLIFE\n",
      "Already processed 10708, TREASUREISLEINC\n",
      "Already processed 10716, TRIWALLCONTAINERSINC\n",
      "Already processed 10718, TRIANGLEBRICKCO\n",
      "Already processed 10723, TRIANGLEPACIFICCORP\n",
      "Already processed 10726, TRIBUNEMEDIACO\n",
      "Already processed 10729, TRICENTROLCANADALTD\n",
      "Already processed 10734, TRIMEDYNEINC\n",
      "Already processed 10736, TRINITYRESOURCESLTD\n",
      "Already processed 10741, TRIONINC\n",
      "Already processed 10743, TRITONENERGYLTD\n",
      "Already processed 10746, TRIZECLTD\n",
      "Already processed 10753, TRYGONELECTRONICSINC\n",
      "Already processed 10764, TULTEXCORP\n",
      "Already processed 10768, TURFPARADISEINC\n",
      "Already processed 10775, TFCTELESERVICESCORP\n",
      "Already processed 10791, BULOVA@GPINC\n",
      "Already processed 10810, FRANKFORTTOWERINDSINC\n",
      "Already processed 10841, UNIFLEXINC\n",
      "Already processed 10846, UNILEVERPLC\n",
      "Already processed 10865, UNIONOILCOOFCANADALTD\n",
      "Already processed 10873, UNIROYALINC\n",
      "Already processed 10894, UDRINC\n",
      "Already processed 10900, UNITEDGASPIPELINECO\n",
      "Already processed 10906, UNITEDINDUSTRIALCORP\n",
      "Already processed 10918, UNITEDNATIONALCORP\n",
      "Already processed 10919, UNITEDOVERTONCORP\n",
      "Already processed 10920, UNITEDPARCELSERVICEINC\n",
      "Already processed 10934, AMERICANCAPITALHLDGS\n",
      "Already processed 10940, USENVELOPECO\n",
      "Processing 200 of 13782\n",
      "Already processed 10952, USIND\n",
      "Already processed 11001, UNITRODECORP\n",
      "Already processed 11012, SENSIENT@CORP\n",
      "Already processed 11019, UNIVERSALMARIONCORP\n",
      "Already processed 11025, UNIVERSALRUNDLECORP\n",
      "Already processed 11032, UNIVERSALHEALTHSVCSINC\n",
      "Already processed 11034, UNIVERSITYGRAPHICSINC\n",
      "Already processed 11038, UNOCALCORP\n",
      "Already processed 11039, UPRIGHTINC\n",
      "Already processed 11044, UPSONCO\n",
      "Already processed 11051, UTAHMEDICALPRODUCTSINC\n",
      "Already processed 11053, UTAHRESOURCESINTLINC\n",
      "Already processed 11066, VSICORP\n",
      "Already processed 11067, VERSASERVICESLTD\n",
      "Already processed 11068, VTNCORP\n",
      "Already processed 11084, VALLENCORP\n",
      "Already processed 11093, VALMACINDINC\n",
      "Already processed 11111, VAPORTECHCORP\n",
      "Already processed 11118, VAROINC\n",
      "Already processed 11127, VEGAPRECISIONLABSINC\n",
      "Already processed 11139, VERMONTRESEARCHINC\n",
      "Already processed 11140, VERMONTYANKEENUCLEARPOWER\n",
      "Already processed 11142, AXSYS@INC\n",
      "Already processed 11144, VERNONVALLEYRECASSOCINC\n",
      "Already processed 11145, VERSA@INC\n",
      "Already processed 11157, VIBRATIONMOUNTINGS&CTLS\n",
      "Already processed 11158, VICKERSCANADAINC\n",
      "Already processed 11164, VICTOR@INC\n",
      "Already processed 11170, LATEXRESOURCESINC\n",
      "Already processed 11172, CUISINESOLUTIONSINC\n",
      "Already processed 11180, VINDALECORP\n",
      "Already processed 11183, VIRAGENINC\n",
      "Already processed 11187, VIRGINIADATACENTERINC\n",
      "Already processed 11202, VISUAL!INC\n",
      "Already processed 11208, VIVIGENINC\n",
      "Already processed 11223, VUEBOTICSCORP\n",
      "Already processed 11247, WACHOVIACORPOLD\n",
      "Already processed 11255, WAGNER(E.R.)MANUFACTURING\n",
      "Already processed 11259, WALMARTINC\n",
      "Already processed 11260, WALBARINC\n",
      "Already processed 11273, WALLACEMURRAYCORP\n",
      "Already processed 11284, WARNER(INC\n",
      "Already processed 11288, WARNERLAMBERTCO\n",
      "Already processed 11290, WARSHOW(H)&SONSINC\n",
      "Already processed 11312, WATKINSJOHNSON\n",
      "Already processed 11315, WAUSAUPAPERCORP\n",
      "Already processed 11329, WEBBRESOURCESINC\n",
      "Already processed 11331, WEBB'SSTORESLTD\n",
      "Already processed 11335, WEHRCORP\n",
      "Already processed 11339, WEINGARTEN(J)INC\n",
      "Processing 250 of 13782\n",
      "Already processed 11341, WEINGARTENINC\n",
      "Already processed 11343, WEISMARKETSINC\n",
      "Already processed 11344, WEDGESTONE)\n",
      "Already processed 11346, WEJITCORP\n",
      "Already processed 11356, WELLINGTONTECHNICALINDS\n",
      "Already processed 11361, AG&E{\n",
      "Already processed 11366, WENDY'SINTLINC\n",
      "Already processed 11367, WENTEXINTLINC\n",
      "Already processed 11372, NEWCONCEPTENERGYINC\n",
      "Already processed 11375, WESTCHEMICALPRODUCTSINC\n",
      "Already processed 11381, WESTVIRGINIAACCEPTANCECO\n",
      "Already processed 11382, WESTATESITALOCO\n",
      "Already processed 11394, WESTERNBELL(\n",
      "Already processed 11399, WESTERNDIGITALCORP\n",
      "Already processed 11413, WESTERNPACIFICIND\n",
      "Already processed 11430, WESTERNWORLDSAMUELCOMMINC\n",
      "Already processed 11443, WESTON(GEORGE)LTD\n",
      "Already processed 11446, MEADWESTVACOCORP\n",
      "Already processed 11450, WESTWOODONEINC-OLD\n",
      "Already processed 11481, WHITNEYFIDALGOSEAFOODSINC\n",
      "Already processed 11483, WHITTAKERCORP\n",
      "Already processed 11485, WICHITAIND\n",
      "Already processed 11505, WILLIAMS&COINC\n",
      "Already processed 11522, WILSONSPORTINGGOODSCO\n",
      "Already processed 11523, ESYNCNETWORKSINC\n",
      "Already processed 11526, WINCHESTERCORP\n",
      "Already processed 11528, WINCOMCORP\n",
      "Already processed 11540, WINSLOW!\n",
      "Already processed 11542, WINSTONNETWORKINC\n",
      "Already processed 11545, WINTERHALTERINC\n",
      "Already processed 11555, INTEGRYSHOLDINGINC\n",
      "Already processed 11557, WISCONSINSOUTHERNGASCO\n",
      "Already processed 11560, WITSINC\n",
      "Already processed 11571, WOODBINEPETROLEUMINC\n",
      "Already processed 11592, WORLDMAILCENTERINC\n",
      "Already processed 11593, WORLDOFCOMPUTERSINC\n",
      "Already processed 11597, WORLDWIDEENERGYCORP\n",
      "Already processed 11609, WRIGLEY(WM)JRCO\n",
      "Already processed 11621, XLDATACOMPINC\n",
      "Already processed 11631, XENEREXCORP\n",
      "Already processed 11632, IFABRICCORP\n",
      "Already processed 11639, XPLORENERGYCORP\n",
      "Already processed 11651, YELLOWSTONEENVIRONSVCS\n",
      "Already processed 11654, YOOHOOCHOCOLATEBEVERAGE\n",
      "Already processed 11669, ZALECORP\n",
      "Already processed 11688, ZIYADINC\n",
      "Already processed 11693, GATEFIELDCORP\n",
      "Already processed 11697, ZENEXSYNTHETICLUBRICANTS\n",
      "Already processed 11713, GOODMARKFOODS\n",
      "Already processed 11729, WHITEMTNSINSGRPLTD\n",
      "Processing 300 of 13782\n",
      "Already processed 11745, QUALYSINC\n",
      "Already processed 11752, SPORTECULARINC\n",
      "Already processed 11763, PAWNEEINDINC\n",
      "Already processed 11765, ZYCOMINC\n",
      "Already processed 11770, STIFEL)CORP\n",
      "Already processed 11790, ROTHMANSINC\n",
      "Already processed 11806, KENNERPARKERTOYSINC\n",
      "Already processed 11814, COSTCOWHOLESALECORP\n",
      "Already processed 11816, MAGNETBANKFSB\n",
      "Already processed 11817, MERABANKFEDSVGSBKPHOENIX\n",
      "Already processed 11826, BIOASSAYSYSTEMSCORP\n",
      "Already processed 11834, SUNBELTNURSERYGRPINC/DE\n",
      "Already processed 11845, CITIZENSBANCORP/MD\n",
      "Already processed 11856, TRUIST)CORP\n",
      "Already processed 11862, VICTORIABANKSHARESINC\n",
      "Already processed 11863, GREATAMERRECREATION\n",
      "Already processed 11885, PROPANCBIOPHARMAINC\n",
      "Already processed 11891, FOURTH)CORP\n",
      "Already processed 11896, FIRSTMIDWEST}\n",
      "Already processed 11903, AEPINDINC\n",
      "Already processed 11905, WUNONGASIAPACIFICCO\n",
      "Already processed 11908, IFRSYSTEMSINC\n",
      "Already processed 11909, INTLBIO@\n",
      "Already processed 11923, ANADARKOPETROLEUMCORP\n",
      "Already processed 11946, GENERALCOMPUTERCORPINC\n",
      "Already processed 11947, TEKNOWLEDGEINC\n",
      "Already processed 11951, ZYTECSYSTEMSINC\n",
      "Already processed 11953, AMERICANHEALTHSERVICESCP\n",
      "Already processed 11955, MONEDALATAMFIXEDINCOMEFD\n",
      "Already processed 11968, GRAHAMMCCORMICKO&G-LP\n",
      "Already processed 11976, ROCKYMOUNTAINCHOCFACTINC\n",
      "Already processed 11983, FIRSTTRUSTNAMERENRGINFR\n",
      "Already processed 11992, HEALTHLEASEREIT\n",
      "Already processed 12045, UNIONTEXASPETRO{\n",
      "Already processed 12047, CAVALIERHOMESINC\n",
      "Already processed 12052, TELEQUESTINC\n",
      "Already processed 12058, HANDYMANCORP\n",
      "Already processed 12066, VRBUSINESSBROKERSINC\n",
      "Already processed 12070, AMERINSUREDMTGINVS-LP\n",
      "Already processed 12073, COMPUCHEMCORP\n",
      "Already processed 12085, NEVEXGOLDCOINC\n",
      "Already processed 12087, OMNIPOWERINC\n",
      "Already processed 12088, ALTEXINDINC\n",
      "Already processed 12105, NORCAP)CORP\n",
      "Already processed 12128, INTEGRATEDHLTHCRFACS-LP\n",
      "Already processed 12129, SEALRIGHTCOINC\n",
      "Already processed 12135, PACERCORPWASH\n",
      "Already processed 12138, PRICE(T.ROWE)GRP\n",
      "Already processed 12165, GARDENAMERICACORP\n",
      "Already processed 12174, METROPOLITANFINLCORP/DE\n",
      "Processing 350 of 13782\n",
      "Already processed 12204, CIMCOINC\n",
      "Already processed 12205, MERIDIANNATIONALCORP\n",
      "Already processed 12210, AUTOINFOINC\n",
      "Already processed 12227, ATIMEDICALINC\n",
      "Already processed 12230, AUSIMONTNV\n",
      "Already processed 12238, KENTELECTRONICSCORP\n",
      "Already processed 12254, SUPERIORTELETECINC\n",
      "Already processed 12272, SILVEREUREKACORP\n",
      "Already processed 12279, TMCENTURYINC\n",
      "Already processed 12287, SHELLYASSOCIATESINC\n",
      "Already processed 12296, TOPSMARKETSINC\n",
      "Already processed 12346, SOUNDADVICEINC\n",
      "Already processed 12363, INTLAMERICANHOMESINC\n",
      "Already processed 12397, LIPOSOMECOINC\n",
      "Already processed 12401, JEWELMASTERSINC\n",
      "Already processed 12405, AVESISINC\n",
      "Already processed 12419, WASTERECOVERYINC\n",
      "Already processed 12438, GOLDENCORRALCORP\n",
      "Already processed 12443, RAMADANJHLDGSCORP\n",
      "Already processed 12451, AMERICANEQUINEPRODUCTSINC\n",
      "Already processed 12465, PINCHORPOUNDINC\n",
      "Already processed 12476, JWGENESIS)CP\n",
      "Already processed 12485, ALTICEUSAINC\n",
      "Already processed 12487, AMBASECORPOLD\n",
      "Already processed 12488, SCRIPTSYSTEMSINC\n",
      "Already processed 12492, VISCOUNTRESOURCESLTD\n",
      "Already processed 12494, IMUTECHINC\n",
      "Already processed 12502, COGNITIVESYSTEMSINC\n",
      "Already processed 12531, PACETRONICSINC\n",
      "Already processed 12538, NETWORKVIDEOINC\n",
      "Already processed 12542, TRANSFORMLOGICCORP\n",
      "Already processed 12553, HEALTHEDUTECHINC\n",
      "Already processed 12554, ELECTRICITEDEFRANCE\n",
      "Already processed 12568, DAILYJOURNALCORP\n",
      "Already processed 12569, ACMEMETALSINC\n",
      "Already processed 12570, ACUSONCORP\n",
      "Already processed 12589, ENCOMPASSHEALTHCORP\n",
      "Already processed 12606, FRONTIERADJUSTERSOFAMER\n",
      "Already processed 12611, SOUTHBROOKINTLTV-ADR\n",
      "Already processed 12614, GOLDENPOULTRYCOINC\n",
      "Already processed 12626, TAYLOR(S.)COMPANIESINC\n",
      "Already processed 12658, SEDINTL{\n",
      "Already processed 12693, OLYMPIABROADCASTINGCORP\n",
      "Already processed 12695, SHAWSSUPERMARKETSINC\n",
      "Already processed 12708, GEOKINETICSINC\n",
      "Already processed 12719, APYXMEDICALCORP\n",
      "Already processed 12759, QUESTBIO!INC\n",
      "Already processed 12760, SMITHCOLLINSPHARMACEUTICAL\n",
      "Already processed 12778, PACTONGOLDINC\n",
      "Already processed 12787, CLAIRSONINTLCORP\n",
      "Processing 400 of 13782\n",
      "Already processed 12788, HARMANINTLINDS\n",
      "Already processed 12801, AXIONINTL{\n",
      "Already processed 12805, WESTON(ROYF)-SERA\n",
      "Already processed 12806, INDIANAGASCOINC\n",
      "Already processed 12813, AUTOBANCINC\n",
      "Already processed 12816, RIGHTMANAGEMENTCONSULTANTS\n",
      "Already processed 12821, NGASRESOURCESINC\n",
      "Already processed 12855, NOBELLEARNINGCMNTYSINC\n",
      "Already processed 12858, CITADELGOLDMINESINCOLD\n",
      "Already processed 12862, STARTRONIXINTLINC\n",
      "Already processed 12869, GENERALGENETICSCORP\n",
      "Already processed 12872, ALLIANTCOMPUTERSYSTEMSCP\n",
      "Already processed 12877, FOUNTAINPOWERBOATINDSINC\n",
      "Already processed 12883, INTERSOLV\n",
      "Already processed 12894, IDEALSCHOOLSUPPLYCORP\n",
      "Already processed 12905, TRUSTAMERICASERVICECP\n",
      "Already processed 12916, GOLDENCYCLEGOLDCORP\n",
      "Already processed 12919, DISC!CORP\n",
      "Already processed 12941, TRIANEQUITIESLTD\n",
      "Already processed 12956, INCOMEOPPORTUNITYRLTYINVS\n",
      "Already processed 12958, LEO'SINDINC\n",
      "Already processed 12965, GYNEX$\n",
      "Already processed 12973, ATLANTICGRPINC\n",
      "Already processed 12979, MCGRAWHILLEDUCATION-REDH\n",
      "Already processed 12988, DRFOODSINC\n",
      "Already processed 12994, GASNATURALINC\n",
      "Already processed 12996, SFLMAVENCORP\n",
      "Already processed 13016, DATATRANSMISSIONNETWORK\n",
      "Already processed 13023, ZZZZBESTCOINC\n",
      "Already processed 13026, BCIGEONETICS\n",
      "Already processed 13029, PRESTOTEKCORP\n",
      "Already processed 13033, COASTSAVINGS)INC\n",
      "Already processed 13036, LONDONSILVERCORP\n",
      "Already processed 13048, MDTCORP\n",
      "Already processed 13053, MAGNAGRPINC\n",
      "Already processed 13055, ONEVALLEYBANCORP/WV\n",
      "Already processed 13056, PILGRIMHLDGSLTD\n",
      "Already processed 13061, LANDMARKAMERICANCORP\n",
      "Already processed 13066, NORTHERNPACIFICCORP\n",
      "Already processed 13067, INTERTANINC\n",
      "Already processed 13070, SYSTEMSOFTWAREASSOCINC\n",
      "Already processed 13093, EMPIREOFAMERICAFSB\n",
      "Already processed 13111, IPMINC\n",
      "Already processed 13128, ECOLOGYANDENVIRONMENTINC\n",
      "Already processed 13137, SIDARICORP\n",
      "Already processed 13148, CONAIRCORP/DE\n",
      "Already processed 13157, ENERGYDEVELOPPRTNRS\n",
      "Already processed 13176, SONOTEKCORP\n",
      "Already processed 13189, CEDARREALTYTRUSTINC\n",
      "Already processed 13191, COLUMBIANENERGYCO-LP\n",
      "Processing 450 of 13782\n",
      "Already processed 13199, CAMERAPLATFORMSINTLINC\n",
      "Already processed 13205, THUNDERGRPINC\n",
      "Already processed 13207, GROSSMANSINC\n",
      "Already processed 13209, ALPINELACEBRANDSINC\n",
      "Already processed 13217, NLCHEMICALS\n",
      "Already processed 13226, PERENNIALDEVELOPMENT\n",
      "Already processed 13227, LAUREATEEDUCATIONINC-OLD\n",
      "Already processed 13246, LASERLANDCORPUSA\n",
      "Already processed 13262, ELEXISCORP\n",
      "Already processed 13271, STERLINGINC\n",
      "Already processed 13278, NORTHWESTGOLDCORP-CLA\n",
      "Already processed 13283, MARSAM$INC\n",
      "Already processed 13289, CALIFORNIAFIRSTLEASNGCORP\n",
      "Already processed 13291, TIDBITALLEYINCNJ\n",
      "Already processed 13296, ERIELACKAWANNAINC\n",
      "Already processed 13307, SAVECOINC\n",
      "Already processed 13319, BRADENSINC\n",
      "Already processed 13326, TOPPSCOINC\n",
      "Already processed 13328, C&D@INC\n",
      "Already processed 13342, RLICORP\n",
      "Already processed 13346, MULTISOFTINC\n",
      "Already processed 13363, FORTUNE44CO-CLA\n",
      "Already processed 13364, NUTMEGINDINC\n",
      "Already processed 13376, AMERICANMEDICALTECHINC\n",
      "Already processed 13378, SORRENTONETWORKSCORP\n",
      "Already processed 13391, MANAGEMENT@INC\n",
      "Already processed 13402, GOLDENBELLRESOURCESINC\n",
      "Already processed 13408, ESSEFCORP\n",
      "Already processed 13410, DISPLAY@INC\n",
      "Already processed 13421, CADENCEDESIGNSYSTEMSINC\n",
      "Already processed 13427, BERKSHIREHATHAWAYENERGYCO\n",
      "Already processed 13428, MIDAMERICANFUNDINGLLC\n",
      "Already processed 13433, AUSTRALIANCORPORATEHLDGS\n",
      "Already processed 13444, APINDINC\n",
      "Already processed 13448, CRYENCOSCIENCESINC\n",
      "Already processed 13449, WESTMARCCOMMUNINC-CLA\n",
      "Already processed 13452, PERKINSFAMILYRESTS-LP\n",
      "Already processed 13463, CONTINENTALMINERALSCORP\n",
      "Already processed 13469, FORMICACORP\n",
      "Already processed 13494, SEAFOODINC\n",
      "Already processed 13496, MOTIONCONTROL!\n",
      "Already processed 13498, CARNIVALCORP&PLC\n",
      "Already processed 13505, DREAMSINC\n",
      "Already processed 13509, USRESTAURANT\n",
      "Already processed 13533, CFINCOMEPARTNERS-LP\n",
      "Already processed 13537, ADALGRPINC\n",
      "Already processed 13553, SHOREWOODPACKAGINGCORP\n",
      "Already processed 13559, PACIFICORP)SVCS\n",
      "Already processed 13572, MARITRANSINC\n",
      "Already processed 13579, EQUITYCOMMONWEALTH\n",
      "Processing 500 of 13782\n",
      "Already processed 13595, ASPENLEAFINC\n",
      "Already processed 13599, CELGENECORP\n",
      "Already processed 13605, CORPORATESOFTWAREINC\n",
      "Already processed 13618, SISCOMINC\n",
      "Already processed 13624, EMERALDHOMES-LP\n",
      "Already processed 13626, REDLIONINNS-LP\n",
      "Already processed 13631, ETHEMAHEALTHCORP\n",
      "Already processed 13645, ALLAMERICANSEMICONDUCTOR\n",
      "Already processed 13647, COLORADOPRIMECORP\n",
      "Already processed 13682, CENTENNIALGRP\n",
      "Already processed 13684, LIBERTYINTERACTIVE-CONSOL\n",
      "Already processed 13702, DIGITALOPTRONICSCORPOLD\n",
      "Already processed 13706, FLEXIVANCORP\n",
      "Already processed 13707, HWCDISTRIBUTION\n",
      "Already processed 13710, CEDARFAIR-LP\n",
      "Already processed 13711, ENERGEXMINERALSLTD\n",
      "Already processed 13755, SPECTRAMEDINC\n",
      "Already processed 13758, IFXCORP\n",
      "Already processed 13759, MERITAGEHOSPITALITYGRP\n",
      "Already processed 13760, NORTHAMERICAN@\n",
      "Already processed 13761, PEOPLERIDESHARINGSYSTEMS\n",
      "Already processed 13766, POLARMOLECULARCORP\n",
      "Already processed 13775, SCOREBOARDINC\n",
      "Already processed 13776, AMERICANLANDLEASEINC\n",
      "Already processed 13777, LANSYSTEMSINCMN\n",
      "Already processed 13788, KRISCHAMERICANINNSINC\n",
      "Already processed 13789, AIRMETHODSCORP\n",
      "Already processed 13795, TECHVENDINC\n",
      "Already processed 13800, ALMOSTFAMILYINC\n",
      "Already processed 13820, MORAN(JT))CORP\n",
      "Already processed 13822, INACOMCORP\n",
      "Already processed 13827, ARGOSYENERGYINC-OLD\n",
      "Already processed 13830, PIEMONTEFOODSINC\n",
      "Already processed 13831, SEDONACORP\n",
      "Already processed 13839, CAMBREXCORP\n",
      "Already processed 13845, CHINAMOBILEGAMES-ADR\n",
      "Already processed 13854, ARIZONACOMMERCEBANK\n",
      "Already processed 13856, CONTAINERCORPOFAMER\n",
      "Already processed 13869, EXCELINTER)\n",
      "Already processed 13897, LIFETIMECORP\n",
      "Already processed 13907, MEMORYSCIENCESCORP\n",
      "Already processed 13908, NETCORINC-CLA\n",
      "Already processed 13912, KERKHOFFINDINC\n",
      "Already processed 13916, THIRDMILLENIUMTELECOMMUN\n",
      "Already processed 13920, SOURCEVENTURECAPITALINC\n",
      "Already processed 13934, HOECHSTCELANESECORP\n",
      "Already processed 13937, (TRANSMISSION\n",
      "Already processed 13956, OPTIFUNDINC-CLA\n",
      "Already processed 13960, LUMONICSINCOLD\n",
      "Already processed 13979, WESTARGRPLTD\n",
      "Processing 550 of 13782\n",
      "Already processed 13988, SCHWAB(CHARLES)CORP\n",
      "Already processed 14005, NATIONALMFG@\n",
      "Already processed 14016, MAGICLANTERNGRPINC\n",
      "Already processed 14037, SUNRISEEDUCATIONALSVCSINC\n",
      "Already processed 14039, CFCFINC\n",
      "Already processed 14042, CANFORCORP\n",
      "Already processed 14051, GATEWAYCORPN\n",
      "Already processed 14057, ORANGECOINC\n",
      "Already processed 14086, REVOTEKINC\n",
      "Already processed 14091, TAYLOR&MARTINGPINC-REDH\n",
      "Already processed 14110, STERLINGMEDICALSYSTEMSINC\n",
      "Already processed 14114, MISSIONRESOURCESCORP\n",
      "Already processed 14128, FIRSTFEDERAL}\n",
      "Already processed 14129, FIRSTFED)CORP/CA\n",
      "Already processed 14137, SPROTTRESOURCELENDINGCORP\n",
      "Already processed 14148, MCLARENPERFORMANCETECHINC\n",
      "Already processed 14150, IMAGEENTERTAINMENTINC\n",
      "Already processed 14151, AMERICANRAREEARTHS&MTRLS\n",
      "Already processed 14152, VONSCOMPANIESINC\n",
      "Already processed 14184, FITZGERALDDEARMAN&ROBERTS\n",
      "Already processed 14191, MEDPLUSCORP\n",
      "Already processed 14200, BOULEVARDBANCORP\n",
      "Already processed 14201, COLONIALBANCGRP\n",
      "Already processed 14216, USPRECIOUSMETALSINC\n",
      "Already processed 14223, CORTEZINTLLTD\n",
      "Already processed 14237, ATTWOODSPLC\n",
      "Already processed 14240, GORDEXMINERALSLTD\n",
      "Already processed 14249, SILVERADOGOLDMINESLTD\n",
      "Already processed 14251, REDEAGLERESOURCESCP\n",
      "Already processed 14257, SENETEKPLC-OLD\n",
      "Already processed 14271, UNICOINC/NM\n",
      "Already processed 14283, AUTOSPAAUTOMALLS\n",
      "Already processed 14289, PIGGLYWIGGLYSOUTHERNINC\n",
      "Already processed 14300, WETTERAUINC\n",
      "Already processed 14311, POLARISINC\n",
      "Already processed 14312, EMPIRECOLTD-CLA\n",
      "Already processed 14332, COCACOLABEVERAGES\n",
      "Already processed 14333, IGM)INC\n",
      "Already processed 14340, EDCI{\n",
      "Already processed 14353, SHAW(INCCLB\n",
      "Already processed 14355, BFS}\n",
      "Already processed 14364, RDMSPORTSGRPINC\n",
      "Already processed 14377, CONNERPERIPHERALS\n",
      "Already processed 14399, INFORMATIONMGMTTECH-CLA\n",
      "Already processed 14406, TRVMINERALSCORP\n",
      "Already processed 14408, INTLTOURNIGANCP\n",
      "Already processed 14420, SGIINTL\n",
      "Already processed 14430, TENNECOCREDITCORP\n",
      "Already processed 14438, ADTCORP\n",
      "Already processed 14442, DYNAMICSCIENCESINTL\n",
      "Processing 600 of 13782\n",
      "Already processed 14448, SEVENUPCONEW\n",
      "Already processed 14469, MARKCONTROLSCORP\n",
      "Already processed 14480, ISTECIND&TECHLTD\n",
      "Already processed 14489, DELL@INC\n",
      "Already processed 14499, T2MEDICALINC\n",
      "Already processed 14500, WARDAIRINC\n",
      "Already processed 14501, NUZEEINC\n",
      "Already processed 14512, MEDSTONEINTLINC\n",
      "Already processed 14527, BCEMOBILE(\n",
      "Already processed 14537, SYMBIATINC\n",
      "Already processed 14542, COGENCOINTLINC\n",
      "Already processed 14563, MERCERINTLINC\n",
      "Already processed 14567, CORALGOLDRESOURCESLTD\n",
      "Already processed 14569, EFIELECTRONICSCORP\n",
      "Already processed 14575, MEICORINC\n",
      "Already processed 14577, TRIRSYSTEMSCORP\n",
      "Already processed 14581, MGCDIAGNOSTICSCORP\n",
      "Already processed 14582, APOGEE!INC\n",
      "Already processed 14586, ECHOSPRINGSWATERCO\n",
      "Already processed 14596, CHANNELAMERLPTVHLDGINC\n",
      "Already processed 14598, CREATIVEMEDICALSYSTEMSINC\n",
      "Already processed 14616, PROVIDENCEANDWORCESTERRR\n",
      "Already processed 14622, PONIARD$INC\n",
      "Already processed 14647, VENUSEXPLORATIONINC\n",
      "Already processed 14650, BMCSOFTWAREINC\n",
      "Already processed 14658, NOVAFERONLABSINC\n",
      "Already processed 14663, CENTRALFUNDCDAOLD\n",
      "Already processed 14666, ELLSWORTHGRWTHINCMFDLTD\n",
      "Already processed 14668, JUPITERNATIONAL\n",
      "Already processed 14679, XCELERAINC\n",
      "Already processed 14687, BLUECHIPVALUEFUNDINC\n",
      "Already processed 14688, BRAZILFUND\n",
      "Already processed 14692, MFSHIGHYIELDMUNICIPALTR\n",
      "Already processed 14695, MORGANSTANDWMUNIINCOMETR\n",
      "Already processed 14705, FIRSTOPPORTUNITYFUNDINC\n",
      "Already processed 14709, GEMINIII\n",
      "Already processed 14710, EUROPEANEQUITYFUNDINC\n",
      "Already processed 14711, GLOBALGVTPLUSFUND\n",
      "Already processed 14729, LIBERTYALLSTAREQUITY\n",
      "Already processed 14732, MFSINCOME&OPTTR\n",
      "Already processed 14734, MFSINTERMINCOMESBI\n",
      "Already processed 14742, PIONEERINTERESTSHSINC\n",
      "Already processed 14759, PUTNAMMASTERINCOMETR\n",
      "Already processed 14760, PUTNAMMASTERINTERMINCOME\n",
      "Already processed 14763, ROYCEVALUETRUST\n",
      "Already processed 14768, ALLMERICASECSTR\n",
      "Already processed 14769, TCWSTRATEGICINCOMEFUND\n",
      "Already processed 14777, ZWEIGFUNDINC\n",
      "Already processed 14791, CRTINC\n",
      "Already processed 14801, METROBANK\n",
      "Processing 650 of 13782\n",
      "Already processed 14804, PUTNAMPREMIERINCOMETR\n",
      "Already processed 14812, RESIDENTIALRESMORTGAGEINV\n",
      "Already processed 14817, WILSONSPORTINGGOODSCO/DE\n",
      "Already processed 14827, OHIOCASUALTYCORP\n",
      "Already processed 14838, PAMIDAINCDEL\n",
      "Already processed 14844, ONIINTLINC\n",
      "Already processed 14850, AL'SFORMALWEARINC\n",
      "Already processed 14859, VIDEOSUPERSTORESOFAMER\n",
      "Already processed 14871, CASUALMALECORPOLD\n",
      "Already processed 14881, DEKALBGENETICSCORP-CLB\n",
      "Already processed 14886, AHPC{\n",
      "Already processed 14888, ARIXCORP\n",
      "Already processed 14894, VODAFONEGRPPUBLICLTD\n",
      "Already processed 14896, SPRECKELSIND-CLA\n",
      "Already processed 14897, VISXINC/DE\n",
      "Already processed 14899, MARLEYCO\n",
      "Already processed 14901, TRUMPSCASTLEFUNDINGINC\n",
      "Already processed 14904, KITCHENBAZAARINC\n",
      "Already processed 14922, CELEREXCORP\n",
      "Already processed 14923, KEYPRODUCTIONCOINC\n",
      "Already processed 14928, COHORESOURCESLTD-CLA\n",
      "Already processed 14932, DRPEPPERCO\n",
      "Already processed 14937, KILE!CORP\n",
      "Already processed 14942, HUTECH21COLTD\n",
      "Already processed 14971, BLACKROCKMUNIVESTFUNDINC\n",
      "Already processed 14982, INCOMEDCORP\n",
      "Already processed 15004, DYNEXPETROLEUMLTD-CLA\n",
      "Already processed 15008, INTERMETCOLTD\n",
      "Already processed 15009, LANPAR@INC\n",
      "Already processed 15011, IRWINTOYLTD-NVTG\n",
      "Already processed 15017, PLACERESOURCESCORP\n",
      "Already processed 15039, GWILIND\n",
      "Already processed 15042, PARKLANDCORP\n",
      "Already processed 15060, CALLONPETROLEUMCO/DE\n",
      "Already processed 15068, YAPPNCORP\n",
      "Already processed 15072, EASTERN}\n",
      "Already processed 15085, CBLMEDICALINC\n",
      "Already processed 15088, ASTRALMEDIAINC-CLA\n",
      "Already processed 15093, CVRREFININGLP\n",
      "Already processed 15104, GLOBALOCEANCARRIERSLTD\n",
      "Already processed 15106, BECKMANCOULTERINC\n",
      "Already processed 15131, PAVICHEVICHBREWING\n",
      "Already processed 15135, GLOBALTECHNOVATIONSINC\n",
      "Already processed 15149, MADISONCOUNTY)INC\n",
      "Already processed 15153, FEDERALAGRICULTUREMTGCP\n",
      "Already processed 15159, SKYTERRA(INC\n",
      "Already processed 15168, ANDERSONEXPLORATIONLTD\n",
      "Already processed 15180, MANUFACTURERSLIFECAPCORP\n",
      "Already processed 15185, KUPPERPARKER(\n",
      "Already processed 15186, HIMEDICSINC\n",
      "Processing 700 of 13782\n",
      "Already processed 15190, COMAMTECHINC-OLD\n",
      "Already processed 15194, CACHE@CORP\n",
      "Already processed 15212, CROSSAMERICAPARTNERSLP\n",
      "Already processed 15219, ZENOXINC\n",
      "Already processed 15231, OFFICECLUBINC\n",
      "Already processed 15270, WEBCRAFT@INC\n",
      "Already processed 15274, WALTERENERGYINC\n",
      "Already processed 15276, STONEFORESTINDINC\n",
      "Already processed 15289, UNITEDAIRLINESINC-OLD\n",
      "Already processed 15293, FSIINTLINC\n",
      "Already processed 15294, GREYHOUNDLINESINC\n",
      "Already processed 15300, SACHLDGSCORP\n",
      "Already processed 15304, TYCOINDINC\n",
      "Already processed 15307, HALLMARKELECTRONICSCORP\n",
      "Already processed 15311, POLORONPRODUCTSINC\n",
      "Already processed 15312, SCOTSMANINDINC\n",
      "Already processed 15317, MFN)CORP\n",
      "Already processed 15321, ENDESASA\n",
      "Already processed 15323, P&CFOODMARKETS\n",
      "Already processed 15329, CONQUESTINDINC\n",
      "Already processed 15333, EUROAMERICANGRPINC\n",
      "Already processed 15346, LOEHMANN'S{\n",
      "Already processed 15350, BPPRUDHOEBAYROYALTYTRUST\n",
      "Already processed 15354, ENTERASYSNETWORKSINC\n",
      "Already processed 15382, VAPORININC\n",
      "Already processed 15383, MCSHIPPING\n",
      "Already processed 15399, PARTNERSVALUEINVMNTSLP\n",
      "Already processed 15404, ESIOWATERANDBEVERAGEOLD\n",
      "Already processed 15418, TENETINFORMATIONSVCSINC\n",
      "Already processed 15420, AMBARELLAINC\n",
      "Already processed 15425, FLS{\n",
      "Already processed 15427, BIOELECTROSYSTEMS-CLA\n",
      "Already processed 15435, RANDOMACCESSINC\n",
      "Already processed 15447, GLPNTCORP\n",
      "Already processed 15449, EQUITYAUINC\n",
      "Already processed 15459, TREDEGARCORP\n",
      "Already processed 15462, INVESCOMUNIINCOMEOPPII\n",
      "Already processed 15486, HORIZONSACTIVEEMRGMKTDIV\n",
      "Already processed 15524, CENTURIONGOLDLTD\n",
      "Already processed 15537, BAYERISCHEHYPO-&VEREINSBK\n",
      "Already processed 15633, ROYALBANKOFCANADA\n",
      "Already processed 15639, SEDGWICKGRPPLC\n",
      "Already processed 15711, WEIRTONSTEELCORP\n",
      "Already processed 15715, HERIMPORTS\n",
      "Already processed 15784, SOCIETEGENERALEGRP\n",
      "Already processed 15792, SPORTSTECHINTL\n",
      "Already processed 15841, REGALLIFESTYLECOMMUNITIES\n",
      "Already processed 15896, COLUMBIAEMERGINGMKTCORE\n",
      "Already processed 16012, INVESCOS&P500HIDIVLOVL\n",
      "Already processed 16019, LEGGMASONBWINVESTGRFCS\n",
      "Processing 750 of 13782\n",
      "Already processed 16024, ISHARESCOREMSCIEMERGMKT\n",
      "Already processed 16113, ARTISANPARTNERSASSETMGMT\n",
      "Already processed 16123, GOLDENEYERESOURCESCORP\n",
      "Already processed 16149, OFSCAPITALCORP\n",
      "Already processed 16157, 21STCENTURYFILMCORP\n",
      "Already processed 16224, ANCHOR}/NY\n",
      "Already processed 16233, GREATERNEWYORKSAVINGS\n",
      "Already processed 16271, SOUTHATLANTICBANCSHARES\n",
      "Already processed 16305, ABSAGRPLTD\n",
      "Already processed 16403, STOLTNIELSENLTD\n",
      "Already processed 16424, YMGCAPITALMANAGEMENTINC\n",
      "Already processed 16426, EL)CORPLTD\n",
      "Already processed 16431, GREATWESTLIFECOINC\n",
      "Already processed 16441, ELECTRONICCLEARINGHOUSE\n",
      "Already processed 16463, S&ARESTAURANTCORP\n",
      "Already processed 16468, MERCHANTCAPITALGRPINC\n",
      "Already processed 16471, PETROMETRESOURCESLTD\n",
      "Already processed 16477, LEARCORP\n",
      "Already processed 16484, NUVEENCALIFORNIAMUNVALFD\n",
      "Already processed 16503, AMERICANOPPORTUNITYINCMFD\n",
      "Already processed 16560, ALUMINALTD\n",
      "Already processed 16565, LVBACQUISITIONINC\n",
      "Already processed 16567, GRANADAFOODSCORP\n",
      "Already processed 16575, ELPASOREFINERY-LP\n",
      "Already processed 16584, PUTNAMDIVIDENDINCOMEFUND\n",
      "Already processed 16600, MATTHEWSSTUDIOEQUIPGRP\n",
      "Already processed 16609, ACCELINTLCORP\n",
      "Already processed 16630, ALLCITYINSURANCECO\n",
      "Already processed 16633, ALLIEDCAPITALCORP-OLD\n",
      "Already processed 16634, ALLIEDCAPITALCORPII\n",
      "Already processed 16641, GREYSTONEHSGIMPTINVTSLP\n",
      "Already processed 16645, AMERICANBANKERSINSGRP\n",
      "Already processed 16646, FLORIDABANKFEDERALSVGSBK\n",
      "Already processed 16648, ADVANCEDDISPOSALSERVICES\n",
      "Already processed 16663, AMVESTORS)CORP\n",
      "Already processed 16668, ARROW)CORP\n",
      "Already processed 16671, ATLANTICAMERICANCORP\n",
      "Already processed 16673, BMR)GRPINC\n",
      "Already processed 16691, BOSTONFIVE}\n",
      "Already processed 16698, BRYNMAWRBANKCORP\n",
      "Already processed 16702, ATWTECHINC\n",
      "Already processed 16716, EMCINSURANCEGRPINC\n",
      "Already processed 16720, ALTISOURCEASSETMGMTCORP\n",
      "Already processed 16729, MIDGARDXXIINC\n",
      "Already processed 16732, WELLHEALTH@\n",
      "Already processed 16748, CENTURY}/MA\n",
      "Already processed 16759, FIDELITYFINLBANKSHARESCP\n",
      "Already processed 16814, FLEXSHARESQUALDIVINDEXFD\n",
      "Already processed 16815, FIRSTCOML}\n",
      "Already processed 16818, FIRSTSVGSBKFSBSCGRN\n",
      "Processing 800 of 13782\n",
      "Already processed 16833, FIRSTFINL}/FL\n",
      "Already processed 16839, FIRSTGEORGIAHLDGS\n",
      "Already processed 16862, FIRSTWESTERN)CORP\n",
      "Already processed 16872, FOOTHILLINDPTBANCORP\n",
      "Already processed 16877, FRANKLIN}/MI\n",
      "Already processed 16883, HOMETOWN}\n",
      "Already processed 16886, BENEFYTT@INC\n",
      "Already processed 16921, MARBLE)CORP\n",
      "Already processed 16930, MERCHANTSNY}\n",
      "Already processed 16935, COLUMBIAFSTBKWASHDC\n",
      "Already processed 16951, GREENWICH)CORP\n",
      "Already processed 16952, GROVEBANKBRIGHTONMA\n",
      "Already processed 16956, HARLEYSVILLENATLCORP/PA\n",
      "Already processed 16966, EMERALDISLE}\n",
      "Already processed 16976, MXGOLDCORP\n",
      "Already processed 16977, HOMEPORT}\n",
      "Already processed 16982, PACIFICBANCORP\n",
      "Already processed 16995, PEOPLESWESTCHESTERSVBKNY\n",
      "Already processed 16998, MAINSTREET)CPOLD\n",
      "Already processed 17001, FUBOTVINC\n",
      "Already processed 17002, PINNACLE)SERVICES\n",
      "Already processed 17018, PORTSMOUTHBKSHSINC\n",
      "Already processed 17036, MERIDIANINSGRPINC\n",
      "Already processed 17041, AMEXEXPLORATIONINC\n",
      "Already processed 17045, MIDSTFEDSVGSBKOCALAFLA\n",
      "Already processed 17047, MIDAMERICABANCORP/KY\n",
      "Already processed 17070, NATIONALPENNBANCSHARESINC\n",
      "Already processed 17085, NEWORLD}DEL\n",
      "Already processed 17088, NOBELINSURANCELTD\n",
      "Already processed 17089, NORTHAMERICANNATIONALCORP\n",
      "Already processed 17105, PAMRAPO}\n",
      "Already processed 17138, RAMAPO)CORP\n",
      "Already processed 17142, REPUBLIC}\n",
      "Already processed 17150, WEBSTER)CORP\n",
      "Already processed 17209, ABLETELCOMHOLDINGCORP\n",
      "Already processed 17221, NOVONETWORKSINC\n",
      "Already processed 17228, TALOSENERGYINC\n",
      "Already processed 17239, KINDREDHEALTHCAREINC\n",
      "Already processed 17243, TRENWICKGRPLTD\n",
      "Already processed 17255, UNITED)CORP/MN\n",
      "Already processed 17280, SPROTTFOCUSTRUSTINC\n",
      "Already processed 17286, INTERACTIVEBRANDDEVINC\n",
      "Already processed 17319, WALSHIREASSURNCO\n",
      "Already processed 17324, WASHINGTON}\n",
      "Already processed 17349, SKKYNETCLOUDSYSTEMSINC\n",
      "Already processed 17384, BANYANGOLDCORP\n",
      "Already processed 17401, ASPENMARINEGRPINC\n",
      "Already processed 17419, RCSCAPITALCORP\n",
      "Already processed 17491, CELLMEDXCORP\n",
      "Already processed 17535, RIOTINTOLTD\n",
      "Processing 850 of 13782\n",
      "Already processed 17553, MODELNINC\n",
      "Already processed 17597, PETRORIVEROILCORP\n",
      "Already processed 17602, BURKEHERBERTFINLSRVSCORP\n",
      "Already processed 17611, BURMAHCASTROLPLC\n",
      "Already processed 17614, BMOMIDPROVINCIALBONDIDX\n",
      "Already processed 17643, BANKSOUTHINGTON\n",
      "Already processed 17651, REZOLUTEINC\n",
      "Already processed 17673, MOPALS.COMINC\n",
      "Already processed 17678, CNB}/NY\n",
      "Already processed 17688, RECEPTOSINC\n",
      "Already processed 17696, TRISTATECAPITAL{\n",
      "Already processed 17699, CSTBRANDSINC\n",
      "Already processed 17720, INOVALISREALESTATEINVTTR\n",
      "Already processed 17727, EKSOBIONICS{\n",
      "Already processed 17749, ISHARESCOREMSCIEMRGMKTS\n",
      "Already processed 17765, KASHNKARRYFOODSTORESINC\n",
      "Already processed 17807, LIGHTINTHEBOXHLDG-ADR\n",
      "Already processed 17812, HDSUPPLY{\n",
      "Already processed 17836, DANIELSONFEDSVGS&LNASSN\n",
      "Already processed 17839, BNYMELLONMUNBDINFRASTRUC\n",
      "Already processed 17863, COMMUNITYINDEPENDENTBANK\n",
      "Already processed 17877, CHEMUNG)CORP\n",
      "Already processed 17879, FLYWHEELADVANCEDTECHNOINC\n",
      "Already processed 17890, IKONICSCORP\n",
      "Already processed 17946, TOPSHOLDINGIICORP\n",
      "Already processed 17967, EASTERNSTAINLESS/VA-CLB\n",
      "Already processed 17969, FIRSTTRALPHADEXEMMKTDIV\n",
      "Already processed 17987, ELMIRASVGSBANKELMIRA/NY\n",
      "Already processed 18035, EXCHANGEBKSANTAROSACALIF\n",
      "Already processed 18038, FIRSTTRUSTINTDURPFDINCM\n",
      "Already processed 18047, NOODLES&CO\n",
      "Already processed 18058, FCNBCORP\n",
      "Already processed 18071, REXFORDINDUSREALTY\n",
      "Already processed 18094, FARMERS&MERCHANTSBANK/CA\n",
      "Already processed 18110, FARMERSCAPITALBANKCORP\n",
      "Already processed 18159, AGIOS$\n",
      "Already processed 18161, CONATUS$INC\n",
      "Already processed 18172, ONCONOVA^INC\n",
      "Already processed 18173, EVOKEPHARMAINC\n",
      "Already processed 18177, RETAILMENOTINC\n",
      "Already processed 18180, ANTIBE^INC\n",
      "Already processed 18233, SALEENAUTOMOTIVEINC\n",
      "Already processed 18242, CLEARBRIDGEAMERNENERGYMLP\n",
      "Already processed 18247, FNBBANCORPCALIF\n",
      "Already processed 18251, TENNESSEE}\n",
      "Already processed 18260, WISDOMTREEUKHEDGEDEQFD\n",
      "Already processed 18261, OWENSREALTYMORTGAGEINC\n",
      "Already processed 18296, CHOICEPRPREALESTATEINV\n",
      "Already processed 18297, KITARAMEDIACORP-OLD\n",
      "Already processed 18358, FIRSTUNITEDCORP\n",
      "Processing 900 of 13782\n",
      "Already processed 18364, FISHER(INC\n",
      "Already processed 18392, CAROLINA)CORP\n",
      "Already processed 18434, ALERUS)CORP\n",
      "Already processed 18484, WEB.COMINC\n",
      "Already processed 18513, TRANSALTARENEWABLESINC\n",
      "Already processed 18515, CAROLINA)CORP-OLD\n",
      "Already processed 18544, SCHWABFNDMNTLINTSMCOIDX\n",
      "Already processed 18563, OBSIDIANENTERPRISESINC\n",
      "Already processed 18566, IMMUNE$INC\n",
      "Already processed 18608, ASSOCIATEDMATERIALS-REDH\n",
      "Already processed 18635, FIDELITY&GUARANTYLIFE\n",
      "Already processed 18640, HQOFFICEINTLINC-CLA\n",
      "Already processed 18671, PURPOSEMONTHLYINCOMEFUND\n",
      "Already processed 18672, CORSACOALCORP\n",
      "Already processed 18680, NETLOJIX(INC\n",
      "Already processed 18696, DATAIMAGEINC\n",
      "Already processed 18703, ICE{\n",
      "Already processed 18712, APIVIOSYSTEMSINC\n",
      "Already processed 18720, HEALTHLOGICINTERACTIVEINC\n",
      "Already processed 18729, KIRINHLDGSCOLTD\n",
      "Already processed 18731, HORIZONSS&P/TSXCPDENERGY\n",
      "Already processed 18756, ENILASMOPLC\n",
      "Already processed 18767, FIRSTEAGLESENIORLOANFUND\n",
      "Already processed 18777, INVSBTSHS2019HGHYDCOBD\n",
      "Already processed 18805, GDTTEKINC\n",
      "Already processed 18823, LYDENBURGPLATINUM\n",
      "Already processed 18862, DIREXIONDLYJUGDMNIND2X\n",
      "Already processed 18870, NANOFLEXPOWERCORP\n",
      "Already processed 18891, MERCHANTS}/DE\n",
      "Already processed 18930, KARYOPHARM^INC\n",
      "Already processed 18973, TETRALOGIC$\n",
      "Already processed 18989, VOYAHIGHINCOMEFLTNGRTFD\n",
      "Already processed 19018, KLOOFGOLDMININGCOLTD\n",
      "Already processed 19020, MIDAMINC\n",
      "Already processed 19033, MOXIAN(BVI)INC\n",
      "Already processed 19060, ALPSALERIANENERGYINFRASTR\n",
      "Already processed 19092, MUNCYBANK)INC\n",
      "Already processed 19117, BIOCEPTINC\n",
      "Already processed 19129, HALLADORENERGYCO\n",
      "Already processed 19142, STARWOODWAYPOINTRESTR\n",
      "Already processed 19149, ULTRAGENYXPHARMACEUTICAL\n",
      "Already processed 19156, OMEGA)CORP\n",
      "Already processed 19159, PENNSWOODS}\n",
      "Already processed 19163, EXTENDEDSTAYAMERICAINC\n",
      "Already processed 19176, ORBITRONCAPITALCORP\n",
      "Already processed 19184, CYPRESSENVIRONMNTLPRTNSLP\n",
      "Already processed 19205, CAPRICOR^INC\n",
      "Already processed 19239, DOUBLELINEINCMSOLUTIONSTR\n",
      "Already processed 19247, PERKINSPAPERSLTD\n",
      "Already processed 19260, GOLDENGENESISCO\n",
      "Processing 950 of 13782\n",
      "Already processed 19269, CAMBRIAFOREIGNSHRHLDYIELD\n",
      "Already processed 19283, CAMBRIDGECAPITALACQCORP\n",
      "Already processed 19308, PALMSPRINGSSVGSBKFSB\n",
      "Already processed 19375, ENLIGHTAINC\n",
      "Already processed 19417, ADVANZPHARMACORPLTD\n",
      "Already processed 19426, QUARTZGRPINC\n",
      "Already processed 19430, MERFININTLINC\n",
      "Already processed 19442, CONTINENTALBUILDINGPRODS\n",
      "Already processed 19462, REGENTBANCSHARESCORP\n",
      "Already processed 19463, RELIABLELIFEINSCO-CLA\n",
      "Already processed 19470, DICERNA$INC\n",
      "Already processed 19518, KNOWLESCORP\n",
      "Already processed 19530, HORIZONSBETAPROMSCIJPNBU\n",
      "Already processed 19548, PRINTRONINC\n",
      "Already processed 19549, BIOVIEINC\n",
      "Already processed 19565, RIOTINTOGRP\n",
      "Already processed 19570, S&T}\n",
      "Already processed 19576, HENNESSYCAPITALACQUISITION\n",
      "Already processed 19593, RYANMURPHYINC\n",
      "Already processed 19602, TURTLEBEACHCORP\n",
      "Already processed 19644, CENTRALTRANSPORTRENTALPLC\n",
      "Already processed 19715, CHANGING@INC\n",
      "Already processed 19746, FIRSTTRALPHADEXEURDIV\n",
      "Already processed 19747, QUOTIENT!INC\n",
      "Already processed 19757, DIPEXIUM$INC\n",
      "Already processed 19784, EAGLE$INC\n",
      "Already processed 19798, UMCINC\n",
      "Already processed 19800, COREPOINTLODGINGINC\n",
      "Already processed 19801, PQ{REDH\n",
      "Already processed 19807, USHOMESYSTEMSINC\n",
      "Already processed 19851, CITYOFFICEREITINC\n",
      "Already processed 19866, ALPSWORKPLACEEQUALITYPRTF\n",
      "Already processed 19876, KINGDIGITALENTERTAINMENT\n",
      "Already processed 19885, WESTCOASTBANCORP/OR-OLD\n",
      "Already processed 19940, PEEKSSOCIALLTD-OLD\n",
      "Already processed 19941, VITAFORTINTLCP\n",
      "Already processed 19943, FORTUNEBAYCORP\n",
      "Already processed 19967, APPLIEDGENETIC@\n",
      "Already processed 19976, AUTOMODULARCORP\n",
      "Already processed 20009, LEJUHLDGSLTD-ADR\n",
      "Already processed 20012, BNTLTD-CAPSHS\n",
      "Already processed 20030, WALDEN}\n",
      "Already processed 20038, AUBERGESDESGOUVERNEURSINC\n",
      "Already processed 20048, RHCCAPITALCORPOLD\n",
      "Already processed 20051, PROTECHINC\n",
      "Already processed 20113, ZOE'SKITCHENINC\n",
      "Already processed 20128, CHEETAHMOBILEINC-ADR\n",
      "Already processed 20129, MATERIALISENV-ADR\n",
      "Already processed 20142, LUMENPULSEINC\n",
      "Already processed 20157, MARTECHUSAINC\n",
      "Processing 1000 of 13782\n",
      "Already processed 20180, ARETEINDINC\n",
      "Already processed 20183, CERULEANPHARMAINC\n",
      "Already processed 20186, MORRISONPETROLEUMSLTD\n",
      "Already processed 20193, COLLEGEBOUNDINC\n",
      "Already processed 20194, HAUSERINC\n",
      "Already processed 20196, LUXOTTICAGRPSPA\n",
      "Already processed 20209, ARCWIRELESSSOLUTIONSINC\n",
      "Already processed 20214, ENERPLUSCORP\n",
      "Already processed 20243, BEMAGOLDCORP\n",
      "Already processed 20258, CFSGRPINC\n",
      "Already processed 20288, HERONLAKEBIOENERGYLLC\n",
      "Already processed 20314, COBIFOODSINC\n",
      "Already processed 20317, ZEDIINC\n",
      "Already processed 20392, EXCO@LTD\n",
      "Already processed 20393, FTCAPITALLTD\n",
      "Already processed 20422, HERITAGEINSURANCEHLDGS\n",
      "Already processed 20430, SLMCORP\n",
      "Already processed 20438, GOLDSTAKEEXPLORATIONSINC\n",
      "Already processed 20450, GULFSTREAMRESOURCESCDALTD\n",
      "Already processed 20469, SPINNAKERDEVELOPMENTCORP\n",
      "Already processed 20471, DEFIANCEMININGCORP\n",
      "Already processed 20479, PREOSOFTWAREINC\n",
      "Already processed 20490, HY&ZEL'SINC\n",
      "Already processed 20516, INTLPETROLEUMCORP\n",
      "Already processed 20556, NETCURRENTSINFOSVCSINC\n",
      "Already processed 20574, MACMILLANGOLDCORP\n",
      "Already processed 20575, MAJESTICELECTRSTORESINC\n",
      "Already processed 20590, NUTRALIFEBIOSCIENCESINC\n",
      "Already processed 20602, CENTRALASIAGOLDFIELDSCORP\n",
      "Already processed 20618, OPAWICAEXPLORATIONSINC\n",
      "Already processed 20620, ORBITOIL&GASLTD\n",
      "Already processed 20628, INVESTARHOLDINGCORP\n",
      "Already processed 20647, NEWPROVIDENCEDEVLTD\n",
      "Already processed 20651, DRUGROYALTYCORPINC\n",
      "Already processed 20674, PARAGONPETROLEUMCORPALTA\n",
      "Already processed 20693, NORTHSTARASSETMGMTGRPINC\n",
      "Already processed 20696, MASONITEINTLCORP\n",
      "Already processed 20697, PRENOR)LTD\n",
      "Already processed 20700, PUBSTORAGECDNPTY\n",
      "Already processed 20727, CLAIRVESTGRPINC\n",
      "Already processed 20748, ARISTANETWORKSINC\n",
      "Already processed 20761, UNITEDDEVFUNDINGIV\n",
      "Already processed 20770, SCUDDERNEWEUROPEFUNDINC\n",
      "Already processed 20784, RECEPTECHCORP\n",
      "Already processed 20785, SELIGMANSELECTMUNFDINC\n",
      "Already processed 20791, BLACKSTONEMORTGAGETRINC\n",
      "Already processed 20882, TAROINDLTD\n",
      "Already processed 20891, KETCHRESOURCESTRUST\n",
      "Already processed 20894, CLUBCARINC\n",
      "Already processed 20966, EUROBANCCAPLSECURITIESTR\n",
      "Processing 1050 of 13782\n",
      "Already processed 20967, PARAGONOFFSHOREPLC\n",
      "Already processed 20969, TEXASMICROINC\n",
      "Already processed 20992, FLEETAEROSPACEINC\n",
      "Already processed 20999, FIRSTTRSHORTDURNHIYIELD\n",
      "Already processed 21002, CYBERARKSOFTWARELTD\n",
      "Already processed 21007, TOBIRA^INC\n",
      "Already processed 21010, TRANSOCEANPARTNERSLLC\n",
      "Already processed 21026, VICTORYSHRSUSEQINMENHVO\n",
      "Already processed 21032, VIKING^INC\n",
      "Already processed 21049, IDREAMSKY!-ADR\n",
      "Already processed 21063, USTRANSPORTATIONSYS\n",
      "Already processed 21072, ADVISORSHRSMKTADPTVUNCNST\n",
      "Already processed 21082, MABVAX^HLDGS\n",
      "Already processed 21095, YODLEINC-REDH\n",
      "Already processed 21132, FIBROCELLSCIENCEINC\n",
      "Already processed 21144, APPLIEDINNOVATIONINC\n",
      "Already processed 21146, MOLGLOBALINC-ADR\n",
      "Already processed 21169, NEWIRELANDFUNDINC\n",
      "Already processed 21210, FIRSTTRDRSYWRTINTLFOC5\n",
      "Already processed 21223, CONTRAFECTCORP\n",
      "Already processed 21227, LIBERTYBROADBANDCORP\n",
      "Already processed 21238, VICORCORP\n",
      "Already processed 21256, AGP&COINC\n",
      "Already processed 21283, AIRBORNEWIRELESSNETWORK\n",
      "Already processed 21306, INTLMARKETCENTRSINC-REDH\n",
      "Already processed 21320, OBOCONINC\n",
      "Already processed 21345, RAMVENTUREHLDGSCORP\n",
      "Already processed 21373, RASTRABUILDINGSYSTEMSINC\n",
      "Already processed 21381, CARLISLEPLASTICSINC-CLA\n",
      "Already processed 21451, CNOVANV\n",
      "Already processed 21452, FORWARDPHARMAAS\n",
      "Already processed 21485, ASTGENERALCORP\n",
      "Already processed 21537, DELTARENTALSYSTEMSINC\n",
      "Already processed 21540, WAYFAIRINC\n",
      "Already processed 21543, DIEHLGRAPHSOFTINC\n",
      "Already processed 21573, ROBOGRPTEKLTD\n",
      "Already processed 21595, VIST)CORP\n",
      "Already processed 21630, STORECAPITALCORP\n",
      "Already processed 21635, AFFIMEDNV\n",
      "Already processed 21641, NETZERORENEWABLEENRGYINC\n",
      "Already processed 21683, DEVTECHCORP\n",
      "Already processed 21731, PROFESSIONALSGRPINC\n",
      "Already processed 21739, PRAHEALTHSCIENCESINC\n",
      "Already processed 21766, CMS/DATACORP\n",
      "Already processed 21771, GREENHAWKRESOURCESINC\n",
      "Already processed 21794, SPDRMSCISKOREASTRATEGICF\n",
      "Already processed 21795, LWINDINC\n",
      "Already processed 21802, PROTEON^INC\n",
      "Already processed 21822, BRITISHCONTROLLEDOILFIELDS\n",
      "Already processed 21845, METALDYNEPERFORMANCEGRP\n",
      "Processing 1100 of 13782\n",
      "Already processed 21876, AMJGLOBAL!\n",
      "Already processed 21878, JACKSONCNTYFSBMEDFORDORE\n",
      "Already processed 21887, MSVRESOURCESINC\n",
      "Already processed 21889, PROSHARESMGDFUTURESSTRATG\n",
      "Already processed 21892, MAAXINC\n",
      "Already processed 21903, ETFISSERTRIINFRACAPMLP\n",
      "Already processed 21916, NEVROCORP\n",
      "Already processed 21941, MAZARININC\n",
      "Already processed 21944, HARMONYMERGERCORP\n",
      "Already processed 21959, MDSIMOBILEDATASOLUTIONS\n",
      "Already processed 21960, HEALTHADVANCEMENTSVCSINC\n",
      "Already processed 21975, POLARSTARREALTYTR-REDH\n",
      "Already processed 21980, WASTECINC\n",
      "Already processed 22047, GREENBRICKPARTNERSINC\n",
      "Already processed 22053, CONTANGOOIL&GASCO\n",
      "Already processed 22064, FOUNTAINASSETCORP\n",
      "Already processed 22102, FIRSTTREMGMKTSLOCALCURR\n",
      "Already processed 22119, ASHFORDINC\n",
      "Already processed 22133, JPMORGANDIVRRETINTLEQTY\n",
      "Already processed 22239, SCRIPTELHOLDINGINC\n",
      "Already processed 22241, CLINICALHOMECARELTD\n",
      "Already processed 22282, NORTHCOUNTYBANCORP\n",
      "Already processed 22283, PITSTOPAUTOCENTERSINC\n",
      "Already processed 22338, UTGINC\n",
      "Already processed 22358, BRIACELL^CORP\n",
      "Already processed 22362, 1847HLDGSLLC\n",
      "Already processed 22390, XTRACKERSMSCIEUROZNHGDEQ\n",
      "Already processed 22399, CAMBRIAGLBLASSTALLOCATION\n",
      "Already processed 22401, BURZYNSKIRESEARCHINSTITUTE\n",
      "Already processed 22447, PARPACIFIC{\n",
      "Already processed 22495, CYCLONEURANIUMCORP\n",
      "Already processed 22523, HARVEST)CORP\n",
      "Already processed 22525, JSB)INC-OLD\n",
      "Already processed 22532, SWIFTTRANSPORTATIONCOINC\n",
      "Already processed 22592, AVTINC\n",
      "Already processed 22638, ZOOMINFOTECHNOINC\n",
      "Already processed 22641, BRANDMAKERSINC\n",
      "Already processed 22650, MINESMANAGEMENTINC\n",
      "Already processed 22653, VISTAOUTDOORINC\n",
      "Already processed 22657, NETWORKSIXINC\n",
      "Already processed 22662, BENECHILLINC-REDH\n",
      "Already processed 22668, NUEVOENERGYCO\n",
      "Already processed 22672, SHAKESHACKINC\n",
      "Already processed 22673, FLEXPHARMAINC\n",
      "Already processed 22675, HAILIANGEDUCATIONGRP-ADR\n",
      "Already processed 22715, NEXVETBIOPHARMAPLC\n",
      "Already processed 22717, STOCKYARDS}\n",
      "Already processed 22772, UQM@INC\n",
      "Already processed 22790, ALIASRESEARCHINC\n",
      "Already processed 22837, NEXELL^INC\n",
      "Processing 1150 of 13782\n",
      "Already processed 22954, ETFSDIVIFACTORDEVEURIDX\n",
      "Already processed 22957, SENTIGENHOLDINGCORP\n",
      "Already processed 22969, SHOPTELEVISIONNETWORKINC\n",
      "Already processed 22982, BARINGTON/HILCOACQCORP\n",
      "Already processed 22995, VANGUARDREALESTATEFDII\n",
      "Already processed 23028, FAHMAIHLDGSGRPINC\n",
      "Already processed 23048, MEXICOEQUITY&INCOMEFUND\n",
      "Already processed 23057, INVESCOS&PHIGHINCOMEINFR\n",
      "Already processed 23076, DIGITALORIGININC\n",
      "Already processed 23077, UNITIGRPINC\n",
      "Already processed 23086, NEXPOINTRESIDENTIALTRINC\n",
      "Already processed 23091, FEDERALMOGULMOTORPRTS-SPN\n",
      "Already processed 23092, VALERITAS{\n",
      "Already processed 23097, METRISAINC\n",
      "Already processed 23109, GENESISHEALTHCAREINC\n",
      "Already processed 23114, ROCKYMOUNTAINHELICOPTERS\n",
      "Already processed 23123, MICROLYTICSINC\n",
      "Already processed 23152, TUTTLETACTICALMGMTUSCORE\n",
      "Already processed 23156, SPDRDOUBLELINETOTRETTACT\n",
      "Already processed 23158, INVESTMENTGRADEINFRASTRBD\n",
      "Already processed 23195, MATRIXSERVICECO\n",
      "Already processed 23217, EMERGINGMEXICOFUND\n",
      "Already processed 23238, ETSYINC\n",
      "Already processed 23297, XBIOTECHINC\n",
      "Already processed 23334, NANOONEMATERIALSCORP\n",
      "Already processed 23335, ADUROBIOTECHINC\n",
      "Already processed 23392, QUESTRDRU1000EQWTUSTECH\n",
      "Already processed 23393, QUESTRDRU1000EQWTUSINDL\n",
      "Already processed 23434, KAOPUGRPINC\n",
      "Already processed 23450, NORTHRIM}\n",
      "Already processed 23468, NUVEENNYINVTQUALMUNFD\n",
      "Already processed 23472, TOCORINC\n",
      "Already processed 23494, CODEREBELCORP\n",
      "Already processed 23496, GENNUMCORP\n",
      "Already processed 23502, FIRSTBANCORPINDINC-OLD\n",
      "Already processed 23503, INTLMUREXTECHCORP\n",
      "Already processed 23528, INFOCUSCORP\n",
      "Already processed 23531, NS}\n",
      "Already processed 23538, WORLDWIDEFORESTPRODSINC\n",
      "Already processed 23540, HORIZONGLOBALCORP\n",
      "Already processed 23549, GELESISINC-REDH\n",
      "Already processed 23582, RANCHMENSRESOURCESLTD\n",
      "Already processed 23585, YUBAWESTGOLDINC\n",
      "Already processed 23592, MBNACORP\n",
      "Already processed 23605, CYGNUSINC\n",
      "Already processed 23624, DIONENTERTAINMENTCORP\n",
      "Already processed 23630, FENIXPARTSINC\n",
      "Already processed 23697, SONICCORP\n",
      "Already processed 23701, SIMTROLINC\n",
      "Already processed 23717, SIMTEKCORP\n",
      "Processing 1200 of 13782\n",
      "Already processed 23731, CANAGOLDRESOURCESLTD\n",
      "Already processed 23769, WORLDWIDERESTAURANTCONCEPT\n",
      "Already processed 23778, EZSERVECORP\n",
      "Already processed 23785, PUBSTRGPPTYSIX\n",
      "Already processed 23803, NUVEENSELECTQUALMUNFD\n",
      "Already processed 23865, BABCOCK&WILCOXENTERPRISES\n",
      "Already processed 23866, GOLDMINESOFKALGOORLIELTD\n",
      "Already processed 23871, INDEPENDENTBANKSHARESINC\n",
      "Already processed 23893, RBCQUANTEQLEADRSCADHDGD\n",
      "Already processed 23920, FIREMANSFUNDCORP\n",
      "Already processed 23988, APRIAHEALTHCAREGRPINC\n",
      "Already processed 23990, GLAUKOSCORP\n",
      "Already processed 24037, STARMULTICARESERVICES\n",
      "Already processed 24050, COMPUTERPETROLEUMCORP\n",
      "Already processed 24068, IMMULOGICPHARMACEUTICALCP\n",
      "Already processed 24106, CAMBRIDGENEUROSCIENCEINC\n",
      "Already processed 24115, ELKHORNS&P500CAPEXPEND\n",
      "Already processed 24116, FIRSTSERVICECORP\n",
      "Already processed 24123, NOVATEKINTLINC\n",
      "Already processed 24131, SPINDLETOPOIL&GASCO\n",
      "Already processed 24167, QUARTERDECKCORP\n",
      "Already processed 24170, VSILIQUIDATIONCORP\n",
      "Already processed 24216, AESCORP(THE)\n",
      "Already processed 24219, REHABCAREGRPINC\n",
      "Already processed 24223, BERKSHIREREALTYCOINC\n",
      "Already processed 24246, CENTRALINDIANABANCORP\n",
      "Already processed 24275, FF}\n",
      "Already processed 24283, BIGHEARTPETBRANDS\n",
      "Already processed 24338, THERMOTREXCORP\n",
      "Already processed 24343, TUTTLETACTICALMGMTMULTIS\n",
      "Already processed 24364, CATERAIRINTLCORP\n",
      "Already processed 24366, SCIGENICSINC\n",
      "Already processed 24373, NAPIERENVIROMENTALTECH\n",
      "Already processed 24374, WHEATONRIVERMINERALSLTD\n",
      "Already processed 24384, SPECIALDEVICESINC\n",
      "Already processed 24386, BIOMATRIXINC\n",
      "Already processed 24388, INTERGRPHEALTHCARECORP\n",
      "Already processed 24390, ROGERSWIRELESSCOMMU-CLB\n",
      "Already processed 24404, INTLTESTINGSERVICESINC\n",
      "Already processed 24406, DIREXIONDLYMSCIJPNCURR2X\n",
      "Already processed 24412, ESPRITENERGYTRUST\n",
      "Already processed 24415, BMCSTOCK{\n",
      "Already processed 24427, SISKONGOLDCORP-CLA\n",
      "Already processed 24456, GWUTILITIESLTDOLD\n",
      "Already processed 24496, MINNESOTAMUNTERMTRINC\n",
      "Already processed 24497, SOLARTHINFILMSINC\n",
      "Already processed 24501, RAPID7INC\n",
      "Already processed 24503, LANDAMERICA)GP\n",
      "Already processed 24508, OOMAINC\n",
      "Already processed 24533, NATIONALHEALTHINVESTORS\n",
      "Processing 1250 of 13782\n",
      "Already processed 24553, NUVEENFLQUALITYINCMUNFD\n",
      "Already processed 24555, NUVEENOHQUALMUNINCMFD\n",
      "Already processed 24556, NUVEENPAQUALITYINCMUNFD\n",
      "Already processed 24600, JMGLOBALHOLDINGCO\n",
      "Already processed 24637, CRAIG(JENNY)INC\n",
      "Already processed 24649, BOWENERGYLTD\n",
      "Already processed 24654, ADVANCEDINTERVENTIONALSYS\n",
      "Already processed 24660, JANONEINC\n",
      "Already processed 24675, AVADOBRANDSINC\n",
      "Already processed 24681, FIRSTTRUSTTACTICALBD\n",
      "Already processed 24685, HARMONY{\n",
      "Already processed 24690, TRANSAMERICANWASTEINDSINC\n",
      "Already processed 24707, CAREMATRIXCORP\n",
      "Already processed 24708, ATNINTLINC\n",
      "Already processed 24711, GUARANTYNATIONALCORP\n",
      "Already processed 24712, LASERSIGHTINC\n",
      "Already processed 24718, NUVEENNYQLTYINCMMUNFD\n",
      "Already processed 24730, CLOUDWEBINC\n",
      "Already processed 24731, KIMCOREALTYCORP\n",
      "Already processed 24732, AERKOMMINC\n",
      "Already processed 24754, UTOPIAMARKETINGINC\n",
      "Already processed 24756, PROSHRSULTRAPROSHNASDBIO\n",
      "Already processed 24761, JANSKOINC\n",
      "Processing 1300 of 13782\n",
      "Processing 1350 of 13782\n",
      "Processing 1400 of 13782\n",
      "Processing 1450 of 13782\n",
      "Processing 1500 of 13782\n",
      "Processing 1550 of 13782\n",
      "Processing 1600 of 13782\n",
      "Processing 1650 of 13782\n",
      "Processing 1700 of 13782\n",
      "Processing 1750 of 13782\n",
      "Processing 1800 of 13782\n",
      "Processing 1850 of 13782\n",
      "Processing 1900 of 13782\n",
      "Processing 1950 of 13782\n",
      "Processing 2000 of 13782\n",
      "Processing 2050 of 13782\n",
      "Processing 2100 of 13782\n",
      "Processing 2150 of 13782\n",
      "Processing 2200 of 13782\n",
      "Processing 2250 of 13782\n",
      "Processing 2300 of 13782\n",
      "Processing 2350 of 13782\n",
      "Processing 2400 of 13782\n",
      "Processing 2450 of 13782\n",
      "Processing 2500 of 13782\n",
      "Processing 2550 of 13782\n",
      "Processing 2600 of 13782\n",
      "Processing 2650 of 13782\n",
      "Processing 2700 of 13782\n",
      "Processing 2750 of 13782\n",
      "Processing 2800 of 13782\n",
      "Processing 2850 of 13782\n",
      "Processing 2900 of 13782\n",
      "Processing 2950 of 13782\n",
      "Processing 3000 of 13782\n",
      "Processing 3050 of 13782\n",
      "Processing 3100 of 13782\n",
      "Processing 3150 of 13782\n",
      "Processing 3200 of 13782\n",
      "Processing 3250 of 13782\n",
      "Processing 3300 of 13782\n",
      "Processing 3350 of 13782\n"
     ]
    },
    {
     "data": {
      "application/vnd.jupyter.widget-view+json": {
       "model_id": "bdeaec7de6464247abc948cbd9790240",
       "version_major": 2,
       "version_minor": 0
      },
      "text/plain": [
       "FloatProgress(value=0.0, layout=Layout(width='auto'), style=ProgressStyle(bar_color='black'))"
      ]
     },
     "metadata": {},
     "output_type": "display_data"
    },
    {
     "name": "stdout",
     "output_type": "stream",
     "text": [
      "Processing 3400 of 13782\n",
      "Processing 3450 of 13782\n",
      "Processing 3500 of 13782\n",
      "Processing 3550 of 13782\n",
      "Processing 3600 of 13782\n",
      "Processing 3650 of 13782\n",
      "Processing 3700 of 13782\n"
     ]
    },
    {
     "data": {
      "application/vnd.jupyter.widget-view+json": {
       "model_id": "e352c8d68c684bfaa7478ce4931fdfad",
       "version_major": 2,
       "version_minor": 0
      },
      "text/plain": [
       "FloatProgress(value=0.0, layout=Layout(width='auto'), style=ProgressStyle(bar_color='black'))"
      ]
     },
     "metadata": {},
     "output_type": "display_data"
    },
    {
     "name": "stdout",
     "output_type": "stream",
     "text": [
      "Processing 3750 of 13782\n",
      "Processing 3800 of 13782\n",
      "Processing 3850 of 13782\n",
      "Processing 3900 of 13782\n"
     ]
    },
    {
     "data": {
      "application/vnd.jupyter.widget-view+json": {
       "model_id": "d7c8dd2157664985bd95fc6ac29e482e",
       "version_major": 2,
       "version_minor": 0
      },
      "text/plain": [
       "FloatProgress(value=0.0, layout=Layout(width='auto'), style=ProgressStyle(bar_color='black'))"
      ]
     },
     "metadata": {},
     "output_type": "display_data"
    },
    {
     "name": "stdout",
     "output_type": "stream",
     "text": [
      "Processing 3950 of 13782\n"
     ]
    },
    {
     "data": {
      "application/vnd.jupyter.widget-view+json": {
       "model_id": "eed0e820c7af463da89bf87d003df616",
       "version_major": 2,
       "version_minor": 0
      },
      "text/plain": [
       "FloatProgress(value=0.0, layout=Layout(width='auto'), style=ProgressStyle(bar_color='black'))"
      ]
     },
     "metadata": {},
     "output_type": "display_data"
    },
    {
     "name": "stdout",
     "output_type": "stream",
     "text": [
      "Processing 4000 of 13782\n",
      "Already processed 284041, OCZ!GRPINC\n",
      "Already processed 284719, INCANNEXHEALTHCARELTD\n",
      "Already processed 286433, VIVESTOAB\n",
      "Already processed 288586, FLEXLNGLTD\n",
      "Already processed 294911, SAMARESOURCESINC\n",
      "Already processed 296697, CONTROLADORAVUELACOMPANIA\n",
      "Already processed 296866, MYSIZEINC\n",
      "Already processed 298079, TOUCHSTONEGOLDLTD\n",
      "Already processed 311524, TAMINCOCORP\n",
      "Already processed 316056, ALLEGIONPLC\n",
      "Already processed 316461, AGILITYHEALTHINC\n",
      "Already processed 317427, NOMADFOODSLTD\n",
      "Already processed 321764, MEREOBIOPHARMAGRPPLC\n",
      "Already processed 324498, I3ENERGYPLC\n",
      "Already processed 327564, CALLIDITASTHERAPE\n",
      "Already processed 328795, ARCOSAINC\n",
      "Already processed 331125, RENEWENERGYGLOBALPLC\n",
      "Already processed 339950, NYXOAHSA\n",
      "Already processed 345980, CONTEXTLOGICINC\n",
      "Already processed 351491, IVECOGRPNV\n",
      "Already processed 1003, A.A.IMPORTINGCOINC\n",
      "Already processed 1014, ADDSCOINDINC\n",
      "Already processed 1024, AIAINDINC\n",
      "Already processed 1029, A.I.N.LEASINGCORP\n",
      "Already processed 1033, ALDINC\n",
      "Already processed 1034, ALPHARMAINC-CLA\n",
      "Already processed 1041, AMIINDINC\n",
      "Processing 4050 of 13782\n",
      "Processing 4100 of 13782\n"
     ]
    },
    {
     "data": {
      "application/vnd.jupyter.widget-view+json": {
       "model_id": "e20c3d47400145798cccbb76fb10e946",
       "version_major": 2,
       "version_minor": 0
      },
      "text/plain": [
       "FloatProgress(value=0.0, layout=Layout(width='auto'), style=ProgressStyle(bar_color='black'))"
      ]
     },
     "metadata": {},
     "output_type": "display_data"
    },
    {
     "data": {
      "application/vnd.jupyter.widget-view+json": {
       "model_id": "60a9d37f15b0419cb6f7fe2fb2c3547b",
       "version_major": 2,
       "version_minor": 0
      },
      "text/plain": [
       "FloatProgress(value=0.0, layout=Layout(width='auto'), style=ProgressStyle(bar_color='black'))"
      ]
     },
     "metadata": {},
     "output_type": "display_data"
    },
    {
     "data": {
      "application/vnd.jupyter.widget-view+json": {
       "model_id": "6077531d51c7499285631455a9936ebd",
       "version_major": 2,
       "version_minor": 0
      },
      "text/plain": [
       "FloatProgress(value=0.0, layout=Layout(width='auto'), style=ProgressStyle(bar_color='black'))"
      ]
     },
     "metadata": {},
     "output_type": "display_data"
    },
    {
     "name": "stdout",
     "output_type": "stream",
     "text": [
      "Processing 4150 of 13782\n",
      "Processing 4200 of 13782\n"
     ]
    },
    {
     "data": {
      "application/vnd.jupyter.widget-view+json": {
       "model_id": "df8ea32bd0024fb3aa28bce2d43aad27",
       "version_major": 2,
       "version_minor": 0
      },
      "text/plain": [
       "FloatProgress(value=0.0, layout=Layout(width='auto'), style=ProgressStyle(bar_color='black'))"
      ]
     },
     "metadata": {},
     "output_type": "display_data"
    },
    {
     "data": {
      "application/vnd.jupyter.widget-view+json": {
       "model_id": "29308a75f8da4019a096266a57807060",
       "version_major": 2,
       "version_minor": 0
      },
      "text/plain": [
       "FloatProgress(value=0.0, layout=Layout(width='auto'), style=ProgressStyle(bar_color='black'))"
      ]
     },
     "metadata": {},
     "output_type": "display_data"
    },
    {
     "name": "stdout",
     "output_type": "stream",
     "text": [
      "Processing 4250 of 13782\n",
      "Processing 4300 of 13782\n"
     ]
    },
    {
     "data": {
      "application/vnd.jupyter.widget-view+json": {
       "model_id": "aa8bd5586a3641878f225ca63c6d413e",
       "version_major": 2,
       "version_minor": 0
      },
      "text/plain": [
       "FloatProgress(value=0.0, layout=Layout(width='auto'), style=ProgressStyle(bar_color='black'))"
      ]
     },
     "metadata": {},
     "output_type": "display_data"
    },
    {
     "name": "stdout",
     "output_type": "stream",
     "text": [
      "Processing 4350 of 13782\n",
      "Processing 4400 of 13782\n",
      "Processing 4450 of 13782\n",
      "Processing 4500 of 13782\n",
      "Processing 4550 of 13782\n"
     ]
    },
    {
     "data": {
      "application/vnd.jupyter.widget-view+json": {
       "model_id": "beb45e7a59e24bbf830c57965d4043e3",
       "version_major": 2,
       "version_minor": 0
      },
      "text/plain": [
       "FloatProgress(value=0.0, layout=Layout(width='auto'), style=ProgressStyle(bar_color='black'))"
      ]
     },
     "metadata": {},
     "output_type": "display_data"
    },
    {
     "name": "stdout",
     "output_type": "stream",
     "text": [
      "Processing 4600 of 13782\n",
      "Processing 4650 of 13782\n"
     ]
    },
    {
     "data": {
      "application/vnd.jupyter.widget-view+json": {
       "model_id": "16d91730768647dc8247cce5b5fbcdd5",
       "version_major": 2,
       "version_minor": 0
      },
      "text/plain": [
       "FloatProgress(value=0.0, layout=Layout(width='auto'), style=ProgressStyle(bar_color='black'))"
      ]
     },
     "metadata": {},
     "output_type": "display_data"
    },
    {
     "name": "stdout",
     "output_type": "stream",
     "text": [
      "Processing 4700 of 13782\n",
      "Processing 4750 of 13782\n"
     ]
    },
    {
     "data": {
      "application/vnd.jupyter.widget-view+json": {
       "model_id": "2706f5c39e104bf498fb99b8fee31b42",
       "version_major": 2,
       "version_minor": 0
      },
      "text/plain": [
       "FloatProgress(value=0.0, layout=Layout(width='auto'), style=ProgressStyle(bar_color='black'))"
      ]
     },
     "metadata": {},
     "output_type": "display_data"
    },
    {
     "name": "stdout",
     "output_type": "stream",
     "text": [
      "Processing 4800 of 13782\n"
     ]
    },
    {
     "data": {
      "application/vnd.jupyter.widget-view+json": {
       "model_id": "030537b49856488d9deba2c81af33f0d",
       "version_major": 2,
       "version_minor": 0
      },
      "text/plain": [
       "FloatProgress(value=0.0, layout=Layout(width='auto'), style=ProgressStyle(bar_color='black'))"
      ]
     },
     "metadata": {},
     "output_type": "display_data"
    },
    {
     "name": "stdout",
     "output_type": "stream",
     "text": [
      "Processing 4850 of 13782\n",
      "Processing 4900 of 13782\n"
     ]
    },
    {
     "data": {
      "application/vnd.jupyter.widget-view+json": {
       "model_id": "9025496391be400ca345e8444bd166f5",
       "version_major": 2,
       "version_minor": 0
      },
      "text/plain": [
       "FloatProgress(value=0.0, layout=Layout(width='auto'), style=ProgressStyle(bar_color='black'))"
      ]
     },
     "metadata": {},
     "output_type": "display_data"
    },
    {
     "name": "stdout",
     "output_type": "stream",
     "text": [
      "Processing 4950 of 13782\n"
     ]
    },
    {
     "data": {
      "application/vnd.jupyter.widget-view+json": {
       "model_id": "57dea6de3fef4e2680c3fbf7d70265e2",
       "version_major": 2,
       "version_minor": 0
      },
      "text/plain": [
       "FloatProgress(value=0.0, layout=Layout(width='auto'), style=ProgressStyle(bar_color='black'))"
      ]
     },
     "metadata": {},
     "output_type": "display_data"
    },
    {
     "name": "stdout",
     "output_type": "stream",
     "text": [
      "Processing 5000 of 13782\n",
      "Processing 5050 of 13782\n"
     ]
    },
    {
     "data": {
      "application/vnd.jupyter.widget-view+json": {
       "model_id": "7d02812308054d0a8fb6f69c903a5720",
       "version_major": 2,
       "version_minor": 0
      },
      "text/plain": [
       "FloatProgress(value=0.0, layout=Layout(width='auto'), style=ProgressStyle(bar_color='black'))"
      ]
     },
     "metadata": {},
     "output_type": "display_data"
    },
    {
     "name": "stdout",
     "output_type": "stream",
     "text": [
      "Processing 5100 of 13782\n",
      "Processing 5150 of 13782\n"
     ]
    },
    {
     "data": {
      "application/vnd.jupyter.widget-view+json": {
       "model_id": "d7dde49700b74e6e8de7cea1371148e4",
       "version_major": 2,
       "version_minor": 0
      },
      "text/plain": [
       "FloatProgress(value=0.0, layout=Layout(width='auto'), style=ProgressStyle(bar_color='black'))"
      ]
     },
     "metadata": {},
     "output_type": "display_data"
    },
    {
     "data": {
      "application/vnd.jupyter.widget-view+json": {
       "model_id": "a1249f0a25e9436e84308adf6c5762a8",
       "version_major": 2,
       "version_minor": 0
      },
      "text/plain": [
       "FloatProgress(value=0.0, layout=Layout(width='auto'), style=ProgressStyle(bar_color='black'))"
      ]
     },
     "metadata": {},
     "output_type": "display_data"
    },
    {
     "name": "stdout",
     "output_type": "stream",
     "text": [
      "Processing 5200 of 13782\n"
     ]
    },
    {
     "data": {
      "application/vnd.jupyter.widget-view+json": {
       "model_id": "73bc1f800dba4ac69fed4e3e6a17ae7d",
       "version_major": 2,
       "version_minor": 0
      },
      "text/plain": [
       "FloatProgress(value=0.0, layout=Layout(width='auto'), style=ProgressStyle(bar_color='black'))"
      ]
     },
     "metadata": {},
     "output_type": "display_data"
    },
    {
     "data": {
      "application/vnd.jupyter.widget-view+json": {
       "model_id": "01d794d9282a49a790c4feb80de74e5d",
       "version_major": 2,
       "version_minor": 0
      },
      "text/plain": [
       "FloatProgress(value=0.0, layout=Layout(width='auto'), style=ProgressStyle(bar_color='black'))"
      ]
     },
     "metadata": {},
     "output_type": "display_data"
    },
    {
     "data": {
      "application/vnd.jupyter.widget-view+json": {
       "model_id": "5cbd2ec248714c909cefad9b7c07adbf",
       "version_major": 2,
       "version_minor": 0
      },
      "text/plain": [
       "FloatProgress(value=0.0, layout=Layout(width='auto'), style=ProgressStyle(bar_color='black'))"
      ]
     },
     "metadata": {},
     "output_type": "display_data"
    },
    {
     "name": "stdout",
     "output_type": "stream",
     "text": [
      "Processing 5250 of 13782\n",
      "Processing 5300 of 13782\n"
     ]
    },
    {
     "data": {
      "application/vnd.jupyter.widget-view+json": {
       "model_id": "42f4f154cb2049c8b4fe92518c55a0a8",
       "version_major": 2,
       "version_minor": 0
      },
      "text/plain": [
       "FloatProgress(value=0.0, layout=Layout(width='auto'), style=ProgressStyle(bar_color='black'))"
      ]
     },
     "metadata": {},
     "output_type": "display_data"
    },
    {
     "name": "stdout",
     "output_type": "stream",
     "text": [
      "Processing 5350 of 13782\n"
     ]
    },
    {
     "data": {
      "application/vnd.jupyter.widget-view+json": {
       "model_id": "12a78d98c3434bfb960ee48fe10ed324",
       "version_major": 2,
       "version_minor": 0
      },
      "text/plain": [
       "FloatProgress(value=0.0, layout=Layout(width='auto'), style=ProgressStyle(bar_color='black'))"
      ]
     },
     "metadata": {},
     "output_type": "display_data"
    },
    {
     "data": {
      "application/vnd.jupyter.widget-view+json": {
       "model_id": "44bcbbe557a3447b81f07106633ce314",
       "version_major": 2,
       "version_minor": 0
      },
      "text/plain": [
       "FloatProgress(value=0.0, layout=Layout(width='auto'), style=ProgressStyle(bar_color='black'))"
      ]
     },
     "metadata": {},
     "output_type": "display_data"
    },
    {
     "name": "stdout",
     "output_type": "stream",
     "text": [
      "Processing 5400 of 13782\n",
      "Processing 5450 of 13782\n",
      "Processing 5500 of 13782\n"
     ]
    },
    {
     "data": {
      "application/vnd.jupyter.widget-view+json": {
       "model_id": "132131c83d234d52b71b27f9f7faa5a8",
       "version_major": 2,
       "version_minor": 0
      },
      "text/plain": [
       "FloatProgress(value=0.0, layout=Layout(width='auto'), style=ProgressStyle(bar_color='black'))"
      ]
     },
     "metadata": {},
     "output_type": "display_data"
    },
    {
     "name": "stdout",
     "output_type": "stream",
     "text": [
      "Processing 5550 of 13782\n"
     ]
    },
    {
     "data": {
      "application/vnd.jupyter.widget-view+json": {
       "model_id": "9e0efb4f9c944090ae445d1cd61d4ae6",
       "version_major": 2,
       "version_minor": 0
      },
      "text/plain": [
       "FloatProgress(value=0.0, layout=Layout(width='auto'), style=ProgressStyle(bar_color='black'))"
      ]
     },
     "metadata": {},
     "output_type": "display_data"
    },
    {
     "name": "stdout",
     "output_type": "stream",
     "text": [
      "Processing 5600 of 13782\n",
      "Processing 5650 of 13782\n",
      "Processing 5700 of 13782\n",
      "Processing 5750 of 13782\n",
      "Processing 5800 of 13782\n"
     ]
    },
    {
     "data": {
      "application/vnd.jupyter.widget-view+json": {
       "model_id": "27cbb9f8841a4b229ae086eca06a465e",
       "version_major": 2,
       "version_minor": 0
      },
      "text/plain": [
       "FloatProgress(value=0.0, layout=Layout(width='auto'), style=ProgressStyle(bar_color='black'))"
      ]
     },
     "metadata": {},
     "output_type": "display_data"
    },
    {
     "data": {
      "application/vnd.jupyter.widget-view+json": {
       "model_id": "b0cf2fd00a114338a876f4df0cf92217",
       "version_major": 2,
       "version_minor": 0
      },
      "text/plain": [
       "FloatProgress(value=0.0, layout=Layout(width='auto'), style=ProgressStyle(bar_color='black'))"
      ]
     },
     "metadata": {},
     "output_type": "display_data"
    },
    {
     "name": "stdout",
     "output_type": "stream",
     "text": [
      "Processing 5850 of 13782\n"
     ]
    },
    {
     "data": {
      "application/vnd.jupyter.widget-view+json": {
       "model_id": "6854137625cc4f06b7e591a6ac91be3e",
       "version_major": 2,
       "version_minor": 0
      },
      "text/plain": [
       "FloatProgress(value=0.0, layout=Layout(width='auto'), style=ProgressStyle(bar_color='black'))"
      ]
     },
     "metadata": {},
     "output_type": "display_data"
    },
    {
     "name": "stdout",
     "output_type": "stream",
     "text": [
      "Processing 5900 of 13782\n"
     ]
    },
    {
     "data": {
      "application/vnd.jupyter.widget-view+json": {
       "model_id": "4416d0e5240945df8562053ea06d0a85",
       "version_major": 2,
       "version_minor": 0
      },
      "text/plain": [
       "FloatProgress(value=0.0, layout=Layout(width='auto'), style=ProgressStyle(bar_color='black'))"
      ]
     },
     "metadata": {},
     "output_type": "display_data"
    },
    {
     "name": "stdout",
     "output_type": "stream",
     "text": [
      "Processing 5950 of 13782\n",
      "Processing 6000 of 13782\n"
     ]
    },
    {
     "data": {
      "application/vnd.jupyter.widget-view+json": {
       "model_id": "1e158da22bdb4732908db4f16b090792",
       "version_major": 2,
       "version_minor": 0
      },
      "text/plain": [
       "FloatProgress(value=0.0, layout=Layout(width='auto'), style=ProgressStyle(bar_color='black'))"
      ]
     },
     "metadata": {},
     "output_type": "display_data"
    },
    {
     "name": "stdout",
     "output_type": "stream",
     "text": [
      "Processing 6050 of 13782\n",
      "Processing 6100 of 13782\n"
     ]
    },
    {
     "data": {
      "application/vnd.jupyter.widget-view+json": {
       "model_id": "caa0898f1169447fa9a7006befbf27b0",
       "version_major": 2,
       "version_minor": 0
      },
      "text/plain": [
       "FloatProgress(value=0.0, layout=Layout(width='auto'), style=ProgressStyle(bar_color='black'))"
      ]
     },
     "metadata": {},
     "output_type": "display_data"
    },
    {
     "name": "stdout",
     "output_type": "stream",
     "text": [
      "Processing 6150 of 13782\n"
     ]
    },
    {
     "data": {
      "application/vnd.jupyter.widget-view+json": {
       "model_id": "3b5531d31f7f41f09f7cad657f2542ab",
       "version_major": 2,
       "version_minor": 0
      },
      "text/plain": [
       "FloatProgress(value=0.0, layout=Layout(width='auto'), style=ProgressStyle(bar_color='black'))"
      ]
     },
     "metadata": {},
     "output_type": "display_data"
    },
    {
     "data": {
      "application/vnd.jupyter.widget-view+json": {
       "model_id": "8f63bab92fa64e32b86858f4a22f8a2c",
       "version_major": 2,
       "version_minor": 0
      },
      "text/plain": [
       "FloatProgress(value=0.0, layout=Layout(width='auto'), style=ProgressStyle(bar_color='black'))"
      ]
     },
     "metadata": {},
     "output_type": "display_data"
    },
    {
     "data": {
      "application/vnd.jupyter.widget-view+json": {
       "model_id": "c0f3cf09dfbd47f9ba8ae691c1f2ce15",
       "version_major": 2,
       "version_minor": 0
      },
      "text/plain": [
       "FloatProgress(value=0.0, layout=Layout(width='auto'), style=ProgressStyle(bar_color='black'))"
      ]
     },
     "metadata": {},
     "output_type": "display_data"
    },
    {
     "name": "stdout",
     "output_type": "stream",
     "text": [
      "Processing 6200 of 13782\n"
     ]
    },
    {
     "data": {
      "application/vnd.jupyter.widget-view+json": {
       "model_id": "bbe934fade744fa7be3ace5d49884bb3",
       "version_major": 2,
       "version_minor": 0
      },
      "text/plain": [
       "FloatProgress(value=0.0, layout=Layout(width='auto'), style=ProgressStyle(bar_color='black'))"
      ]
     },
     "metadata": {},
     "output_type": "display_data"
    },
    {
     "name": "stdout",
     "output_type": "stream",
     "text": [
      "Processing 6250 of 13782\n",
      "Processing 6300 of 13782\n"
     ]
    },
    {
     "data": {
      "application/vnd.jupyter.widget-view+json": {
       "model_id": "de04daa0c5c14e6baf8ea7d5b6cb3d20",
       "version_major": 2,
       "version_minor": 0
      },
      "text/plain": [
       "FloatProgress(value=0.0, layout=Layout(width='auto'), style=ProgressStyle(bar_color='black'))"
      ]
     },
     "metadata": {},
     "output_type": "display_data"
    },
    {
     "name": "stdout",
     "output_type": "stream",
     "text": [
      "Processing 6350 of 13782\n"
     ]
    },
    {
     "data": {
      "application/vnd.jupyter.widget-view+json": {
       "model_id": "47d55664580344d9a275752cdb7e63dd",
       "version_major": 2,
       "version_minor": 0
      },
      "text/plain": [
       "FloatProgress(value=0.0, layout=Layout(width='auto'), style=ProgressStyle(bar_color='black'))"
      ]
     },
     "metadata": {},
     "output_type": "display_data"
    },
    {
     "name": "stdout",
     "output_type": "stream",
     "text": [
      "Processing 6400 of 13782\n",
      "Processing 6450 of 13782\n"
     ]
    },
    {
     "data": {
      "application/vnd.jupyter.widget-view+json": {
       "model_id": "21e15bc5a1e64dc787f441df4ce730dc",
       "version_major": 2,
       "version_minor": 0
      },
      "text/plain": [
       "FloatProgress(value=0.0, layout=Layout(width='auto'), style=ProgressStyle(bar_color='black'))"
      ]
     },
     "metadata": {},
     "output_type": "display_data"
    },
    {
     "name": "stdout",
     "output_type": "stream",
     "text": [
      "Processing 6500 of 13782\n",
      "Processing 6550 of 13782\n",
      "Processing 6600 of 13782\n"
     ]
    },
    {
     "data": {
      "application/vnd.jupyter.widget-view+json": {
       "model_id": "e459ab4f4db54f4ba28d7d4901ae0bdc",
       "version_major": 2,
       "version_minor": 0
      },
      "text/plain": [
       "FloatProgress(value=0.0, layout=Layout(width='auto'), style=ProgressStyle(bar_color='black'))"
      ]
     },
     "metadata": {},
     "output_type": "display_data"
    },
    {
     "name": "stdout",
     "output_type": "stream",
     "text": [
      "Processing 6650 of 13782\n"
     ]
    },
    {
     "data": {
      "application/vnd.jupyter.widget-view+json": {
       "model_id": "703da9a667194e0386803036c6324c6d",
       "version_major": 2,
       "version_minor": 0
      },
      "text/plain": [
       "FloatProgress(value=0.0, layout=Layout(width='auto'), style=ProgressStyle(bar_color='black'))"
      ]
     },
     "metadata": {},
     "output_type": "display_data"
    },
    {
     "name": "stdout",
     "output_type": "stream",
     "text": [
      "Processing 6700 of 13782\n"
     ]
    },
    {
     "data": {
      "application/vnd.jupyter.widget-view+json": {
       "model_id": "e27dca8665754570b9b76889e4ad89ec",
       "version_major": 2,
       "version_minor": 0
      },
      "text/plain": [
       "FloatProgress(value=0.0, layout=Layout(width='auto'), style=ProgressStyle(bar_color='black'))"
      ]
     },
     "metadata": {},
     "output_type": "display_data"
    },
    {
     "data": {
      "application/vnd.jupyter.widget-view+json": {
       "model_id": "a924f333d3024025b1d5a3ad89b8e744",
       "version_major": 2,
       "version_minor": 0
      },
      "text/plain": [
       "FloatProgress(value=0.0, layout=Layout(width='auto'), style=ProgressStyle(bar_color='black'))"
      ]
     },
     "metadata": {},
     "output_type": "display_data"
    },
    {
     "data": {
      "application/vnd.jupyter.widget-view+json": {
       "model_id": "15896ed6aeea4357a3a029684ec521cd",
       "version_major": 2,
       "version_minor": 0
      },
      "text/plain": [
       "FloatProgress(value=0.0, layout=Layout(width='auto'), style=ProgressStyle(bar_color='black'))"
      ]
     },
     "metadata": {},
     "output_type": "display_data"
    },
    {
     "name": "stdout",
     "output_type": "stream",
     "text": [
      "Processing 6750 of 13782\n"
     ]
    },
    {
     "data": {
      "application/vnd.jupyter.widget-view+json": {
       "model_id": "229d41c6821e40f499fc7a65841749e9",
       "version_major": 2,
       "version_minor": 0
      },
      "text/plain": [
       "FloatProgress(value=0.0, layout=Layout(width='auto'), style=ProgressStyle(bar_color='black'))"
      ]
     },
     "metadata": {},
     "output_type": "display_data"
    },
    {
     "data": {
      "application/vnd.jupyter.widget-view+json": {
       "model_id": "48cb8945968848649a8deb7c748b73b0",
       "version_major": 2,
       "version_minor": 0
      },
      "text/plain": [
       "FloatProgress(value=0.0, layout=Layout(width='auto'), style=ProgressStyle(bar_color='black'))"
      ]
     },
     "metadata": {},
     "output_type": "display_data"
    },
    {
     "data": {
      "application/vnd.jupyter.widget-view+json": {
       "model_id": "95a123fbd8194c85ac11894711ecfa48",
       "version_major": 2,
       "version_minor": 0
      },
      "text/plain": [
       "FloatProgress(value=0.0, layout=Layout(width='auto'), style=ProgressStyle(bar_color='black'))"
      ]
     },
     "metadata": {},
     "output_type": "display_data"
    },
    {
     "name": "stdout",
     "output_type": "stream",
     "text": [
      "Processing 6800 of 13782\n",
      "Processing 6850 of 13782\n"
     ]
    },
    {
     "data": {
      "application/vnd.jupyter.widget-view+json": {
       "model_id": "4978db11db534b0bbcc0dc6a02373183",
       "version_major": 2,
       "version_minor": 0
      },
      "text/plain": [
       "FloatProgress(value=0.0, layout=Layout(width='auto'), style=ProgressStyle(bar_color='black'))"
      ]
     },
     "metadata": {},
     "output_type": "display_data"
    },
    {
     "data": {
      "application/vnd.jupyter.widget-view+json": {
       "model_id": "211603b445a649198751b344f5a451cb",
       "version_major": 2,
       "version_minor": 0
      },
      "text/plain": [
       "FloatProgress(value=0.0, layout=Layout(width='auto'), style=ProgressStyle(bar_color='black'))"
      ]
     },
     "metadata": {},
     "output_type": "display_data"
    },
    {
     "name": "stdout",
     "output_type": "stream",
     "text": [
      "Processing 6900 of 13782\n"
     ]
    },
    {
     "data": {
      "application/vnd.jupyter.widget-view+json": {
       "model_id": "3956d88995a44adbb72c99ca364a5fbb",
       "version_major": 2,
       "version_minor": 0
      },
      "text/plain": [
       "FloatProgress(value=0.0, layout=Layout(width='auto'), style=ProgressStyle(bar_color='black'))"
      ]
     },
     "metadata": {},
     "output_type": "display_data"
    },
    {
     "name": "stdout",
     "output_type": "stream",
     "text": [
      "Processing 6950 of 13782\n",
      "Processing 7000 of 13782\n",
      "Processing 7050 of 13782\n"
     ]
    },
    {
     "data": {
      "application/vnd.jupyter.widget-view+json": {
       "model_id": "7fa6977fb4994025a701d3174868d0de",
       "version_major": 2,
       "version_minor": 0
      },
      "text/plain": [
       "FloatProgress(value=0.0, layout=Layout(width='auto'), style=ProgressStyle(bar_color='black'))"
      ]
     },
     "metadata": {},
     "output_type": "display_data"
    },
    {
     "name": "stdout",
     "output_type": "stream",
     "text": [
      "Processing 7100 of 13782\n",
      "Processing 7150 of 13782\n",
      "Processing 7200 of 13782\n"
     ]
    },
    {
     "data": {
      "application/vnd.jupyter.widget-view+json": {
       "model_id": "b8c919a2cafd4492b115289348a0942f",
       "version_major": 2,
       "version_minor": 0
      },
      "text/plain": [
       "FloatProgress(value=0.0, layout=Layout(width='auto'), style=ProgressStyle(bar_color='black'))"
      ]
     },
     "metadata": {},
     "output_type": "display_data"
    },
    {
     "name": "stdout",
     "output_type": "stream",
     "text": [
      "Processing 7250 of 13782\n"
     ]
    },
    {
     "data": {
      "application/vnd.jupyter.widget-view+json": {
       "model_id": "5cb94ec1bd8e4a1dbc872f00ea9328e5",
       "version_major": 2,
       "version_minor": 0
      },
      "text/plain": [
       "FloatProgress(value=0.0, layout=Layout(width='auto'), style=ProgressStyle(bar_color='black'))"
      ]
     },
     "metadata": {},
     "output_type": "display_data"
    },
    {
     "name": "stdout",
     "output_type": "stream",
     "text": [
      "Processing 7300 of 13782\n"
     ]
    },
    {
     "data": {
      "application/vnd.jupyter.widget-view+json": {
       "model_id": "3553089f28a8407eaa906a058a34f9ff",
       "version_major": 2,
       "version_minor": 0
      },
      "text/plain": [
       "FloatProgress(value=0.0, layout=Layout(width='auto'), style=ProgressStyle(bar_color='black'))"
      ]
     },
     "metadata": {},
     "output_type": "display_data"
    },
    {
     "data": {
      "application/vnd.jupyter.widget-view+json": {
       "model_id": "56cfedc8fcdf4298a1cb1b958fe59073",
       "version_major": 2,
       "version_minor": 0
      },
      "text/plain": [
       "FloatProgress(value=0.0, layout=Layout(width='auto'), style=ProgressStyle(bar_color='black'))"
      ]
     },
     "metadata": {},
     "output_type": "display_data"
    },
    {
     "name": "stdout",
     "output_type": "stream",
     "text": [
      "Processing 7350 of 13782\n"
     ]
    },
    {
     "data": {
      "application/vnd.jupyter.widget-view+json": {
       "model_id": "0376676345f940c78941b7930722c600",
       "version_major": 2,
       "version_minor": 0
      },
      "text/plain": [
       "FloatProgress(value=0.0, layout=Layout(width='auto'), style=ProgressStyle(bar_color='black'))"
      ]
     },
     "metadata": {},
     "output_type": "display_data"
    },
    {
     "data": {
      "application/vnd.jupyter.widget-view+json": {
       "model_id": "825145686bf94a92924d794c82d8a22c",
       "version_major": 2,
       "version_minor": 0
      },
      "text/plain": [
       "FloatProgress(value=0.0, layout=Layout(width='auto'), style=ProgressStyle(bar_color='black'))"
      ]
     },
     "metadata": {},
     "output_type": "display_data"
    },
    {
     "name": "stdout",
     "output_type": "stream",
     "text": [
      "Processing 7400 of 13782\n"
     ]
    },
    {
     "data": {
      "application/vnd.jupyter.widget-view+json": {
       "model_id": "300199d5c1c64d7bb2fa47dbfd2eaab7",
       "version_major": 2,
       "version_minor": 0
      },
      "text/plain": [
       "FloatProgress(value=0.0, layout=Layout(width='auto'), style=ProgressStyle(bar_color='black'))"
      ]
     },
     "metadata": {},
     "output_type": "display_data"
    },
    {
     "name": "stdout",
     "output_type": "stream",
     "text": [
      "Processing 7450 of 13782\n"
     ]
    },
    {
     "data": {
      "application/vnd.jupyter.widget-view+json": {
       "model_id": "6bd695eac26141dfbfe925cbe99f3c4a",
       "version_major": 2,
       "version_minor": 0
      },
      "text/plain": [
       "FloatProgress(value=0.0, layout=Layout(width='auto'), style=ProgressStyle(bar_color='black'))"
      ]
     },
     "metadata": {},
     "output_type": "display_data"
    },
    {
     "data": {
      "application/vnd.jupyter.widget-view+json": {
       "model_id": "16b8821f44d84025a53d52e29b3c978c",
       "version_major": 2,
       "version_minor": 0
      },
      "text/plain": [
       "FloatProgress(value=0.0, layout=Layout(width='auto'), style=ProgressStyle(bar_color='black'))"
      ]
     },
     "metadata": {},
     "output_type": "display_data"
    },
    {
     "data": {
      "application/vnd.jupyter.widget-view+json": {
       "model_id": "9aa82592ac43471fa775c5a74c064ccf",
       "version_major": 2,
       "version_minor": 0
      },
      "text/plain": [
       "FloatProgress(value=0.0, layout=Layout(width='auto'), style=ProgressStyle(bar_color='black'))"
      ]
     },
     "metadata": {},
     "output_type": "display_data"
    },
    {
     "data": {
      "application/vnd.jupyter.widget-view+json": {
       "model_id": "fddc500b3bce492f9a99da7de04aee1e",
       "version_major": 2,
       "version_minor": 0
      },
      "text/plain": [
       "FloatProgress(value=0.0, layout=Layout(width='auto'), style=ProgressStyle(bar_color='black'))"
      ]
     },
     "metadata": {},
     "output_type": "display_data"
    },
    {
     "data": {
      "application/vnd.jupyter.widget-view+json": {
       "model_id": "3a4efcc9861a45f2a3637522faa1f779",
       "version_major": 2,
       "version_minor": 0
      },
      "text/plain": [
       "FloatProgress(value=0.0, layout=Layout(width='auto'), style=ProgressStyle(bar_color='black'))"
      ]
     },
     "metadata": {},
     "output_type": "display_data"
    },
    {
     "name": "stdout",
     "output_type": "stream",
     "text": [
      "Processing 7500 of 13782\n",
      "Processing 7550 of 13782\n"
     ]
    },
    {
     "data": {
      "application/vnd.jupyter.widget-view+json": {
       "model_id": "b8497c935eea47f7bbcaf27536550c3a",
       "version_major": 2,
       "version_minor": 0
      },
      "text/plain": [
       "FloatProgress(value=0.0, layout=Layout(width='auto'), style=ProgressStyle(bar_color='black'))"
      ]
     },
     "metadata": {},
     "output_type": "display_data"
    },
    {
     "data": {
      "application/vnd.jupyter.widget-view+json": {
       "model_id": "4dad5143476d4371a587016bc038e3c0",
       "version_major": 2,
       "version_minor": 0
      },
      "text/plain": [
       "FloatProgress(value=0.0, layout=Layout(width='auto'), style=ProgressStyle(bar_color='black'))"
      ]
     },
     "metadata": {},
     "output_type": "display_data"
    },
    {
     "data": {
      "application/vnd.jupyter.widget-view+json": {
       "model_id": "15534d3a7c674b048d10244b49fdb72d",
       "version_major": 2,
       "version_minor": 0
      },
      "text/plain": [
       "FloatProgress(value=0.0, layout=Layout(width='auto'), style=ProgressStyle(bar_color='black'))"
      ]
     },
     "metadata": {},
     "output_type": "display_data"
    },
    {
     "name": "stdout",
     "output_type": "stream",
     "text": [
      "Processing 7600 of 13782\n",
      "Processing 7650 of 13782\n"
     ]
    },
    {
     "data": {
      "application/vnd.jupyter.widget-view+json": {
       "model_id": "903f17cef7f4445c9d9c537d20a2128d",
       "version_major": 2,
       "version_minor": 0
      },
      "text/plain": [
       "FloatProgress(value=0.0, layout=Layout(width='auto'), style=ProgressStyle(bar_color='black'))"
      ]
     },
     "metadata": {},
     "output_type": "display_data"
    },
    {
     "name": "stdout",
     "output_type": "stream",
     "text": [
      "Processing 7700 of 13782\n",
      "Processing 7750 of 13782\n"
     ]
    },
    {
     "data": {
      "application/vnd.jupyter.widget-view+json": {
       "model_id": "0cd9e5b029d84c66b198bdd594c04250",
       "version_major": 2,
       "version_minor": 0
      },
      "text/plain": [
       "FloatProgress(value=0.0, layout=Layout(width='auto'), style=ProgressStyle(bar_color='black'))"
      ]
     },
     "metadata": {},
     "output_type": "display_data"
    },
    {
     "data": {
      "application/vnd.jupyter.widget-view+json": {
       "model_id": "7f9a9cc8d6ad4e94a2487bd8244c9e47",
       "version_major": 2,
       "version_minor": 0
      },
      "text/plain": [
       "FloatProgress(value=0.0, layout=Layout(width='auto'), style=ProgressStyle(bar_color='black'))"
      ]
     },
     "metadata": {},
     "output_type": "display_data"
    },
    {
     "name": "stdout",
     "output_type": "stream",
     "text": [
      "Processing 7800 of 13782\n"
     ]
    },
    {
     "data": {
      "application/vnd.jupyter.widget-view+json": {
       "model_id": "564b18afae44489d8bf8c269d3621ea7",
       "version_major": 2,
       "version_minor": 0
      },
      "text/plain": [
       "FloatProgress(value=0.0, layout=Layout(width='auto'), style=ProgressStyle(bar_color='black'))"
      ]
     },
     "metadata": {},
     "output_type": "display_data"
    },
    {
     "name": "stdout",
     "output_type": "stream",
     "text": [
      "Processing 7850 of 13782\n",
      "Processing 7900 of 13782\n"
     ]
    },
    {
     "data": {
      "application/vnd.jupyter.widget-view+json": {
       "model_id": "cfbc6ce731a24d79b566698ac5507a50",
       "version_major": 2,
       "version_minor": 0
      },
      "text/plain": [
       "FloatProgress(value=0.0, layout=Layout(width='auto'), style=ProgressStyle(bar_color='black'))"
      ]
     },
     "metadata": {},
     "output_type": "display_data"
    },
    {
     "data": {
      "application/vnd.jupyter.widget-view+json": {
       "model_id": "d0c96d6a723d48a2bfd37dccebe21c72",
       "version_major": 2,
       "version_minor": 0
      },
      "text/plain": [
       "FloatProgress(value=0.0, layout=Layout(width='auto'), style=ProgressStyle(bar_color='black'))"
      ]
     },
     "metadata": {},
     "output_type": "display_data"
    },
    {
     "name": "stdout",
     "output_type": "stream",
     "text": [
      "Processing 7950 of 13782\n"
     ]
    },
    {
     "data": {
      "application/vnd.jupyter.widget-view+json": {
       "model_id": "2213918f4ef448e59b174116e7aa47c3",
       "version_major": 2,
       "version_minor": 0
      },
      "text/plain": [
       "FloatProgress(value=0.0, layout=Layout(width='auto'), style=ProgressStyle(bar_color='black'))"
      ]
     },
     "metadata": {},
     "output_type": "display_data"
    },
    {
     "name": "stdout",
     "output_type": "stream",
     "text": [
      "Processing 8000 of 13782\n"
     ]
    },
    {
     "data": {
      "application/vnd.jupyter.widget-view+json": {
       "model_id": "3a05f5da5c274e079936cb68311dbdda",
       "version_major": 2,
       "version_minor": 0
      },
      "text/plain": [
       "FloatProgress(value=0.0, layout=Layout(width='auto'), style=ProgressStyle(bar_color='black'))"
      ]
     },
     "metadata": {},
     "output_type": "display_data"
    },
    {
     "data": {
      "application/vnd.jupyter.widget-view+json": {
       "model_id": "73b86a7394e940109648b705071c8b65",
       "version_major": 2,
       "version_minor": 0
      },
      "text/plain": [
       "FloatProgress(value=0.0, layout=Layout(width='auto'), style=ProgressStyle(bar_color='black'))"
      ]
     },
     "metadata": {},
     "output_type": "display_data"
    },
    {
     "data": {
      "application/vnd.jupyter.widget-view+json": {
       "model_id": "8e0fedb0a6864323aad3a21d890bb8d3",
       "version_major": 2,
       "version_minor": 0
      },
      "text/plain": [
       "FloatProgress(value=0.0, layout=Layout(width='auto'), style=ProgressStyle(bar_color='black'))"
      ]
     },
     "metadata": {},
     "output_type": "display_data"
    },
    {
     "name": "stdout",
     "output_type": "stream",
     "text": [
      "Processing 8050 of 13782\n"
     ]
    },
    {
     "data": {
      "application/vnd.jupyter.widget-view+json": {
       "model_id": "7e4ab31a79bf48f4b90f23265bd29432",
       "version_major": 2,
       "version_minor": 0
      },
      "text/plain": [
       "FloatProgress(value=0.0, layout=Layout(width='auto'), style=ProgressStyle(bar_color='black'))"
      ]
     },
     "metadata": {},
     "output_type": "display_data"
    },
    {
     "name": "stdout",
     "output_type": "stream",
     "text": [
      "Processing 8100 of 13782\n"
     ]
    },
    {
     "data": {
      "application/vnd.jupyter.widget-view+json": {
       "model_id": "f324e07e1ffd48bb8c6575916d589ce7",
       "version_major": 2,
       "version_minor": 0
      },
      "text/plain": [
       "FloatProgress(value=0.0, layout=Layout(width='auto'), style=ProgressStyle(bar_color='black'))"
      ]
     },
     "metadata": {},
     "output_type": "display_data"
    },
    {
     "data": {
      "application/vnd.jupyter.widget-view+json": {
       "model_id": "95560e2d150c4ea8b74ce8754d6f0cf2",
       "version_major": 2,
       "version_minor": 0
      },
      "text/plain": [
       "FloatProgress(value=0.0, layout=Layout(width='auto'), style=ProgressStyle(bar_color='black'))"
      ]
     },
     "metadata": {},
     "output_type": "display_data"
    },
    {
     "data": {
      "application/vnd.jupyter.widget-view+json": {
       "model_id": "79265a40b3f34517bb193bf368318ed3",
       "version_major": 2,
       "version_minor": 0
      },
      "text/plain": [
       "FloatProgress(value=0.0, layout=Layout(width='auto'), style=ProgressStyle(bar_color='black'))"
      ]
     },
     "metadata": {},
     "output_type": "display_data"
    },
    {
     "name": "stdout",
     "output_type": "stream",
     "text": [
      "Processing 8150 of 13782\n",
      "Processing 8200 of 13782\n"
     ]
    },
    {
     "data": {
      "application/vnd.jupyter.widget-view+json": {
       "model_id": "7b697a61cf554459bf047e4c835ad3bb",
       "version_major": 2,
       "version_minor": 0
      },
      "text/plain": [
       "FloatProgress(value=0.0, layout=Layout(width='auto'), style=ProgressStyle(bar_color='black'))"
      ]
     },
     "metadata": {},
     "output_type": "display_data"
    },
    {
     "data": {
      "application/vnd.jupyter.widget-view+json": {
       "model_id": "5551f79655c34c5fa1067eaaec462709",
       "version_major": 2,
       "version_minor": 0
      },
      "text/plain": [
       "FloatProgress(value=0.0, layout=Layout(width='auto'), style=ProgressStyle(bar_color='black'))"
      ]
     },
     "metadata": {},
     "output_type": "display_data"
    },
    {
     "name": "stdout",
     "output_type": "stream",
     "text": [
      "Processing 8250 of 13782\n"
     ]
    },
    {
     "data": {
      "application/vnd.jupyter.widget-view+json": {
       "model_id": "4fd73682644a47718173d653816064c0",
       "version_major": 2,
       "version_minor": 0
      },
      "text/plain": [
       "FloatProgress(value=0.0, layout=Layout(width='auto'), style=ProgressStyle(bar_color='black'))"
      ]
     },
     "metadata": {},
     "output_type": "display_data"
    },
    {
     "data": {
      "application/vnd.jupyter.widget-view+json": {
       "model_id": "1a4a6727086e43e4b678aeeb21fb08ab",
       "version_major": 2,
       "version_minor": 0
      },
      "text/plain": [
       "FloatProgress(value=0.0, layout=Layout(width='auto'), style=ProgressStyle(bar_color='black'))"
      ]
     },
     "metadata": {},
     "output_type": "display_data"
    },
    {
     "name": "stdout",
     "output_type": "stream",
     "text": [
      "Processing 8300 of 13782\n"
     ]
    },
    {
     "data": {
      "application/vnd.jupyter.widget-view+json": {
       "model_id": "a0b3f2ae6f3a47a5b00cf3b7068f28f8",
       "version_major": 2,
       "version_minor": 0
      },
      "text/plain": [
       "FloatProgress(value=0.0, layout=Layout(width='auto'), style=ProgressStyle(bar_color='black'))"
      ]
     },
     "metadata": {},
     "output_type": "display_data"
    },
    {
     "name": "stdout",
     "output_type": "stream",
     "text": [
      "Processing 8350 of 13782\n"
     ]
    },
    {
     "data": {
      "application/vnd.jupyter.widget-view+json": {
       "model_id": "6f8943eccc9647b28c4ff574770ae903",
       "version_major": 2,
       "version_minor": 0
      },
      "text/plain": [
       "FloatProgress(value=0.0, layout=Layout(width='auto'), style=ProgressStyle(bar_color='black'))"
      ]
     },
     "metadata": {},
     "output_type": "display_data"
    },
    {
     "data": {
      "application/vnd.jupyter.widget-view+json": {
       "model_id": "39dc29bb05a3457f9c84c1e4550eba35",
       "version_major": 2,
       "version_minor": 0
      },
      "text/plain": [
       "FloatProgress(value=0.0, layout=Layout(width='auto'), style=ProgressStyle(bar_color='black'))"
      ]
     },
     "metadata": {},
     "output_type": "display_data"
    },
    {
     "name": "stdout",
     "output_type": "stream",
     "text": [
      "Processing 8400 of 13782\n"
     ]
    },
    {
     "data": {
      "application/vnd.jupyter.widget-view+json": {
       "model_id": "fdf7c9d6cb634e4294a2be30920708e8",
       "version_major": 2,
       "version_minor": 0
      },
      "text/plain": [
       "FloatProgress(value=0.0, layout=Layout(width='auto'), style=ProgressStyle(bar_color='black'))"
      ]
     },
     "metadata": {},
     "output_type": "display_data"
    },
    {
     "data": {
      "application/vnd.jupyter.widget-view+json": {
       "model_id": "2ebd4eb0400e4450bfb272828130de56",
       "version_major": 2,
       "version_minor": 0
      },
      "text/plain": [
       "FloatProgress(value=0.0, layout=Layout(width='auto'), style=ProgressStyle(bar_color='black'))"
      ]
     },
     "metadata": {},
     "output_type": "display_data"
    },
    {
     "data": {
      "application/vnd.jupyter.widget-view+json": {
       "model_id": "61bcffd02e754525a23175cdf7ed8468",
       "version_major": 2,
       "version_minor": 0
      },
      "text/plain": [
       "FloatProgress(value=0.0, layout=Layout(width='auto'), style=ProgressStyle(bar_color='black'))"
      ]
     },
     "metadata": {},
     "output_type": "display_data"
    },
    {
     "data": {
      "application/vnd.jupyter.widget-view+json": {
       "model_id": "49db7d7b034d402dbbdce57bcd00fbdf",
       "version_major": 2,
       "version_minor": 0
      },
      "text/plain": [
       "FloatProgress(value=0.0, layout=Layout(width='auto'), style=ProgressStyle(bar_color='black'))"
      ]
     },
     "metadata": {},
     "output_type": "display_data"
    },
    {
     "data": {
      "application/vnd.jupyter.widget-view+json": {
       "model_id": "583f9306afb44054820aafed66935c7a",
       "version_major": 2,
       "version_minor": 0
      },
      "text/plain": [
       "FloatProgress(value=0.0, layout=Layout(width='auto'), style=ProgressStyle(bar_color='black'))"
      ]
     },
     "metadata": {},
     "output_type": "display_data"
    },
    {
     "data": {
      "application/vnd.jupyter.widget-view+json": {
       "model_id": "f9e3cd34df0043f0a6af20f7e0dfbc37",
       "version_major": 2,
       "version_minor": 0
      },
      "text/plain": [
       "FloatProgress(value=0.0, layout=Layout(width='auto'), style=ProgressStyle(bar_color='black'))"
      ]
     },
     "metadata": {},
     "output_type": "display_data"
    },
    {
     "name": "stdout",
     "output_type": "stream",
     "text": [
      "Processing 8450 of 13782\n"
     ]
    },
    {
     "data": {
      "application/vnd.jupyter.widget-view+json": {
       "model_id": "31d440038d514724b922e7c478521f4e",
       "version_major": 2,
       "version_minor": 0
      },
      "text/plain": [
       "FloatProgress(value=0.0, layout=Layout(width='auto'), style=ProgressStyle(bar_color='black'))"
      ]
     },
     "metadata": {},
     "output_type": "display_data"
    },
    {
     "data": {
      "application/vnd.jupyter.widget-view+json": {
       "model_id": "d9ec8e1155344c69b971722bf3fa6074",
       "version_major": 2,
       "version_minor": 0
      },
      "text/plain": [
       "FloatProgress(value=0.0, layout=Layout(width='auto'), style=ProgressStyle(bar_color='black'))"
      ]
     },
     "metadata": {},
     "output_type": "display_data"
    },
    {
     "name": "stdout",
     "output_type": "stream",
     "text": [
      "Processing 8500 of 13782\n"
     ]
    },
    {
     "data": {
      "application/vnd.jupyter.widget-view+json": {
       "model_id": "ad2ab2186d474d2d82f074352709a586",
       "version_major": 2,
       "version_minor": 0
      },
      "text/plain": [
       "FloatProgress(value=0.0, layout=Layout(width='auto'), style=ProgressStyle(bar_color='black'))"
      ]
     },
     "metadata": {},
     "output_type": "display_data"
    },
    {
     "data": {
      "application/vnd.jupyter.widget-view+json": {
       "model_id": "9cf6bf378988468487105d8856bf7ba7",
       "version_major": 2,
       "version_minor": 0
      },
      "text/plain": [
       "FloatProgress(value=0.0, layout=Layout(width='auto'), style=ProgressStyle(bar_color='black'))"
      ]
     },
     "metadata": {},
     "output_type": "display_data"
    },
    {
     "data": {
      "application/vnd.jupyter.widget-view+json": {
       "model_id": "17a70ff343bb43ef892fd2b7e1503ad0",
       "version_major": 2,
       "version_minor": 0
      },
      "text/plain": [
       "FloatProgress(value=0.0, layout=Layout(width='auto'), style=ProgressStyle(bar_color='black'))"
      ]
     },
     "metadata": {},
     "output_type": "display_data"
    },
    {
     "data": {
      "application/vnd.jupyter.widget-view+json": {
       "model_id": "29dece4dec6e49aebb88888f2ec985b8",
       "version_major": 2,
       "version_minor": 0
      },
      "text/plain": [
       "FloatProgress(value=0.0, layout=Layout(width='auto'), style=ProgressStyle(bar_color='black'))"
      ]
     },
     "metadata": {},
     "output_type": "display_data"
    },
    {
     "name": "stdout",
     "output_type": "stream",
     "text": [
      "Processing 8550 of 13782\n"
     ]
    },
    {
     "data": {
      "application/vnd.jupyter.widget-view+json": {
       "model_id": "19d382b54f4e4df690568600952a2da4",
       "version_major": 2,
       "version_minor": 0
      },
      "text/plain": [
       "FloatProgress(value=0.0, layout=Layout(width='auto'), style=ProgressStyle(bar_color='black'))"
      ]
     },
     "metadata": {},
     "output_type": "display_data"
    },
    {
     "name": "stdout",
     "output_type": "stream",
     "text": [
      "Processing 8600 of 13782\n"
     ]
    },
    {
     "data": {
      "application/vnd.jupyter.widget-view+json": {
       "model_id": "315fd0a9858f49a0860e1a5a5668e49a",
       "version_major": 2,
       "version_minor": 0
      },
      "text/plain": [
       "FloatProgress(value=0.0, layout=Layout(width='auto'), style=ProgressStyle(bar_color='black'))"
      ]
     },
     "metadata": {},
     "output_type": "display_data"
    },
    {
     "data": {
      "application/vnd.jupyter.widget-view+json": {
       "model_id": "c2134d91ad774ef289fb044cd16eb23c",
       "version_major": 2,
       "version_minor": 0
      },
      "text/plain": [
       "FloatProgress(value=0.0, layout=Layout(width='auto'), style=ProgressStyle(bar_color='black'))"
      ]
     },
     "metadata": {},
     "output_type": "display_data"
    },
    {
     "data": {
      "application/vnd.jupyter.widget-view+json": {
       "model_id": "f57c28b0100844ec8dd5873187af7dad",
       "version_major": 2,
       "version_minor": 0
      },
      "text/plain": [
       "FloatProgress(value=0.0, layout=Layout(width='auto'), style=ProgressStyle(bar_color='black'))"
      ]
     },
     "metadata": {},
     "output_type": "display_data"
    },
    {
     "data": {
      "application/vnd.jupyter.widget-view+json": {
       "model_id": "2b2845c2ee494023ab9e4d96bb3f0bd0",
       "version_major": 2,
       "version_minor": 0
      },
      "text/plain": [
       "FloatProgress(value=0.0, layout=Layout(width='auto'), style=ProgressStyle(bar_color='black'))"
      ]
     },
     "metadata": {},
     "output_type": "display_data"
    },
    {
     "data": {
      "application/vnd.jupyter.widget-view+json": {
       "model_id": "f0e9e374264d4304b877dd9415df3f5a",
       "version_major": 2,
       "version_minor": 0
      },
      "text/plain": [
       "FloatProgress(value=0.0, layout=Layout(width='auto'), style=ProgressStyle(bar_color='black'))"
      ]
     },
     "metadata": {},
     "output_type": "display_data"
    },
    {
     "name": "stdout",
     "output_type": "stream",
     "text": [
      "Processing 8650 of 13782\n"
     ]
    },
    {
     "data": {
      "application/vnd.jupyter.widget-view+json": {
       "model_id": "42d5daf9c6474dadb64f308f85f86820",
       "version_major": 2,
       "version_minor": 0
      },
      "text/plain": [
       "FloatProgress(value=0.0, layout=Layout(width='auto'), style=ProgressStyle(bar_color='black'))"
      ]
     },
     "metadata": {},
     "output_type": "display_data"
    },
    {
     "data": {
      "application/vnd.jupyter.widget-view+json": {
       "model_id": "8d04375b0771425e8f702b4d487fb8fa",
       "version_major": 2,
       "version_minor": 0
      },
      "text/plain": [
       "FloatProgress(value=0.0, layout=Layout(width='auto'), style=ProgressStyle(bar_color='black'))"
      ]
     },
     "metadata": {},
     "output_type": "display_data"
    },
    {
     "data": {
      "application/vnd.jupyter.widget-view+json": {
       "model_id": "017066834bf1401a85899e8ca1449bf1",
       "version_major": 2,
       "version_minor": 0
      },
      "text/plain": [
       "FloatProgress(value=0.0, layout=Layout(width='auto'), style=ProgressStyle(bar_color='black'))"
      ]
     },
     "metadata": {},
     "output_type": "display_data"
    },
    {
     "data": {
      "application/vnd.jupyter.widget-view+json": {
       "model_id": "1100434790a04fe7b4bc869ba7a9a997",
       "version_major": 2,
       "version_minor": 0
      },
      "text/plain": [
       "FloatProgress(value=0.0, layout=Layout(width='auto'), style=ProgressStyle(bar_color='black'))"
      ]
     },
     "metadata": {},
     "output_type": "display_data"
    },
    {
     "data": {
      "application/vnd.jupyter.widget-view+json": {
       "model_id": "b46d1b1019c2410dbb080c0bb9e9d814",
       "version_major": 2,
       "version_minor": 0
      },
      "text/plain": [
       "FloatProgress(value=0.0, layout=Layout(width='auto'), style=ProgressStyle(bar_color='black'))"
      ]
     },
     "metadata": {},
     "output_type": "display_data"
    },
    {
     "data": {
      "application/vnd.jupyter.widget-view+json": {
       "model_id": "14505d01ef8b481b973e11359d39aa36",
       "version_major": 2,
       "version_minor": 0
      },
      "text/plain": [
       "FloatProgress(value=0.0, layout=Layout(width='auto'), style=ProgressStyle(bar_color='black'))"
      ]
     },
     "metadata": {},
     "output_type": "display_data"
    },
    {
     "name": "stdout",
     "output_type": "stream",
     "text": [
      "Processing 8700 of 13782\n"
     ]
    },
    {
     "data": {
      "application/vnd.jupyter.widget-view+json": {
       "model_id": "ad6e54c1e70e4fbc85c148f475cb525d",
       "version_major": 2,
       "version_minor": 0
      },
      "text/plain": [
       "FloatProgress(value=0.0, layout=Layout(width='auto'), style=ProgressStyle(bar_color='black'))"
      ]
     },
     "metadata": {},
     "output_type": "display_data"
    },
    {
     "name": "stdout",
     "output_type": "stream",
     "text": [
      "Processing 8750 of 13782\n"
     ]
    },
    {
     "data": {
      "application/vnd.jupyter.widget-view+json": {
       "model_id": "08b0c108fd9e4a248b242ce8baa229f7",
       "version_major": 2,
       "version_minor": 0
      },
      "text/plain": [
       "FloatProgress(value=0.0, layout=Layout(width='auto'), style=ProgressStyle(bar_color='black'))"
      ]
     },
     "metadata": {},
     "output_type": "display_data"
    },
    {
     "data": {
      "application/vnd.jupyter.widget-view+json": {
       "model_id": "22f9654589bc441390441fabf3a1eec5",
       "version_major": 2,
       "version_minor": 0
      },
      "text/plain": [
       "FloatProgress(value=0.0, layout=Layout(width='auto'), style=ProgressStyle(bar_color='black'))"
      ]
     },
     "metadata": {},
     "output_type": "display_data"
    },
    {
     "name": "stdout",
     "output_type": "stream",
     "text": [
      "Processing 8800 of 13782\n"
     ]
    },
    {
     "data": {
      "application/vnd.jupyter.widget-view+json": {
       "model_id": "162734f315ea49dcba7971e781681857",
       "version_major": 2,
       "version_minor": 0
      },
      "text/plain": [
       "FloatProgress(value=0.0, layout=Layout(width='auto'), style=ProgressStyle(bar_color='black'))"
      ]
     },
     "metadata": {},
     "output_type": "display_data"
    },
    {
     "name": "stdout",
     "output_type": "stream",
     "text": [
      "Processing 8850 of 13782\n"
     ]
    },
    {
     "data": {
      "application/vnd.jupyter.widget-view+json": {
       "model_id": "cdb368478c7f45e9abfe4b43d00bae7d",
       "version_major": 2,
       "version_minor": 0
      },
      "text/plain": [
       "FloatProgress(value=0.0, layout=Layout(width='auto'), style=ProgressStyle(bar_color='black'))"
      ]
     },
     "metadata": {},
     "output_type": "display_data"
    },
    {
     "data": {
      "application/vnd.jupyter.widget-view+json": {
       "model_id": "504868cc0d374c4bbcd66052caa5e5ee",
       "version_major": 2,
       "version_minor": 0
      },
      "text/plain": [
       "FloatProgress(value=0.0, layout=Layout(width='auto'), style=ProgressStyle(bar_color='black'))"
      ]
     },
     "metadata": {},
     "output_type": "display_data"
    },
    {
     "data": {
      "application/vnd.jupyter.widget-view+json": {
       "model_id": "d4e34aff33224d948af47b025612b350",
       "version_major": 2,
       "version_minor": 0
      },
      "text/plain": [
       "FloatProgress(value=0.0, layout=Layout(width='auto'), style=ProgressStyle(bar_color='black'))"
      ]
     },
     "metadata": {},
     "output_type": "display_data"
    },
    {
     "name": "stdout",
     "output_type": "stream",
     "text": [
      "Processing 8900 of 13782\n"
     ]
    },
    {
     "data": {
      "application/vnd.jupyter.widget-view+json": {
       "model_id": "515b39fedb4a4ddfae7c62a73e8f54e3",
       "version_major": 2,
       "version_minor": 0
      },
      "text/plain": [
       "FloatProgress(value=0.0, layout=Layout(width='auto'), style=ProgressStyle(bar_color='black'))"
      ]
     },
     "metadata": {},
     "output_type": "display_data"
    },
    {
     "data": {
      "application/vnd.jupyter.widget-view+json": {
       "model_id": "3cbb39e92ded4b3181b4f5cc8dee5ba2",
       "version_major": 2,
       "version_minor": 0
      },
      "text/plain": [
       "FloatProgress(value=0.0, layout=Layout(width='auto'), style=ProgressStyle(bar_color='black'))"
      ]
     },
     "metadata": {},
     "output_type": "display_data"
    },
    {
     "name": "stdout",
     "output_type": "stream",
     "text": [
      "Processing 8950 of 13782\n"
     ]
    },
    {
     "data": {
      "application/vnd.jupyter.widget-view+json": {
       "model_id": "5b8b67a323da4ce9b343598d95e708b1",
       "version_major": 2,
       "version_minor": 0
      },
      "text/plain": [
       "FloatProgress(value=0.0, layout=Layout(width='auto'), style=ProgressStyle(bar_color='black'))"
      ]
     },
     "metadata": {},
     "output_type": "display_data"
    },
    {
     "data": {
      "application/vnd.jupyter.widget-view+json": {
       "model_id": "1d7acd3cb79f4aae8b5a8e08191a127b",
       "version_major": 2,
       "version_minor": 0
      },
      "text/plain": [
       "FloatProgress(value=0.0, layout=Layout(width='auto'), style=ProgressStyle(bar_color='black'))"
      ]
     },
     "metadata": {},
     "output_type": "display_data"
    },
    {
     "name": "stdout",
     "output_type": "stream",
     "text": [
      "Processing 9000 of 13782\n",
      "Processing 9050 of 13782\n"
     ]
    },
    {
     "data": {
      "application/vnd.jupyter.widget-view+json": {
       "model_id": "b42ff3eb630344e39a701d3eed4cca1a",
       "version_major": 2,
       "version_minor": 0
      },
      "text/plain": [
       "FloatProgress(value=0.0, layout=Layout(width='auto'), style=ProgressStyle(bar_color='black'))"
      ]
     },
     "metadata": {},
     "output_type": "display_data"
    },
    {
     "name": "stdout",
     "output_type": "stream",
     "text": [
      "Processing 9100 of 13782\n"
     ]
    },
    {
     "data": {
      "application/vnd.jupyter.widget-view+json": {
       "model_id": "6875cba759684f45a657a15035e274c7",
       "version_major": 2,
       "version_minor": 0
      },
      "text/plain": [
       "FloatProgress(value=0.0, layout=Layout(width='auto'), style=ProgressStyle(bar_color='black'))"
      ]
     },
     "metadata": {},
     "output_type": "display_data"
    },
    {
     "name": "stdout",
     "output_type": "stream",
     "text": [
      "Processing 9150 of 13782\n",
      "Processing 9200 of 13782\n"
     ]
    },
    {
     "data": {
      "application/vnd.jupyter.widget-view+json": {
       "model_id": "dc1c1faac5d84f5fb0a9c8eb8e5cd6c6",
       "version_major": 2,
       "version_minor": 0
      },
      "text/plain": [
       "FloatProgress(value=0.0, layout=Layout(width='auto'), style=ProgressStyle(bar_color='black'))"
      ]
     },
     "metadata": {},
     "output_type": "display_data"
    },
    {
     "name": "stdout",
     "output_type": "stream",
     "text": [
      "Processing 9250 of 13782\n"
     ]
    },
    {
     "data": {
      "application/vnd.jupyter.widget-view+json": {
       "model_id": "d4482f7959e5424b88facfe29b45c6aa",
       "version_major": 2,
       "version_minor": 0
      },
      "text/plain": [
       "FloatProgress(value=0.0, layout=Layout(width='auto'), style=ProgressStyle(bar_color='black'))"
      ]
     },
     "metadata": {},
     "output_type": "display_data"
    },
    {
     "data": {
      "application/vnd.jupyter.widget-view+json": {
       "model_id": "d2853be7a4e748e2808264cd34a148e1",
       "version_major": 2,
       "version_minor": 0
      },
      "text/plain": [
       "FloatProgress(value=0.0, layout=Layout(width='auto'), style=ProgressStyle(bar_color='black'))"
      ]
     },
     "metadata": {},
     "output_type": "display_data"
    },
    {
     "name": "stdout",
     "output_type": "stream",
     "text": [
      "Processing 9300 of 13782\n"
     ]
    },
    {
     "data": {
      "application/vnd.jupyter.widget-view+json": {
       "model_id": "35273a9bfe5c44d6a85518cdf77b285a",
       "version_major": 2,
       "version_minor": 0
      },
      "text/plain": [
       "FloatProgress(value=0.0, layout=Layout(width='auto'), style=ProgressStyle(bar_color='black'))"
      ]
     },
     "metadata": {},
     "output_type": "display_data"
    },
    {
     "data": {
      "application/vnd.jupyter.widget-view+json": {
       "model_id": "f0834489199648778dc2a132d5fe5290",
       "version_major": 2,
       "version_minor": 0
      },
      "text/plain": [
       "FloatProgress(value=0.0, layout=Layout(width='auto'), style=ProgressStyle(bar_color='black'))"
      ]
     },
     "metadata": {},
     "output_type": "display_data"
    },
    {
     "name": "stdout",
     "output_type": "stream",
     "text": [
      "Processing 9350 of 13782\n"
     ]
    },
    {
     "data": {
      "application/vnd.jupyter.widget-view+json": {
       "model_id": "29c1f1217ba34287915fbf50589f3739",
       "version_major": 2,
       "version_minor": 0
      },
      "text/plain": [
       "FloatProgress(value=0.0, layout=Layout(width='auto'), style=ProgressStyle(bar_color='black'))"
      ]
     },
     "metadata": {},
     "output_type": "display_data"
    },
    {
     "data": {
      "application/vnd.jupyter.widget-view+json": {
       "model_id": "540b114b11764454a58215627be44472",
       "version_major": 2,
       "version_minor": 0
      },
      "text/plain": [
       "FloatProgress(value=0.0, layout=Layout(width='auto'), style=ProgressStyle(bar_color='black'))"
      ]
     },
     "metadata": {},
     "output_type": "display_data"
    },
    {
     "name": "stdout",
     "output_type": "stream",
     "text": [
      "Processing 9400 of 13782\n",
      "Processing 9450 of 13782\n"
     ]
    },
    {
     "data": {
      "application/vnd.jupyter.widget-view+json": {
       "model_id": "ec12510b0aca46e2b097765c91d424e8",
       "version_major": 2,
       "version_minor": 0
      },
      "text/plain": [
       "FloatProgress(value=0.0, layout=Layout(width='auto'), style=ProgressStyle(bar_color='black'))"
      ]
     },
     "metadata": {},
     "output_type": "display_data"
    },
    {
     "name": "stdout",
     "output_type": "stream",
     "text": [
      "Processing 9500 of 13782\n"
     ]
    },
    {
     "data": {
      "application/vnd.jupyter.widget-view+json": {
       "model_id": "29106d3e814341ef9013fad1ebdb5989",
       "version_major": 2,
       "version_minor": 0
      },
      "text/plain": [
       "FloatProgress(value=0.0, layout=Layout(width='auto'), style=ProgressStyle(bar_color='black'))"
      ]
     },
     "metadata": {},
     "output_type": "display_data"
    },
    {
     "data": {
      "application/vnd.jupyter.widget-view+json": {
       "model_id": "72f94e43273749aead85abb8933a5266",
       "version_major": 2,
       "version_minor": 0
      },
      "text/plain": [
       "FloatProgress(value=0.0, layout=Layout(width='auto'), style=ProgressStyle(bar_color='black'))"
      ]
     },
     "metadata": {},
     "output_type": "display_data"
    },
    {
     "data": {
      "application/vnd.jupyter.widget-view+json": {
       "model_id": "3f6abef34f284752aa45d6f219d94bf0",
       "version_major": 2,
       "version_minor": 0
      },
      "text/plain": [
       "FloatProgress(value=0.0, layout=Layout(width='auto'), style=ProgressStyle(bar_color='black'))"
      ]
     },
     "metadata": {},
     "output_type": "display_data"
    },
    {
     "name": "stdout",
     "output_type": "stream",
     "text": [
      "Processing 9550 of 13782\n"
     ]
    },
    {
     "data": {
      "application/vnd.jupyter.widget-view+json": {
       "model_id": "5d5f1643af8749818365508d45f6fa2c",
       "version_major": 2,
       "version_minor": 0
      },
      "text/plain": [
       "FloatProgress(value=0.0, layout=Layout(width='auto'), style=ProgressStyle(bar_color='black'))"
      ]
     },
     "metadata": {},
     "output_type": "display_data"
    },
    {
     "data": {
      "application/vnd.jupyter.widget-view+json": {
       "model_id": "74d8af8732b34d0d8760c22ee8836188",
       "version_major": 2,
       "version_minor": 0
      },
      "text/plain": [
       "FloatProgress(value=0.0, layout=Layout(width='auto'), style=ProgressStyle(bar_color='black'))"
      ]
     },
     "metadata": {},
     "output_type": "display_data"
    },
    {
     "name": "stdout",
     "output_type": "stream",
     "text": [
      "Processing 9600 of 13782\n"
     ]
    },
    {
     "data": {
      "application/vnd.jupyter.widget-view+json": {
       "model_id": "ba490c9590b04f25be255ec38277e3b1",
       "version_major": 2,
       "version_minor": 0
      },
      "text/plain": [
       "FloatProgress(value=0.0, layout=Layout(width='auto'), style=ProgressStyle(bar_color='black'))"
      ]
     },
     "metadata": {},
     "output_type": "display_data"
    },
    {
     "data": {
      "application/vnd.jupyter.widget-view+json": {
       "model_id": "d3d2c681754740fc91a49362e5ec8961",
       "version_major": 2,
       "version_minor": 0
      },
      "text/plain": [
       "FloatProgress(value=0.0, layout=Layout(width='auto'), style=ProgressStyle(bar_color='black'))"
      ]
     },
     "metadata": {},
     "output_type": "display_data"
    },
    {
     "data": {
      "application/vnd.jupyter.widget-view+json": {
       "model_id": "45e801545749483ea9005827fcaddeb5",
       "version_major": 2,
       "version_minor": 0
      },
      "text/plain": [
       "FloatProgress(value=0.0, layout=Layout(width='auto'), style=ProgressStyle(bar_color='black'))"
      ]
     },
     "metadata": {},
     "output_type": "display_data"
    },
    {
     "name": "stdout",
     "output_type": "stream",
     "text": [
      "Processing 9650 of 13782\n",
      "Processing 9700 of 13782\n"
     ]
    },
    {
     "data": {
      "application/vnd.jupyter.widget-view+json": {
       "model_id": "0db86fc3eb8942848e7027e558092b94",
       "version_major": 2,
       "version_minor": 0
      },
      "text/plain": [
       "FloatProgress(value=0.0, layout=Layout(width='auto'), style=ProgressStyle(bar_color='black'))"
      ]
     },
     "metadata": {},
     "output_type": "display_data"
    },
    {
     "name": "stdout",
     "output_type": "stream",
     "text": [
      "Processing 9750 of 13782\n"
     ]
    },
    {
     "data": {
      "application/vnd.jupyter.widget-view+json": {
       "model_id": "869ee36ffa2c434593071e17d67e49ed",
       "version_major": 2,
       "version_minor": 0
      },
      "text/plain": [
       "FloatProgress(value=0.0, layout=Layout(width='auto'), style=ProgressStyle(bar_color='black'))"
      ]
     },
     "metadata": {},
     "output_type": "display_data"
    },
    {
     "data": {
      "application/vnd.jupyter.widget-view+json": {
       "model_id": "79e411ea3e2f4b8aa33434ec4d8ba4c3",
       "version_major": 2,
       "version_minor": 0
      },
      "text/plain": [
       "FloatProgress(value=0.0, layout=Layout(width='auto'), style=ProgressStyle(bar_color='black'))"
      ]
     },
     "metadata": {},
     "output_type": "display_data"
    },
    {
     "name": "stdout",
     "output_type": "stream",
     "text": [
      "Processing 9800 of 13782\n"
     ]
    },
    {
     "data": {
      "application/vnd.jupyter.widget-view+json": {
       "model_id": "cfc46e1198dd4010890ddbe54ed22f46",
       "version_major": 2,
       "version_minor": 0
      },
      "text/plain": [
       "FloatProgress(value=0.0, layout=Layout(width='auto'), style=ProgressStyle(bar_color='black'))"
      ]
     },
     "metadata": {},
     "output_type": "display_data"
    },
    {
     "data": {
      "application/vnd.jupyter.widget-view+json": {
       "model_id": "caf5745455cb407e9ae9eb0ecfa013a2",
       "version_major": 2,
       "version_minor": 0
      },
      "text/plain": [
       "FloatProgress(value=0.0, layout=Layout(width='auto'), style=ProgressStyle(bar_color='black'))"
      ]
     },
     "metadata": {},
     "output_type": "display_data"
    },
    {
     "name": "stdout",
     "output_type": "stream",
     "text": [
      "Processing 9850 of 13782\n"
     ]
    },
    {
     "data": {
      "application/vnd.jupyter.widget-view+json": {
       "model_id": "f1fd0d0104ba4fa9b1ea1ed7f2e36c8e",
       "version_major": 2,
       "version_minor": 0
      },
      "text/plain": [
       "FloatProgress(value=0.0, layout=Layout(width='auto'), style=ProgressStyle(bar_color='black'))"
      ]
     },
     "metadata": {},
     "output_type": "display_data"
    },
    {
     "data": {
      "application/vnd.jupyter.widget-view+json": {
       "model_id": "df74cc9106d04ccd8aa07295f2d6f81d",
       "version_major": 2,
       "version_minor": 0
      },
      "text/plain": [
       "FloatProgress(value=0.0, layout=Layout(width='auto'), style=ProgressStyle(bar_color='black'))"
      ]
     },
     "metadata": {},
     "output_type": "display_data"
    },
    {
     "data": {
      "application/vnd.jupyter.widget-view+json": {
       "model_id": "b64a50fb75544aaf881746bb8db49f55",
       "version_major": 2,
       "version_minor": 0
      },
      "text/plain": [
       "FloatProgress(value=0.0, layout=Layout(width='auto'), style=ProgressStyle(bar_color='black'))"
      ]
     },
     "metadata": {},
     "output_type": "display_data"
    },
    {
     "name": "stdout",
     "output_type": "stream",
     "text": [
      "Processing 9900 of 13782\n"
     ]
    },
    {
     "data": {
      "application/vnd.jupyter.widget-view+json": {
       "model_id": "71f29625fd9345278581e23ade4a0e1a",
       "version_major": 2,
       "version_minor": 0
      },
      "text/plain": [
       "FloatProgress(value=0.0, layout=Layout(width='auto'), style=ProgressStyle(bar_color='black'))"
      ]
     },
     "metadata": {},
     "output_type": "display_data"
    },
    {
     "name": "stdout",
     "output_type": "stream",
     "text": [
      "Processing 9950 of 13782\n"
     ]
    },
    {
     "data": {
      "application/vnd.jupyter.widget-view+json": {
       "model_id": "7dee0947a1b247f1b08d751113ae2015",
       "version_major": 2,
       "version_minor": 0
      },
      "text/plain": [
       "FloatProgress(value=0.0, layout=Layout(width='auto'), style=ProgressStyle(bar_color='black'))"
      ]
     },
     "metadata": {},
     "output_type": "display_data"
    },
    {
     "name": "stdout",
     "output_type": "stream",
     "text": [
      "Processing 10000 of 13782\n"
     ]
    },
    {
     "data": {
      "application/vnd.jupyter.widget-view+json": {
       "model_id": "3c1c08bf98df4c099301fe72c35e3562",
       "version_major": 2,
       "version_minor": 0
      },
      "text/plain": [
       "FloatProgress(value=0.0, layout=Layout(width='auto'), style=ProgressStyle(bar_color='black'))"
      ]
     },
     "metadata": {},
     "output_type": "display_data"
    },
    {
     "data": {
      "application/vnd.jupyter.widget-view+json": {
       "model_id": "757283e9e6394da69ae6454a3c00d503",
       "version_major": 2,
       "version_minor": 0
      },
      "text/plain": [
       "FloatProgress(value=0.0, layout=Layout(width='auto'), style=ProgressStyle(bar_color='black'))"
      ]
     },
     "metadata": {},
     "output_type": "display_data"
    },
    {
     "data": {
      "application/vnd.jupyter.widget-view+json": {
       "model_id": "0572b30e7afc4c35a430295772c1228f",
       "version_major": 2,
       "version_minor": 0
      },
      "text/plain": [
       "FloatProgress(value=0.0, layout=Layout(width='auto'), style=ProgressStyle(bar_color='black'))"
      ]
     },
     "metadata": {},
     "output_type": "display_data"
    },
    {
     "name": "stdout",
     "output_type": "stream",
     "text": [
      "Processing 10050 of 13782\n"
     ]
    },
    {
     "data": {
      "application/vnd.jupyter.widget-view+json": {
       "model_id": "e29e18659cd34bb4957947c2318b266c",
       "version_major": 2,
       "version_minor": 0
      },
      "text/plain": [
       "FloatProgress(value=0.0, layout=Layout(width='auto'), style=ProgressStyle(bar_color='black'))"
      ]
     },
     "metadata": {},
     "output_type": "display_data"
    },
    {
     "name": "stdout",
     "output_type": "stream",
     "text": [
      "Processing 10100 of 13782\n"
     ]
    },
    {
     "data": {
      "application/vnd.jupyter.widget-view+json": {
       "model_id": "129cb5255d044cc1a2c19a08879c5324",
       "version_major": 2,
       "version_minor": 0
      },
      "text/plain": [
       "FloatProgress(value=0.0, layout=Layout(width='auto'), style=ProgressStyle(bar_color='black'))"
      ]
     },
     "metadata": {},
     "output_type": "display_data"
    },
    {
     "data": {
      "application/vnd.jupyter.widget-view+json": {
       "model_id": "9ed8b25696894beb8cf23b77a8c6c67b",
       "version_major": 2,
       "version_minor": 0
      },
      "text/plain": [
       "FloatProgress(value=0.0, layout=Layout(width='auto'), style=ProgressStyle(bar_color='black'))"
      ]
     },
     "metadata": {},
     "output_type": "display_data"
    },
    {
     "data": {
      "application/vnd.jupyter.widget-view+json": {
       "model_id": "df102860f2a84004bae4e18caceeebd6",
       "version_major": 2,
       "version_minor": 0
      },
      "text/plain": [
       "FloatProgress(value=0.0, layout=Layout(width='auto'), style=ProgressStyle(bar_color='black'))"
      ]
     },
     "metadata": {},
     "output_type": "display_data"
    },
    {
     "data": {
      "application/vnd.jupyter.widget-view+json": {
       "model_id": "90131024aedd4e90aa05a2ffac8a116f",
       "version_major": 2,
       "version_minor": 0
      },
      "text/plain": [
       "FloatProgress(value=0.0, layout=Layout(width='auto'), style=ProgressStyle(bar_color='black'))"
      ]
     },
     "metadata": {},
     "output_type": "display_data"
    },
    {
     "name": "stdout",
     "output_type": "stream",
     "text": [
      "Processing 10150 of 13782\n"
     ]
    },
    {
     "data": {
      "application/vnd.jupyter.widget-view+json": {
       "model_id": "dc588326bcf243f8a963d6ec358e4567",
       "version_major": 2,
       "version_minor": 0
      },
      "text/plain": [
       "FloatProgress(value=0.0, layout=Layout(width='auto'), style=ProgressStyle(bar_color='black'))"
      ]
     },
     "metadata": {},
     "output_type": "display_data"
    },
    {
     "name": "stdout",
     "output_type": "stream",
     "text": [
      "Processing 10200 of 13782\n"
     ]
    },
    {
     "data": {
      "application/vnd.jupyter.widget-view+json": {
       "model_id": "6867e01c7e364329b934f530cd1882a8",
       "version_major": 2,
       "version_minor": 0
      },
      "text/plain": [
       "FloatProgress(value=0.0, layout=Layout(width='auto'), style=ProgressStyle(bar_color='black'))"
      ]
     },
     "metadata": {},
     "output_type": "display_data"
    },
    {
     "data": {
      "application/vnd.jupyter.widget-view+json": {
       "model_id": "989bd398e7634295b8c830e5b15aca5f",
       "version_major": 2,
       "version_minor": 0
      },
      "text/plain": [
       "FloatProgress(value=0.0, layout=Layout(width='auto'), style=ProgressStyle(bar_color='black'))"
      ]
     },
     "metadata": {},
     "output_type": "display_data"
    },
    {
     "name": "stdout",
     "output_type": "stream",
     "text": [
      "Processing 10250 of 13782\n"
     ]
    },
    {
     "data": {
      "application/vnd.jupyter.widget-view+json": {
       "model_id": "c2fc0ac4a9ca4085ae3747d609319b3a",
       "version_major": 2,
       "version_minor": 0
      },
      "text/plain": [
       "FloatProgress(value=0.0, layout=Layout(width='auto'), style=ProgressStyle(bar_color='black'))"
      ]
     },
     "metadata": {},
     "output_type": "display_data"
    },
    {
     "name": "stdout",
     "output_type": "stream",
     "text": [
      "Processing 10300 of 13782\n"
     ]
    },
    {
     "data": {
      "application/vnd.jupyter.widget-view+json": {
       "model_id": "f1f67186b3cd49f594d75fe292d95fc5",
       "version_major": 2,
       "version_minor": 0
      },
      "text/plain": [
       "FloatProgress(value=0.0, layout=Layout(width='auto'), style=ProgressStyle(bar_color='black'))"
      ]
     },
     "metadata": {},
     "output_type": "display_data"
    },
    {
     "data": {
      "application/vnd.jupyter.widget-view+json": {
       "model_id": "7a7443459e564884906d8d105bb0315e",
       "version_major": 2,
       "version_minor": 0
      },
      "text/plain": [
       "FloatProgress(value=0.0, layout=Layout(width='auto'), style=ProgressStyle(bar_color='black'))"
      ]
     },
     "metadata": {},
     "output_type": "display_data"
    },
    {
     "name": "stdout",
     "output_type": "stream",
     "text": [
      "Processing 10350 of 13782\n"
     ]
    },
    {
     "data": {
      "application/vnd.jupyter.widget-view+json": {
       "model_id": "8740c526e56847f088ba4bfcba26f32b",
       "version_major": 2,
       "version_minor": 0
      },
      "text/plain": [
       "FloatProgress(value=0.0, layout=Layout(width='auto'), style=ProgressStyle(bar_color='black'))"
      ]
     },
     "metadata": {},
     "output_type": "display_data"
    },
    {
     "data": {
      "application/vnd.jupyter.widget-view+json": {
       "model_id": "2a3508eb68de49979f061e02ccc6eb98",
       "version_major": 2,
       "version_minor": 0
      },
      "text/plain": [
       "FloatProgress(value=0.0, layout=Layout(width='auto'), style=ProgressStyle(bar_color='black'))"
      ]
     },
     "metadata": {},
     "output_type": "display_data"
    },
    {
     "name": "stdout",
     "output_type": "stream",
     "text": [
      "Processing 10400 of 13782\n"
     ]
    },
    {
     "data": {
      "application/vnd.jupyter.widget-view+json": {
       "model_id": "e6d82cf3a7184dbb98d41b6fb5c632b8",
       "version_major": 2,
       "version_minor": 0
      },
      "text/plain": [
       "FloatProgress(value=0.0, layout=Layout(width='auto'), style=ProgressStyle(bar_color='black'))"
      ]
     },
     "metadata": {},
     "output_type": "display_data"
    },
    {
     "data": {
      "application/vnd.jupyter.widget-view+json": {
       "model_id": "5f6bdbf8589c4e369b4b8e7aabb3ea16",
       "version_major": 2,
       "version_minor": 0
      },
      "text/plain": [
       "FloatProgress(value=0.0, layout=Layout(width='auto'), style=ProgressStyle(bar_color='black'))"
      ]
     },
     "metadata": {},
     "output_type": "display_data"
    },
    {
     "name": "stdout",
     "output_type": "stream",
     "text": [
      "Processing 10450 of 13782\n"
     ]
    },
    {
     "data": {
      "application/vnd.jupyter.widget-view+json": {
       "model_id": "cd4c7aaec6e04e39a3af394a03e27504",
       "version_major": 2,
       "version_minor": 0
      },
      "text/plain": [
       "FloatProgress(value=0.0, layout=Layout(width='auto'), style=ProgressStyle(bar_color='black'))"
      ]
     },
     "metadata": {},
     "output_type": "display_data"
    },
    {
     "data": {
      "application/vnd.jupyter.widget-view+json": {
       "model_id": "759ebfbb051f4a56a263988fad016775",
       "version_major": 2,
       "version_minor": 0
      },
      "text/plain": [
       "FloatProgress(value=0.0, layout=Layout(width='auto'), style=ProgressStyle(bar_color='black'))"
      ]
     },
     "metadata": {},
     "output_type": "display_data"
    },
    {
     "name": "stdout",
     "output_type": "stream",
     "text": [
      "Processing 10500 of 13782\n"
     ]
    },
    {
     "data": {
      "application/vnd.jupyter.widget-view+json": {
       "model_id": "47b4bf089964409396cb8b100509b41b",
       "version_major": 2,
       "version_minor": 0
      },
      "text/plain": [
       "FloatProgress(value=0.0, layout=Layout(width='auto'), style=ProgressStyle(bar_color='black'))"
      ]
     },
     "metadata": {},
     "output_type": "display_data"
    },
    {
     "data": {
      "application/vnd.jupyter.widget-view+json": {
       "model_id": "7643626683364ac6a8c4da7064225e12",
       "version_major": 2,
       "version_minor": 0
      },
      "text/plain": [
       "FloatProgress(value=0.0, layout=Layout(width='auto'), style=ProgressStyle(bar_color='black'))"
      ]
     },
     "metadata": {},
     "output_type": "display_data"
    },
    {
     "data": {
      "application/vnd.jupyter.widget-view+json": {
       "model_id": "3ba8f8af591f4c5f8652fd9d6ac8e5f1",
       "version_major": 2,
       "version_minor": 0
      },
      "text/plain": [
       "FloatProgress(value=0.0, layout=Layout(width='auto'), style=ProgressStyle(bar_color='black'))"
      ]
     },
     "metadata": {},
     "output_type": "display_data"
    },
    {
     "name": "stdout",
     "output_type": "stream",
     "text": [
      "Processing 10550 of 13782\n"
     ]
    },
    {
     "data": {
      "application/vnd.jupyter.widget-view+json": {
       "model_id": "89c1d0446f384cb8bb6a3951797d77ed",
       "version_major": 2,
       "version_minor": 0
      },
      "text/plain": [
       "FloatProgress(value=0.0, layout=Layout(width='auto'), style=ProgressStyle(bar_color='black'))"
      ]
     },
     "metadata": {},
     "output_type": "display_data"
    },
    {
     "data": {
      "application/vnd.jupyter.widget-view+json": {
       "model_id": "80a7addb31eb4dd490f09be416654623",
       "version_major": 2,
       "version_minor": 0
      },
      "text/plain": [
       "FloatProgress(value=0.0, layout=Layout(width='auto'), style=ProgressStyle(bar_color='black'))"
      ]
     },
     "metadata": {},
     "output_type": "display_data"
    },
    {
     "data": {
      "application/vnd.jupyter.widget-view+json": {
       "model_id": "552362b5e97d420aafd8968d1766fbec",
       "version_major": 2,
       "version_minor": 0
      },
      "text/plain": [
       "FloatProgress(value=0.0, layout=Layout(width='auto'), style=ProgressStyle(bar_color='black'))"
      ]
     },
     "metadata": {},
     "output_type": "display_data"
    },
    {
     "data": {
      "application/vnd.jupyter.widget-view+json": {
       "model_id": "31d8ca20d5914236b5482b7359f7279f",
       "version_major": 2,
       "version_minor": 0
      },
      "text/plain": [
       "FloatProgress(value=0.0, layout=Layout(width='auto'), style=ProgressStyle(bar_color='black'))"
      ]
     },
     "metadata": {},
     "output_type": "display_data"
    },
    {
     "data": {
      "application/vnd.jupyter.widget-view+json": {
       "model_id": "810f377672484315a76d3d1d396df758",
       "version_major": 2,
       "version_minor": 0
      },
      "text/plain": [
       "FloatProgress(value=0.0, layout=Layout(width='auto'), style=ProgressStyle(bar_color='black'))"
      ]
     },
     "metadata": {},
     "output_type": "display_data"
    },
    {
     "data": {
      "application/vnd.jupyter.widget-view+json": {
       "model_id": "dc236f0db9fb47e78191eed3b8426c7c",
       "version_major": 2,
       "version_minor": 0
      },
      "text/plain": [
       "FloatProgress(value=0.0, layout=Layout(width='auto'), style=ProgressStyle(bar_color='black'))"
      ]
     },
     "metadata": {},
     "output_type": "display_data"
    },
    {
     "name": "stdout",
     "output_type": "stream",
     "text": [
      "Processing 10600 of 13782\n"
     ]
    },
    {
     "data": {
      "application/vnd.jupyter.widget-view+json": {
       "model_id": "471200bad75e45f08b088047d204d8ae",
       "version_major": 2,
       "version_minor": 0
      },
      "text/plain": [
       "FloatProgress(value=0.0, layout=Layout(width='auto'), style=ProgressStyle(bar_color='black'))"
      ]
     },
     "metadata": {},
     "output_type": "display_data"
    },
    {
     "name": "stdout",
     "output_type": "stream",
     "text": [
      "Processing 10650 of 13782\n"
     ]
    },
    {
     "data": {
      "application/vnd.jupyter.widget-view+json": {
       "model_id": "a816a1906ef246ac93d25ed27e34b88a",
       "version_major": 2,
       "version_minor": 0
      },
      "text/plain": [
       "FloatProgress(value=0.0, layout=Layout(width='auto'), style=ProgressStyle(bar_color='black'))"
      ]
     },
     "metadata": {},
     "output_type": "display_data"
    },
    {
     "data": {
      "application/vnd.jupyter.widget-view+json": {
       "model_id": "bbdcf89846c9468b82080b0babc86a4e",
       "version_major": 2,
       "version_minor": 0
      },
      "text/plain": [
       "FloatProgress(value=0.0, layout=Layout(width='auto'), style=ProgressStyle(bar_color='black'))"
      ]
     },
     "metadata": {},
     "output_type": "display_data"
    },
    {
     "data": {
      "application/vnd.jupyter.widget-view+json": {
       "model_id": "fd2b5cfd463b47c0beff6f6b5e72b84d",
       "version_major": 2,
       "version_minor": 0
      },
      "text/plain": [
       "FloatProgress(value=0.0, layout=Layout(width='auto'), style=ProgressStyle(bar_color='black'))"
      ]
     },
     "metadata": {},
     "output_type": "display_data"
    },
    {
     "data": {
      "application/vnd.jupyter.widget-view+json": {
       "model_id": "c48ace3402294b719331d781a983b796",
       "version_major": 2,
       "version_minor": 0
      },
      "text/plain": [
       "FloatProgress(value=0.0, layout=Layout(width='auto'), style=ProgressStyle(bar_color='black'))"
      ]
     },
     "metadata": {},
     "output_type": "display_data"
    },
    {
     "data": {
      "application/vnd.jupyter.widget-view+json": {
       "model_id": "3a904e931cab473186eebf6b7b570be0",
       "version_major": 2,
       "version_minor": 0
      },
      "text/plain": [
       "FloatProgress(value=0.0, layout=Layout(width='auto'), style=ProgressStyle(bar_color='black'))"
      ]
     },
     "metadata": {},
     "output_type": "display_data"
    },
    {
     "name": "stdout",
     "output_type": "stream",
     "text": [
      "Processing 10700 of 13782\n"
     ]
    },
    {
     "data": {
      "application/vnd.jupyter.widget-view+json": {
       "model_id": "a18a18ae73b24186b7c8c84b44283b71",
       "version_major": 2,
       "version_minor": 0
      },
      "text/plain": [
       "FloatProgress(value=0.0, layout=Layout(width='auto'), style=ProgressStyle(bar_color='black'))"
      ]
     },
     "metadata": {},
     "output_type": "display_data"
    },
    {
     "name": "stdout",
     "output_type": "stream",
     "text": [
      "Processing 10750 of 13782\n"
     ]
    },
    {
     "data": {
      "application/vnd.jupyter.widget-view+json": {
       "model_id": "4c7452f5732a44179a10c829b8289fb6",
       "version_major": 2,
       "version_minor": 0
      },
      "text/plain": [
       "FloatProgress(value=0.0, layout=Layout(width='auto'), style=ProgressStyle(bar_color='black'))"
      ]
     },
     "metadata": {},
     "output_type": "display_data"
    },
    {
     "data": {
      "application/vnd.jupyter.widget-view+json": {
       "model_id": "2269eb232db64618b1a720b11266bf90",
       "version_major": 2,
       "version_minor": 0
      },
      "text/plain": [
       "FloatProgress(value=0.0, layout=Layout(width='auto'), style=ProgressStyle(bar_color='black'))"
      ]
     },
     "metadata": {},
     "output_type": "display_data"
    },
    {
     "name": "stdout",
     "output_type": "stream",
     "text": [
      "Processing 10800 of 13782\n",
      "Processing 10850 of 13782\n"
     ]
    },
    {
     "data": {
      "application/vnd.jupyter.widget-view+json": {
       "model_id": "196bc149175f4611bc01e14ffc279ccd",
       "version_major": 2,
       "version_minor": 0
      },
      "text/plain": [
       "FloatProgress(value=0.0, layout=Layout(width='auto'), style=ProgressStyle(bar_color='black'))"
      ]
     },
     "metadata": {},
     "output_type": "display_data"
    },
    {
     "data": {
      "application/vnd.jupyter.widget-view+json": {
       "model_id": "282115891c144319a74a821e1d6ef12b",
       "version_major": 2,
       "version_minor": 0
      },
      "text/plain": [
       "FloatProgress(value=0.0, layout=Layout(width='auto'), style=ProgressStyle(bar_color='black'))"
      ]
     },
     "metadata": {},
     "output_type": "display_data"
    },
    {
     "data": {
      "application/vnd.jupyter.widget-view+json": {
       "model_id": "cbf3f44e422840639e02d4a7630f30af",
       "version_major": 2,
       "version_minor": 0
      },
      "text/plain": [
       "FloatProgress(value=0.0, layout=Layout(width='auto'), style=ProgressStyle(bar_color='black'))"
      ]
     },
     "metadata": {},
     "output_type": "display_data"
    },
    {
     "name": "stdout",
     "output_type": "stream",
     "text": [
      "Processing 10900 of 13782\n"
     ]
    },
    {
     "data": {
      "application/vnd.jupyter.widget-view+json": {
       "model_id": "4856f4f11da04ce98721009495b8f5a6",
       "version_major": 2,
       "version_minor": 0
      },
      "text/plain": [
       "FloatProgress(value=0.0, layout=Layout(width='auto'), style=ProgressStyle(bar_color='black'))"
      ]
     },
     "metadata": {},
     "output_type": "display_data"
    },
    {
     "name": "stdout",
     "output_type": "stream",
     "text": [
      "Processing 10950 of 13782\n"
     ]
    },
    {
     "data": {
      "application/vnd.jupyter.widget-view+json": {
       "model_id": "da66c5c4601546caab5fc82a5b9fbf2c",
       "version_major": 2,
       "version_minor": 0
      },
      "text/plain": [
       "FloatProgress(value=0.0, layout=Layout(width='auto'), style=ProgressStyle(bar_color='black'))"
      ]
     },
     "metadata": {},
     "output_type": "display_data"
    },
    {
     "data": {
      "application/vnd.jupyter.widget-view+json": {
       "model_id": "2fa00f6afdbd44b6b254d437c096c64c",
       "version_major": 2,
       "version_minor": 0
      },
      "text/plain": [
       "FloatProgress(value=0.0, layout=Layout(width='auto'), style=ProgressStyle(bar_color='black'))"
      ]
     },
     "metadata": {},
     "output_type": "display_data"
    },
    {
     "data": {
      "application/vnd.jupyter.widget-view+json": {
       "model_id": "21bcf9893f9f494a9307815a473f4334",
       "version_major": 2,
       "version_minor": 0
      },
      "text/plain": [
       "FloatProgress(value=0.0, layout=Layout(width='auto'), style=ProgressStyle(bar_color='black'))"
      ]
     },
     "metadata": {},
     "output_type": "display_data"
    },
    {
     "data": {
      "application/vnd.jupyter.widget-view+json": {
       "model_id": "8b1eb1c0da874ebdae4e53cbda1f85dd",
       "version_major": 2,
       "version_minor": 0
      },
      "text/plain": [
       "FloatProgress(value=0.0, layout=Layout(width='auto'), style=ProgressStyle(bar_color='black'))"
      ]
     },
     "metadata": {},
     "output_type": "display_data"
    },
    {
     "name": "stdout",
     "output_type": "stream",
     "text": [
      "Processing 11000 of 13782\n",
      "Processing 11050 of 13782\n"
     ]
    },
    {
     "data": {
      "application/vnd.jupyter.widget-view+json": {
       "model_id": "62d02b9dce2f4a8a8e979d3727d7aac4",
       "version_major": 2,
       "version_minor": 0
      },
      "text/plain": [
       "FloatProgress(value=0.0, layout=Layout(width='auto'), style=ProgressStyle(bar_color='black'))"
      ]
     },
     "metadata": {},
     "output_type": "display_data"
    },
    {
     "data": {
      "application/vnd.jupyter.widget-view+json": {
       "model_id": "a177359db3b446c6b96bbe089838b086",
       "version_major": 2,
       "version_minor": 0
      },
      "text/plain": [
       "FloatProgress(value=0.0, layout=Layout(width='auto'), style=ProgressStyle(bar_color='black'))"
      ]
     },
     "metadata": {},
     "output_type": "display_data"
    },
    {
     "data": {
      "application/vnd.jupyter.widget-view+json": {
       "model_id": "bc9b672f9de74f5d89d1b0197e05b86c",
       "version_major": 2,
       "version_minor": 0
      },
      "text/plain": [
       "FloatProgress(value=0.0, layout=Layout(width='auto'), style=ProgressStyle(bar_color='black'))"
      ]
     },
     "metadata": {},
     "output_type": "display_data"
    },
    {
     "data": {
      "application/vnd.jupyter.widget-view+json": {
       "model_id": "6ad946c5a4fb451097dbfbacadc06386",
       "version_major": 2,
       "version_minor": 0
      },
      "text/plain": [
       "FloatProgress(value=0.0, layout=Layout(width='auto'), style=ProgressStyle(bar_color='black'))"
      ]
     },
     "metadata": {},
     "output_type": "display_data"
    },
    {
     "name": "stdout",
     "output_type": "stream",
     "text": [
      "Processing 11100 of 13782\n"
     ]
    },
    {
     "data": {
      "application/vnd.jupyter.widget-view+json": {
       "model_id": "4f15b1ac5ac640e382c806fb20fc5738",
       "version_major": 2,
       "version_minor": 0
      },
      "text/plain": [
       "FloatProgress(value=0.0, layout=Layout(width='auto'), style=ProgressStyle(bar_color='black'))"
      ]
     },
     "metadata": {},
     "output_type": "display_data"
    },
    {
     "data": {
      "application/vnd.jupyter.widget-view+json": {
       "model_id": "f627af24627646b6825f437b9fedf65f",
       "version_major": 2,
       "version_minor": 0
      },
      "text/plain": [
       "FloatProgress(value=0.0, layout=Layout(width='auto'), style=ProgressStyle(bar_color='black'))"
      ]
     },
     "metadata": {},
     "output_type": "display_data"
    },
    {
     "name": "stdout",
     "output_type": "stream",
     "text": [
      "Processing 11150 of 13782\n"
     ]
    },
    {
     "data": {
      "application/vnd.jupyter.widget-view+json": {
       "model_id": "9f28844841414deeba5c2a8e8f427164",
       "version_major": 2,
       "version_minor": 0
      },
      "text/plain": [
       "FloatProgress(value=0.0, layout=Layout(width='auto'), style=ProgressStyle(bar_color='black'))"
      ]
     },
     "metadata": {},
     "output_type": "display_data"
    },
    {
     "data": {
      "application/vnd.jupyter.widget-view+json": {
       "model_id": "6d889248dc554dfdad52020d97d897b8",
       "version_major": 2,
       "version_minor": 0
      },
      "text/plain": [
       "FloatProgress(value=0.0, layout=Layout(width='auto'), style=ProgressStyle(bar_color='black'))"
      ]
     },
     "metadata": {},
     "output_type": "display_data"
    },
    {
     "data": {
      "application/vnd.jupyter.widget-view+json": {
       "model_id": "c56e0c583f734630afe9a74883b61c42",
       "version_major": 2,
       "version_minor": 0
      },
      "text/plain": [
       "FloatProgress(value=0.0, layout=Layout(width='auto'), style=ProgressStyle(bar_color='black'))"
      ]
     },
     "metadata": {},
     "output_type": "display_data"
    },
    {
     "data": {
      "application/vnd.jupyter.widget-view+json": {
       "model_id": "4ecec0f6d24e41f6b80fe32a7f27f346",
       "version_major": 2,
       "version_minor": 0
      },
      "text/plain": [
       "FloatProgress(value=0.0, layout=Layout(width='auto'), style=ProgressStyle(bar_color='black'))"
      ]
     },
     "metadata": {},
     "output_type": "display_data"
    },
    {
     "data": {
      "application/vnd.jupyter.widget-view+json": {
       "model_id": "9d949342cd56498a9165729b1cbc8320",
       "version_major": 2,
       "version_minor": 0
      },
      "text/plain": [
       "FloatProgress(value=0.0, layout=Layout(width='auto'), style=ProgressStyle(bar_color='black'))"
      ]
     },
     "metadata": {},
     "output_type": "display_data"
    },
    {
     "name": "stdout",
     "output_type": "stream",
     "text": [
      "Processing 11200 of 13782\n"
     ]
    },
    {
     "data": {
      "application/vnd.jupyter.widget-view+json": {
       "model_id": "a2622f3fe1cd4b30a72a4ba43f0b0e15",
       "version_major": 2,
       "version_minor": 0
      },
      "text/plain": [
       "FloatProgress(value=0.0, layout=Layout(width='auto'), style=ProgressStyle(bar_color='black'))"
      ]
     },
     "metadata": {},
     "output_type": "display_data"
    },
    {
     "data": {
      "application/vnd.jupyter.widget-view+json": {
       "model_id": "0248724578584440ba35ffba4b1a4dbb",
       "version_major": 2,
       "version_minor": 0
      },
      "text/plain": [
       "FloatProgress(value=0.0, layout=Layout(width='auto'), style=ProgressStyle(bar_color='black'))"
      ]
     },
     "metadata": {},
     "output_type": "display_data"
    },
    {
     "data": {
      "application/vnd.jupyter.widget-view+json": {
       "model_id": "2b354926632f42a49514905fda026df6",
       "version_major": 2,
       "version_minor": 0
      },
      "text/plain": [
       "FloatProgress(value=0.0, layout=Layout(width='auto'), style=ProgressStyle(bar_color='black'))"
      ]
     },
     "metadata": {},
     "output_type": "display_data"
    },
    {
     "data": {
      "application/vnd.jupyter.widget-view+json": {
       "model_id": "0ce72b9653b346e5b52a775e8c589ee2",
       "version_major": 2,
       "version_minor": 0
      },
      "text/plain": [
       "FloatProgress(value=0.0, layout=Layout(width='auto'), style=ProgressStyle(bar_color='black'))"
      ]
     },
     "metadata": {},
     "output_type": "display_data"
    },
    {
     "data": {
      "application/vnd.jupyter.widget-view+json": {
       "model_id": "34342ad4f8e34fdf977a44303468a824",
       "version_major": 2,
       "version_minor": 0
      },
      "text/plain": [
       "FloatProgress(value=0.0, layout=Layout(width='auto'), style=ProgressStyle(bar_color='black'))"
      ]
     },
     "metadata": {},
     "output_type": "display_data"
    },
    {
     "name": "stdout",
     "output_type": "stream",
     "text": [
      "Processing 11250 of 13782\n"
     ]
    },
    {
     "data": {
      "application/vnd.jupyter.widget-view+json": {
       "model_id": "61cd5854b614438880dee1871b60f6c9",
       "version_major": 2,
       "version_minor": 0
      },
      "text/plain": [
       "FloatProgress(value=0.0, layout=Layout(width='auto'), style=ProgressStyle(bar_color='black'))"
      ]
     },
     "metadata": {},
     "output_type": "display_data"
    },
    {
     "data": {
      "application/vnd.jupyter.widget-view+json": {
       "model_id": "c5401790af514925bcbde3069cec3fb4",
       "version_major": 2,
       "version_minor": 0
      },
      "text/plain": [
       "FloatProgress(value=0.0, layout=Layout(width='auto'), style=ProgressStyle(bar_color='black'))"
      ]
     },
     "metadata": {},
     "output_type": "display_data"
    },
    {
     "data": {
      "application/vnd.jupyter.widget-view+json": {
       "model_id": "c25cf55413cf48429bc6989345bf3327",
       "version_major": 2,
       "version_minor": 0
      },
      "text/plain": [
       "FloatProgress(value=0.0, layout=Layout(width='auto'), style=ProgressStyle(bar_color='black'))"
      ]
     },
     "metadata": {},
     "output_type": "display_data"
    },
    {
     "name": "stdout",
     "output_type": "stream",
     "text": [
      "Processing 11300 of 13782\n"
     ]
    },
    {
     "data": {
      "application/vnd.jupyter.widget-view+json": {
       "model_id": "196887058dd2451ba755daf1e31e1905",
       "version_major": 2,
       "version_minor": 0
      },
      "text/plain": [
       "FloatProgress(value=0.0, layout=Layout(width='auto'), style=ProgressStyle(bar_color='black'))"
      ]
     },
     "metadata": {},
     "output_type": "display_data"
    },
    {
     "data": {
      "application/vnd.jupyter.widget-view+json": {
       "model_id": "b061733496b54e6fa07c0e5109febed9",
       "version_major": 2,
       "version_minor": 0
      },
      "text/plain": [
       "FloatProgress(value=0.0, layout=Layout(width='auto'), style=ProgressStyle(bar_color='black'))"
      ]
     },
     "metadata": {},
     "output_type": "display_data"
    },
    {
     "data": {
      "application/vnd.jupyter.widget-view+json": {
       "model_id": "0744f650227a469ca8dc4576aebb054d",
       "version_major": 2,
       "version_minor": 0
      },
      "text/plain": [
       "FloatProgress(value=0.0, layout=Layout(width='auto'), style=ProgressStyle(bar_color='black'))"
      ]
     },
     "metadata": {},
     "output_type": "display_data"
    },
    {
     "data": {
      "application/vnd.jupyter.widget-view+json": {
       "model_id": "7f52d7b84628471fb8834d582d4bbb0d",
       "version_major": 2,
       "version_minor": 0
      },
      "text/plain": [
       "FloatProgress(value=0.0, layout=Layout(width='auto'), style=ProgressStyle(bar_color='black'))"
      ]
     },
     "metadata": {},
     "output_type": "display_data"
    },
    {
     "name": "stdout",
     "output_type": "stream",
     "text": [
      "Processing 11350 of 13782\n"
     ]
    },
    {
     "data": {
      "application/vnd.jupyter.widget-view+json": {
       "model_id": "09c3457651d34f9b939a106ce4afacb7",
       "version_major": 2,
       "version_minor": 0
      },
      "text/plain": [
       "FloatProgress(value=0.0, layout=Layout(width='auto'), style=ProgressStyle(bar_color='black'))"
      ]
     },
     "metadata": {},
     "output_type": "display_data"
    },
    {
     "data": {
      "application/vnd.jupyter.widget-view+json": {
       "model_id": "bfab5a743c794c8e9055740274066173",
       "version_major": 2,
       "version_minor": 0
      },
      "text/plain": [
       "FloatProgress(value=0.0, layout=Layout(width='auto'), style=ProgressStyle(bar_color='black'))"
      ]
     },
     "metadata": {},
     "output_type": "display_data"
    },
    {
     "name": "stdout",
     "output_type": "stream",
     "text": [
      "Processing 11400 of 13782\n"
     ]
    },
    {
     "data": {
      "application/vnd.jupyter.widget-view+json": {
       "model_id": "d164a1981c584a90b2732d0637e3e365",
       "version_major": 2,
       "version_minor": 0
      },
      "text/plain": [
       "FloatProgress(value=0.0, layout=Layout(width='auto'), style=ProgressStyle(bar_color='black'))"
      ]
     },
     "metadata": {},
     "output_type": "display_data"
    },
    {
     "data": {
      "application/vnd.jupyter.widget-view+json": {
       "model_id": "40316d34ae374a219963734283fa3a7f",
       "version_major": 2,
       "version_minor": 0
      },
      "text/plain": [
       "FloatProgress(value=0.0, layout=Layout(width='auto'), style=ProgressStyle(bar_color='black'))"
      ]
     },
     "metadata": {},
     "output_type": "display_data"
    },
    {
     "data": {
      "application/vnd.jupyter.widget-view+json": {
       "model_id": "a0f54559475c44e498164e19f1545f15",
       "version_major": 2,
       "version_minor": 0
      },
      "text/plain": [
       "FloatProgress(value=0.0, layout=Layout(width='auto'), style=ProgressStyle(bar_color='black'))"
      ]
     },
     "metadata": {},
     "output_type": "display_data"
    },
    {
     "name": "stdout",
     "output_type": "stream",
     "text": [
      "Processing 11450 of 13782\n"
     ]
    },
    {
     "data": {
      "application/vnd.jupyter.widget-view+json": {
       "model_id": "ac31891cf4824e3a9eaf73f65e55609c",
       "version_major": 2,
       "version_minor": 0
      },
      "text/plain": [
       "FloatProgress(value=0.0, layout=Layout(width='auto'), style=ProgressStyle(bar_color='black'))"
      ]
     },
     "metadata": {},
     "output_type": "display_data"
    },
    {
     "data": {
      "application/vnd.jupyter.widget-view+json": {
       "model_id": "8369d0bb7b0843a4a10ca7dceab2e08b",
       "version_major": 2,
       "version_minor": 0
      },
      "text/plain": [
       "FloatProgress(value=0.0, layout=Layout(width='auto'), style=ProgressStyle(bar_color='black'))"
      ]
     },
     "metadata": {},
     "output_type": "display_data"
    },
    {
     "data": {
      "application/vnd.jupyter.widget-view+json": {
       "model_id": "4aab4dd7d98e4f59a6de7de0d3f8e084",
       "version_major": 2,
       "version_minor": 0
      },
      "text/plain": [
       "FloatProgress(value=0.0, layout=Layout(width='auto'), style=ProgressStyle(bar_color='black'))"
      ]
     },
     "metadata": {},
     "output_type": "display_data"
    },
    {
     "name": "stdout",
     "output_type": "stream",
     "text": [
      "Processing 11500 of 13782\n"
     ]
    },
    {
     "data": {
      "application/vnd.jupyter.widget-view+json": {
       "model_id": "ca75ef09654c4c28bb801b5a10969782",
       "version_major": 2,
       "version_minor": 0
      },
      "text/plain": [
       "FloatProgress(value=0.0, layout=Layout(width='auto'), style=ProgressStyle(bar_color='black'))"
      ]
     },
     "metadata": {},
     "output_type": "display_data"
    },
    {
     "name": "stdout",
     "output_type": "stream",
     "text": [
      "Processing 11550 of 13782\n"
     ]
    },
    {
     "data": {
      "application/vnd.jupyter.widget-view+json": {
       "model_id": "0ef62db088634c3f91cc5988388a151e",
       "version_major": 2,
       "version_minor": 0
      },
      "text/plain": [
       "FloatProgress(value=0.0, layout=Layout(width='auto'), style=ProgressStyle(bar_color='black'))"
      ]
     },
     "metadata": {},
     "output_type": "display_data"
    },
    {
     "data": {
      "application/vnd.jupyter.widget-view+json": {
       "model_id": "fc5cd26bef994c6b9add018b6e2e7964",
       "version_major": 2,
       "version_minor": 0
      },
      "text/plain": [
       "FloatProgress(value=0.0, layout=Layout(width='auto'), style=ProgressStyle(bar_color='black'))"
      ]
     },
     "metadata": {},
     "output_type": "display_data"
    },
    {
     "data": {
      "application/vnd.jupyter.widget-view+json": {
       "model_id": "e18ef215c3ae4eb69e0564fe62f7ffbc",
       "version_major": 2,
       "version_minor": 0
      },
      "text/plain": [
       "FloatProgress(value=0.0, layout=Layout(width='auto'), style=ProgressStyle(bar_color='black'))"
      ]
     },
     "metadata": {},
     "output_type": "display_data"
    },
    {
     "data": {
      "application/vnd.jupyter.widget-view+json": {
       "model_id": "fe086fa5034848d3947a88c56d9b83fb",
       "version_major": 2,
       "version_minor": 0
      },
      "text/plain": [
       "FloatProgress(value=0.0, layout=Layout(width='auto'), style=ProgressStyle(bar_color='black'))"
      ]
     },
     "metadata": {},
     "output_type": "display_data"
    },
    {
     "data": {
      "application/vnd.jupyter.widget-view+json": {
       "model_id": "e082feea85f54792a3becbbc0bcede36",
       "version_major": 2,
       "version_minor": 0
      },
      "text/plain": [
       "FloatProgress(value=0.0, layout=Layout(width='auto'), style=ProgressStyle(bar_color='black'))"
      ]
     },
     "metadata": {},
     "output_type": "display_data"
    },
    {
     "data": {
      "application/vnd.jupyter.widget-view+json": {
       "model_id": "3ea84b1bff9c48bab952aea03aa7eb5d",
       "version_major": 2,
       "version_minor": 0
      },
      "text/plain": [
       "FloatProgress(value=0.0, layout=Layout(width='auto'), style=ProgressStyle(bar_color='black'))"
      ]
     },
     "metadata": {},
     "output_type": "display_data"
    },
    {
     "name": "stdout",
     "output_type": "stream",
     "text": [
      "Processing 11600 of 13782\n"
     ]
    },
    {
     "data": {
      "application/vnd.jupyter.widget-view+json": {
       "model_id": "d58c747ef66345caaf41f49739451a7f",
       "version_major": 2,
       "version_minor": 0
      },
      "text/plain": [
       "FloatProgress(value=0.0, layout=Layout(width='auto'), style=ProgressStyle(bar_color='black'))"
      ]
     },
     "metadata": {},
     "output_type": "display_data"
    },
    {
     "data": {
      "application/vnd.jupyter.widget-view+json": {
       "model_id": "765221c60f684b0abe942c6567caca98",
       "version_major": 2,
       "version_minor": 0
      },
      "text/plain": [
       "FloatProgress(value=0.0, layout=Layout(width='auto'), style=ProgressStyle(bar_color='black'))"
      ]
     },
     "metadata": {},
     "output_type": "display_data"
    },
    {
     "name": "stdout",
     "output_type": "stream",
     "text": [
      "Processing 11650 of 13782\n",
      "Processing 11700 of 13782\n"
     ]
    },
    {
     "data": {
      "application/vnd.jupyter.widget-view+json": {
       "model_id": "f3ac4d20f4494ba4a6a69a1a61140377",
       "version_major": 2,
       "version_minor": 0
      },
      "text/plain": [
       "FloatProgress(value=0.0, layout=Layout(width='auto'), style=ProgressStyle(bar_color='black'))"
      ]
     },
     "metadata": {},
     "output_type": "display_data"
    },
    {
     "data": {
      "application/vnd.jupyter.widget-view+json": {
       "model_id": "0d743392b43140b0af3fea1b11f2fd13",
       "version_major": 2,
       "version_minor": 0
      },
      "text/plain": [
       "FloatProgress(value=0.0, layout=Layout(width='auto'), style=ProgressStyle(bar_color='black'))"
      ]
     },
     "metadata": {},
     "output_type": "display_data"
    },
    {
     "data": {
      "application/vnd.jupyter.widget-view+json": {
       "model_id": "121b570b20f1452b96de1bf2b6f7a6da",
       "version_major": 2,
       "version_minor": 0
      },
      "text/plain": [
       "FloatProgress(value=0.0, layout=Layout(width='auto'), style=ProgressStyle(bar_color='black'))"
      ]
     },
     "metadata": {},
     "output_type": "display_data"
    },
    {
     "data": {
      "application/vnd.jupyter.widget-view+json": {
       "model_id": "2c00ee9df61e489d835ca5df425943c5",
       "version_major": 2,
       "version_minor": 0
      },
      "text/plain": [
       "FloatProgress(value=0.0, layout=Layout(width='auto'), style=ProgressStyle(bar_color='black'))"
      ]
     },
     "metadata": {},
     "output_type": "display_data"
    },
    {
     "name": "stdout",
     "output_type": "stream",
     "text": [
      "Processing 11750 of 13782\n"
     ]
    },
    {
     "data": {
      "application/vnd.jupyter.widget-view+json": {
       "model_id": "956371dff4434d8b9db9b34dba0d4877",
       "version_major": 2,
       "version_minor": 0
      },
      "text/plain": [
       "FloatProgress(value=0.0, layout=Layout(width='auto'), style=ProgressStyle(bar_color='black'))"
      ]
     },
     "metadata": {},
     "output_type": "display_data"
    },
    {
     "data": {
      "application/vnd.jupyter.widget-view+json": {
       "model_id": "983195bb795249dfb194f3e4375d1ccd",
       "version_major": 2,
       "version_minor": 0
      },
      "text/plain": [
       "FloatProgress(value=0.0, layout=Layout(width='auto'), style=ProgressStyle(bar_color='black'))"
      ]
     },
     "metadata": {},
     "output_type": "display_data"
    },
    {
     "data": {
      "application/vnd.jupyter.widget-view+json": {
       "model_id": "e8ccf8b7ebb74c24ae5fc69e6f0a0aa4",
       "version_major": 2,
       "version_minor": 0
      },
      "text/plain": [
       "FloatProgress(value=0.0, layout=Layout(width='auto'), style=ProgressStyle(bar_color='black'))"
      ]
     },
     "metadata": {},
     "output_type": "display_data"
    },
    {
     "name": "stdout",
     "output_type": "stream",
     "text": [
      "Processing 11800 of 13782\n"
     ]
    },
    {
     "data": {
      "application/vnd.jupyter.widget-view+json": {
       "model_id": "74ca99b51c104025a688165292f0c0ab",
       "version_major": 2,
       "version_minor": 0
      },
      "text/plain": [
       "FloatProgress(value=0.0, layout=Layout(width='auto'), style=ProgressStyle(bar_color='black'))"
      ]
     },
     "metadata": {},
     "output_type": "display_data"
    },
    {
     "data": {
      "application/vnd.jupyter.widget-view+json": {
       "model_id": "5d9955495dca4bc29809fee0386e0f5e",
       "version_major": 2,
       "version_minor": 0
      },
      "text/plain": [
       "FloatProgress(value=0.0, layout=Layout(width='auto'), style=ProgressStyle(bar_color='black'))"
      ]
     },
     "metadata": {},
     "output_type": "display_data"
    },
    {
     "name": "stdout",
     "output_type": "stream",
     "text": [
      "Processing 11850 of 13782\n"
     ]
    },
    {
     "data": {
      "application/vnd.jupyter.widget-view+json": {
       "model_id": "f933fefbedfc422fa900d0f2abd91373",
       "version_major": 2,
       "version_minor": 0
      },
      "text/plain": [
       "FloatProgress(value=0.0, layout=Layout(width='auto'), style=ProgressStyle(bar_color='black'))"
      ]
     },
     "metadata": {},
     "output_type": "display_data"
    },
    {
     "data": {
      "application/vnd.jupyter.widget-view+json": {
       "model_id": "8af9be777bef45048d1c6e996b6abb95",
       "version_major": 2,
       "version_minor": 0
      },
      "text/plain": [
       "FloatProgress(value=0.0, layout=Layout(width='auto'), style=ProgressStyle(bar_color='black'))"
      ]
     },
     "metadata": {},
     "output_type": "display_data"
    },
    {
     "data": {
      "application/vnd.jupyter.widget-view+json": {
       "model_id": "b94379b4421548cba8b5b8c0cb415c7b",
       "version_major": 2,
       "version_minor": 0
      },
      "text/plain": [
       "FloatProgress(value=0.0, layout=Layout(width='auto'), style=ProgressStyle(bar_color='black'))"
      ]
     },
     "metadata": {},
     "output_type": "display_data"
    },
    {
     "name": "stdout",
     "output_type": "stream",
     "text": [
      "Processing 11900 of 13782\n"
     ]
    },
    {
     "data": {
      "application/vnd.jupyter.widget-view+json": {
       "model_id": "2527053854534c47b264f0ce40256006",
       "version_major": 2,
       "version_minor": 0
      },
      "text/plain": [
       "FloatProgress(value=0.0, layout=Layout(width='auto'), style=ProgressStyle(bar_color='black'))"
      ]
     },
     "metadata": {},
     "output_type": "display_data"
    },
    {
     "data": {
      "application/vnd.jupyter.widget-view+json": {
       "model_id": "077424c2032b4b799a187bfb28650f7e",
       "version_major": 2,
       "version_minor": 0
      },
      "text/plain": [
       "FloatProgress(value=0.0, layout=Layout(width='auto'), style=ProgressStyle(bar_color='black'))"
      ]
     },
     "metadata": {},
     "output_type": "display_data"
    },
    {
     "data": {
      "application/vnd.jupyter.widget-view+json": {
       "model_id": "6441de117a7a4f658ad0aa886937e45a",
       "version_major": 2,
       "version_minor": 0
      },
      "text/plain": [
       "FloatProgress(value=0.0, layout=Layout(width='auto'), style=ProgressStyle(bar_color='black'))"
      ]
     },
     "metadata": {},
     "output_type": "display_data"
    },
    {
     "name": "stdout",
     "output_type": "stream",
     "text": [
      "Processing 11950 of 13782\n"
     ]
    },
    {
     "data": {
      "application/vnd.jupyter.widget-view+json": {
       "model_id": "9666fcd65831415196041ae581fe4872",
       "version_major": 2,
       "version_minor": 0
      },
      "text/plain": [
       "FloatProgress(value=0.0, layout=Layout(width='auto'), style=ProgressStyle(bar_color='black'))"
      ]
     },
     "metadata": {},
     "output_type": "display_data"
    },
    {
     "data": {
      "application/vnd.jupyter.widget-view+json": {
       "model_id": "d7610c45dd2c45f6af614ea406793022",
       "version_major": 2,
       "version_minor": 0
      },
      "text/plain": [
       "FloatProgress(value=0.0, layout=Layout(width='auto'), style=ProgressStyle(bar_color='black'))"
      ]
     },
     "metadata": {},
     "output_type": "display_data"
    },
    {
     "data": {
      "application/vnd.jupyter.widget-view+json": {
       "model_id": "894f81d049b54dfd8fe16903ac1fca0e",
       "version_major": 2,
       "version_minor": 0
      },
      "text/plain": [
       "FloatProgress(value=0.0, layout=Layout(width='auto'), style=ProgressStyle(bar_color='black'))"
      ]
     },
     "metadata": {},
     "output_type": "display_data"
    },
    {
     "data": {
      "application/vnd.jupyter.widget-view+json": {
       "model_id": "0d1d12704fb9463d8cb26772d26148b3",
       "version_major": 2,
       "version_minor": 0
      },
      "text/plain": [
       "FloatProgress(value=0.0, layout=Layout(width='auto'), style=ProgressStyle(bar_color='black'))"
      ]
     },
     "metadata": {},
     "output_type": "display_data"
    },
    {
     "name": "stdout",
     "output_type": "stream",
     "text": [
      "Processing 12000 of 13782\n"
     ]
    },
    {
     "data": {
      "application/vnd.jupyter.widget-view+json": {
       "model_id": "86228b61d094467ca473d1d7700cf178",
       "version_major": 2,
       "version_minor": 0
      },
      "text/plain": [
       "FloatProgress(value=0.0, layout=Layout(width='auto'), style=ProgressStyle(bar_color='black'))"
      ]
     },
     "metadata": {},
     "output_type": "display_data"
    },
    {
     "data": {
      "application/vnd.jupyter.widget-view+json": {
       "model_id": "e7466628a9974af78a09418eeface231",
       "version_major": 2,
       "version_minor": 0
      },
      "text/plain": [
       "FloatProgress(value=0.0, layout=Layout(width='auto'), style=ProgressStyle(bar_color='black'))"
      ]
     },
     "metadata": {},
     "output_type": "display_data"
    },
    {
     "data": {
      "application/vnd.jupyter.widget-view+json": {
       "model_id": "7fd2f26d2136444fa2f30f8725eb83f5",
       "version_major": 2,
       "version_minor": 0
      },
      "text/plain": [
       "FloatProgress(value=0.0, layout=Layout(width='auto'), style=ProgressStyle(bar_color='black'))"
      ]
     },
     "metadata": {},
     "output_type": "display_data"
    },
    {
     "name": "stdout",
     "output_type": "stream",
     "text": [
      "Processing 12050 of 13782\n"
     ]
    },
    {
     "data": {
      "application/vnd.jupyter.widget-view+json": {
       "model_id": "1efd5a94044e464d85a63c57954db5e2",
       "version_major": 2,
       "version_minor": 0
      },
      "text/plain": [
       "FloatProgress(value=0.0, layout=Layout(width='auto'), style=ProgressStyle(bar_color='black'))"
      ]
     },
     "metadata": {},
     "output_type": "display_data"
    },
    {
     "data": {
      "application/vnd.jupyter.widget-view+json": {
       "model_id": "af17324df1214f8ba3e491fe2cb4da36",
       "version_major": 2,
       "version_minor": 0
      },
      "text/plain": [
       "FloatProgress(value=0.0, layout=Layout(width='auto'), style=ProgressStyle(bar_color='black'))"
      ]
     },
     "metadata": {},
     "output_type": "display_data"
    },
    {
     "name": "stdout",
     "output_type": "stream",
     "text": [
      "Processing 12100 of 13782\n"
     ]
    },
    {
     "data": {
      "application/vnd.jupyter.widget-view+json": {
       "model_id": "07c96ca78dba4a2cb3bafb16fe88ac78",
       "version_major": 2,
       "version_minor": 0
      },
      "text/plain": [
       "FloatProgress(value=0.0, layout=Layout(width='auto'), style=ProgressStyle(bar_color='black'))"
      ]
     },
     "metadata": {},
     "output_type": "display_data"
    },
    {
     "data": {
      "application/vnd.jupyter.widget-view+json": {
       "model_id": "6dfdf5972490481d894bfe0db5c8a1dd",
       "version_major": 2,
       "version_minor": 0
      },
      "text/plain": [
       "FloatProgress(value=0.0, layout=Layout(width='auto'), style=ProgressStyle(bar_color='black'))"
      ]
     },
     "metadata": {},
     "output_type": "display_data"
    },
    {
     "data": {
      "application/vnd.jupyter.widget-view+json": {
       "model_id": "e38782ca75b5437c8c9e375273999b47",
       "version_major": 2,
       "version_minor": 0
      },
      "text/plain": [
       "FloatProgress(value=0.0, layout=Layout(width='auto'), style=ProgressStyle(bar_color='black'))"
      ]
     },
     "metadata": {},
     "output_type": "display_data"
    },
    {
     "name": "stdout",
     "output_type": "stream",
     "text": [
      "Processing 12150 of 13782\n"
     ]
    },
    {
     "data": {
      "application/vnd.jupyter.widget-view+json": {
       "model_id": "205dca456ab8437a95c1c78bd06ee786",
       "version_major": 2,
       "version_minor": 0
      },
      "text/plain": [
       "FloatProgress(value=0.0, layout=Layout(width='auto'), style=ProgressStyle(bar_color='black'))"
      ]
     },
     "metadata": {},
     "output_type": "display_data"
    },
    {
     "data": {
      "application/vnd.jupyter.widget-view+json": {
       "model_id": "a745b90aa320425280a25f58b83be229",
       "version_major": 2,
       "version_minor": 0
      },
      "text/plain": [
       "FloatProgress(value=0.0, layout=Layout(width='auto'), style=ProgressStyle(bar_color='black'))"
      ]
     },
     "metadata": {},
     "output_type": "display_data"
    },
    {
     "data": {
      "application/vnd.jupyter.widget-view+json": {
       "model_id": "cec6bdc1cffa4cdc946095434bceba51",
       "version_major": 2,
       "version_minor": 0
      },
      "text/plain": [
       "FloatProgress(value=0.0, layout=Layout(width='auto'), style=ProgressStyle(bar_color='black'))"
      ]
     },
     "metadata": {},
     "output_type": "display_data"
    },
    {
     "data": {
      "application/vnd.jupyter.widget-view+json": {
       "model_id": "3c892837b7d1410bbffad9d9ee4dfc23",
       "version_major": 2,
       "version_minor": 0
      },
      "text/plain": [
       "FloatProgress(value=0.0, layout=Layout(width='auto'), style=ProgressStyle(bar_color='black'))"
      ]
     },
     "metadata": {},
     "output_type": "display_data"
    },
    {
     "data": {
      "application/vnd.jupyter.widget-view+json": {
       "model_id": "8f10432390904c5ba0e2cf7acf3f5bf2",
       "version_major": 2,
       "version_minor": 0
      },
      "text/plain": [
       "FloatProgress(value=0.0, layout=Layout(width='auto'), style=ProgressStyle(bar_color='black'))"
      ]
     },
     "metadata": {},
     "output_type": "display_data"
    },
    {
     "name": "stdout",
     "output_type": "stream",
     "text": [
      "Processing 12200 of 13782\n"
     ]
    },
    {
     "data": {
      "application/vnd.jupyter.widget-view+json": {
       "model_id": "554694886ace4639ba83ce3ea2433887",
       "version_major": 2,
       "version_minor": 0
      },
      "text/plain": [
       "FloatProgress(value=0.0, layout=Layout(width='auto'), style=ProgressStyle(bar_color='black'))"
      ]
     },
     "metadata": {},
     "output_type": "display_data"
    },
    {
     "data": {
      "application/vnd.jupyter.widget-view+json": {
       "model_id": "6bcee9e43c2f44019973e8d7cdb14c20",
       "version_major": 2,
       "version_minor": 0
      },
      "text/plain": [
       "FloatProgress(value=0.0, layout=Layout(width='auto'), style=ProgressStyle(bar_color='black'))"
      ]
     },
     "metadata": {},
     "output_type": "display_data"
    },
    {
     "data": {
      "application/vnd.jupyter.widget-view+json": {
       "model_id": "84c5c53af4364608948800412a5f7486",
       "version_major": 2,
       "version_minor": 0
      },
      "text/plain": [
       "FloatProgress(value=0.0, layout=Layout(width='auto'), style=ProgressStyle(bar_color='black'))"
      ]
     },
     "metadata": {},
     "output_type": "display_data"
    },
    {
     "data": {
      "application/vnd.jupyter.widget-view+json": {
       "model_id": "c36b3b337f1a4350ba1309a1e8d12869",
       "version_major": 2,
       "version_minor": 0
      },
      "text/plain": [
       "FloatProgress(value=0.0, layout=Layout(width='auto'), style=ProgressStyle(bar_color='black'))"
      ]
     },
     "metadata": {},
     "output_type": "display_data"
    },
    {
     "name": "stdout",
     "output_type": "stream",
     "text": [
      "Processing 12250 of 13782\n"
     ]
    },
    {
     "data": {
      "application/vnd.jupyter.widget-view+json": {
       "model_id": "7b097c4f61dc4163831c5c48c672006b",
       "version_major": 2,
       "version_minor": 0
      },
      "text/plain": [
       "FloatProgress(value=0.0, layout=Layout(width='auto'), style=ProgressStyle(bar_color='black'))"
      ]
     },
     "metadata": {},
     "output_type": "display_data"
    },
    {
     "data": {
      "application/vnd.jupyter.widget-view+json": {
       "model_id": "c6089d899070416eab312ae39f43a059",
       "version_major": 2,
       "version_minor": 0
      },
      "text/plain": [
       "FloatProgress(value=0.0, layout=Layout(width='auto'), style=ProgressStyle(bar_color='black'))"
      ]
     },
     "metadata": {},
     "output_type": "display_data"
    },
    {
     "data": {
      "application/vnd.jupyter.widget-view+json": {
       "model_id": "09e46821546342c9895c092e95e440d6",
       "version_major": 2,
       "version_minor": 0
      },
      "text/plain": [
       "FloatProgress(value=0.0, layout=Layout(width='auto'), style=ProgressStyle(bar_color='black'))"
      ]
     },
     "metadata": {},
     "output_type": "display_data"
    },
    {
     "name": "stdout",
     "output_type": "stream",
     "text": [
      "Processing 12300 of 13782\n"
     ]
    },
    {
     "data": {
      "application/vnd.jupyter.widget-view+json": {
       "model_id": "cac67e78265042ac8b48dfef6c444ba3",
       "version_major": 2,
       "version_minor": 0
      },
      "text/plain": [
       "FloatProgress(value=0.0, layout=Layout(width='auto'), style=ProgressStyle(bar_color='black'))"
      ]
     },
     "metadata": {},
     "output_type": "display_data"
    },
    {
     "data": {
      "application/vnd.jupyter.widget-view+json": {
       "model_id": "4fd0c8a6cef94b699fa411d41c55f16f",
       "version_major": 2,
       "version_minor": 0
      },
      "text/plain": [
       "FloatProgress(value=0.0, layout=Layout(width='auto'), style=ProgressStyle(bar_color='black'))"
      ]
     },
     "metadata": {},
     "output_type": "display_data"
    },
    {
     "name": "stdout",
     "output_type": "stream",
     "text": [
      "Processing 12350 of 13782\n"
     ]
    },
    {
     "data": {
      "application/vnd.jupyter.widget-view+json": {
       "model_id": "3aadebbbd4a1444ba4788a3a38161ba0",
       "version_major": 2,
       "version_minor": 0
      },
      "text/plain": [
       "FloatProgress(value=0.0, layout=Layout(width='auto'), style=ProgressStyle(bar_color='black'))"
      ]
     },
     "metadata": {},
     "output_type": "display_data"
    },
    {
     "data": {
      "application/vnd.jupyter.widget-view+json": {
       "model_id": "2a8a048c1e864f10943601054ddc9a60",
       "version_major": 2,
       "version_minor": 0
      },
      "text/plain": [
       "FloatProgress(value=0.0, layout=Layout(width='auto'), style=ProgressStyle(bar_color='black'))"
      ]
     },
     "metadata": {},
     "output_type": "display_data"
    },
    {
     "data": {
      "application/vnd.jupyter.widget-view+json": {
       "model_id": "a2abc5bf240a4a0ab8748cf38a1a783e",
       "version_major": 2,
       "version_minor": 0
      },
      "text/plain": [
       "FloatProgress(value=0.0, layout=Layout(width='auto'), style=ProgressStyle(bar_color='black'))"
      ]
     },
     "metadata": {},
     "output_type": "display_data"
    },
    {
     "data": {
      "application/vnd.jupyter.widget-view+json": {
       "model_id": "733bec6dfb344326b52307437be0b680",
       "version_major": 2,
       "version_minor": 0
      },
      "text/plain": [
       "FloatProgress(value=0.0, layout=Layout(width='auto'), style=ProgressStyle(bar_color='black'))"
      ]
     },
     "metadata": {},
     "output_type": "display_data"
    },
    {
     "data": {
      "application/vnd.jupyter.widget-view+json": {
       "model_id": "b3c52fd1ffe6410a97dff0931dc724c5",
       "version_major": 2,
       "version_minor": 0
      },
      "text/plain": [
       "FloatProgress(value=0.0, layout=Layout(width='auto'), style=ProgressStyle(bar_color='black'))"
      ]
     },
     "metadata": {},
     "output_type": "display_data"
    },
    {
     "data": {
      "application/vnd.jupyter.widget-view+json": {
       "model_id": "0f85a9dc87ee421eb9fd7ebc3933dd38",
       "version_major": 2,
       "version_minor": 0
      },
      "text/plain": [
       "FloatProgress(value=0.0, layout=Layout(width='auto'), style=ProgressStyle(bar_color='black'))"
      ]
     },
     "metadata": {},
     "output_type": "display_data"
    },
    {
     "data": {
      "application/vnd.jupyter.widget-view+json": {
       "model_id": "c82efd6c74ce4ede96a5cd9160fc42aa",
       "version_major": 2,
       "version_minor": 0
      },
      "text/plain": [
       "FloatProgress(value=0.0, layout=Layout(width='auto'), style=ProgressStyle(bar_color='black'))"
      ]
     },
     "metadata": {},
     "output_type": "display_data"
    },
    {
     "data": {
      "application/vnd.jupyter.widget-view+json": {
       "model_id": "0c43645f06244ce7828bce91b8a77b51",
       "version_major": 2,
       "version_minor": 0
      },
      "text/plain": [
       "FloatProgress(value=0.0, layout=Layout(width='auto'), style=ProgressStyle(bar_color='black'))"
      ]
     },
     "metadata": {},
     "output_type": "display_data"
    },
    {
     "name": "stdout",
     "output_type": "stream",
     "text": [
      "Processing 12400 of 13782\n",
      "Processing 12450 of 13782\n"
     ]
    },
    {
     "data": {
      "application/vnd.jupyter.widget-view+json": {
       "model_id": "5df395fe286f4d2c8c0ffef64d5004c0",
       "version_major": 2,
       "version_minor": 0
      },
      "text/plain": [
       "FloatProgress(value=0.0, layout=Layout(width='auto'), style=ProgressStyle(bar_color='black'))"
      ]
     },
     "metadata": {},
     "output_type": "display_data"
    },
    {
     "name": "stdout",
     "output_type": "stream",
     "text": [
      "Processing 12500 of 13782\n"
     ]
    },
    {
     "data": {
      "application/vnd.jupyter.widget-view+json": {
       "model_id": "a1b76036e28f46b0819426259ed8e290",
       "version_major": 2,
       "version_minor": 0
      },
      "text/plain": [
       "FloatProgress(value=0.0, layout=Layout(width='auto'), style=ProgressStyle(bar_color='black'))"
      ]
     },
     "metadata": {},
     "output_type": "display_data"
    },
    {
     "data": {
      "application/vnd.jupyter.widget-view+json": {
       "model_id": "620aa27592c94ee685bb2dda5ecb69c2",
       "version_major": 2,
       "version_minor": 0
      },
      "text/plain": [
       "FloatProgress(value=0.0, layout=Layout(width='auto'), style=ProgressStyle(bar_color='black'))"
      ]
     },
     "metadata": {},
     "output_type": "display_data"
    },
    {
     "name": "stdout",
     "output_type": "stream",
     "text": [
      "Processing 12550 of 13782\n"
     ]
    },
    {
     "data": {
      "application/vnd.jupyter.widget-view+json": {
       "model_id": "39edb4a8ed484e8cb068b90bd6c277c5",
       "version_major": 2,
       "version_minor": 0
      },
      "text/plain": [
       "FloatProgress(value=0.0, layout=Layout(width='auto'), style=ProgressStyle(bar_color='black'))"
      ]
     },
     "metadata": {},
     "output_type": "display_data"
    },
    {
     "data": {
      "application/vnd.jupyter.widget-view+json": {
       "model_id": "02d291ac37cd49018586948f61a55c1c",
       "version_major": 2,
       "version_minor": 0
      },
      "text/plain": [
       "FloatProgress(value=0.0, layout=Layout(width='auto'), style=ProgressStyle(bar_color='black'))"
      ]
     },
     "metadata": {},
     "output_type": "display_data"
    },
    {
     "data": {
      "application/vnd.jupyter.widget-view+json": {
       "model_id": "7b061508dedb479c9b188b9ce3993527",
       "version_major": 2,
       "version_minor": 0
      },
      "text/plain": [
       "FloatProgress(value=0.0, layout=Layout(width='auto'), style=ProgressStyle(bar_color='black'))"
      ]
     },
     "metadata": {},
     "output_type": "display_data"
    },
    {
     "data": {
      "application/vnd.jupyter.widget-view+json": {
       "model_id": "206714b7d9a842ebb11a9d4e65b9b9cc",
       "version_major": 2,
       "version_minor": 0
      },
      "text/plain": [
       "FloatProgress(value=0.0, layout=Layout(width='auto'), style=ProgressStyle(bar_color='black'))"
      ]
     },
     "metadata": {},
     "output_type": "display_data"
    },
    {
     "name": "stdout",
     "output_type": "stream",
     "text": [
      "Processing 12600 of 13782\n"
     ]
    },
    {
     "data": {
      "application/vnd.jupyter.widget-view+json": {
       "model_id": "6c1954b8f5c248f6b734661631c86059",
       "version_major": 2,
       "version_minor": 0
      },
      "text/plain": [
       "FloatProgress(value=0.0, layout=Layout(width='auto'), style=ProgressStyle(bar_color='black'))"
      ]
     },
     "metadata": {},
     "output_type": "display_data"
    },
    {
     "data": {
      "application/vnd.jupyter.widget-view+json": {
       "model_id": "81b635eb49b542a8814dfc30805252a0",
       "version_major": 2,
       "version_minor": 0
      },
      "text/plain": [
       "FloatProgress(value=0.0, layout=Layout(width='auto'), style=ProgressStyle(bar_color='black'))"
      ]
     },
     "metadata": {},
     "output_type": "display_data"
    },
    {
     "data": {
      "application/vnd.jupyter.widget-view+json": {
       "model_id": "f29d1e6b72ff4842b72801f5f7251faa",
       "version_major": 2,
       "version_minor": 0
      },
      "text/plain": [
       "FloatProgress(value=0.0, layout=Layout(width='auto'), style=ProgressStyle(bar_color='black'))"
      ]
     },
     "metadata": {},
     "output_type": "display_data"
    },
    {
     "data": {
      "application/vnd.jupyter.widget-view+json": {
       "model_id": "ccbe696eb0174415af444c7074005b4f",
       "version_major": 2,
       "version_minor": 0
      },
      "text/plain": [
       "FloatProgress(value=0.0, layout=Layout(width='auto'), style=ProgressStyle(bar_color='black'))"
      ]
     },
     "metadata": {},
     "output_type": "display_data"
    },
    {
     "name": "stdout",
     "output_type": "stream",
     "text": [
      "Processing 12650 of 13782\n"
     ]
    },
    {
     "data": {
      "application/vnd.jupyter.widget-view+json": {
       "model_id": "90b9fdaca1be4842823015504bc71f52",
       "version_major": 2,
       "version_minor": 0
      },
      "text/plain": [
       "FloatProgress(value=0.0, layout=Layout(width='auto'), style=ProgressStyle(bar_color='black'))"
      ]
     },
     "metadata": {},
     "output_type": "display_data"
    },
    {
     "data": {
      "application/vnd.jupyter.widget-view+json": {
       "model_id": "8d302f9d695f42e2a0a6491c0a016d25",
       "version_major": 2,
       "version_minor": 0
      },
      "text/plain": [
       "FloatProgress(value=0.0, layout=Layout(width='auto'), style=ProgressStyle(bar_color='black'))"
      ]
     },
     "metadata": {},
     "output_type": "display_data"
    },
    {
     "data": {
      "application/vnd.jupyter.widget-view+json": {
       "model_id": "e75d74abec0c4ccaaafedfaedc9b4e7d",
       "version_major": 2,
       "version_minor": 0
      },
      "text/plain": [
       "FloatProgress(value=0.0, layout=Layout(width='auto'), style=ProgressStyle(bar_color='black'))"
      ]
     },
     "metadata": {},
     "output_type": "display_data"
    },
    {
     "data": {
      "application/vnd.jupyter.widget-view+json": {
       "model_id": "262c9a8143004b16b51c22214551a739",
       "version_major": 2,
       "version_minor": 0
      },
      "text/plain": [
       "FloatProgress(value=0.0, layout=Layout(width='auto'), style=ProgressStyle(bar_color='black'))"
      ]
     },
     "metadata": {},
     "output_type": "display_data"
    },
    {
     "data": {
      "application/vnd.jupyter.widget-view+json": {
       "model_id": "95321c611f294f9d8c595a3b5737df94",
       "version_major": 2,
       "version_minor": 0
      },
      "text/plain": [
       "FloatProgress(value=0.0, layout=Layout(width='auto'), style=ProgressStyle(bar_color='black'))"
      ]
     },
     "metadata": {},
     "output_type": "display_data"
    },
    {
     "data": {
      "application/vnd.jupyter.widget-view+json": {
       "model_id": "defedebdf7df4a2db0f5c48bc79ccd9c",
       "version_major": 2,
       "version_minor": 0
      },
      "text/plain": [
       "FloatProgress(value=0.0, layout=Layout(width='auto'), style=ProgressStyle(bar_color='black'))"
      ]
     },
     "metadata": {},
     "output_type": "display_data"
    },
    {
     "name": "stdout",
     "output_type": "stream",
     "text": [
      "Processing 12700 of 13782\n"
     ]
    },
    {
     "data": {
      "application/vnd.jupyter.widget-view+json": {
       "model_id": "d27f1d60030f431ba901fe96795907eb",
       "version_major": 2,
       "version_minor": 0
      },
      "text/plain": [
       "FloatProgress(value=0.0, layout=Layout(width='auto'), style=ProgressStyle(bar_color='black'))"
      ]
     },
     "metadata": {},
     "output_type": "display_data"
    },
    {
     "data": {
      "application/vnd.jupyter.widget-view+json": {
       "model_id": "b0252dcde9c143cebfa2f2795f9420ca",
       "version_major": 2,
       "version_minor": 0
      },
      "text/plain": [
       "FloatProgress(value=0.0, layout=Layout(width='auto'), style=ProgressStyle(bar_color='black'))"
      ]
     },
     "metadata": {},
     "output_type": "display_data"
    },
    {
     "name": "stdout",
     "output_type": "stream",
     "text": [
      "Processing 12750 of 13782\n"
     ]
    },
    {
     "data": {
      "application/vnd.jupyter.widget-view+json": {
       "model_id": "7a55238f8ffe484aa0c255e47cba3a26",
       "version_major": 2,
       "version_minor": 0
      },
      "text/plain": [
       "FloatProgress(value=0.0, layout=Layout(width='auto'), style=ProgressStyle(bar_color='black'))"
      ]
     },
     "metadata": {},
     "output_type": "display_data"
    },
    {
     "name": "stdout",
     "output_type": "stream",
     "text": [
      "Processing 12800 of 13782\n"
     ]
    },
    {
     "data": {
      "application/vnd.jupyter.widget-view+json": {
       "model_id": "1df4d3153d7d4c29824bc486d33931e0",
       "version_major": 2,
       "version_minor": 0
      },
      "text/plain": [
       "FloatProgress(value=0.0, layout=Layout(width='auto'), style=ProgressStyle(bar_color='black'))"
      ]
     },
     "metadata": {},
     "output_type": "display_data"
    },
    {
     "data": {
      "application/vnd.jupyter.widget-view+json": {
       "model_id": "e326c405c5944e9ea095c59ed327cfda",
       "version_major": 2,
       "version_minor": 0
      },
      "text/plain": [
       "FloatProgress(value=0.0, layout=Layout(width='auto'), style=ProgressStyle(bar_color='black'))"
      ]
     },
     "metadata": {},
     "output_type": "display_data"
    },
    {
     "name": "stdout",
     "output_type": "stream",
     "text": [
      "Processing 12850 of 13782\n"
     ]
    },
    {
     "data": {
      "application/vnd.jupyter.widget-view+json": {
       "model_id": "5c92e798f0a641ccb0e1ba5db15a2b2e",
       "version_major": 2,
       "version_minor": 0
      },
      "text/plain": [
       "FloatProgress(value=0.0, layout=Layout(width='auto'), style=ProgressStyle(bar_color='black'))"
      ]
     },
     "metadata": {},
     "output_type": "display_data"
    },
    {
     "data": {
      "application/vnd.jupyter.widget-view+json": {
       "model_id": "c4d9126477dd444cb05d74dee6c2e019",
       "version_major": 2,
       "version_minor": 0
      },
      "text/plain": [
       "FloatProgress(value=0.0, layout=Layout(width='auto'), style=ProgressStyle(bar_color='black'))"
      ]
     },
     "metadata": {},
     "output_type": "display_data"
    },
    {
     "name": "stdout",
     "output_type": "stream",
     "text": [
      "Processing 12900 of 13782\n"
     ]
    },
    {
     "data": {
      "application/vnd.jupyter.widget-view+json": {
       "model_id": "97c26c187e27417db8d3ded8808f533a",
       "version_major": 2,
       "version_minor": 0
      },
      "text/plain": [
       "FloatProgress(value=0.0, layout=Layout(width='auto'), style=ProgressStyle(bar_color='black'))"
      ]
     },
     "metadata": {},
     "output_type": "display_data"
    },
    {
     "data": {
      "application/vnd.jupyter.widget-view+json": {
       "model_id": "9cab64b1c3484312bf8a8b224e556be2",
       "version_major": 2,
       "version_minor": 0
      },
      "text/plain": [
       "FloatProgress(value=0.0, layout=Layout(width='auto'), style=ProgressStyle(bar_color='black'))"
      ]
     },
     "metadata": {},
     "output_type": "display_data"
    },
    {
     "data": {
      "application/vnd.jupyter.widget-view+json": {
       "model_id": "d6ef6fae47d244eb936d5f9fac16331a",
       "version_major": 2,
       "version_minor": 0
      },
      "text/plain": [
       "FloatProgress(value=0.0, layout=Layout(width='auto'), style=ProgressStyle(bar_color='black'))"
      ]
     },
     "metadata": {},
     "output_type": "display_data"
    },
    {
     "data": {
      "application/vnd.jupyter.widget-view+json": {
       "model_id": "d37bacfe8a994a14992bdcb213b2bcc1",
       "version_major": 2,
       "version_minor": 0
      },
      "text/plain": [
       "FloatProgress(value=0.0, layout=Layout(width='auto'), style=ProgressStyle(bar_color='black'))"
      ]
     },
     "metadata": {},
     "output_type": "display_data"
    },
    {
     "data": {
      "application/vnd.jupyter.widget-view+json": {
       "model_id": "31fad6cf2b0a41d59189cbb87c4d1ef6",
       "version_major": 2,
       "version_minor": 0
      },
      "text/plain": [
       "FloatProgress(value=0.0, layout=Layout(width='auto'), style=ProgressStyle(bar_color='black'))"
      ]
     },
     "metadata": {},
     "output_type": "display_data"
    },
    {
     "name": "stdout",
     "output_type": "stream",
     "text": [
      "Processing 12950 of 13782\n"
     ]
    },
    {
     "data": {
      "application/vnd.jupyter.widget-view+json": {
       "model_id": "16a654f6d57f487cb6835b2db0754546",
       "version_major": 2,
       "version_minor": 0
      },
      "text/plain": [
       "FloatProgress(value=0.0, layout=Layout(width='auto'), style=ProgressStyle(bar_color='black'))"
      ]
     },
     "metadata": {},
     "output_type": "display_data"
    },
    {
     "data": {
      "application/vnd.jupyter.widget-view+json": {
       "model_id": "96f83864ea8b452585eaff0b85609951",
       "version_major": 2,
       "version_minor": 0
      },
      "text/plain": [
       "FloatProgress(value=0.0, layout=Layout(width='auto'), style=ProgressStyle(bar_color='black'))"
      ]
     },
     "metadata": {},
     "output_type": "display_data"
    },
    {
     "data": {
      "application/vnd.jupyter.widget-view+json": {
       "model_id": "3a01384cead7458a8f9bd4652f8f59af",
       "version_major": 2,
       "version_minor": 0
      },
      "text/plain": [
       "FloatProgress(value=0.0, layout=Layout(width='auto'), style=ProgressStyle(bar_color='black'))"
      ]
     },
     "metadata": {},
     "output_type": "display_data"
    },
    {
     "data": {
      "application/vnd.jupyter.widget-view+json": {
       "model_id": "5b65a9d2bb7e412db6fc9fe2186fa8b0",
       "version_major": 2,
       "version_minor": 0
      },
      "text/plain": [
       "FloatProgress(value=0.0, layout=Layout(width='auto'), style=ProgressStyle(bar_color='black'))"
      ]
     },
     "metadata": {},
     "output_type": "display_data"
    },
    {
     "data": {
      "application/vnd.jupyter.widget-view+json": {
       "model_id": "74ede3747ea64b5cbccaef698054fce9",
       "version_major": 2,
       "version_minor": 0
      },
      "text/plain": [
       "FloatProgress(value=0.0, layout=Layout(width='auto'), style=ProgressStyle(bar_color='black'))"
      ]
     },
     "metadata": {},
     "output_type": "display_data"
    },
    {
     "data": {
      "application/vnd.jupyter.widget-view+json": {
       "model_id": "8df7a272be7741a884c4b164c18a6dfb",
       "version_major": 2,
       "version_minor": 0
      },
      "text/plain": [
       "FloatProgress(value=0.0, layout=Layout(width='auto'), style=ProgressStyle(bar_color='black'))"
      ]
     },
     "metadata": {},
     "output_type": "display_data"
    },
    {
     "data": {
      "application/vnd.jupyter.widget-view+json": {
       "model_id": "e5dfa2c20c1d44b7a68cdcd39e3da22f",
       "version_major": 2,
       "version_minor": 0
      },
      "text/plain": [
       "FloatProgress(value=0.0, layout=Layout(width='auto'), style=ProgressStyle(bar_color='black'))"
      ]
     },
     "metadata": {},
     "output_type": "display_data"
    },
    {
     "data": {
      "application/vnd.jupyter.widget-view+json": {
       "model_id": "66773ba2cc2f4184b861710235436b65",
       "version_major": 2,
       "version_minor": 0
      },
      "text/plain": [
       "FloatProgress(value=0.0, layout=Layout(width='auto'), style=ProgressStyle(bar_color='black'))"
      ]
     },
     "metadata": {},
     "output_type": "display_data"
    },
    {
     "name": "stdout",
     "output_type": "stream",
     "text": [
      "Processing 13000 of 13782\n"
     ]
    },
    {
     "data": {
      "application/vnd.jupyter.widget-view+json": {
       "model_id": "1df7eb8a11604b7c96af3d599c0bd7e1",
       "version_major": 2,
       "version_minor": 0
      },
      "text/plain": [
       "FloatProgress(value=0.0, layout=Layout(width='auto'), style=ProgressStyle(bar_color='black'))"
      ]
     },
     "metadata": {},
     "output_type": "display_data"
    },
    {
     "data": {
      "application/vnd.jupyter.widget-view+json": {
       "model_id": "89bd56d67c12460daeb6f9662c2610d5",
       "version_major": 2,
       "version_minor": 0
      },
      "text/plain": [
       "FloatProgress(value=0.0, layout=Layout(width='auto'), style=ProgressStyle(bar_color='black'))"
      ]
     },
     "metadata": {},
     "output_type": "display_data"
    },
    {
     "data": {
      "application/vnd.jupyter.widget-view+json": {
       "model_id": "8f7a0ebac28044bb80aab7fc69fd32e6",
       "version_major": 2,
       "version_minor": 0
      },
      "text/plain": [
       "FloatProgress(value=0.0, layout=Layout(width='auto'), style=ProgressStyle(bar_color='black'))"
      ]
     },
     "metadata": {},
     "output_type": "display_data"
    },
    {
     "data": {
      "application/vnd.jupyter.widget-view+json": {
       "model_id": "85d28f6e3ea84a5b9e81fc52dbd96071",
       "version_major": 2,
       "version_minor": 0
      },
      "text/plain": [
       "FloatProgress(value=0.0, layout=Layout(width='auto'), style=ProgressStyle(bar_color='black'))"
      ]
     },
     "metadata": {},
     "output_type": "display_data"
    },
    {
     "data": {
      "application/vnd.jupyter.widget-view+json": {
       "model_id": "b69d1c3a4d9c44aa9e75f1573602fdf8",
       "version_major": 2,
       "version_minor": 0
      },
      "text/plain": [
       "FloatProgress(value=0.0, layout=Layout(width='auto'), style=ProgressStyle(bar_color='black'))"
      ]
     },
     "metadata": {},
     "output_type": "display_data"
    },
    {
     "name": "stdout",
     "output_type": "stream",
     "text": [
      "Processing 13050 of 13782\n"
     ]
    },
    {
     "data": {
      "application/vnd.jupyter.widget-view+json": {
       "model_id": "1d2567f2253b47f9bd600d797d416204",
       "version_major": 2,
       "version_minor": 0
      },
      "text/plain": [
       "FloatProgress(value=0.0, layout=Layout(width='auto'), style=ProgressStyle(bar_color='black'))"
      ]
     },
     "metadata": {},
     "output_type": "display_data"
    },
    {
     "data": {
      "application/vnd.jupyter.widget-view+json": {
       "model_id": "9ae3c8b96c07407393434a5271014041",
       "version_major": 2,
       "version_minor": 0
      },
      "text/plain": [
       "FloatProgress(value=0.0, layout=Layout(width='auto'), style=ProgressStyle(bar_color='black'))"
      ]
     },
     "metadata": {},
     "output_type": "display_data"
    },
    {
     "data": {
      "application/vnd.jupyter.widget-view+json": {
       "model_id": "039a6ee163a14e33ac92d52a51a18310",
       "version_major": 2,
       "version_minor": 0
      },
      "text/plain": [
       "FloatProgress(value=0.0, layout=Layout(width='auto'), style=ProgressStyle(bar_color='black'))"
      ]
     },
     "metadata": {},
     "output_type": "display_data"
    },
    {
     "data": {
      "application/vnd.jupyter.widget-view+json": {
       "model_id": "87f477babe70453c87167b0ce2ace1f9",
       "version_major": 2,
       "version_minor": 0
      },
      "text/plain": [
       "FloatProgress(value=0.0, layout=Layout(width='auto'), style=ProgressStyle(bar_color='black'))"
      ]
     },
     "metadata": {},
     "output_type": "display_data"
    },
    {
     "data": {
      "application/vnd.jupyter.widget-view+json": {
       "model_id": "35f4fa3caa30446a94c856d0c0ea5431",
       "version_major": 2,
       "version_minor": 0
      },
      "text/plain": [
       "FloatProgress(value=0.0, layout=Layout(width='auto'), style=ProgressStyle(bar_color='black'))"
      ]
     },
     "metadata": {},
     "output_type": "display_data"
    },
    {
     "name": "stdout",
     "output_type": "stream",
     "text": [
      "Processing 13100 of 13782\n"
     ]
    },
    {
     "data": {
      "application/vnd.jupyter.widget-view+json": {
       "model_id": "0d86dac17cbf4499b7d6439ac66aea4e",
       "version_major": 2,
       "version_minor": 0
      },
      "text/plain": [
       "FloatProgress(value=0.0, layout=Layout(width='auto'), style=ProgressStyle(bar_color='black'))"
      ]
     },
     "metadata": {},
     "output_type": "display_data"
    },
    {
     "data": {
      "application/vnd.jupyter.widget-view+json": {
       "model_id": "fd8ea36c9bab49419b3c37b77598ffa6",
       "version_major": 2,
       "version_minor": 0
      },
      "text/plain": [
       "FloatProgress(value=0.0, layout=Layout(width='auto'), style=ProgressStyle(bar_color='black'))"
      ]
     },
     "metadata": {},
     "output_type": "display_data"
    },
    {
     "data": {
      "application/vnd.jupyter.widget-view+json": {
       "model_id": "32504acadf7f4cd28789f9e0aacaa75e",
       "version_major": 2,
       "version_minor": 0
      },
      "text/plain": [
       "FloatProgress(value=0.0, layout=Layout(width='auto'), style=ProgressStyle(bar_color='black'))"
      ]
     },
     "metadata": {},
     "output_type": "display_data"
    },
    {
     "data": {
      "application/vnd.jupyter.widget-view+json": {
       "model_id": "9277dd696be149be845c1ea68dae66bd",
       "version_major": 2,
       "version_minor": 0
      },
      "text/plain": [
       "FloatProgress(value=0.0, layout=Layout(width='auto'), style=ProgressStyle(bar_color='black'))"
      ]
     },
     "metadata": {},
     "output_type": "display_data"
    },
    {
     "data": {
      "application/vnd.jupyter.widget-view+json": {
       "model_id": "126c9299b3844a41a34f7736eb3e1bc5",
       "version_major": 2,
       "version_minor": 0
      },
      "text/plain": [
       "FloatProgress(value=0.0, layout=Layout(width='auto'), style=ProgressStyle(bar_color='black'))"
      ]
     },
     "metadata": {},
     "output_type": "display_data"
    },
    {
     "data": {
      "application/vnd.jupyter.widget-view+json": {
       "model_id": "3b43814376fe4cf89af9196ca6e44e27",
       "version_major": 2,
       "version_minor": 0
      },
      "text/plain": [
       "FloatProgress(value=0.0, layout=Layout(width='auto'), style=ProgressStyle(bar_color='black'))"
      ]
     },
     "metadata": {},
     "output_type": "display_data"
    },
    {
     "data": {
      "application/vnd.jupyter.widget-view+json": {
       "model_id": "6eda33622bdb4deebd4eb4fbc12ab3de",
       "version_major": 2,
       "version_minor": 0
      },
      "text/plain": [
       "FloatProgress(value=0.0, layout=Layout(width='auto'), style=ProgressStyle(bar_color='black'))"
      ]
     },
     "metadata": {},
     "output_type": "display_data"
    },
    {
     "name": "stdout",
     "output_type": "stream",
     "text": [
      "Processing 13150 of 13782\n"
     ]
    },
    {
     "data": {
      "application/vnd.jupyter.widget-view+json": {
       "model_id": "e585819a3a134491944273b8ba7ca8ef",
       "version_major": 2,
       "version_minor": 0
      },
      "text/plain": [
       "FloatProgress(value=0.0, layout=Layout(width='auto'), style=ProgressStyle(bar_color='black'))"
      ]
     },
     "metadata": {},
     "output_type": "display_data"
    },
    {
     "data": {
      "application/vnd.jupyter.widget-view+json": {
       "model_id": "2cd85a96561e4e3eb1bb57f30c2fdbb0",
       "version_major": 2,
       "version_minor": 0
      },
      "text/plain": [
       "FloatProgress(value=0.0, layout=Layout(width='auto'), style=ProgressStyle(bar_color='black'))"
      ]
     },
     "metadata": {},
     "output_type": "display_data"
    },
    {
     "data": {
      "application/vnd.jupyter.widget-view+json": {
       "model_id": "2d339b277edc4e048e6b70fe6a821a96",
       "version_major": 2,
       "version_minor": 0
      },
      "text/plain": [
       "FloatProgress(value=0.0, layout=Layout(width='auto'), style=ProgressStyle(bar_color='black'))"
      ]
     },
     "metadata": {},
     "output_type": "display_data"
    },
    {
     "name": "stdout",
     "output_type": "stream",
     "text": [
      "Processing 13200 of 13782\n"
     ]
    },
    {
     "data": {
      "application/vnd.jupyter.widget-view+json": {
       "model_id": "4fa2e0097ca34af49f507a78f7b8b6be",
       "version_major": 2,
       "version_minor": 0
      },
      "text/plain": [
       "FloatProgress(value=0.0, layout=Layout(width='auto'), style=ProgressStyle(bar_color='black'))"
      ]
     },
     "metadata": {},
     "output_type": "display_data"
    },
    {
     "data": {
      "application/vnd.jupyter.widget-view+json": {
       "model_id": "4f892f337a4948daa154968fb2aa5c1c",
       "version_major": 2,
       "version_minor": 0
      },
      "text/plain": [
       "FloatProgress(value=0.0, layout=Layout(width='auto'), style=ProgressStyle(bar_color='black'))"
      ]
     },
     "metadata": {},
     "output_type": "display_data"
    },
    {
     "data": {
      "application/vnd.jupyter.widget-view+json": {
       "model_id": "63bcb937e0c947c4bb59488e97c4fd33",
       "version_major": 2,
       "version_minor": 0
      },
      "text/plain": [
       "FloatProgress(value=0.0, layout=Layout(width='auto'), style=ProgressStyle(bar_color='black'))"
      ]
     },
     "metadata": {},
     "output_type": "display_data"
    },
    {
     "data": {
      "application/vnd.jupyter.widget-view+json": {
       "model_id": "8f581bd3802b444e854d9ee5ad0efd23",
       "version_major": 2,
       "version_minor": 0
      },
      "text/plain": [
       "FloatProgress(value=0.0, layout=Layout(width='auto'), style=ProgressStyle(bar_color='black'))"
      ]
     },
     "metadata": {},
     "output_type": "display_data"
    },
    {
     "data": {
      "application/vnd.jupyter.widget-view+json": {
       "model_id": "1df8cdf2d33e4e558caeb070e5147505",
       "version_major": 2,
       "version_minor": 0
      },
      "text/plain": [
       "FloatProgress(value=0.0, layout=Layout(width='auto'), style=ProgressStyle(bar_color='black'))"
      ]
     },
     "metadata": {},
     "output_type": "display_data"
    },
    {
     "data": {
      "application/vnd.jupyter.widget-view+json": {
       "model_id": "9b832bde40da4a87bde18e9daa513e5f",
       "version_major": 2,
       "version_minor": 0
      },
      "text/plain": [
       "FloatProgress(value=0.0, layout=Layout(width='auto'), style=ProgressStyle(bar_color='black'))"
      ]
     },
     "metadata": {},
     "output_type": "display_data"
    },
    {
     "data": {
      "application/vnd.jupyter.widget-view+json": {
       "model_id": "dc86fd41788c47689d2e3dd7910fb775",
       "version_major": 2,
       "version_minor": 0
      },
      "text/plain": [
       "FloatProgress(value=0.0, layout=Layout(width='auto'), style=ProgressStyle(bar_color='black'))"
      ]
     },
     "metadata": {},
     "output_type": "display_data"
    },
    {
     "data": {
      "application/vnd.jupyter.widget-view+json": {
       "model_id": "a32382d3f99846308359c9684dc4b6ab",
       "version_major": 2,
       "version_minor": 0
      },
      "text/plain": [
       "FloatProgress(value=0.0, layout=Layout(width='auto'), style=ProgressStyle(bar_color='black'))"
      ]
     },
     "metadata": {},
     "output_type": "display_data"
    },
    {
     "data": {
      "application/vnd.jupyter.widget-view+json": {
       "model_id": "402b51251c3b40b782de20eac3c9b0f8",
       "version_major": 2,
       "version_minor": 0
      },
      "text/plain": [
       "FloatProgress(value=0.0, layout=Layout(width='auto'), style=ProgressStyle(bar_color='black'))"
      ]
     },
     "metadata": {},
     "output_type": "display_data"
    },
    {
     "name": "stdout",
     "output_type": "stream",
     "text": [
      "Processing 13250 of 13782\n"
     ]
    },
    {
     "data": {
      "application/vnd.jupyter.widget-view+json": {
       "model_id": "b55f3ab82a4d454aa6663847b1cd79e4",
       "version_major": 2,
       "version_minor": 0
      },
      "text/plain": [
       "FloatProgress(value=0.0, layout=Layout(width='auto'), style=ProgressStyle(bar_color='black'))"
      ]
     },
     "metadata": {},
     "output_type": "display_data"
    },
    {
     "data": {
      "application/vnd.jupyter.widget-view+json": {
       "model_id": "50bb1cb0b1c54e959ac9b70db4093ea4",
       "version_major": 2,
       "version_minor": 0
      },
      "text/plain": [
       "FloatProgress(value=0.0, layout=Layout(width='auto'), style=ProgressStyle(bar_color='black'))"
      ]
     },
     "metadata": {},
     "output_type": "display_data"
    },
    {
     "data": {
      "application/vnd.jupyter.widget-view+json": {
       "model_id": "f561ff2e4b8e4ec7af1b48f8617ff7c6",
       "version_major": 2,
       "version_minor": 0
      },
      "text/plain": [
       "FloatProgress(value=0.0, layout=Layout(width='auto'), style=ProgressStyle(bar_color='black'))"
      ]
     },
     "metadata": {},
     "output_type": "display_data"
    },
    {
     "data": {
      "application/vnd.jupyter.widget-view+json": {
       "model_id": "f38b5bce49534958acdb0848d3e6ec9b",
       "version_major": 2,
       "version_minor": 0
      },
      "text/plain": [
       "FloatProgress(value=0.0, layout=Layout(width='auto'), style=ProgressStyle(bar_color='black'))"
      ]
     },
     "metadata": {},
     "output_type": "display_data"
    },
    {
     "name": "stdout",
     "output_type": "stream",
     "text": [
      "Processing 13300 of 13782\n"
     ]
    },
    {
     "data": {
      "application/vnd.jupyter.widget-view+json": {
       "model_id": "1fef2e67bb9c420c9296268808467170",
       "version_major": 2,
       "version_minor": 0
      },
      "text/plain": [
       "FloatProgress(value=0.0, layout=Layout(width='auto'), style=ProgressStyle(bar_color='black'))"
      ]
     },
     "metadata": {},
     "output_type": "display_data"
    },
    {
     "data": {
      "application/vnd.jupyter.widget-view+json": {
       "model_id": "653f2dc7a03b4ee4a1382ce2e41d82cc",
       "version_major": 2,
       "version_minor": 0
      },
      "text/plain": [
       "FloatProgress(value=0.0, layout=Layout(width='auto'), style=ProgressStyle(bar_color='black'))"
      ]
     },
     "metadata": {},
     "output_type": "display_data"
    },
    {
     "data": {
      "application/vnd.jupyter.widget-view+json": {
       "model_id": "c234712cec1a4ac6b30795b85052c86c",
       "version_major": 2,
       "version_minor": 0
      },
      "text/plain": [
       "FloatProgress(value=0.0, layout=Layout(width='auto'), style=ProgressStyle(bar_color='black'))"
      ]
     },
     "metadata": {},
     "output_type": "display_data"
    },
    {
     "data": {
      "application/vnd.jupyter.widget-view+json": {
       "model_id": "d307069b68f54b6bb930ff32b2db4ae2",
       "version_major": 2,
       "version_minor": 0
      },
      "text/plain": [
       "FloatProgress(value=0.0, layout=Layout(width='auto'), style=ProgressStyle(bar_color='black'))"
      ]
     },
     "metadata": {},
     "output_type": "display_data"
    },
    {
     "data": {
      "application/vnd.jupyter.widget-view+json": {
       "model_id": "fe50665433e24c2899b85586ac5b440a",
       "version_major": 2,
       "version_minor": 0
      },
      "text/plain": [
       "FloatProgress(value=0.0, layout=Layout(width='auto'), style=ProgressStyle(bar_color='black'))"
      ]
     },
     "metadata": {},
     "output_type": "display_data"
    },
    {
     "data": {
      "application/vnd.jupyter.widget-view+json": {
       "model_id": "452b2ccf4cbf484aaae22fc9419b17f0",
       "version_major": 2,
       "version_minor": 0
      },
      "text/plain": [
       "FloatProgress(value=0.0, layout=Layout(width='auto'), style=ProgressStyle(bar_color='black'))"
      ]
     },
     "metadata": {},
     "output_type": "display_data"
    },
    {
     "data": {
      "application/vnd.jupyter.widget-view+json": {
       "model_id": "ff0b420249d647a7ab764cfdc391a82d",
       "version_major": 2,
       "version_minor": 0
      },
      "text/plain": [
       "FloatProgress(value=0.0, layout=Layout(width='auto'), style=ProgressStyle(bar_color='black'))"
      ]
     },
     "metadata": {},
     "output_type": "display_data"
    },
    {
     "name": "stdout",
     "output_type": "stream",
     "text": [
      "Processing 13350 of 13782\n"
     ]
    },
    {
     "data": {
      "application/vnd.jupyter.widget-view+json": {
       "model_id": "593f5bee6f114d4fa4c4f8470733c622",
       "version_major": 2,
       "version_minor": 0
      },
      "text/plain": [
       "FloatProgress(value=0.0, layout=Layout(width='auto'), style=ProgressStyle(bar_color='black'))"
      ]
     },
     "metadata": {},
     "output_type": "display_data"
    },
    {
     "data": {
      "application/vnd.jupyter.widget-view+json": {
       "model_id": "7fcdc91914e34cbd82d953dac020b576",
       "version_major": 2,
       "version_minor": 0
      },
      "text/plain": [
       "FloatProgress(value=0.0, layout=Layout(width='auto'), style=ProgressStyle(bar_color='black'))"
      ]
     },
     "metadata": {},
     "output_type": "display_data"
    },
    {
     "data": {
      "application/vnd.jupyter.widget-view+json": {
       "model_id": "44c782d1482949f5a88f01c3905fbeb7",
       "version_major": 2,
       "version_minor": 0
      },
      "text/plain": [
       "FloatProgress(value=0.0, layout=Layout(width='auto'), style=ProgressStyle(bar_color='black'))"
      ]
     },
     "metadata": {},
     "output_type": "display_data"
    },
    {
     "data": {
      "application/vnd.jupyter.widget-view+json": {
       "model_id": "93235abf84514e08a6792defa4374346",
       "version_major": 2,
       "version_minor": 0
      },
      "text/plain": [
       "FloatProgress(value=0.0, layout=Layout(width='auto'), style=ProgressStyle(bar_color='black'))"
      ]
     },
     "metadata": {},
     "output_type": "display_data"
    },
    {
     "data": {
      "application/vnd.jupyter.widget-view+json": {
       "model_id": "76c59a360fc6441b960326e3638ed861",
       "version_major": 2,
       "version_minor": 0
      },
      "text/plain": [
       "FloatProgress(value=0.0, layout=Layout(width='auto'), style=ProgressStyle(bar_color='black'))"
      ]
     },
     "metadata": {},
     "output_type": "display_data"
    },
    {
     "data": {
      "application/vnd.jupyter.widget-view+json": {
       "model_id": "1d6f85f46d374b598318738c59f09263",
       "version_major": 2,
       "version_minor": 0
      },
      "text/plain": [
       "FloatProgress(value=0.0, layout=Layout(width='auto'), style=ProgressStyle(bar_color='black'))"
      ]
     },
     "metadata": {},
     "output_type": "display_data"
    },
    {
     "data": {
      "application/vnd.jupyter.widget-view+json": {
       "model_id": "40081a984217459bb4a3db7085e53067",
       "version_major": 2,
       "version_minor": 0
      },
      "text/plain": [
       "FloatProgress(value=0.0, layout=Layout(width='auto'), style=ProgressStyle(bar_color='black'))"
      ]
     },
     "metadata": {},
     "output_type": "display_data"
    },
    {
     "name": "stdout",
     "output_type": "stream",
     "text": [
      "Processing 13400 of 13782\n"
     ]
    },
    {
     "data": {
      "application/vnd.jupyter.widget-view+json": {
       "model_id": "85138ccdee954a619010576304fb5652",
       "version_major": 2,
       "version_minor": 0
      },
      "text/plain": [
       "FloatProgress(value=0.0, layout=Layout(width='auto'), style=ProgressStyle(bar_color='black'))"
      ]
     },
     "metadata": {},
     "output_type": "display_data"
    },
    {
     "data": {
      "application/vnd.jupyter.widget-view+json": {
       "model_id": "820612326a8f41ab96df3f018d74717d",
       "version_major": 2,
       "version_minor": 0
      },
      "text/plain": [
       "FloatProgress(value=0.0, layout=Layout(width='auto'), style=ProgressStyle(bar_color='black'))"
      ]
     },
     "metadata": {},
     "output_type": "display_data"
    },
    {
     "data": {
      "application/vnd.jupyter.widget-view+json": {
       "model_id": "6520ae288e014cadbba6ca780a7e3f66",
       "version_major": 2,
       "version_minor": 0
      },
      "text/plain": [
       "FloatProgress(value=0.0, layout=Layout(width='auto'), style=ProgressStyle(bar_color='black'))"
      ]
     },
     "metadata": {},
     "output_type": "display_data"
    },
    {
     "data": {
      "application/vnd.jupyter.widget-view+json": {
       "model_id": "c84e7c78f5e640f899fff58b0abf95da",
       "version_major": 2,
       "version_minor": 0
      },
      "text/plain": [
       "FloatProgress(value=0.0, layout=Layout(width='auto'), style=ProgressStyle(bar_color='black'))"
      ]
     },
     "metadata": {},
     "output_type": "display_data"
    },
    {
     "name": "stdout",
     "output_type": "stream",
     "text": [
      "Processing 13450 of 13782\n"
     ]
    },
    {
     "data": {
      "application/vnd.jupyter.widget-view+json": {
       "model_id": "87773e78f166467c99ad8601c097d3a9",
       "version_major": 2,
       "version_minor": 0
      },
      "text/plain": [
       "FloatProgress(value=0.0, layout=Layout(width='auto'), style=ProgressStyle(bar_color='black'))"
      ]
     },
     "metadata": {},
     "output_type": "display_data"
    },
    {
     "data": {
      "application/vnd.jupyter.widget-view+json": {
       "model_id": "a6e1da12ced14083b044734ce5be9c27",
       "version_major": 2,
       "version_minor": 0
      },
      "text/plain": [
       "FloatProgress(value=0.0, layout=Layout(width='auto'), style=ProgressStyle(bar_color='black'))"
      ]
     },
     "metadata": {},
     "output_type": "display_data"
    },
    {
     "data": {
      "application/vnd.jupyter.widget-view+json": {
       "model_id": "af6b1fa2b73d4246b4082e22c7d0085f",
       "version_major": 2,
       "version_minor": 0
      },
      "text/plain": [
       "FloatProgress(value=0.0, layout=Layout(width='auto'), style=ProgressStyle(bar_color='black'))"
      ]
     },
     "metadata": {},
     "output_type": "display_data"
    },
    {
     "data": {
      "application/vnd.jupyter.widget-view+json": {
       "model_id": "93148d74a2fe4b93bb831a679aacbbde",
       "version_major": 2,
       "version_minor": 0
      },
      "text/plain": [
       "FloatProgress(value=0.0, layout=Layout(width='auto'), style=ProgressStyle(bar_color='black'))"
      ]
     },
     "metadata": {},
     "output_type": "display_data"
    },
    {
     "data": {
      "application/vnd.jupyter.widget-view+json": {
       "model_id": "d251f8d21dd445ee9ad58c223e700404",
       "version_major": 2,
       "version_minor": 0
      },
      "text/plain": [
       "FloatProgress(value=0.0, layout=Layout(width='auto'), style=ProgressStyle(bar_color='black'))"
      ]
     },
     "metadata": {},
     "output_type": "display_data"
    },
    {
     "data": {
      "application/vnd.jupyter.widget-view+json": {
       "model_id": "5ac2bb1a13554a72a72b7414adfcfb7c",
       "version_major": 2,
       "version_minor": 0
      },
      "text/plain": [
       "FloatProgress(value=0.0, layout=Layout(width='auto'), style=ProgressStyle(bar_color='black'))"
      ]
     },
     "metadata": {},
     "output_type": "display_data"
    },
    {
     "data": {
      "application/vnd.jupyter.widget-view+json": {
       "model_id": "52d6f2320afb4803bbc55dbde98f4204",
       "version_major": 2,
       "version_minor": 0
      },
      "text/plain": [
       "FloatProgress(value=0.0, layout=Layout(width='auto'), style=ProgressStyle(bar_color='black'))"
      ]
     },
     "metadata": {},
     "output_type": "display_data"
    },
    {
     "data": {
      "application/vnd.jupyter.widget-view+json": {
       "model_id": "c4472e1b162f4049834ed66b0004284c",
       "version_major": 2,
       "version_minor": 0
      },
      "text/plain": [
       "FloatProgress(value=0.0, layout=Layout(width='auto'), style=ProgressStyle(bar_color='black'))"
      ]
     },
     "metadata": {},
     "output_type": "display_data"
    },
    {
     "data": {
      "application/vnd.jupyter.widget-view+json": {
       "model_id": "0e7efcb1cd40407fbac659b41931ecaa",
       "version_major": 2,
       "version_minor": 0
      },
      "text/plain": [
       "FloatProgress(value=0.0, layout=Layout(width='auto'), style=ProgressStyle(bar_color='black'))"
      ]
     },
     "metadata": {},
     "output_type": "display_data"
    },
    {
     "name": "stdout",
     "output_type": "stream",
     "text": [
      "Processing 13500 of 13782\n"
     ]
    },
    {
     "data": {
      "application/vnd.jupyter.widget-view+json": {
       "model_id": "52b5d7fcd92a4a54b75a09f69bcaf377",
       "version_major": 2,
       "version_minor": 0
      },
      "text/plain": [
       "FloatProgress(value=0.0, layout=Layout(width='auto'), style=ProgressStyle(bar_color='black'))"
      ]
     },
     "metadata": {},
     "output_type": "display_data"
    },
    {
     "data": {
      "application/vnd.jupyter.widget-view+json": {
       "model_id": "cc8902f6320f47399adfcc8e24a0c3cd",
       "version_major": 2,
       "version_minor": 0
      },
      "text/plain": [
       "FloatProgress(value=0.0, layout=Layout(width='auto'), style=ProgressStyle(bar_color='black'))"
      ]
     },
     "metadata": {},
     "output_type": "display_data"
    },
    {
     "data": {
      "application/vnd.jupyter.widget-view+json": {
       "model_id": "1cc7a8144fba4de8af8e8c314f7b6b5c",
       "version_major": 2,
       "version_minor": 0
      },
      "text/plain": [
       "FloatProgress(value=0.0, layout=Layout(width='auto'), style=ProgressStyle(bar_color='black'))"
      ]
     },
     "metadata": {},
     "output_type": "display_data"
    },
    {
     "data": {
      "application/vnd.jupyter.widget-view+json": {
       "model_id": "8f3658f76c05465e9a5098d62b978a0a",
       "version_major": 2,
       "version_minor": 0
      },
      "text/plain": [
       "FloatProgress(value=0.0, layout=Layout(width='auto'), style=ProgressStyle(bar_color='black'))"
      ]
     },
     "metadata": {},
     "output_type": "display_data"
    },
    {
     "data": {
      "application/vnd.jupyter.widget-view+json": {
       "model_id": "2f54375d5c804b1c952ce3d684865b1e",
       "version_major": 2,
       "version_minor": 0
      },
      "text/plain": [
       "FloatProgress(value=0.0, layout=Layout(width='auto'), style=ProgressStyle(bar_color='black'))"
      ]
     },
     "metadata": {},
     "output_type": "display_data"
    },
    {
     "data": {
      "application/vnd.jupyter.widget-view+json": {
       "model_id": "d4b7d1afb64544eb9424602b3ff0c137",
       "version_major": 2,
       "version_minor": 0
      },
      "text/plain": [
       "FloatProgress(value=0.0, layout=Layout(width='auto'), style=ProgressStyle(bar_color='black'))"
      ]
     },
     "metadata": {},
     "output_type": "display_data"
    },
    {
     "name": "stdout",
     "output_type": "stream",
     "text": [
      "Processing 13550 of 13782\n"
     ]
    },
    {
     "data": {
      "application/vnd.jupyter.widget-view+json": {
       "model_id": "52e4fc4a093f4d86b7bdc444e38fbc49",
       "version_major": 2,
       "version_minor": 0
      },
      "text/plain": [
       "FloatProgress(value=0.0, layout=Layout(width='auto'), style=ProgressStyle(bar_color='black'))"
      ]
     },
     "metadata": {},
     "output_type": "display_data"
    },
    {
     "data": {
      "application/vnd.jupyter.widget-view+json": {
       "model_id": "aa2dd503f79e45d8b8d4fbc5850aca71",
       "version_major": 2,
       "version_minor": 0
      },
      "text/plain": [
       "FloatProgress(value=0.0, layout=Layout(width='auto'), style=ProgressStyle(bar_color='black'))"
      ]
     },
     "metadata": {},
     "output_type": "display_data"
    },
    {
     "name": "stdout",
     "output_type": "stream",
     "text": [
      "Processing 13600 of 13782\n"
     ]
    },
    {
     "data": {
      "application/vnd.jupyter.widget-view+json": {
       "model_id": "96a975be9a8442019827edad1ae10d18",
       "version_major": 2,
       "version_minor": 0
      },
      "text/plain": [
       "FloatProgress(value=0.0, layout=Layout(width='auto'), style=ProgressStyle(bar_color='black'))"
      ]
     },
     "metadata": {},
     "output_type": "display_data"
    },
    {
     "data": {
      "application/vnd.jupyter.widget-view+json": {
       "model_id": "fe068778501c4306aad51fa593b712e0",
       "version_major": 2,
       "version_minor": 0
      },
      "text/plain": [
       "FloatProgress(value=0.0, layout=Layout(width='auto'), style=ProgressStyle(bar_color='black'))"
      ]
     },
     "metadata": {},
     "output_type": "display_data"
    },
    {
     "data": {
      "application/vnd.jupyter.widget-view+json": {
       "model_id": "e5a1fc5849c740bc85b32d1dca2844b1",
       "version_major": 2,
       "version_minor": 0
      },
      "text/plain": [
       "FloatProgress(value=0.0, layout=Layout(width='auto'), style=ProgressStyle(bar_color='black'))"
      ]
     },
     "metadata": {},
     "output_type": "display_data"
    },
    {
     "data": {
      "application/vnd.jupyter.widget-view+json": {
       "model_id": "d7cdddbd417b434ea133b9b3607db718",
       "version_major": 2,
       "version_minor": 0
      },
      "text/plain": [
       "FloatProgress(value=0.0, layout=Layout(width='auto'), style=ProgressStyle(bar_color='black'))"
      ]
     },
     "metadata": {},
     "output_type": "display_data"
    },
    {
     "data": {
      "application/vnd.jupyter.widget-view+json": {
       "model_id": "fca0649bbaf841938dfcfd7ba454a852",
       "version_major": 2,
       "version_minor": 0
      },
      "text/plain": [
       "FloatProgress(value=0.0, layout=Layout(width='auto'), style=ProgressStyle(bar_color='black'))"
      ]
     },
     "metadata": {},
     "output_type": "display_data"
    },
    {
     "data": {
      "application/vnd.jupyter.widget-view+json": {
       "model_id": "fc136345cd8b4ef0ac7c0ff073dc6f24",
       "version_major": 2,
       "version_minor": 0
      },
      "text/plain": [
       "FloatProgress(value=0.0, layout=Layout(width='auto'), style=ProgressStyle(bar_color='black'))"
      ]
     },
     "metadata": {},
     "output_type": "display_data"
    },
    {
     "data": {
      "application/vnd.jupyter.widget-view+json": {
       "model_id": "5a87f372f8b845e291ae2ec0b4bbee82",
       "version_major": 2,
       "version_minor": 0
      },
      "text/plain": [
       "FloatProgress(value=0.0, layout=Layout(width='auto'), style=ProgressStyle(bar_color='black'))"
      ]
     },
     "metadata": {},
     "output_type": "display_data"
    },
    {
     "name": "stdout",
     "output_type": "stream",
     "text": [
      "Processing 13650 of 13782\n"
     ]
    },
    {
     "data": {
      "application/vnd.jupyter.widget-view+json": {
       "model_id": "f55554571fd94e43a6152b722081250c",
       "version_major": 2,
       "version_minor": 0
      },
      "text/plain": [
       "FloatProgress(value=0.0, layout=Layout(width='auto'), style=ProgressStyle(bar_color='black'))"
      ]
     },
     "metadata": {},
     "output_type": "display_data"
    },
    {
     "data": {
      "application/vnd.jupyter.widget-view+json": {
       "model_id": "696e7a12c6da4545a93b4b3eb6da68b0",
       "version_major": 2,
       "version_minor": 0
      },
      "text/plain": [
       "FloatProgress(value=0.0, layout=Layout(width='auto'), style=ProgressStyle(bar_color='black'))"
      ]
     },
     "metadata": {},
     "output_type": "display_data"
    },
    {
     "data": {
      "application/vnd.jupyter.widget-view+json": {
       "model_id": "366f6e61c28640bc9c581239fda61262",
       "version_major": 2,
       "version_minor": 0
      },
      "text/plain": [
       "FloatProgress(value=0.0, layout=Layout(width='auto'), style=ProgressStyle(bar_color='black'))"
      ]
     },
     "metadata": {},
     "output_type": "display_data"
    },
    {
     "data": {
      "application/vnd.jupyter.widget-view+json": {
       "model_id": "4a1aef373d2846d88f1af16c59d30722",
       "version_major": 2,
       "version_minor": 0
      },
      "text/plain": [
       "FloatProgress(value=0.0, layout=Layout(width='auto'), style=ProgressStyle(bar_color='black'))"
      ]
     },
     "metadata": {},
     "output_type": "display_data"
    },
    {
     "data": {
      "application/vnd.jupyter.widget-view+json": {
       "model_id": "0468d61db2194f6e917160f4d133c3f0",
       "version_major": 2,
       "version_minor": 0
      },
      "text/plain": [
       "FloatProgress(value=0.0, layout=Layout(width='auto'), style=ProgressStyle(bar_color='black'))"
      ]
     },
     "metadata": {},
     "output_type": "display_data"
    },
    {
     "data": {
      "application/vnd.jupyter.widget-view+json": {
       "model_id": "523993e2876e4877a08ca031fe03864a",
       "version_major": 2,
       "version_minor": 0
      },
      "text/plain": [
       "FloatProgress(value=0.0, layout=Layout(width='auto'), style=ProgressStyle(bar_color='black'))"
      ]
     },
     "metadata": {},
     "output_type": "display_data"
    },
    {
     "name": "stdout",
     "output_type": "stream",
     "text": [
      "Processing 13700 of 13782\n"
     ]
    },
    {
     "data": {
      "application/vnd.jupyter.widget-view+json": {
       "model_id": "122e60a4dfba454180852a18c232f354",
       "version_major": 2,
       "version_minor": 0
      },
      "text/plain": [
       "FloatProgress(value=0.0, layout=Layout(width='auto'), style=ProgressStyle(bar_color='black'))"
      ]
     },
     "metadata": {},
     "output_type": "display_data"
    },
    {
     "data": {
      "application/vnd.jupyter.widget-view+json": {
       "model_id": "5ca15d4062664b099eda0b4e3adefe7a",
       "version_major": 2,
       "version_minor": 0
      },
      "text/plain": [
       "FloatProgress(value=0.0, layout=Layout(width='auto'), style=ProgressStyle(bar_color='black'))"
      ]
     },
     "metadata": {},
     "output_type": "display_data"
    },
    {
     "data": {
      "application/vnd.jupyter.widget-view+json": {
       "model_id": "ff83910cc4e74335b20995337830bae0",
       "version_major": 2,
       "version_minor": 0
      },
      "text/plain": [
       "FloatProgress(value=0.0, layout=Layout(width='auto'), style=ProgressStyle(bar_color='black'))"
      ]
     },
     "metadata": {},
     "output_type": "display_data"
    },
    {
     "name": "stdout",
     "output_type": "stream",
     "text": [
      "Processing 13750 of 13782\n"
     ]
    },
    {
     "data": {
      "application/vnd.jupyter.widget-view+json": {
       "model_id": "4457952810484add83eff4a5200cdd3d",
       "version_major": 2,
       "version_minor": 0
      },
      "text/plain": [
       "FloatProgress(value=0.0, layout=Layout(width='auto'), style=ProgressStyle(bar_color='black'))"
      ]
     },
     "metadata": {},
     "output_type": "display_data"
    },
    {
     "data": {
      "application/vnd.jupyter.widget-view+json": {
       "model_id": "2eccf13a434541e5aed998f42ddac905",
       "version_major": 2,
       "version_minor": 0
      },
      "text/plain": [
       "FloatProgress(value=0.0, layout=Layout(width='auto'), style=ProgressStyle(bar_color='black'))"
      ]
     },
     "metadata": {},
     "output_type": "display_data"
    }
   ],
   "source": [
    "matching(compustat_df[26000:])\n",
    "# Call matching with certain gvkey\n",
    "# matching(compustat_df[compustat_df['gvkey'] == 11058])\n",
    "# city_comp = compustat_df[compustat_df['gvkey'] == 11058]['city'].iloc[0]\n",
    "# city_nets = con.execute('SELECT * FROM nets_all WHERE hqduns = 39584008').fetchdf()['hqcity'].iloc[0]\n",
    "# print(len(city_comp), len(city_nets))"
   ]
  },
  {
   "cell_type": "code",
   "execution_count": 28,
   "id": "2929ef8fb03fe22f",
   "metadata": {
    "ExecuteTime": {
     "end_time": "2024-03-19T10:48:10.598776Z",
     "start_time": "2024-03-19T10:48:10.585633Z"
    },
    "collapsed": false
   },
   "outputs": [
    {
     "data": {
      "text/html": [
       "<div>\n",
       "<style scoped>\n",
       "    .dataframe tbody tr th:only-of-type {\n",
       "        vertical-align: middle;\n",
       "    }\n",
       "\n",
       "    .dataframe tbody tr th {\n",
       "        vertical-align: top;\n",
       "    }\n",
       "\n",
       "    .dataframe thead th {\n",
       "        text-align: right;\n",
       "    }\n",
       "</style>\n",
       "<table border=\"1\" class=\"dataframe\">\n",
       "  <thead>\n",
       "    <tr style=\"text-align: right;\">\n",
       "      <th></th>\n",
       "      <th>gvkey</th>\n",
       "      <th>hqcompany</th>\n",
       "      <th>hqduns_pub</th>\n",
       "      <th>hqcompany_pub</th>\n",
       "      <th>similarity_pub</th>\n",
       "      <th>distance_pub</th>\n",
       "      <th>hqduns_all</th>\n",
       "      <th>hqcompany_all</th>\n",
       "      <th>similarity_all</th>\n",
       "      <th>distance_all</th>\n",
       "    </tr>\n",
       "  </thead>\n",
       "  <tbody>\n",
       "    <tr>\n",
       "      <th>6574</th>\n",
       "      <td>14064</td>\n",
       "      <td>MESTEKINC</td>\n",
       "      <td>4328225</td>\n",
       "      <td>MESTEKINC</td>\n",
       "      <td>1.000000</td>\n",
       "      <td>0.345243</td>\n",
       "      <td>4328225</td>\n",
       "      <td>MESTEKINC</td>\n",
       "      <td>1.000000</td>\n",
       "      <td>0.345243</td>\n",
       "    </tr>\n",
       "    <tr>\n",
       "      <th>29093</th>\n",
       "      <td>143910</td>\n",
       "      <td>BRIDGECAPITALHLDGS</td>\n",
       "      <td>791190932</td>\n",
       "      <td>BRIDGECAPITALHLDGS</td>\n",
       "      <td>1.000000</td>\n",
       "      <td>0.000051</td>\n",
       "      <td>791190932</td>\n",
       "      <td>BRIDGECAPITALHLDGS</td>\n",
       "      <td>1.000000</td>\n",
       "      <td>0.000051</td>\n",
       "    </tr>\n",
       "    <tr>\n",
       "      <th>28118</th>\n",
       "      <td>39225</td>\n",
       "      <td>LEGALZOOM.COMINC</td>\n",
       "      <td>931244508</td>\n",
       "      <td>LEGALZOOMCOMINC</td>\n",
       "      <td>0.987500</td>\n",
       "      <td>0.003767</td>\n",
       "      <td>931244508</td>\n",
       "      <td>LEGALZOOMCOMINC</td>\n",
       "      <td>0.987500</td>\n",
       "      <td>0.003767</td>\n",
       "    </tr>\n",
       "    <tr>\n",
       "      <th>2803</th>\n",
       "      <td>30608</td>\n",
       "      <td>MPSGRPINC</td>\n",
       "      <td>96602008</td>\n",
       "      <td>MPSGRPINC</td>\n",
       "      <td>1.000000</td>\n",
       "      <td>13.151968</td>\n",
       "      <td>86726077</td>\n",
       "      <td>MPGRPINC</td>\n",
       "      <td>0.970370</td>\n",
       "      <td>0.163659</td>\n",
       "    </tr>\n",
       "    <tr>\n",
       "      <th>9204</th>\n",
       "      <td>160257</td>\n",
       "      <td>MTONEWIRELESSCORPREDH</td>\n",
       "      <td>-1</td>\n",
       "      <td>None</td>\n",
       "      <td>-1.000000</td>\n",
       "      <td>9999999.000000</td>\n",
       "      <td>830032400</td>\n",
       "      <td>MTONEWIRELESSCORP</td>\n",
       "      <td>0.961905</td>\n",
       "      <td>0.000151</td>\n",
       "    </tr>\n",
       "    <tr>\n",
       "      <th>11645</th>\n",
       "      <td>14625</td>\n",
       "      <td>AMERICANPLASTICS&amp;CHEM</td>\n",
       "      <td>-1</td>\n",
       "      <td>None</td>\n",
       "      <td>-1.000000</td>\n",
       "      <td>9999999.000000</td>\n",
       "      <td>621634583</td>\n",
       "      <td>AMERICANPLASTICS&amp;CHEMICALS</td>\n",
       "      <td>0.961538</td>\n",
       "      <td>0.001212</td>\n",
       "    </tr>\n",
       "    <tr>\n",
       "      <th>35941</th>\n",
       "      <td>9741</td>\n",
       "      <td>SIMPLEXWIREANDCABLECO</td>\n",
       "      <td>-1</td>\n",
       "      <td>None</td>\n",
       "      <td>-1.000000</td>\n",
       "      <td>9999999.000000</td>\n",
       "      <td>120885335</td>\n",
       "      <td>SIMPLEXWIRE&amp;CABLECO</td>\n",
       "      <td>0.949791</td>\n",
       "      <td>0.017240</td>\n",
       "    </tr>\n",
       "    <tr>\n",
       "      <th>27440</th>\n",
       "      <td>26296</td>\n",
       "      <td>GIBRALTARGROWTHCORP</td>\n",
       "      <td>6904429</td>\n",
       "      <td>GIBRALTAR)CORP</td>\n",
       "      <td>0.907172</td>\n",
       "      <td>40.183838</td>\n",
       "      <td>-1</td>\n",
       "      <td>None</td>\n",
       "      <td>-1.000000</td>\n",
       "      <td>9999999.000000</td>\n",
       "    </tr>\n",
       "    <tr>\n",
       "      <th>4794</th>\n",
       "      <td>185865</td>\n",
       "      <td>AUSTRALIAACQUISITIONCORP</td>\n",
       "      <td>117943061</td>\n",
       "      <td>AUSTERLITZACQUISITIONCORPII</td>\n",
       "      <td>0.900842</td>\n",
       "      <td>270.568268</td>\n",
       "      <td>-1</td>\n",
       "      <td>None</td>\n",
       "      <td>-1.000000</td>\n",
       "      <td>9999999.000000</td>\n",
       "    </tr>\n",
       "    <tr>\n",
       "      <th>23221</th>\n",
       "      <td>61449</td>\n",
       "      <td>GABELLICONV&amp;INCOMESECFD</td>\n",
       "      <td>-1</td>\n",
       "      <td>None</td>\n",
       "      <td>-1.000000</td>\n",
       "      <td>9999999.000000</td>\n",
       "      <td>-1</td>\n",
       "      <td>None</td>\n",
       "      <td>-1.000000</td>\n",
       "      <td>9999999.000000</td>\n",
       "    </tr>\n",
       "  </tbody>\n",
       "</table>\n",
       "</div>"
      ],
      "text/plain": [
       "        gvkey                 hqcompany  hqduns_pub  \\\n",
       "6574    14064                 MESTEKINC     4328225   \n",
       "29093  143910        BRIDGECAPITALHLDGS   791190932   \n",
       "28118   39225          LEGALZOOM.COMINC   931244508   \n",
       "2803    30608                 MPSGRPINC    96602008   \n",
       "9204   160257     MTONEWIRELESSCORPREDH          -1   \n",
       "11645   14625     AMERICANPLASTICS&CHEM          -1   \n",
       "35941    9741     SIMPLEXWIREANDCABLECO          -1   \n",
       "27440   26296       GIBRALTARGROWTHCORP     6904429   \n",
       "4794   185865  AUSTRALIAACQUISITIONCORP   117943061   \n",
       "23221   61449   GABELLICONV&INCOMESECFD          -1   \n",
       "\n",
       "                     hqcompany_pub  similarity_pub   distance_pub  hqduns_all  \\\n",
       "6574                     MESTEKINC        1.000000       0.345243     4328225   \n",
       "29093           BRIDGECAPITALHLDGS        1.000000       0.000051   791190932   \n",
       "28118              LEGALZOOMCOMINC        0.987500       0.003767   931244508   \n",
       "2803                     MPSGRPINC        1.000000      13.151968    86726077   \n",
       "9204                          None       -1.000000 9999999.000000   830032400   \n",
       "11645                         None       -1.000000 9999999.000000   621634583   \n",
       "35941                         None       -1.000000 9999999.000000   120885335   \n",
       "27440               GIBRALTAR)CORP        0.907172      40.183838          -1   \n",
       "4794   AUSTERLITZACQUISITIONCORPII        0.900842     270.568268          -1   \n",
       "23221                         None       -1.000000 9999999.000000          -1   \n",
       "\n",
       "                    hqcompany_all  similarity_all   distance_all  \n",
       "6574                    MESTEKINC        1.000000       0.345243  \n",
       "29093          BRIDGECAPITALHLDGS        1.000000       0.000051  \n",
       "28118             LEGALZOOMCOMINC        0.987500       0.003767  \n",
       "2803                     MPGRPINC        0.970370       0.163659  \n",
       "9204            MTONEWIRELESSCORP        0.961905       0.000151  \n",
       "11645  AMERICANPLASTICS&CHEMICALS        0.961538       0.001212  \n",
       "35941         SIMPLEXWIRE&CABLECO        0.949791       0.017240  \n",
       "27440                        None       -1.000000 9999999.000000  \n",
       "4794                         None       -1.000000 9999999.000000  \n",
       "23221                        None       -1.000000 9999999.000000  "
      ]
     },
     "execution_count": 28,
     "metadata": {},
     "output_type": "execute_result"
    }
   ],
   "source": [
    "con.sql('SELECT * FROM matched').fetchdf().sample(10).sort_values(by='similarity_all', ascending=False)"
   ]
  },
  {
   "cell_type": "code",
   "execution_count": 15,
   "id": "5f636bb5cbb71aba",
   "metadata": {
    "ExecuteTime": {
     "end_time": "2024-03-19T10:48:14.938809Z",
     "start_time": "2024-03-19T10:48:14.933607Z"
    },
    "collapsed": false
   },
   "outputs": [
    {
     "name": "stdout",
     "output_type": "stream",
     "text": [
      "38.73359810969785\n",
      "15409\n"
     ]
    }
   ],
   "source": [
    "matched = con.sql('SELECT COUNT(*) FROM matched WHERE similarity_pub >= 0.94').fetchdf()\n",
    "matched_size = con.sql('SELECT COUNT(*) FROM matched').fetchdf()['count_star()'].iloc[0]\n",
    "#print percentage of matched companies|\n",
    "print(matched['count_star()'].iloc[0] / matched_size * 100)\n",
    "print(matched['count_star()'].iloc[0])"
   ]
  },
  {
   "cell_type": "code",
   "execution_count": 18,
   "id": "b25f697e4c8c6591",
   "metadata": {
    "collapsed": false,
    "is_executing": true
   },
   "outputs": [
    {
     "name": "stdout",
     "output_type": "stream",
     "text": [
      "Number of companies: 39782\n",
      "Accuracy with all companies: 69.92609722990298%\n",
      "Accuracy only public companies: 36.501432808808005%\n",
      "Entries with same match: 0.0%\n",
      "Entries with no pub match: 47.00115630184506%\n",
      "Entries with no pub match but all match: 7.42546880498718%\n",
      "Entries with no pub match but all match and distance < 1: 12.354833844452266%\n"
     ]
    }
   ],
   "source": [
    "# Show statistics\n",
    "print(f'Number of companies: {matched_size}')\n",
    "accuracy = con.sql('SELECT COUNT(*) FROM matched WHERE similarity_pub >= 0.95').fetchdf()['count_star()'].iloc[0] / matched_size * 100\n",
    "accuray_with_all = con.sql('SELECT COUNT(*) FROM matched WHERE similarity_all >= 0.95').fetchdf()['count_star()'].iloc[0] / matched_size * 100 + accuracy\n",
    "print(f'Accuracy with all companies: {accuray_with_all}%')\n",
    "print(f'Accuracy only public companies: {accuracy}%')\n",
    "same_match = pub_match_all / matched_size * 100\n",
    "print(f'Entries with same match: {same_match}%')\n",
    "no_pub_percentage = con.sql('SELECT COUNT(*) FROM matched WHERE hqduns_pub = -1').fetchdf()['count_star()'].iloc[0] / matched_size * 100\n",
    "print(f'Entries with no pub match: {no_pub_percentage}%')\n",
    "no_pub_but_all_percentage = con.sql('SELECT COUNT(*) FROM matched WHERE hqduns_pub = -1 AND hqduns_all != -1 AND similarity_all >= 0.94').fetchdf()['count_star()'].iloc[0] / matched_size * 100\n",
    "print(f'Entries with no pub match but all match: {no_pub_but_all_percentage}%')\n",
    "# All matches, where no pub match and distance < 1\n",
    "no_pub_but_all_distance_percentage = con.sql('SELECT COUNT(*) FROM matched WHERE hqduns_pub = -1 AND hqduns_all != -1 AND distance_all < 1').fetchdf()['count_star()'].iloc[0] / matched_size * 100\n",
    "print(f'Entries with no pub match but all match and distance < 1: {no_pub_but_all_distance_percentage}%')"
   ]
  },
  {
   "cell_type": "code",
   "execution_count": 17,
   "id": "ac6e14a6336fdbc5",
   "metadata": {
    "collapsed": false,
    "is_executing": true
   },
   "outputs": [],
   "source": [
    "# con.commit()\n",
    "# con.close()"
   ]
  },
  {
   "cell_type": "code",
   "execution_count": 30,
   "id": "1f59ee3c",
   "metadata": {},
   "outputs": [],
   "source": [
    "con.execute('SELECT * FROM matched').fetchdf().to_csv('S:/Users/Hiwi/Maris/name_matching/Data/matched.csv', index=False)\n",
    "con.execute('SELECT * FROM matched').fetchdf().to_stata('S:/Users/Hiwi/Maris/name_matching/Data/matched.dta')"
   ]
  },
  {
   "cell_type": "code",
   "execution_count": null,
   "id": "2ae9862f",
   "metadata": {},
   "outputs": [],
   "source": []
  }
 ],
 "metadata": {
  "kernelspec": {
   "display_name": "Python 3",
   "language": "python",
   "name": "python3"
  },
  "language_info": {
   "codemirror_mode": {
    "name": "ipython",
    "version": 3
   },
   "file_extension": ".py",
   "mimetype": "text/x-python",
   "name": "python",
   "nbconvert_exporter": "python",
   "pygments_lexer": "ipython3",
   "version": "3.9.12"
  }
 },
 "nbformat": 4,
 "nbformat_minor": 5
}
