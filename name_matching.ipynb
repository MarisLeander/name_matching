{
 "cells": [
  {
   "cell_type": "code",
   "outputs": [],
   "source": [
    "import numpy as np\n",
    "import pandas as pd\n",
    "import duckdb\n",
    "# suppress scientific notation by setting float_format\n",
    "pd.set_option('display.float_format', '{:f}'.format)"
   ],
   "metadata": {
    "collapsed": false,
    "ExecuteTime": {
     "end_time": "2024-03-17T19:20:16.516790Z",
     "start_time": "2024-03-17T19:20:14.837866Z"
    }
   },
   "id": "f6f603996deacda8",
   "execution_count": 1
  },
  {
   "cell_type": "code",
   "outputs": [
    {
     "data": {
      "text/plain": "                     name\n0               compustat\n1      compustat_geocoded\n2           coord_matches\n3                    fnam\n4                    fnpm\n5                 matched\n6                nets_all\n7                nets_pub\n8            none_matches\n9        training_matches\n10  training_none_matches",
      "text/html": "<div>\n<style scoped>\n    .dataframe tbody tr th:only-of-type {\n        vertical-align: middle;\n    }\n\n    .dataframe tbody tr th {\n        vertical-align: top;\n    }\n\n    .dataframe thead th {\n        text-align: right;\n    }\n</style>\n<table border=\"1\" class=\"dataframe\">\n  <thead>\n    <tr style=\"text-align: right;\">\n      <th></th>\n      <th>name</th>\n    </tr>\n  </thead>\n  <tbody>\n    <tr>\n      <th>0</th>\n      <td>compustat</td>\n    </tr>\n    <tr>\n      <th>1</th>\n      <td>compustat_geocoded</td>\n    </tr>\n    <tr>\n      <th>2</th>\n      <td>coord_matches</td>\n    </tr>\n    <tr>\n      <th>3</th>\n      <td>fnam</td>\n    </tr>\n    <tr>\n      <th>4</th>\n      <td>fnpm</td>\n    </tr>\n    <tr>\n      <th>5</th>\n      <td>matched</td>\n    </tr>\n    <tr>\n      <th>6</th>\n      <td>nets_all</td>\n    </tr>\n    <tr>\n      <th>7</th>\n      <td>nets_pub</td>\n    </tr>\n    <tr>\n      <th>8</th>\n      <td>none_matches</td>\n    </tr>\n    <tr>\n      <th>9</th>\n      <td>training_matches</td>\n    </tr>\n    <tr>\n      <th>10</th>\n      <td>training_none_matches</td>\n    </tr>\n  </tbody>\n</table>\n</div>"
     },
     "execution_count": 2,
     "metadata": {},
     "output_type": "execute_result"
    }
   ],
   "source": [
    "# Conect to Database\n",
    "con = duckdb.connect(database='test.db', read_only=False)\n",
    "con.execute('INSTALL spatial')\n",
    "con.execute('LOAD spatial')\n",
    "#TODO build training data\n",
    "con.sql('SHOW TABLES').fetchdf()"
   ],
   "metadata": {
    "collapsed": false,
    "ExecuteTime": {
     "end_time": "2024-03-09T19:04:46.373120Z",
     "start_time": "2024-03-09T19:04:46.265631Z"
    }
   },
   "id": "c824611b7f823838",
   "execution_count": 2
  },
  {
   "cell_type": "code",
   "outputs": [
    {
     "data": {
      "text/plain": "     hqduns        hqcompany  latitude  longitude\n0  77719045  CHAUSBERNARDINC 40.753300 -73.986900",
      "text/html": "<div>\n<style scoped>\n    .dataframe tbody tr th:only-of-type {\n        vertical-align: middle;\n    }\n\n    .dataframe tbody tr th {\n        vertical-align: top;\n    }\n\n    .dataframe thead th {\n        text-align: right;\n    }\n</style>\n<table border=\"1\" class=\"dataframe\">\n  <thead>\n    <tr style=\"text-align: right;\">\n      <th></th>\n      <th>hqduns</th>\n      <th>hqcompany</th>\n      <th>latitude</th>\n      <th>longitude</th>\n    </tr>\n  </thead>\n  <tbody>\n    <tr>\n      <th>0</th>\n      <td>77719045</td>\n      <td>CHAUSBERNARDINC</td>\n      <td>40.753300</td>\n      <td>-73.986900</td>\n    </tr>\n  </tbody>\n</table>\n</div>"
     },
     "execution_count": 76,
     "metadata": {},
     "output_type": "execute_result"
    }
   ],
   "source": [
    "# Get one random row of nets\n",
    "con.sql('SELECT * FROM nets_pub ORDER BY RANDOM() LIMIT 1').fetchdf()"
   ],
   "metadata": {
    "collapsed": false,
    "ExecuteTime": {
     "end_time": "2024-03-09T12:38:55.400726Z",
     "start_time": "2024-03-09T12:38:55.391638Z"
    }
   },
   "id": "58b3f6701bac76b6",
   "execution_count": 76
  },
  {
   "cell_type": "code",
   "outputs": [],
   "source": [
    "prepared_statement_name_pub = \"\"\"\n",
    "    CREATE TABLE tmp AS\n",
    "    SELECT\n",
    "        hqduns, \n",
    "        hqcompany,\n",
    "        latitude,\n",
    "        longitude,\n",
    "        jaro_winkler_similarity(n.hqcompany, ?) AS similarity_score\n",
    "    FROM\n",
    "        nets_pub n\n",
    "        --we can use other similarity functions\n",
    "        --we can also use other similarity scores\n",
    "\"\"\"\n",
    "prepared_statement_name_all = \"\"\"\n",
    "    CREATE TABLE tmp AS\n",
    "    SELECT\n",
    "        hqduns, \n",
    "        hqcompany,\n",
    "        latitude,\n",
    "        longitude,\n",
    "        jaro_winkler_similarity(n.hqcompany, ?) AS similarity_score\n",
    "    FROM\n",
    "        nets_all n\n",
    "        --we can use other similarity functions\n",
    "        --we can also use other similarity scores\n",
    "\"\"\"\n",
    "\n",
    "prepared_statement_add_match = \"\"\"\n",
    "    INSERT INTO matched\n",
    "    VALUES (?, --gvkey \n",
    "            (SELECT hqcompany FROM compustat WHERE gvkey = ?), --hqcompany\n",
    "            ?, --hqduns_pub\n",
    "            (SELECT hqcompany FROM nets_pub WHERE hqduns = ?),\n",
    "            ?, --name similarity_pub\n",
    "            ?, --distance pub\n",
    "            ?, --hqduns_all\n",
    "            (SELECT hqcompany FROM nets_all WHERE hqduns = ?),\n",
    "            ?,  --name similarity_all\n",
    "            ?); --distance all\n",
    "\"\"\"\n",
    "\n",
    "prepared_statement_geo_match_all = \"\"\"\n",
    "    SELECT \n",
    "        hqduns,\n",
    "        similarity_score,\n",
    "        ST_Distance(\n",
    "            ST_Point(n.latitude, n.longitude)::GEOMETRY,\n",
    "            ST_Point(?, ?)::GEOMETRY\n",
    "            ) AS distance\n",
    "    FROM fnam n\n",
    "    ORDER BY distance ASC\n",
    "    LIMIT 1;\n",
    "\"\"\"\n",
    "\n",
    "prepared_statement_geo_match_pub = \"\"\"\n",
    "    SELECT \n",
    "        hqduns,\n",
    "        similarity_score,\n",
    "        ST_Distance(\n",
    "            ST_Point(n.latitude, n.longitude)::GEOMETRY,\n",
    "            ST_Point(?, ?)::GEOMETRY\n",
    "            ) AS distance\n",
    "    FROM fnpm n\n",
    "    ORDER BY distance ASC\n",
    "    LIMIT 1;\n",
    "\"\"\""
   ],
   "metadata": {
    "collapsed": false,
    "ExecuteTime": {
     "end_time": "2024-03-09T12:38:55.403433Z",
     "start_time": "2024-03-09T12:38:55.401399Z"
    }
   },
   "id": "e1b8e6077f5a53d8",
   "execution_count": 77
  },
  {
   "cell_type": "code",
   "outputs": [],
   "source": [
    "# Get the matches for a specific name\n",
    "def name_similarity_pub(comp_name):\n",
    "    con.execute('DROP TABLE IF EXISTS tmp;')\n",
    "    con.execute(prepared_statement_name_pub, [comp_name])\n",
    "    return con.sql('SELECT * FROM tmp WHERE similarity_score > 0.9 ORDER BY similarity_score DESC LIMIT 5').fetchdf() #TODO change threshold\n",
    "\n",
    "def name_similarity_all(comp_name):\n",
    "    con.execute('DROP TABLE IF EXISTS tmp;')\n",
    "    con.execute(prepared_statement_name_all, [comp_name])\n",
    "    return con.sql('SELECT * FROM tmp WHERE similarity_score > 0.9 ORDER BY similarity_score DESC LIMIT 10').fetchdf() #TODO change threshold\n"
   ],
   "metadata": {
    "collapsed": false,
    "ExecuteTime": {
     "end_time": "2024-03-09T12:38:55.406621Z",
     "start_time": "2024-03-09T12:38:55.404547Z"
    }
   },
   "id": "3b33b19523b5bc8b",
   "execution_count": 78
  },
  {
   "cell_type": "code",
   "outputs": [],
   "source": [
    "# # Matching process\n",
    "# con.execute('DROP TABLE IF EXISTS matched;')\n",
    "# \n",
    "# sql_query = \"\"\"\n",
    "# CREATE TABLE matched (\n",
    "#     gvkey INTEGER,\n",
    "#     hqcompany VARCHAR(255),\n",
    "#     hqduns_pub INTEGER,\n",
    "#     hqcompany_pub VARCHAR(255),\n",
    "#     name_similarity_pub FLOAT,\n",
    "#     distance_pub FLOAT,\n",
    "#     hqduns_all INTEGER,\n",
    "#     hqcompany_all VARCHAR(255),\n",
    "#     name_similarity_all FLOAT,\n",
    "#     distance_all FLOAT);\n",
    "# \"\"\"\n",
    "#con.execute(sql_query)\n"
   ],
   "metadata": {
    "collapsed": false,
    "ExecuteTime": {
     "end_time": "2024-03-09T12:38:55.408594Z",
     "start_time": "2024-03-09T12:38:55.407162Z"
    }
   },
   "id": "86f538d00b6583c6",
   "execution_count": 79
  },
  {
   "cell_type": "code",
   "outputs": [],
   "source": [
    "\n",
    "compustat_df = con.sql('SELECT * FROM compustat').fetchdf()\n",
    "\n",
    "# Fill missing values\n",
    "compustat_df['lat'] = compustat_df['lat'].fillna(0)\n",
    "compustat_df['lon'] = compustat_df['lon'].fillna(0)\n",
    "# compustat_df['phone'] = compustat_df['phone'].fillna('')\n",
    "compustat_df = compustat_df.sample(1) #compustat_df[8000:18000]"
   ],
   "metadata": {
    "collapsed": false,
    "ExecuteTime": {
     "end_time": "2024-03-09T19:04:58.499759Z",
     "start_time": "2024-03-09T19:04:58.480305Z"
    }
   },
   "id": "e08e86a8b814d0df",
   "execution_count": 3
  },
  {
   "cell_type": "code",
   "outputs": [],
   "source": [
    "# Stats Counter\n",
    "pub_match_all = 0"
   ],
   "metadata": {
    "collapsed": false,
    "ExecuteTime": {
     "end_time": "2024-03-09T19:04:59.112172Z",
     "start_time": "2024-03-09T19:04:59.109335Z"
    }
   },
   "id": "fee2e6385058cd99",
   "execution_count": 4
  },
  {
   "cell_type": "code",
   "outputs": [
    {
     "name": "stdout",
     "output_type": "stream",
     "text": [
      "Processing 1 of 1\n"
     ]
    },
    {
     "ename": "NameError",
     "evalue": "name 'name_similarity_pub' is not defined",
     "output_type": "error",
     "traceback": [
      "\u001B[0;31m---------------------------------------------------------------------------\u001B[0m",
      "\u001B[0;31mNameError\u001B[0m                                 Traceback (most recent call last)",
      "Cell \u001B[0;32mIn[5], line 11\u001B[0m\n\u001B[1;32m      9\u001B[0m     \u001B[38;5;28;01mcontinue\u001B[39;00m\n\u001B[1;32m     10\u001B[0m \u001B[38;5;66;03m# Get candidate matches\u001B[39;00m\n\u001B[0;32m---> 11\u001B[0m name_pub_match \u001B[38;5;241m=\u001B[39m \u001B[43mname_similarity_pub\u001B[49m(row[\u001B[38;5;124m'\u001B[39m\u001B[38;5;124mhqcompany\u001B[39m\u001B[38;5;124m'\u001B[39m])\n\u001B[1;32m     13\u001B[0m \u001B[38;5;28;01mtry\u001B[39;00m:\n\u001B[1;32m     14\u001B[0m     filtered_name_pub_matches \u001B[38;5;241m=\u001B[39m name_pub_match[name_pub_match[\u001B[38;5;124m'\u001B[39m\u001B[38;5;124msimilarity_score\u001B[39m\u001B[38;5;124m'\u001B[39m] \u001B[38;5;241m==\u001B[39m name_pub_match[\u001B[38;5;124m'\u001B[39m\u001B[38;5;124msimilarity_score\u001B[39m\u001B[38;5;124m'\u001B[39m]\u001B[38;5;241m.\u001B[39miloc[\u001B[38;5;241m0\u001B[39m]]\n",
      "\u001B[0;31mNameError\u001B[0m: name 'name_similarity_pub' is not defined"
     ]
    }
   ],
   "source": [
    "i = 0\n",
    "for index, row in compustat_df.iterrows():\n",
    "    i += 1\n",
    "    print(f'Processing {i} of {compustat_df.shape[0]}')\n",
    "    gvkey = row['gvkey']\n",
    "    #check if gvkey is already in matched\n",
    "    if con.sql(f'SELECT COUNT(*) FROM matched WHERE gvkey = {gvkey}').fetchdf()['count_star()'].iloc[0] > 0:\n",
    "        print(f'Already processed {gvkey}, {row[\"hqcompany\"]}')\n",
    "        continue\n",
    "    # Get candidate matches\n",
    "    name_pub_match = name_similarity_pub(row['hqcompany'])\n",
    "    \n",
    "    try:\n",
    "        filtered_name_pub_matches = name_pub_match[name_pub_match['similarity_score'] == name_pub_match['similarity_score'].iloc[0]]\n",
    "        # Create a temporary table with the filtered results\n",
    "        con.execute('DROP TABLE IF EXISTS fnpm;')\n",
    "        con.execute('DROP TABLE IF EXISTS tmp;')\n",
    "        con.execute('CREATE TABLE fnpm AS SELECT * FROM filtered_name_pub_matches;')\n",
    "        pub_match = con.execute(prepared_statement_geo_match_pub, [row['lat'], row['lon']]).fetchdf().iloc[0]\n",
    "    except IndexError:\n",
    "        pub_match = pd.DataFrame(columns= ['hqduns', 'similarity_score', 'distance'])\n",
    "        pub_match.loc[0] = [-1, -1, 9999999]  # Fill with default values\n",
    "        \n",
    "    name_all_matches = name_similarity_all(row['hqcompany'])\n",
    "    \n",
    "    try:\n",
    "        # Get the top similarity score\n",
    "        top_similarity_score = name_all_matches['similarity_score'].iloc[0]\n",
    "        # Filter the DataFrame\n",
    "        filtered_name_all_matches = name_all_matches[name_all_matches['similarity_score'] == top_similarity_score]\n",
    "        # Create a temporary table with the filtered results\n",
    "        con.execute('DROP TABLE IF EXISTS fnam;')\n",
    "        con.execute('DROP TABLE IF EXISTS tmp;')\n",
    "        con.execute('CREATE TABLE fnam AS SELECT * FROM filtered_name_all_matches;')\n",
    "        name_all_match = con.execute(prepared_statement_geo_match_all, [row['lat'], row['lon']]).fetchdf().iloc[0]\n",
    "    except IndexError:\n",
    "        name_all_match = pd.DataFrame(columns= ['hqduns', 'similarity_score', 'distance'])\n",
    "        name_all_match.loc[0] = [-1, -1, 9999999]  # Fill with default values\n",
    "\n",
    "    if pub_match['hqduns'].item() in name_all_matches['hqduns'].values and pub_match['similarity_score'].item() >= name_all_match['similarity_score'].item():\n",
    "        name_all_match = pub_match\n",
    "        pub_match_all += 1\n",
    "    \n",
    "    try:    \n",
    "        con.execute(prepared_statement_add_match, [gvkey, gvkey, pub_match['hqduns'].item(), pub_match['hqduns'].item(), pub_match['similarity_score'].item(), pub_match['distance'].item(), name_all_match['hqduns'].item(), name_all_match['hqduns'].item(), name_all_match['similarity_score'].item(), name_all_match['distance'].item()])\n",
    "    except KeyError:\n",
    "         con.execute(prepared_statement_add_match, [gvkey, gvkey, pub_match['hqduns'].item(), pub_match['hqduns'].item(), pub_match['similarity_score'].item(), pub_match['distance'].item(), name_all_match['hqduns'].item(), name_all_match['hqduns'].item(), name_all_match['similarity_score'].item(), -1])\n",
    "\n",
    "    \n",
    "    "
   ],
   "metadata": {
    "collapsed": false,
    "ExecuteTime": {
     "end_time": "2024-03-09T19:04:59.833908Z",
     "start_time": "2024-03-09T19:04:59.726519Z"
    }
   },
   "id": "984464a7622e2ef7",
   "execution_count": 5
  },
  {
   "cell_type": "code",
   "outputs": [
    {
     "data": {
      "text/plain": "      gvkey                   hqcompany  hqduns_pub       hqcompany_pub  \\\n386    7523                 MONITOR@INC    13135058            MONROINC   \n58    10744            TRITONGRPLTD-OLD    50794817        TRITONGRPLTD   \n49     5777                 HUMPHREYINC          -1                None   \n430    7438              MINNETONKACORP          -1                None   \n628   25019           PLAINSSPIRIT)CORP   796948693   PLAINSSPIRIT)CORP   \n..      ...                         ...         ...                 ...   \n22   264712             SHOPPING.COMLTD          -1                None   \n272  143605                 MEDCATHCORP    21115162         MEDCATHCORP   \n659  176612            PROSHARESULTSH)S          -1                None   \n316  141158  IRSAPROPIEDADESCOMERCIALES          -1                None   \n294   32885            GLOBALATOMICCORP   131543001  GLOBALMAINTECHCORP   \n\n     name_similarity_pub   distance_pub  hqduns_all      hqcompany_all  \\\n386             0.907197      35.323483   607420460        MONITOR@INC   \n58              0.950000       7.189032    73678505       TRITONGRPLTD   \n49             -1.000000 9999999.000000    31304116        HUMPHREYINC   \n430            -1.000000 9999999.000000   194195397        MINNOKACORP   \n628             1.000000       0.000085   796948693  PLAINSSPIRIT)CORP   \n..                   ...            ...         ...                ...   \n22             -1.000000 9999999.000000   104579246     SHOPPINGCOMLTD   \n272             1.000000      38.273224    21115162        MEDCATHCORP   \n659            -1.000000 9999999.000000    79731538   PROSHARESSHORT)S   \n316            -1.000000 9999999.000000          -1               None   \n294             0.914167      43.055630   120423956    GLOBALQTCOMCORP   \n\n     name_similarity_all   distance_all  \n386             1.000000      15.546094  \n58              0.950000       1.301611  \n49              1.000000      19.103863  \n430             0.957143      15.369818  \n628             1.000000       0.000085  \n..                   ...            ...  \n22              0.986667     106.415848  \n272             1.000000      38.273224  \n659             0.935714       0.003086  \n316            -1.000000 9999999.000000  \n294             0.947381      40.229210  \n\n[100 rows x 10 columns]",
      "text/html": "<div>\n<style scoped>\n    .dataframe tbody tr th:only-of-type {\n        vertical-align: middle;\n    }\n\n    .dataframe tbody tr th {\n        vertical-align: top;\n    }\n\n    .dataframe thead th {\n        text-align: right;\n    }\n</style>\n<table border=\"1\" class=\"dataframe\">\n  <thead>\n    <tr style=\"text-align: right;\">\n      <th></th>\n      <th>gvkey</th>\n      <th>hqcompany</th>\n      <th>hqduns_pub</th>\n      <th>hqcompany_pub</th>\n      <th>name_similarity_pub</th>\n      <th>distance_pub</th>\n      <th>hqduns_all</th>\n      <th>hqcompany_all</th>\n      <th>name_similarity_all</th>\n      <th>distance_all</th>\n    </tr>\n  </thead>\n  <tbody>\n    <tr>\n      <th>386</th>\n      <td>7523</td>\n      <td>MONITOR@INC</td>\n      <td>13135058</td>\n      <td>MONROINC</td>\n      <td>0.907197</td>\n      <td>35.323483</td>\n      <td>607420460</td>\n      <td>MONITOR@INC</td>\n      <td>1.000000</td>\n      <td>15.546094</td>\n    </tr>\n    <tr>\n      <th>58</th>\n      <td>10744</td>\n      <td>TRITONGRPLTD-OLD</td>\n      <td>50794817</td>\n      <td>TRITONGRPLTD</td>\n      <td>0.950000</td>\n      <td>7.189032</td>\n      <td>73678505</td>\n      <td>TRITONGRPLTD</td>\n      <td>0.950000</td>\n      <td>1.301611</td>\n    </tr>\n    <tr>\n      <th>49</th>\n      <td>5777</td>\n      <td>HUMPHREYINC</td>\n      <td>-1</td>\n      <td>None</td>\n      <td>-1.000000</td>\n      <td>9999999.000000</td>\n      <td>31304116</td>\n      <td>HUMPHREYINC</td>\n      <td>1.000000</td>\n      <td>19.103863</td>\n    </tr>\n    <tr>\n      <th>430</th>\n      <td>7438</td>\n      <td>MINNETONKACORP</td>\n      <td>-1</td>\n      <td>None</td>\n      <td>-1.000000</td>\n      <td>9999999.000000</td>\n      <td>194195397</td>\n      <td>MINNOKACORP</td>\n      <td>0.957143</td>\n      <td>15.369818</td>\n    </tr>\n    <tr>\n      <th>628</th>\n      <td>25019</td>\n      <td>PLAINSSPIRIT)CORP</td>\n      <td>796948693</td>\n      <td>PLAINSSPIRIT)CORP</td>\n      <td>1.000000</td>\n      <td>0.000085</td>\n      <td>796948693</td>\n      <td>PLAINSSPIRIT)CORP</td>\n      <td>1.000000</td>\n      <td>0.000085</td>\n    </tr>\n    <tr>\n      <th>...</th>\n      <td>...</td>\n      <td>...</td>\n      <td>...</td>\n      <td>...</td>\n      <td>...</td>\n      <td>...</td>\n      <td>...</td>\n      <td>...</td>\n      <td>...</td>\n      <td>...</td>\n    </tr>\n    <tr>\n      <th>22</th>\n      <td>264712</td>\n      <td>SHOPPING.COMLTD</td>\n      <td>-1</td>\n      <td>None</td>\n      <td>-1.000000</td>\n      <td>9999999.000000</td>\n      <td>104579246</td>\n      <td>SHOPPINGCOMLTD</td>\n      <td>0.986667</td>\n      <td>106.415848</td>\n    </tr>\n    <tr>\n      <th>272</th>\n      <td>143605</td>\n      <td>MEDCATHCORP</td>\n      <td>21115162</td>\n      <td>MEDCATHCORP</td>\n      <td>1.000000</td>\n      <td>38.273224</td>\n      <td>21115162</td>\n      <td>MEDCATHCORP</td>\n      <td>1.000000</td>\n      <td>38.273224</td>\n    </tr>\n    <tr>\n      <th>659</th>\n      <td>176612</td>\n      <td>PROSHARESULTSH)S</td>\n      <td>-1</td>\n      <td>None</td>\n      <td>-1.000000</td>\n      <td>9999999.000000</td>\n      <td>79731538</td>\n      <td>PROSHARESSHORT)S</td>\n      <td>0.935714</td>\n      <td>0.003086</td>\n    </tr>\n    <tr>\n      <th>316</th>\n      <td>141158</td>\n      <td>IRSAPROPIEDADESCOMERCIALES</td>\n      <td>-1</td>\n      <td>None</td>\n      <td>-1.000000</td>\n      <td>9999999.000000</td>\n      <td>-1</td>\n      <td>None</td>\n      <td>-1.000000</td>\n      <td>9999999.000000</td>\n    </tr>\n    <tr>\n      <th>294</th>\n      <td>32885</td>\n      <td>GLOBALATOMICCORP</td>\n      <td>131543001</td>\n      <td>GLOBALMAINTECHCORP</td>\n      <td>0.914167</td>\n      <td>43.055630</td>\n      <td>120423956</td>\n      <td>GLOBALQTCOMCORP</td>\n      <td>0.947381</td>\n      <td>40.229210</td>\n    </tr>\n  </tbody>\n</table>\n<p>100 rows × 10 columns</p>\n</div>"
     },
     "execution_count": 8,
     "metadata": {},
     "output_type": "execute_result"
    }
   ],
   "source": [
    "con.sql('SELECT * FROM matched').fetchdf().sample(100)"
   ],
   "metadata": {
    "collapsed": false,
    "ExecuteTime": {
     "end_time": "2024-03-09T19:06:46.521526Z",
     "start_time": "2024-03-09T19:06:46.514480Z"
    }
   },
   "id": "2929ef8fb03fe22f",
   "execution_count": 8
  },
  {
   "cell_type": "code",
   "outputs": [
    {
     "name": "stdout",
     "output_type": "stream",
     "text": [
      "35.56443556443556\n",
      "356\n"
     ]
    }
   ],
   "source": [
    "matched = con.sql('SELECT COUNT(*) FROM matched WHERE name_similarity_pub >= 0.95').fetchdf()\n",
    "matched_size = con.sql('SELECT COUNT(*) FROM matched').fetchdf()['count_star()'].iloc[0]\n",
    "#print percentage of matched companies|\n",
    "print(matched['count_star()'].iloc[0] / matched_size * 100)\n",
    "print(matched['count_star()'].iloc[0])"
   ],
   "metadata": {
    "collapsed": false,
    "ExecuteTime": {
     "end_time": "2024-03-09T19:06:55.407143Z",
     "start_time": "2024-03-09T19:06:55.401373Z"
    }
   },
   "id": "5f636bb5cbb71aba",
   "execution_count": 10
  },
  {
   "cell_type": "code",
   "outputs": [
    {
     "name": "stdout",
     "output_type": "stream",
     "text": [
      "Number of companies: 1001\n",
      "Accuracy with all companies: 69.73026973026974%\n",
      "Accuracy only public companies: 35.56443556443556%\n",
      "Entries with same match: 0.0%\n",
      "Entries with no pub match: 48.451548451548454%\n",
      "Entries with no pub match but all match: 22.27772227772228%\n",
      "Entries with no pub match but all match and distance < 1: 11.688311688311687%\n"
     ]
    }
   ],
   "source": [
    "# Show statistics\n",
    "print(f'Number of companies: {matched_size}')\n",
    "accuracy = con.sql('SELECT COUNT(*) FROM matched WHERE name_similarity_pub >= 0.95').fetchdf()['count_star()'].iloc[0] / matched_size * 100\n",
    "accuray_with_all = con.sql('SELECT COUNT(*) FROM matched WHERE name_similarity_all >= 0.95').fetchdf()['count_star()'].iloc[0] / matched_size * 100\n",
    "print(f'Accuracy with all companies: {accuray_with_all}%')\n",
    "print(f'Accuracy only public companies: {accuracy}%')\n",
    "same_match = pub_match_all / matched_size * 100\n",
    "print(f'Entries with same match: {same_match}%')\n",
    "no_pub_percentage = con.sql('SELECT COUNT(*) FROM matched WHERE hqduns_pub = -1').fetchdf()['count_star()'].iloc[0] / matched_size * 100\n",
    "print(f'Entries with no pub match: {no_pub_percentage}%')\n",
    "no_pub_but_all_percentage = con.sql('SELECT COUNT(*) FROM matched WHERE hqduns_pub = -1 AND hqduns_all != -1 AND name_similarity_all >= 0.95').fetchdf()['count_star()'].iloc[0] / matched_size * 100\n",
    "print(f'Entries with no pub match but all match: {no_pub_but_all_percentage}%')\n",
    "# All matches, where no pub match and distance < 1\n",
    "no_pub_but_all_distance_percentage = con.sql('SELECT COUNT(*) FROM matched WHERE hqduns_pub = -1 AND hqduns_all != -1 AND distance_all < 1').fetchdf()['count_star()'].iloc[0] / matched_size * 100\n",
    "print(f'Entries with no pub match but all match and distance < 1: {no_pub_but_all_distance_percentage}%')"
   ],
   "metadata": {
    "collapsed": false,
    "ExecuteTime": {
     "end_time": "2024-03-09T19:06:56.313438Z",
     "start_time": "2024-03-09T19:06:56.304687Z"
    }
   },
   "id": "b25f697e4c8c6591",
   "execution_count": 11
  },
  {
   "cell_type": "code",
   "outputs": [],
   "source": [],
   "metadata": {
    "collapsed": false,
    "ExecuteTime": {
     "end_time": "2024-03-09T15:46:40.102284Z",
     "start_time": "2024-03-09T15:46:40.101166Z"
    }
   },
   "id": "ac6e14a6336fdbc5",
   "execution_count": 85
  }
 ],
 "metadata": {
  "kernelspec": {
   "display_name": "Python 3",
   "language": "python",
   "name": "python3"
  },
  "language_info": {
   "codemirror_mode": {
    "name": "ipython",
    "version": 2
   },
   "file_extension": ".py",
   "mimetype": "text/x-python",
   "name": "python",
   "nbconvert_exporter": "python",
   "pygments_lexer": "ipython2",
   "version": "2.7.6"
  }
 },
 "nbformat": 4,
 "nbformat_minor": 5
}
