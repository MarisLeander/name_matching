{
 "cells": [
  {
   "cell_type": "code",
   "execution_count": 18,
   "id": "f6f603996deacda8",
   "metadata": {
    "ExecuteTime": {
     "end_time": "2024-03-19T10:46:42.636177Z",
     "start_time": "2024-03-19T10:46:42.273638Z"
    },
    "collapsed": false
   },
   "outputs": [],
   "source": [
    "import numpy as np\n",
    "import pandas as pd\n",
    "import duckdb\n",
    "# suppress scientific notation by setting float_format\n",
    "pd.set_option('display.float_format', '{:f}'.format)"
   ]
  },
  {
   "cell_type": "code",
   "execution_count": 19,
   "id": "c824611b7f823838",
   "metadata": {
    "ExecuteTime": {
     "end_time": "2024-03-19T10:46:42.922661Z",
     "start_time": "2024-03-19T10:46:42.835160Z"
    },
    "collapsed": false
   },
   "outputs": [
    {
     "data": {
      "text/html": [
       "<div>\n",
       "<style scoped>\n",
       "    .dataframe tbody tr th:only-of-type {\n",
       "        vertical-align: middle;\n",
       "    }\n",
       "\n",
       "    .dataframe tbody tr th {\n",
       "        vertical-align: top;\n",
       "    }\n",
       "\n",
       "    .dataframe thead th {\n",
       "        text-align: right;\n",
       "    }\n",
       "</style>\n",
       "<table border=\"1\" class=\"dataframe\">\n",
       "  <thead>\n",
       "    <tr style=\"text-align: right;\">\n",
       "      <th></th>\n",
       "      <th>name</th>\n",
       "    </tr>\n",
       "  </thead>\n",
       "  <tbody>\n",
       "    <tr>\n",
       "      <th>0</th>\n",
       "      <td>compustat</td>\n",
       "    </tr>\n",
       "    <tr>\n",
       "      <th>1</th>\n",
       "      <td>compustat_geocoded</td>\n",
       "    </tr>\n",
       "    <tr>\n",
       "      <th>2</th>\n",
       "      <td>fnpm</td>\n",
       "    </tr>\n",
       "    <tr>\n",
       "      <th>3</th>\n",
       "      <td>matched</td>\n",
       "    </tr>\n",
       "    <tr>\n",
       "      <th>4</th>\n",
       "      <td>nets_all</td>\n",
       "    </tr>\n",
       "    <tr>\n",
       "      <th>5</th>\n",
       "      <td>nets_pub</td>\n",
       "    </tr>\n",
       "    <tr>\n",
       "      <th>6</th>\n",
       "      <td>tmp</td>\n",
       "    </tr>\n",
       "  </tbody>\n",
       "</table>\n",
       "</div>"
      ],
      "text/plain": [
       "                 name\n",
       "0           compustat\n",
       "1  compustat_geocoded\n",
       "2                fnpm\n",
       "3             matched\n",
       "4            nets_all\n",
       "5            nets_pub\n",
       "6                 tmp"
      ]
     },
     "execution_count": 19,
     "metadata": {},
     "output_type": "execute_result"
    }
   ],
   "source": [
    "# Conect to Database\n",
    "con = duckdb.connect(database='database.db', read_only=False)\n",
    "con.execute('INSTALL spatial')\n",
    "con.execute('LOAD spatial')\n",
    "#TODO build training data\n",
    "con.sql('SHOW TABLES').fetchdf()"
   ]
  },
  {
   "cell_type": "code",
   "execution_count": 20,
   "id": "da18e4ce4d4f0be3",
   "metadata": {
    "ExecuteTime": {
     "end_time": "2024-03-19T00:34:32.104664Z",
     "start_time": "2024-03-19T00:34:32.101348Z"
    },
    "collapsed": false
   },
   "outputs": [
    {
     "data": {
      "text/html": [
       "<div>\n",
       "<style scoped>\n",
       "    .dataframe tbody tr th:only-of-type {\n",
       "        vertical-align: middle;\n",
       "    }\n",
       "\n",
       "    .dataframe tbody tr th {\n",
       "        vertical-align: top;\n",
       "    }\n",
       "\n",
       "    .dataframe thead th {\n",
       "        text-align: right;\n",
       "    }\n",
       "</style>\n",
       "<table border=\"1\" class=\"dataframe\">\n",
       "  <thead>\n",
       "    <tr style=\"text-align: right;\">\n",
       "      <th></th>\n",
       "      <th>count_star()</th>\n",
       "    </tr>\n",
       "  </thead>\n",
       "  <tbody>\n",
       "    <tr>\n",
       "      <th>0</th>\n",
       "      <td>39782</td>\n",
       "    </tr>\n",
       "  </tbody>\n",
       "</table>\n",
       "</div>"
      ],
      "text/plain": [
       "   count_star()\n",
       "0         39782"
      ]
     },
     "execution_count": 20,
     "metadata": {},
     "output_type": "execute_result"
    }
   ],
   "source": [
    "con.sql('SELECT COUNT (*) FROM compustat').fetchdf()"
   ]
  },
  {
   "cell_type": "code",
   "execution_count": 36,
   "id": "97312723",
   "metadata": {},
   "outputs": [
    {
     "data": {
      "text/html": [
       "<div>\n",
       "<style scoped>\n",
       "    .dataframe tbody tr th:only-of-type {\n",
       "        vertical-align: middle;\n",
       "    }\n",
       "\n",
       "    .dataframe tbody tr th {\n",
       "        vertical-align: top;\n",
       "    }\n",
       "\n",
       "    .dataframe thead th {\n",
       "        text-align: right;\n",
       "    }\n",
       "</style>\n",
       "<table border=\"1\" class=\"dataframe\">\n",
       "  <thead>\n",
       "    <tr style=\"text-align: right;\">\n",
       "      <th></th>\n",
       "      <th>gvkey</th>\n",
       "      <th>hqcompany</th>\n",
       "      <th>hqzipcode</th>\n",
       "      <th>city</th>\n",
       "      <th>lat</th>\n",
       "      <th>lon</th>\n",
       "    </tr>\n",
       "  </thead>\n",
       "  <tbody>\n",
       "    <tr>\n",
       "      <th>445</th>\n",
       "      <td>4402</td>\n",
       "      <td>ENTERTAINMENTPUBLISHINGCP</td>\n",
       "      <td>48083</td>\n",
       "      <td>TROY</td>\n",
       "      <td>42.595040</td>\n",
       "      <td>-83.171965</td>\n",
       "    </tr>\n",
       "    <tr>\n",
       "      <th>311</th>\n",
       "      <td>3333</td>\n",
       "      <td>ARTESYN@INC</td>\n",
       "      <td>33434-4105</td>\n",
       "      <td>BOCA RATON</td>\n",
       "      <td>26.365509</td>\n",
       "      <td>-80.167507</td>\n",
       "    </tr>\n",
       "    <tr>\n",
       "      <th>866</th>\n",
       "      <td>7853</td>\n",
       "      <td>BLAIRCORP</td>\n",
       "      <td>16366</td>\n",
       "      <td>WARREN</td>\n",
       "      <td>41.845637</td>\n",
       "      <td>-79.148695</td>\n",
       "    </tr>\n",
       "    <tr>\n",
       "      <th>541</th>\n",
       "      <td>5204</td>\n",
       "      <td>GOLDORELTDOFCRIPPLECR</td>\n",
       "      <td></td>\n",
       "      <td></td>\n",
       "      <td>3.901116</td>\n",
       "      <td>-73.075755</td>\n",
       "    </tr>\n",
       "    <tr>\n",
       "      <th>986</th>\n",
       "      <td>8764</td>\n",
       "      <td>PROSCANINC</td>\n",
       "      <td>80202</td>\n",
       "      <td>DENVER</td>\n",
       "      <td>39.747090</td>\n",
       "      <td>-104.997219</td>\n",
       "    </tr>\n",
       "    <tr>\n",
       "      <th>510</th>\n",
       "      <td>4976</td>\n",
       "      <td>STRATEGICVALUECORP</td>\n",
       "      <td>M5J 2W4</td>\n",
       "      <td>TORONTO</td>\n",
       "      <td>43.647447</td>\n",
       "      <td>-79.380118</td>\n",
       "    </tr>\n",
       "    <tr>\n",
       "      <th>63</th>\n",
       "      <td>1555</td>\n",
       "      <td>AMERICANSEATINGCO</td>\n",
       "      <td>49504</td>\n",
       "      <td>GRAND RAPIDS</td>\n",
       "      <td>42.978694</td>\n",
       "      <td>-85.682009</td>\n",
       "    </tr>\n",
       "    <tr>\n",
       "      <th>257</th>\n",
       "      <td>2903</td>\n",
       "      <td>CHAD^INC</td>\n",
       "      <td>91311</td>\n",
       "      <td>CHATSWORTH</td>\n",
       "      <td>34.255819</td>\n",
       "      <td>-118.579580</td>\n",
       "    </tr>\n",
       "    <tr>\n",
       "      <th>253</th>\n",
       "      <td>2877</td>\n",
       "      <td>CENTURYBUSINESSCREDIT</td>\n",
       "      <td>10018</td>\n",
       "      <td>NEW YORK</td>\n",
       "      <td>40.754029</td>\n",
       "      <td>-73.985899</td>\n",
       "    </tr>\n",
       "    <tr>\n",
       "      <th>944</th>\n",
       "      <td>8430</td>\n",
       "      <td>PENNCENTRALCO</td>\n",
       "      <td>45202</td>\n",
       "      <td>CINCINNATI</td>\n",
       "      <td>39.099723</td>\n",
       "      <td>-84.512324</td>\n",
       "    </tr>\n",
       "  </tbody>\n",
       "</table>\n",
       "</div>"
      ],
      "text/plain": [
       "     gvkey                  hqcompany   hqzipcode          city       lat  \\\n",
       "445   4402  ENTERTAINMENTPUBLISHINGCP       48083          TROY 42.595040   \n",
       "311   3333                ARTESYN@INC  33434-4105    BOCA RATON 26.365509   \n",
       "866   7853                  BLAIRCORP       16366        WARREN 41.845637   \n",
       "541   5204      GOLDORELTDOFCRIPPLECR                            3.901116   \n",
       "986   8764                 PROSCANINC       80202        DENVER 39.747090   \n",
       "510   4976         STRATEGICVALUECORP     M5J 2W4       TORONTO 43.647447   \n",
       "63    1555          AMERICANSEATINGCO       49504  GRAND RAPIDS 42.978694   \n",
       "257   2903                   CHAD^INC       91311    CHATSWORTH 34.255819   \n",
       "253   2877      CENTURYBUSINESSCREDIT       10018      NEW YORK 40.754029   \n",
       "944   8430              PENNCENTRALCO       45202    CINCINNATI 39.099723   \n",
       "\n",
       "            lon  \n",
       "445  -83.171965  \n",
       "311  -80.167507  \n",
       "866  -79.148695  \n",
       "541  -73.075755  \n",
       "986 -104.997219  \n",
       "510  -79.380118  \n",
       "63   -85.682009  \n",
       "257 -118.579580  \n",
       "253  -73.985899  \n",
       "944  -84.512324  "
      ]
     },
     "execution_count": 36,
     "metadata": {},
     "output_type": "execute_result"
    }
   ],
   "source": [
    "con.execute('SELECT * FROM compustat LIMIT 1000').fetchdf().sample(10)"
   ]
  },
  {
   "cell_type": "code",
   "execution_count": 22,
   "id": "6ffd0172d8f12bb4",
   "metadata": {
    "ExecuteTime": {
     "end_time": "2024-03-19T00:34:32.106793Z",
     "start_time": "2024-03-19T00:34:32.105227Z"
    },
    "collapsed": false
   },
   "outputs": [],
   "source": [
    "# DuckDB configuration\n",
    "# con.execute('SET memory_limit=\"10GB\"')\n",
    "# con.execute('SET threads TO 1')"
   ]
  },
  {
   "cell_type": "code",
   "execution_count": 23,
   "id": "58b3f6701bac76b6",
   "metadata": {
    "ExecuteTime": {
     "end_time": "2024-03-19T00:34:32.122326Z",
     "start_time": "2024-03-19T00:34:32.116581Z"
    },
    "collapsed": false
   },
   "outputs": [
    {
     "data": {
      "text/html": [
       "<div>\n",
       "<style scoped>\n",
       "    .dataframe tbody tr th:only-of-type {\n",
       "        vertical-align: middle;\n",
       "    }\n",
       "\n",
       "    .dataframe tbody tr th {\n",
       "        vertical-align: top;\n",
       "    }\n",
       "\n",
       "    .dataframe thead th {\n",
       "        text-align: right;\n",
       "    }\n",
       "</style>\n",
       "<table border=\"1\" class=\"dataframe\">\n",
       "  <thead>\n",
       "    <tr style=\"text-align: right;\">\n",
       "      <th></th>\n",
       "      <th>hqduns</th>\n",
       "      <th>hqcompany</th>\n",
       "      <th>latitude</th>\n",
       "      <th>longitude</th>\n",
       "    </tr>\n",
       "  </thead>\n",
       "  <tbody>\n",
       "    <tr>\n",
       "      <th>0</th>\n",
       "      <td>943170548</td>\n",
       "      <td>NOVACORP</td>\n",
       "      <td>39.393700</td>\n",
       "      <td>-107.089203</td>\n",
       "    </tr>\n",
       "  </tbody>\n",
       "</table>\n",
       "</div>"
      ],
      "text/plain": [
       "      hqduns hqcompany  latitude   longitude\n",
       "0  943170548  NOVACORP 39.393700 -107.089203"
      ]
     },
     "execution_count": 23,
     "metadata": {},
     "output_type": "execute_result"
    }
   ],
   "source": [
    "# Get one random row of nets\n",
    "con.sql('SELECT * FROM nets_pub ORDER BY RANDOM() LIMIT 1').fetchdf()"
   ]
  },
  {
   "cell_type": "code",
   "execution_count": 24,
   "id": "e1b8e6077f5a53d8",
   "metadata": {
    "ExecuteTime": {
     "end_time": "2024-03-19T00:34:32.125207Z",
     "start_time": "2024-03-19T00:34:32.123267Z"
    },
    "collapsed": false
   },
   "outputs": [],
   "source": [
    "prepared_statement_name_pub = \"\"\"\n",
    "    CREATE TABLE tmp AS\n",
    "    SELECT\n",
    "        hqduns, \n",
    "        hqcompany,\n",
    "        latitude,\n",
    "        longitude,\n",
    "        jaro_winkler_similarity(n.hqcompany, ?) AS similarity_score\n",
    "    FROM\n",
    "        nets_pub n\n",
    "        --we can use other similarity functions\n",
    "        --we can also use other similarity scores\n",
    "\"\"\"\n",
    "prepared_statement_name_all = \"\"\"\n",
    "    CREATE TABLE tmp AS\n",
    "    SELECT\n",
    "        hqduns, \n",
    "        hqcompany,\n",
    "        latitude,\n",
    "        longitude,\n",
    "        jaro_winkler_similarity(n.hqcompany, ?) AS similarity_score\n",
    "    FROM\n",
    "        nets_all n\n",
    "        WHERE hqcity = ?\n",
    "        --we can use other similarity functions\n",
    "        --we can also use other similarity scores\n",
    "\"\"\"\n",
    "\n",
    "prepared_statement_add_match = \"\"\"\n",
    "    INSERT INTO matched\n",
    "    VALUES (?, --gvkey \n",
    "            (SELECT hqcompany FROM compustat WHERE gvkey = ?), --hqcompany\n",
    "            ?, --hqduns_pub\n",
    "            (SELECT hqcompany FROM nets_pub WHERE hqduns = ?),\n",
    "            ?, --name similarity_pub\n",
    "            ?, --distance pub\n",
    "            ?, --hqduns_all\n",
    "            (SELECT hqcompany FROM nets_all WHERE hqduns = ?),\n",
    "            ?,  --name similarity_all\n",
    "            ?); --distance all\n",
    "\"\"\"\n",
    "\n",
    "prepared_statement_geo_match_all = \"\"\"\n",
    "    SELECT \n",
    "        hqduns,\n",
    "        similarity_score,\n",
    "        ST_Distance(\n",
    "            ST_Point(n.latitude, n.longitude)::GEOMETRY,\n",
    "            ST_Point(?, ?)::GEOMETRY\n",
    "            ) AS distance\n",
    "    FROM fnam n\n",
    "    ORDER BY distance ASC\n",
    "    LIMIT 1;\n",
    "\"\"\"\n",
    "\n",
    "prepared_statement_geo_match_pub = \"\"\"\n",
    "    SELECT \n",
    "        hqduns,\n",
    "        similarity_score,\n",
    "        ST_Distance(\n",
    "            ST_Point(n.latitude, n.longitude)::GEOMETRY,\n",
    "            ST_Point(?, ?)::GEOMETRY\n",
    "            ) AS distance\n",
    "    FROM fnpm n\n",
    "    ORDER BY distance ASC\n",
    "    LIMIT 1;\n",
    "\"\"\""
   ]
  },
  {
   "cell_type": "code",
   "execution_count": 25,
   "id": "3b33b19523b5bc8b",
   "metadata": {
    "ExecuteTime": {
     "end_time": "2024-03-19T00:34:32.136909Z",
     "start_time": "2024-03-19T00:34:32.134751Z"
    },
    "collapsed": false
   },
   "outputs": [],
   "source": [
    "# Get the matches for a specific name\n",
    "def name_similarity_pub(comp_name):\n",
    "    con.execute('DROP TABLE IF EXISTS tmp;')\n",
    "    con.execute(prepared_statement_name_pub, [comp_name])\n",
    "    return con.sql('SELECT * FROM tmp WHERE similarity_score > 0.9 ORDER BY similarity_score DESC LIMIT 5').fetchdf() #TODO change threshold\n",
    "\n",
    "def name_similarity_all(comp_name, city):\n",
    "    con.execute('DROP TABLE IF EXISTS tmp;')\n",
    "    con.execute(prepared_statement_name_all, [comp_name, city])\n",
    "    return con.sql('SELECT * FROM tmp WHERE similarity_score > 0.9 ORDER BY similarity_score DESC LIMIT 10').fetchdf() #TODO change threshold\n"
   ]
  },
  {
   "cell_type": "code",
   "execution_count": 26,
   "id": "86f538d00b6583c6",
   "metadata": {
    "ExecuteTime": {
     "end_time": "2024-03-19T00:34:32.140124Z",
     "start_time": "2024-03-19T00:34:32.137786Z"
    },
    "collapsed": false
   },
   "outputs": [
    {
     "data": {
      "text/plain": [
       "<duckdb.duckdb.DuckDBPyConnection at 0x20c3c4fc330>"
      ]
     },
     "execution_count": 26,
     "metadata": {},
     "output_type": "execute_result"
    }
   ],
   "source": [
    "# con.execute('DROP TABLE IF EXISTS matched;')\n",
    "sql_query = \"\"\"\n",
    "CREATE TABLE IF NOT EXISTS matched (\n",
    "    gvkey INTEGER,\n",
    "    hqcompany TEXT,\n",
    "    hqduns_pub INTEGER,\n",
    "    hqcompany_pub TEXT,\n",
    "    similarity_pub FLOAT,\n",
    "    distance_pub FLOAT,\n",
    "    hqduns_all INTEGER,\n",
    "    hqcompany_all TEXT,\n",
    "    similarity_all FLOAT,\n",
    "    distance_all FLOAT\n",
    ");\n",
    "\"\"\"\n",
    "con.execute(sql_query)"
   ]
  },
  {
   "cell_type": "code",
   "execution_count": 27,
   "id": "e08e86a8b814d0df",
   "metadata": {
    "ExecuteTime": {
     "end_time": "2024-03-19T00:34:32.148689Z",
     "start_time": "2024-03-19T00:34:32.140992Z"
    },
    "collapsed": false
   },
   "outputs": [],
   "source": [
    "\n",
    "compustat_df = con.sql('SELECT * FROM compustat').fetchdf()\n",
    "\n",
    "# Fill missing values\n",
    "compustat_df['lat'] = compustat_df['lat'].fillna(0)\n",
    "compustat_df['lon'] = compustat_df['lon'].fillna(0)\n",
    "# compustat_df['phone'] = compustat_df['phone'].fillna('')\n",
    "#compustat_df = compustat_df[0:2000]"
   ]
  },
  {
   "cell_type": "code",
   "execution_count": 28,
   "id": "fee2e6385058cd99",
   "metadata": {
    "ExecuteTime": {
     "end_time": "2024-03-19T00:34:32.150723Z",
     "start_time": "2024-03-19T00:34:32.149463Z"
    },
    "collapsed": false
   },
   "outputs": [],
   "source": [
    "# Stats Counter\n",
    "pub_match_all = 0"
   ]
  },
  {
   "cell_type": "code",
   "execution_count": 29,
   "id": "984464a7622e2ef7",
   "metadata": {
    "ExecuteTime": {
     "end_time": "2024-03-19T00:34:32.186413Z",
     "start_time": "2024-03-19T00:34:32.181413Z"
    },
    "collapsed": false
   },
   "outputs": [],
   "source": [
    "def matching(compustat_df):\n",
    "    pub_match_all = 0\n",
    "    i = 0\n",
    "    for index, row in compustat_df.iterrows():\n",
    "        i += 1\n",
    "        print(f'Processing {i} of {compustat_df.shape[0]}')\n",
    "        gvkey = row['gvkey']\n",
    "        #check if gvkey is already in matched\n",
    "        if con.sql(f'SELECT COUNT(*) FROM matched WHERE gvkey = {gvkey}').fetchdf()['count_star()'].iloc[0] > 0:\n",
    "            print(f'Already processed {gvkey}, {row[\"hqcompany\"]}')\n",
    "            continue\n",
    "        # Get candidate matches\n",
    "        name_pub_match = name_similarity_pub(row['hqcompany'])\n",
    "        \n",
    "        try:\n",
    "            filtered_name_pub_matches = name_pub_match[name_pub_match['similarity_score'] == name_pub_match['similarity_score'].iloc[0]]\n",
    "            # Create a temporary table with the filtered results\n",
    "            con.execute('DROP TABLE IF EXISTS fnpm;')\n",
    "            con.execute('DROP TABLE IF EXISTS tmp;')\n",
    "            con.execute('CREATE TABLE fnpm AS SELECT * FROM filtered_name_pub_matches;')\n",
    "            pub_match = con.execute(prepared_statement_geo_match_pub, [row['lat'], row['lon']]).fetchdf().iloc[0]\n",
    "        except IndexError:\n",
    "            pub_match = pd.DataFrame(columns= ['hqduns', 'similarity_score', 'distance'])\n",
    "            pub_match.loc[0] = [-1, -1, 9999999]  # Fill with default values\n",
    "            \n",
    "        name_all_matches = name_similarity_all(row['hqcompany'], row['city'])\n",
    "        \n",
    "        try:\n",
    "            # Get the top similarity score\n",
    "            top_similarity_score = name_all_matches['similarity_score'].iloc[0]\n",
    "            # Filter the DataFrame\n",
    "            filtered_name_all_matches = name_all_matches[name_all_matches['similarity_score'] == top_similarity_score]\n",
    "            # Create a temporary table with the filtered results\n",
    "            con.execute('DROP TABLE IF EXISTS fnam;')\n",
    "            con.execute('DROP TABLE IF EXISTS tmp;')\n",
    "            con.execute('CREATE TABLE fnam AS SELECT * FROM filtered_name_all_matches;')\n",
    "            name_all_match = con.execute(prepared_statement_geo_match_all, [row['lat'], row['lon']]).fetchdf().iloc[0]\n",
    "        except IndexError:\n",
    "            name_all_match = pd.DataFrame(columns= ['hqduns', 'similarity_score', 'distance'])\n",
    "            name_all_match.loc[0] = [-1, -1, 9999999]  # Fill with default values\n",
    "    \n",
    "        if pub_match['hqduns'].item() in name_all_matches['hqduns'].values and pub_match['similarity_score'].item() >= name_all_match['similarity_score'].item():\n",
    "            name_all_match = pub_match\n",
    "            pub_match_all += 1\n",
    "        \n",
    "        try:    \n",
    "            con.execute(prepared_statement_add_match, [gvkey, gvkey, pub_match['hqduns'].item(), pub_match['hqduns'].item(), pub_match['similarity_score'].item(), pub_match['distance'].item(), name_all_match['hqduns'].item(), name_all_match['hqduns'].item(), name_all_match['similarity_score'].item(), name_all_match['distance'].item()])\n",
    "        except KeyError:\n",
    "             con.execute(prepared_statement_add_match, [gvkey, gvkey, pub_match['hqduns'].item(), pub_match['hqduns'].item(), pub_match['similarity_score'].item(), pub_match['distance'].item(), name_all_match['hqduns'].item(), name_all_match['hqduns'].item(), name_all_match['similarity_score'].item(), -1])"
   ]
  },
  {
   "cell_type": "code",
   "execution_count": 30,
   "id": "358e7c9a003a719b",
   "metadata": {
    "ExecuteTime": {
     "start_time": "2024-03-19T00:34:32.219620Z"
    },
    "collapsed": false,
    "is_executing": true
   },
   "outputs": [
    {
     "name": "stdout",
     "output_type": "stream",
     "text": [
      "Processing 1 of 100\n"
     ]
    },
    {
     "name": "stdout",
     "output_type": "stream",
     "text": [
      "Processing 2 of 100\n",
      "Processing 3 of 100\n",
      "Processing 4 of 100\n",
      "Processing 5 of 100\n",
      "Processing 6 of 100\n",
      "Processing 7 of 100\n",
      "Processing 8 of 100\n",
      "Processing 9 of 100\n",
      "Processing 10 of 100\n",
      "Processing 11 of 100\n",
      "Processing 12 of 100\n",
      "Processing 13 of 100\n",
      "Processing 14 of 100\n",
      "Processing 15 of 100\n",
      "Processing 16 of 100\n",
      "Processing 17 of 100\n",
      "Processing 18 of 100\n",
      "Processing 19 of 100\n",
      "Processing 20 of 100\n",
      "Processing 21 of 100\n",
      "Processing 22 of 100\n",
      "Processing 23 of 100\n",
      "Processing 24 of 100\n",
      "Processing 25 of 100\n",
      "Processing 26 of 100\n",
      "Processing 27 of 100\n",
      "Processing 28 of 100\n",
      "Processing 29 of 100\n",
      "Processing 30 of 100\n",
      "Processing 31 of 100\n",
      "Processing 32 of 100\n",
      "Processing 33 of 100\n",
      "Processing 34 of 100\n",
      "Processing 35 of 100\n",
      "Processing 36 of 100\n",
      "Processing 37 of 100\n",
      "Processing 38 of 100\n",
      "Processing 39 of 100\n",
      "Processing 40 of 100\n",
      "Processing 41 of 100\n",
      "Processing 42 of 100\n",
      "Processing 43 of 100\n",
      "Processing 44 of 100\n",
      "Processing 45 of 100\n",
      "Processing 46 of 100\n",
      "Processing 47 of 100\n",
      "Processing 48 of 100\n",
      "Processing 49 of 100\n",
      "Processing 50 of 100\n",
      "Processing 51 of 100\n",
      "Processing 52 of 100\n",
      "Processing 53 of 100\n",
      "Processing 54 of 100\n",
      "Processing 55 of 100\n",
      "Processing 56 of 100\n",
      "Processing 57 of 100\n",
      "Processing 58 of 100\n",
      "Processing 59 of 100\n",
      "Processing 60 of 100\n",
      "Processing 61 of 100\n",
      "Processing 62 of 100\n",
      "Processing 63 of 100\n",
      "Processing 64 of 100\n",
      "Processing 65 of 100\n",
      "Processing 66 of 100\n",
      "Processing 67 of 100\n",
      "Processing 68 of 100\n",
      "Processing 69 of 100\n",
      "Processing 70 of 100\n",
      "Processing 71 of 100\n",
      "Processing 72 of 100\n",
      "Processing 73 of 100\n",
      "Processing 74 of 100\n",
      "Processing 75 of 100\n",
      "Processing 76 of 100\n",
      "Processing 77 of 100\n",
      "Processing 78 of 100\n",
      "Processing 79 of 100\n",
      "Processing 80 of 100\n",
      "Processing 81 of 100\n",
      "Processing 82 of 100\n",
      "Processing 83 of 100\n",
      "Processing 84 of 100\n",
      "Processing 85 of 100\n",
      "Processing 86 of 100\n",
      "Processing 87 of 100\n",
      "Processing 88 of 100\n",
      "Processing 89 of 100\n",
      "Processing 90 of 100\n",
      "Processing 91 of 100\n",
      "Processing 92 of 100\n",
      "Processing 93 of 100\n",
      "Processing 94 of 100\n",
      "Processing 95 of 100\n",
      "Processing 96 of 100\n",
      "Processing 97 of 100\n",
      "Processing 98 of 100\n",
      "Processing 99 of 100\n",
      "Processing 100 of 100\n"
     ]
    }
   ],
   "source": [
    "matching(compustat_df.sample(100))"
   ]
  },
  {
   "cell_type": "code",
   "execution_count": 35,
   "id": "2929ef8fb03fe22f",
   "metadata": {
    "ExecuteTime": {
     "end_time": "2024-03-19T10:48:10.598776Z",
     "start_time": "2024-03-19T10:48:10.585633Z"
    },
    "collapsed": false
   },
   "outputs": [
    {
     "data": {
      "text/html": [
       "<div>\n",
       "<style scoped>\n",
       "    .dataframe tbody tr th:only-of-type {\n",
       "        vertical-align: middle;\n",
       "    }\n",
       "\n",
       "    .dataframe tbody tr th {\n",
       "        vertical-align: top;\n",
       "    }\n",
       "\n",
       "    .dataframe thead th {\n",
       "        text-align: right;\n",
       "    }\n",
       "</style>\n",
       "<table border=\"1\" class=\"dataframe\">\n",
       "  <thead>\n",
       "    <tr style=\"text-align: right;\">\n",
       "      <th></th>\n",
       "      <th>gvkey</th>\n",
       "      <th>hqcompany</th>\n",
       "      <th>hqduns_pub</th>\n",
       "      <th>hqcompany_pub</th>\n",
       "      <th>similarity_pub</th>\n",
       "      <th>distance_pub</th>\n",
       "      <th>hqduns_all</th>\n",
       "      <th>hqcompany_all</th>\n",
       "      <th>similarity_all</th>\n",
       "      <th>distance_all</th>\n",
       "    </tr>\n",
       "  </thead>\n",
       "  <tbody>\n",
       "  </tbody>\n",
       "</table>\n",
       "</div>"
      ],
      "text/plain": [
       "Empty DataFrame\n",
       "Columns: [gvkey, hqcompany, hqduns_pub, hqcompany_pub, similarity_pub, distance_pub, hqduns_all, hqcompany_all, similarity_all, distance_all]\n",
       "Index: []"
      ]
     },
     "execution_count": 35,
     "metadata": {},
     "output_type": "execute_result"
    }
   ],
   "source": [
    "con.sql('SELECT * FROM matched WHERE similarity_all > 0').fetchdf()"
   ]
  },
  {
   "cell_type": "code",
   "execution_count": 32,
   "id": "5f636bb5cbb71aba",
   "metadata": {
    "ExecuteTime": {
     "end_time": "2024-03-19T10:48:14.938809Z",
     "start_time": "2024-03-19T10:48:14.933607Z"
    },
    "collapsed": false
   },
   "outputs": [
    {
     "name": "stdout",
     "output_type": "stream",
     "text": [
      "40.0\n",
      "40\n"
     ]
    }
   ],
   "source": [
    "matched = con.sql('SELECT COUNT(*) FROM matched WHERE similarity_pub >= 0.94').fetchdf()\n",
    "matched_size = con.sql('SELECT COUNT(*) FROM matched').fetchdf()['count_star()'].iloc[0]\n",
    "#print percentage of matched companies|\n",
    "print(matched['count_star()'].iloc[0] / matched_size * 100)\n",
    "print(matched['count_star()'].iloc[0])"
   ]
  },
  {
   "cell_type": "code",
   "execution_count": 33,
   "id": "b25f697e4c8c6591",
   "metadata": {
    "collapsed": false,
    "is_executing": true
   },
   "outputs": [
    {
     "name": "stdout",
     "output_type": "stream",
     "text": [
      "Number of companies: 100\n",
      "Accuracy with all companies: 0.0%\n",
      "Accuracy only public companies: 39.0%\n",
      "Entries with same match: 0.0%\n",
      "Entries with no pub match: 46.0%\n",
      "Entries with no pub match but all match: 0.0%\n",
      "Entries with no pub match but all match and distance < 1: 0.0%\n"
     ]
    }
   ],
   "source": [
    "# Show statistics\n",
    "print(f'Number of companies: {matched_size}')\n",
    "accuracy = con.sql('SELECT COUNT(*) FROM matched WHERE similarity_pub >= 0.95').fetchdf()['count_star()'].iloc[0] / matched_size * 100\n",
    "accuray_with_all = con.sql('SELECT COUNT(*) FROM matched WHERE similarity_all >= 0.95').fetchdf()['count_star()'].iloc[0] / matched_size * 100\n",
    "print(f'Accuracy with all companies: {accuray_with_all}%')\n",
    "print(f'Accuracy only public companies: {accuracy}%')\n",
    "same_match = pub_match_all / matched_size * 100\n",
    "print(f'Entries with same match: {same_match}%')\n",
    "no_pub_percentage = con.sql('SELECT COUNT(*) FROM matched WHERE hqduns_pub = -1').fetchdf()['count_star()'].iloc[0] / matched_size * 100\n",
    "print(f'Entries with no pub match: {no_pub_percentage}%')\n",
    "no_pub_but_all_percentage = con.sql('SELECT COUNT(*) FROM matched WHERE hqduns_pub = -1 AND hqduns_all != -1 AND similarity_all >= 0.95').fetchdf()['count_star()'].iloc[0] / matched_size * 100\n",
    "print(f'Entries with no pub match but all match: {no_pub_but_all_percentage}%')\n",
    "# All matches, where no pub match and distance < 1\n",
    "no_pub_but_all_distance_percentage = con.sql('SELECT COUNT(*) FROM matched WHERE hqduns_pub = -1 AND hqduns_all != -1 AND distance_all < 1').fetchdf()['count_star()'].iloc[0] / matched_size * 100\n",
    "print(f'Entries with no pub match but all match and distance < 1: {no_pub_but_all_distance_percentage}%')"
   ]
  },
  {
   "cell_type": "code",
   "execution_count": 34,
   "id": "ac6e14a6336fdbc5",
   "metadata": {
    "collapsed": false,
    "is_executing": true
   },
   "outputs": [],
   "source": [
    "# con.commit()\n",
    "# con.close()"
   ]
  },
  {
   "cell_type": "code",
   "execution_count": null,
   "id": "1f59ee3c",
   "metadata": {},
   "outputs": [],
   "source": []
  }
 ],
 "metadata": {
  "kernelspec": {
   "display_name": "Python 3",
   "language": "python",
   "name": "python3"
  },
  "language_info": {
   "codemirror_mode": {
    "name": "ipython",
    "version": 3
   },
   "file_extension": ".py",
   "mimetype": "text/x-python",
   "name": "python",
   "nbconvert_exporter": "python",
   "pygments_lexer": "ipython3",
   "version": "3.9.12"
  }
 },
 "nbformat": 4,
 "nbformat_minor": 5
}
