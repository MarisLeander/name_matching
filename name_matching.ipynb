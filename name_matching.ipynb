{
 "cells": [
  {
   "cell_type": "code",
   "outputs": [],
   "source": [
    "import numpy as np\n",
    "import pandas as pd\n",
    "import duckdb\n",
    "# suppress scientific notation by setting float_format\n",
    "pd.set_option('display.float_format', '{:f}'.format)"
   ],
   "metadata": {
    "collapsed": false,
    "ExecuteTime": {
     "end_time": "2024-03-17T19:36:21.874433Z",
     "start_time": "2024-03-17T19:36:21.871929Z"
    }
   },
   "id": "f6f603996deacda8",
   "execution_count": 25
  },
  {
   "cell_type": "code",
   "outputs": [
    {
     "data": {
      "text/plain": "                 name\n0           compustat\n1  compustat_geocoded\n2            nets_all\n3            nets_pub",
      "text/html": "<div>\n<style scoped>\n    .dataframe tbody tr th:only-of-type {\n        vertical-align: middle;\n    }\n\n    .dataframe tbody tr th {\n        vertical-align: top;\n    }\n\n    .dataframe thead th {\n        text-align: right;\n    }\n</style>\n<table border=\"1\" class=\"dataframe\">\n  <thead>\n    <tr style=\"text-align: right;\">\n      <th></th>\n      <th>name</th>\n    </tr>\n  </thead>\n  <tbody>\n    <tr>\n      <th>0</th>\n      <td>compustat</td>\n    </tr>\n    <tr>\n      <th>1</th>\n      <td>compustat_geocoded</td>\n    </tr>\n    <tr>\n      <th>2</th>\n      <td>nets_all</td>\n    </tr>\n    <tr>\n      <th>3</th>\n      <td>nets_pub</td>\n    </tr>\n  </tbody>\n</table>\n</div>"
     },
     "execution_count": 26,
     "metadata": {},
     "output_type": "execute_result"
    }
   ],
   "source": [
    "# Conect to Database\n",
    "con = duckdb.connect(database='test.db', read_only=False)\n",
    "con.execute('INSTALL spatial')\n",
    "con.execute('LOAD spatial')\n",
    "#TODO build training data\n",
    "con.sql('SHOW TABLES').fetchdf()"
   ],
   "metadata": {
    "collapsed": false,
    "ExecuteTime": {
     "end_time": "2024-03-17T19:36:21.892158Z",
     "start_time": "2024-03-17T19:36:21.879945Z"
    }
   },
   "id": "c824611b7f823838",
   "execution_count": 26
  },
  {
   "cell_type": "code",
   "outputs": [
    {
     "data": {
      "text/plain": "<duckdb.duckdb.DuckDBPyConnection at 0x12c0abeb0>"
     },
     "execution_count": 27,
     "metadata": {},
     "output_type": "execute_result"
    }
   ],
   "source": [
    "# DuckDB configuration\n",
    "con.execute('SET memory_limit=\"10GB\"')\n",
    "con.execute('SET threads TO 1')"
   ],
   "metadata": {
    "collapsed": false,
    "ExecuteTime": {
     "end_time": "2024-03-17T19:36:21.896080Z",
     "start_time": "2024-03-17T19:36:21.893334Z"
    }
   },
   "id": "6ffd0172d8f12bb4",
   "execution_count": 27
  },
  {
   "cell_type": "code",
   "outputs": [
    {
     "data": {
      "text/plain": "     hqduns   hqcompany  latitude  longitude\n0  86530011  DESIGNSINC 32.781399 -79.927002",
      "text/html": "<div>\n<style scoped>\n    .dataframe tbody tr th:only-of-type {\n        vertical-align: middle;\n    }\n\n    .dataframe tbody tr th {\n        vertical-align: top;\n    }\n\n    .dataframe thead th {\n        text-align: right;\n    }\n</style>\n<table border=\"1\" class=\"dataframe\">\n  <thead>\n    <tr style=\"text-align: right;\">\n      <th></th>\n      <th>hqduns</th>\n      <th>hqcompany</th>\n      <th>latitude</th>\n      <th>longitude</th>\n    </tr>\n  </thead>\n  <tbody>\n    <tr>\n      <th>0</th>\n      <td>86530011</td>\n      <td>DESIGNSINC</td>\n      <td>32.781399</td>\n      <td>-79.927002</td>\n    </tr>\n  </tbody>\n</table>\n</div>"
     },
     "execution_count": 28,
     "metadata": {},
     "output_type": "execute_result"
    }
   ],
   "source": [
    "# Get one random row of nets\n",
    "con.sql('SELECT * FROM nets_pub ORDER BY RANDOM() LIMIT 1').fetchdf()"
   ],
   "metadata": {
    "collapsed": false,
    "ExecuteTime": {
     "end_time": "2024-03-17T19:36:21.902906Z",
     "start_time": "2024-03-17T19:36:21.896704Z"
    }
   },
   "id": "58b3f6701bac76b6",
   "execution_count": 28
  },
  {
   "cell_type": "code",
   "outputs": [],
   "source": [
    "prepared_statement_name_pub = \"\"\"\n",
    "    CREATE TABLE tmp AS\n",
    "    SELECT\n",
    "        hqduns, \n",
    "        hqcompany,\n",
    "        latitude,\n",
    "        longitude,\n",
    "        jaro_winkler_similarity(n.hqcompany, ?) AS similarity_score\n",
    "    FROM\n",
    "        nets_pub n\n",
    "        --we can use other similarity functions\n",
    "        --we can also use other similarity scores\n",
    "\"\"\"\n",
    "prepared_statement_name_all = \"\"\"\n",
    "    CREATE TABLE tmp AS\n",
    "    SELECT\n",
    "        hqduns, \n",
    "        hqcompany,\n",
    "        latitude,\n",
    "        longitude,\n",
    "        jaro_winkler_similarity(n.hqcompany, ?) AS similarity_score\n",
    "    FROM\n",
    "        nets_all n\n",
    "        --we can use other similarity functions\n",
    "        --we can also use other similarity scores\n",
    "\"\"\"\n",
    "\n",
    "prepared_statement_add_match = \"\"\"\n",
    "    INSERT INTO matched\n",
    "    VALUES (?, --gvkey \n",
    "            (SELECT hqcompany FROM compustat WHERE gvkey = ?), --hqcompany\n",
    "            ?, --hqduns_pub\n",
    "            (SELECT hqcompany FROM nets_pub WHERE hqduns = ?),\n",
    "            ?, --name similarity_pub\n",
    "            ?, --distance pub\n",
    "            ?, --hqduns_all\n",
    "            (SELECT hqcompany FROM nets_all WHERE hqduns = ?),\n",
    "            ?,  --name similarity_all\n",
    "            ?); --distance all\n",
    "\"\"\"\n",
    "\n",
    "prepared_statement_geo_match_all = \"\"\"\n",
    "    SELECT \n",
    "        hqduns,\n",
    "        similarity_score,\n",
    "        ST_Distance(\n",
    "            ST_Point(n.latitude, n.longitude)::GEOMETRY,\n",
    "            ST_Point(?, ?)::GEOMETRY\n",
    "            ) AS distance\n",
    "    FROM fnam n\n",
    "    ORDER BY distance ASC\n",
    "    LIMIT 1;\n",
    "\"\"\"\n",
    "\n",
    "prepared_statement_geo_match_pub = \"\"\"\n",
    "    SELECT \n",
    "        hqduns,\n",
    "        similarity_score,\n",
    "        ST_Distance(\n",
    "            ST_Point(n.latitude, n.longitude)::GEOMETRY,\n",
    "            ST_Point(?, ?)::GEOMETRY\n",
    "            ) AS distance\n",
    "    FROM fnpm n\n",
    "    ORDER BY distance ASC\n",
    "    LIMIT 1;\n",
    "\"\"\""
   ],
   "metadata": {
    "collapsed": false,
    "ExecuteTime": {
     "end_time": "2024-03-17T19:36:21.905923Z",
     "start_time": "2024-03-17T19:36:21.903974Z"
    }
   },
   "id": "e1b8e6077f5a53d8",
   "execution_count": 29
  },
  {
   "cell_type": "code",
   "outputs": [],
   "source": [
    "# Get the matches for a specific name\n",
    "def name_similarity_pub(comp_name):\n",
    "    con.execute('DROP TABLE IF EXISTS tmp;')\n",
    "    con.execute(prepared_statement_name_pub, [comp_name])\n",
    "    return con.sql('SELECT * FROM tmp WHERE similarity_score > 0.9 ORDER BY similarity_score DESC LIMIT 5').fetchdf() #TODO change threshold\n",
    "\n",
    "def name_similarity_all(comp_name):\n",
    "    con.execute('DROP TABLE IF EXISTS tmp;')\n",
    "    con.execute(prepared_statement_name_all, [comp_name])\n",
    "    return con.sql('SELECT * FROM tmp WHERE similarity_score > 0.9 ORDER BY similarity_score DESC LIMIT 10').fetchdf() #TODO change threshold\n"
   ],
   "metadata": {
    "collapsed": false,
    "ExecuteTime": {
     "end_time": "2024-03-17T19:36:21.908564Z",
     "start_time": "2024-03-17T19:36:21.906534Z"
    }
   },
   "id": "3b33b19523b5bc8b",
   "execution_count": 30
  },
  {
   "cell_type": "code",
   "outputs": [
    {
     "data": {
      "text/plain": "<duckdb.duckdb.DuckDBPyConnection at 0x12c0abeb0>"
     },
     "execution_count": 31,
     "metadata": {},
     "output_type": "execute_result"
    }
   ],
   "source": [
    " "
   ],
   "metadata": {
    "collapsed": false,
    "ExecuteTime": {
     "end_time": "2024-03-17T19:36:21.912066Z",
     "start_time": "2024-03-17T19:36:21.909626Z"
    }
   },
   "id": "86f538d00b6583c6",
   "execution_count": 31
  },
  {
   "cell_type": "code",
   "outputs": [],
   "source": [
    "\n",
    "compustat_df = con.sql('SELECT * FROM compustat').fetchdf()\n",
    "\n",
    "# Fill missing values\n",
    "compustat_df['lat'] = compustat_df['lat'].fillna(0)\n",
    "compustat_df['lon'] = compustat_df['lon'].fillna(0)\n",
    "# compustat_df['phone'] = compustat_df['phone'].fillna('')\n",
    "compustat_df = compustat_df.sample(1) #compustat_df[8000:18000]"
   ],
   "metadata": {
    "collapsed": false,
    "ExecuteTime": {
     "end_time": "2024-03-17T19:36:21.922233Z",
     "start_time": "2024-03-17T19:36:21.912680Z"
    }
   },
   "id": "e08e86a8b814d0df",
   "execution_count": 32
  },
  {
   "cell_type": "code",
   "outputs": [],
   "source": [
    "# Stats Counter\n",
    "pub_match_all = 0"
   ],
   "metadata": {
    "collapsed": false,
    "ExecuteTime": {
     "end_time": "2024-03-17T19:36:21.924200Z",
     "start_time": "2024-03-17T19:36:21.922844Z"
    }
   },
   "id": "fee2e6385058cd99",
   "execution_count": 33
  },
  {
   "cell_type": "code",
   "outputs": [
    {
     "name": "stdout",
     "output_type": "stream",
     "text": [
      "Processing 1 of 1\n"
     ]
    },
    {
     "data": {
      "text/plain": "FloatProgress(value=0.0, layout=Layout(width='auto'), style=ProgressStyle(bar_color='black'))",
      "application/vnd.jupyter.widget-view+json": {
       "version_major": 2,
       "version_minor": 0,
       "model_id": "f8918d141b8e47a6b8873ae74b689b79"
      }
     },
     "metadata": {},
     "output_type": "display_data"
    },
    {
     "ename": "Error",
     "evalue": "Invalid Error: KeyboardInterrupt: <EMPTY MESSAGE>\n\nAt:\n  /Users/marisbuttmann/.pyenv/versions/3.12.0/lib/python3.12/site-packages/traitlets/traitlets.py(708): __set__\n  /var/folders/x6/ky5l77zx4071ly980g1k5fjm0000gn/T/ipykernel_41310/1645377918.py(9): name_similarity_all\n  /var/folders/x6/ky5l77zx4071ly980g1k5fjm0000gn/T/ipykernel_41310/1601111449.py(24): <module>\n  /Users/marisbuttmann/.pyenv/versions/3.12.0/lib/python3.12/site-packages/IPython/core/interactiveshell.py(3553): run_code\n  /Users/marisbuttmann/.pyenv/versions/3.12.0/lib/python3.12/site-packages/IPython/core/interactiveshell.py(3493): run_ast_nodes\n  /Users/marisbuttmann/.pyenv/versions/3.12.0/lib/python3.12/site-packages/IPython/core/interactiveshell.py(3311): run_cell_async\n  /Users/marisbuttmann/.pyenv/versions/3.12.0/lib/python3.12/site-packages/IPython/core/async_helpers.py(129): _pseudo_sync_runner\n  /Users/marisbuttmann/.pyenv/versions/3.12.0/lib/python3.12/site-packages/IPython/core/interactiveshell.py(3106): _run_cell\n  /Users/marisbuttmann/.pyenv/versions/3.12.0/lib/python3.12/site-packages/IPython/core/interactiveshell.py(3051): run_cell\n  /Users/marisbuttmann/.pyenv/versions/3.12.0/lib/python3.12/site-packages/ipykernel/zmqshell.py(549): run_cell\n  /Users/marisbuttmann/.pyenv/versions/3.12.0/lib/python3.12/site-packages/ipykernel/ipkernel.py(429): do_execute\n  /Users/marisbuttmann/.pyenv/versions/3.12.0/lib/python3.12/site-packages/ipykernel/kernelbase.py(767): execute_request\n  /Users/marisbuttmann/.pyenv/versions/3.12.0/lib/python3.12/site-packages/ipykernel/kernelbase.py(429): dispatch_shell\n  /Users/marisbuttmann/.pyenv/versions/3.12.0/lib/python3.12/site-packages/ipykernel/kernelbase.py(523): process_one\n  /Users/marisbuttmann/.pyenv/versions/3.12.0/lib/python3.12/site-packages/ipykernel/kernelbase.py(534): dispatch_queue\n  /Users/marisbuttmann/.pyenv/versions/3.12.0/lib/python3.12/asyncio/events.py(84): _run\n  /Users/marisbuttmann/.pyenv/versions/3.12.0/lib/python3.12/asyncio/base_events.py(1951): _run_once\n  /Users/marisbuttmann/.pyenv/versions/3.12.0/lib/python3.12/asyncio/base_events.py(618): run_forever\n  /Users/marisbuttmann/.pyenv/versions/3.12.0/lib/python3.12/site-packages/tornado/platform/asyncio.py(205): start\n  /Users/marisbuttmann/.pyenv/versions/3.12.0/lib/python3.12/site-packages/ipykernel/kernelapp.py(701): start\n  /Users/marisbuttmann/.pyenv/versions/3.12.0/lib/python3.12/site-packages/traitlets/config/application.py(1075): launch_instance\n  /Users/marisbuttmann/.pyenv/versions/3.12.0/lib/python3.12/site-packages/ipykernel_launcher.py(17): <module>\n  <frozen runpy>(88): _run_code\n  <frozen runpy>(198): _run_module_as_main\n",
     "output_type": "error",
     "traceback": [
      "\u001B[0;31m---------------------------------------------------------------------------\u001B[0m",
      "\u001B[0;31mError\u001B[0m                                     Traceback (most recent call last)",
      "Cell \u001B[0;32mIn[34], line 24\u001B[0m\n\u001B[1;32m     21\u001B[0m     pub_match \u001B[38;5;241m=\u001B[39m pd\u001B[38;5;241m.\u001B[39mDataFrame(columns\u001B[38;5;241m=\u001B[39m [\u001B[38;5;124m'\u001B[39m\u001B[38;5;124mhqduns\u001B[39m\u001B[38;5;124m'\u001B[39m, \u001B[38;5;124m'\u001B[39m\u001B[38;5;124msimilarity_score\u001B[39m\u001B[38;5;124m'\u001B[39m, \u001B[38;5;124m'\u001B[39m\u001B[38;5;124mdistance\u001B[39m\u001B[38;5;124m'\u001B[39m])\n\u001B[1;32m     22\u001B[0m     pub_match\u001B[38;5;241m.\u001B[39mloc[\u001B[38;5;241m0\u001B[39m] \u001B[38;5;241m=\u001B[39m [\u001B[38;5;241m-\u001B[39m\u001B[38;5;241m1\u001B[39m, \u001B[38;5;241m-\u001B[39m\u001B[38;5;241m1\u001B[39m, \u001B[38;5;241m9999999\u001B[39m]  \u001B[38;5;66;03m# Fill with default values\u001B[39;00m\n\u001B[0;32m---> 24\u001B[0m name_all_matches \u001B[38;5;241m=\u001B[39m \u001B[43mname_similarity_all\u001B[49m\u001B[43m(\u001B[49m\u001B[43mrow\u001B[49m\u001B[43m[\u001B[49m\u001B[38;5;124;43m'\u001B[39;49m\u001B[38;5;124;43mhqcompany\u001B[39;49m\u001B[38;5;124;43m'\u001B[39;49m\u001B[43m]\u001B[49m\u001B[43m)\u001B[49m\n\u001B[1;32m     26\u001B[0m \u001B[38;5;28;01mtry\u001B[39;00m:\n\u001B[1;32m     27\u001B[0m     \u001B[38;5;66;03m# Get the top similarity score\u001B[39;00m\n\u001B[1;32m     28\u001B[0m     top_similarity_score \u001B[38;5;241m=\u001B[39m name_all_matches[\u001B[38;5;124m'\u001B[39m\u001B[38;5;124msimilarity_score\u001B[39m\u001B[38;5;124m'\u001B[39m]\u001B[38;5;241m.\u001B[39miloc[\u001B[38;5;241m0\u001B[39m]\n",
      "Cell \u001B[0;32mIn[30], line 9\u001B[0m, in \u001B[0;36mname_similarity_all\u001B[0;34m(comp_name)\u001B[0m\n\u001B[1;32m      7\u001B[0m \u001B[38;5;28;01mdef\u001B[39;00m \u001B[38;5;21mname_similarity_all\u001B[39m(comp_name):\n\u001B[1;32m      8\u001B[0m     con\u001B[38;5;241m.\u001B[39mexecute(\u001B[38;5;124m'\u001B[39m\u001B[38;5;124mDROP TABLE IF EXISTS tmp;\u001B[39m\u001B[38;5;124m'\u001B[39m)\n\u001B[0;32m----> 9\u001B[0m     \u001B[43mcon\u001B[49m\u001B[38;5;241;43m.\u001B[39;49m\u001B[43mexecute\u001B[49m\u001B[43m(\u001B[49m\u001B[43mprepared_statement_name_all\u001B[49m\u001B[43m,\u001B[49m\u001B[43m \u001B[49m\u001B[43m[\u001B[49m\u001B[43mcomp_name\u001B[49m\u001B[43m]\u001B[49m\u001B[43m)\u001B[49m\n\u001B[1;32m     10\u001B[0m     \u001B[38;5;28;01mreturn\u001B[39;00m con\u001B[38;5;241m.\u001B[39msql(\u001B[38;5;124m'\u001B[39m\u001B[38;5;124mSELECT * FROM tmp WHERE similarity_score > 0.9 ORDER BY similarity_score DESC LIMIT 10\u001B[39m\u001B[38;5;124m'\u001B[39m)\u001B[38;5;241m.\u001B[39mfetchdf()\n",
      "\u001B[0;31mError\u001B[0m: Invalid Error: KeyboardInterrupt: <EMPTY MESSAGE>\n\nAt:\n  /Users/marisbuttmann/.pyenv/versions/3.12.0/lib/python3.12/site-packages/traitlets/traitlets.py(708): __set__\n  /var/folders/x6/ky5l77zx4071ly980g1k5fjm0000gn/T/ipykernel_41310/1645377918.py(9): name_similarity_all\n  /var/folders/x6/ky5l77zx4071ly980g1k5fjm0000gn/T/ipykernel_41310/1601111449.py(24): <module>\n  /Users/marisbuttmann/.pyenv/versions/3.12.0/lib/python3.12/site-packages/IPython/core/interactiveshell.py(3553): run_code\n  /Users/marisbuttmann/.pyenv/versions/3.12.0/lib/python3.12/site-packages/IPython/core/interactiveshell.py(3493): run_ast_nodes\n  /Users/marisbuttmann/.pyenv/versions/3.12.0/lib/python3.12/site-packages/IPython/core/interactiveshell.py(3311): run_cell_async\n  /Users/marisbuttmann/.pyenv/versions/3.12.0/lib/python3.12/site-packages/IPython/core/async_helpers.py(129): _pseudo_sync_runner\n  /Users/marisbuttmann/.pyenv/versions/3.12.0/lib/python3.12/site-packages/IPython/core/interactiveshell.py(3106): _run_cell\n  /Users/marisbuttmann/.pyenv/versions/3.12.0/lib/python3.12/site-packages/IPython/core/interactiveshell.py(3051): run_cell\n  /Users/marisbuttmann/.pyenv/versions/3.12.0/lib/python3.12/site-packages/ipykernel/zmqshell.py(549): run_cell\n  /Users/marisbuttmann/.pyenv/versions/3.12.0/lib/python3.12/site-packages/ipykernel/ipkernel.py(429): do_execute\n  /Users/marisbuttmann/.pyenv/versions/3.12.0/lib/python3.12/site-packages/ipykernel/kernelbase.py(767): execute_request\n  /Users/marisbuttmann/.pyenv/versions/3.12.0/lib/python3.12/site-packages/ipykernel/kernelbase.py(429): dispatch_shell\n  /Users/marisbuttmann/.pyenv/versions/3.12.0/lib/python3.12/site-packages/ipykernel/kernelbase.py(523): process_one\n  /Users/marisbuttmann/.pyenv/versions/3.12.0/lib/python3.12/site-packages/ipykernel/kernelbase.py(534): dispatch_queue\n  /Users/marisbuttmann/.pyenv/versions/3.12.0/lib/python3.12/asyncio/events.py(84): _run\n  /Users/marisbuttmann/.pyenv/versions/3.12.0/lib/python3.12/asyncio/base_events.py(1951): _run_once\n  /Users/marisbuttmann/.pyenv/versions/3.12.0/lib/python3.12/asyncio/base_events.py(618): run_forever\n  /Users/marisbuttmann/.pyenv/versions/3.12.0/lib/python3.12/site-packages/tornado/platform/asyncio.py(205): start\n  /Users/marisbuttmann/.pyenv/versions/3.12.0/lib/python3.12/site-packages/ipykernel/kernelapp.py(701): start\n  /Users/marisbuttmann/.pyenv/versions/3.12.0/lib/python3.12/site-packages/traitlets/config/application.py(1075): launch_instance\n  /Users/marisbuttmann/.pyenv/versions/3.12.0/lib/python3.12/site-packages/ipykernel_launcher.py(17): <module>\n  <frozen runpy>(88): _run_code\n  <frozen runpy>(198): _run_module_as_main\n"
     ]
    }
   ],
   "source": [
    "i = 0\n",
    "for index, row in compustat_df.iterrows():\n",
    "    i += 1\n",
    "    print(f'Processing {i} of {compustat_df.shape[0]}')\n",
    "    gvkey = row['gvkey']\n",
    "    #check if gvkey is already in matched\n",
    "    if con.sql(f'SELECT COUNT(*) FROM matched WHERE gvkey = {gvkey}').fetchdf()['count_star()'].iloc[0] > 0:\n",
    "        print(f'Already processed {gvkey}, {row[\"hqcompany\"]}')\n",
    "        continue\n",
    "    # Get candidate matches\n",
    "    name_pub_match = name_similarity_pub(row['hqcompany'])\n",
    "    \n",
    "    try:\n",
    "        filtered_name_pub_matches = name_pub_match[name_pub_match['similarity_score'] == name_pub_match['similarity_score'].iloc[0]]\n",
    "        # Create a temporary table with the filtered results\n",
    "        con.execute('DROP TABLE IF EXISTS fnpm;')\n",
    "        con.execute('DROP TABLE IF EXISTS tmp;')\n",
    "        con.execute('CREATE TABLE fnpm AS SELECT * FROM filtered_name_pub_matches;')\n",
    "        pub_match = con.execute(prepared_statement_geo_match_pub, [row['lat'], row['lon']]).fetchdf().iloc[0]\n",
    "    except IndexError:\n",
    "        pub_match = pd.DataFrame(columns= ['hqduns', 'similarity_score', 'distance'])\n",
    "        pub_match.loc[0] = [-1, -1, 9999999]  # Fill with default values\n",
    "        \n",
    "    name_all_matches = name_similarity_all(row['hqcompany'])\n",
    "    \n",
    "    try:\n",
    "        # Get the top similarity score\n",
    "        top_similarity_score = name_all_matches['similarity_score'].iloc[0]\n",
    "        # Filter the DataFrame\n",
    "        filtered_name_all_matches = name_all_matches[name_all_matches['similarity_score'] == top_similarity_score]\n",
    "        # Create a temporary table with the filtered results\n",
    "        con.execute('DROP TABLE IF EXISTS fnam;')\n",
    "        con.execute('DROP TABLE IF EXISTS tmp;')\n",
    "        con.execute('CREATE TABLE fnam AS SELECT * FROM filtered_name_all_matches;')\n",
    "        name_all_match = con.execute(prepared_statement_geo_match_all, [row['lat'], row['lon']]).fetchdf().iloc[0]\n",
    "    except IndexError:\n",
    "        name_all_match = pd.DataFrame(columns= ['hqduns', 'similarity_score', 'distance'])\n",
    "        name_all_match.loc[0] = [-1, -1, 9999999]  # Fill with default values\n",
    "\n",
    "    if pub_match['hqduns'].item() in name_all_matches['hqduns'].values and pub_match['similarity_score'].item() >= name_all_match['similarity_score'].item():\n",
    "        name_all_match = pub_match\n",
    "        pub_match_all += 1\n",
    "    \n",
    "    try:    \n",
    "        con.execute(prepared_statement_add_match, [gvkey, gvkey, pub_match['hqduns'].item(), pub_match['hqduns'].item(), pub_match['similarity_score'].item(), pub_match['distance'].item(), name_all_match['hqduns'].item(), name_all_match['hqduns'].item(), name_all_match['similarity_score'].item(), name_all_match['distance'].item()])\n",
    "    except KeyError:\n",
    "         con.execute(prepared_statement_add_match, [gvkey, gvkey, pub_match['hqduns'].item(), pub_match['hqduns'].item(), pub_match['similarity_score'].item(), pub_match['distance'].item(), name_all_match['hqduns'].item(), name_all_match['hqduns'].item(), name_all_match['similarity_score'].item(), -1])\n",
    "\n",
    "    \n",
    "    "
   ],
   "metadata": {
    "collapsed": false,
    "ExecuteTime": {
     "end_time": "2024-03-17T19:36:48.999013Z",
     "start_time": "2024-03-17T19:36:21.925260Z"
    }
   },
   "id": "984464a7622e2ef7",
   "execution_count": 34
  },
  {
   "cell_type": "code",
   "outputs": [],
   "source": [
    "con.sql('SELECT * FROM matched').fetchdf().sample(100)"
   ],
   "metadata": {
    "collapsed": false,
    "ExecuteTime": {
     "end_time": "2024-03-17T19:36:48.999950Z",
     "start_time": "2024-03-17T19:36:48.999894Z"
    }
   },
   "id": "2929ef8fb03fe22f",
   "execution_count": null
  },
  {
   "cell_type": "code",
   "outputs": [],
   "source": [
    "matched = con.sql('SELECT COUNT(*) FROM matched WHERE name_similarity_pub >= 0.95').fetchdf()\n",
    "matched_size = con.sql('SELECT COUNT(*) FROM matched').fetchdf()['count_star()'].iloc[0]\n",
    "#print percentage of matched companies|\n",
    "print(matched['count_star()'].iloc[0] / matched_size * 100)\n",
    "print(matched['count_star()'].iloc[0])"
   ],
   "metadata": {
    "collapsed": false
   },
   "id": "5f636bb5cbb71aba",
   "execution_count": null
  },
  {
   "cell_type": "code",
   "outputs": [],
   "source": [
    "# Show statistics\n",
    "print(f'Number of companies: {matched_size}')\n",
    "accuracy = con.sql('SELECT COUNT(*) FROM matched WHERE name_similarity_pub >= 0.95').fetchdf()['count_star()'].iloc[0] / matched_size * 100\n",
    "accuray_with_all = con.sql('SELECT COUNT(*) FROM matched WHERE name_similarity_all >= 0.95').fetchdf()['count_star()'].iloc[0] / matched_size * 100\n",
    "print(f'Accuracy with all companies: {accuray_with_all}%')\n",
    "print(f'Accuracy only public companies: {accuracy}%')\n",
    "same_match = pub_match_all / matched_size * 100\n",
    "print(f'Entries with same match: {same_match}%')\n",
    "no_pub_percentage = con.sql('SELECT COUNT(*) FROM matched WHERE hqduns_pub = -1').fetchdf()['count_star()'].iloc[0] / matched_size * 100\n",
    "print(f'Entries with no pub match: {no_pub_percentage}%')\n",
    "no_pub_but_all_percentage = con.sql('SELECT COUNT(*) FROM matched WHERE hqduns_pub = -1 AND hqduns_all != -1 AND name_similarity_all >= 0.95').fetchdf()['count_star()'].iloc[0] / matched_size * 100\n",
    "print(f'Entries with no pub match but all match: {no_pub_but_all_percentage}%')\n",
    "# All matches, where no pub match and distance < 1\n",
    "no_pub_but_all_distance_percentage = con.sql('SELECT COUNT(*) FROM matched WHERE hqduns_pub = -1 AND hqduns_all != -1 AND distance_all < 1').fetchdf()['count_star()'].iloc[0] / matched_size * 100\n",
    "print(f'Entries with no pub match but all match and distance < 1: {no_pub_but_all_distance_percentage}%')"
   ],
   "metadata": {
    "collapsed": false
   },
   "id": "b25f697e4c8c6591",
   "execution_count": null
  },
  {
   "cell_type": "code",
   "outputs": [],
   "source": [],
   "metadata": {
    "collapsed": false
   },
   "id": "ac6e14a6336fdbc5",
   "execution_count": null
  }
 ],
 "metadata": {
  "kernelspec": {
   "display_name": "Python 3",
   "language": "python",
   "name": "python3"
  },
  "language_info": {
   "codemirror_mode": {
    "name": "ipython",
    "version": 2
   },
   "file_extension": ".py",
   "mimetype": "text/x-python",
   "name": "python",
   "nbconvert_exporter": "python",
   "pygments_lexer": "ipython2",
   "version": "2.7.6"
  }
 },
 "nbformat": 4,
 "nbformat_minor": 5
}
