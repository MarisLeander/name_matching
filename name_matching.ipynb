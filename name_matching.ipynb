{
 "cells": [
  {
   "cell_type": "code",
   "execution_count": 1,
   "id": "f6f603996deacda8",
   "metadata": {
    "ExecuteTime": {
     "end_time": "2024-03-19T10:46:42.636177Z",
     "start_time": "2024-03-19T10:46:42.273638Z"
    },
    "collapsed": false
   },
   "outputs": [],
   "source": [
    "import numpy as np\n",
    "import pandas as pd\n",
    "import duckdb\n",
    "# suppress scientific notation by setting float_format\n",
    "pd.set_option('display.float_format', '{:f}'.format)"
   ]
  },
  {
   "cell_type": "code",
   "execution_count": 2,
   "id": "c824611b7f823838",
   "metadata": {
    "ExecuteTime": {
     "end_time": "2024-03-19T10:46:42.922661Z",
     "start_time": "2024-03-19T10:46:42.835160Z"
    },
    "collapsed": false
   },
   "outputs": [
    {
     "data": {
      "text/html": [
       "<div>\n",
       "<style scoped>\n",
       "    .dataframe tbody tr th:only-of-type {\n",
       "        vertical-align: middle;\n",
       "    }\n",
       "\n",
       "    .dataframe tbody tr th {\n",
       "        vertical-align: top;\n",
       "    }\n",
       "\n",
       "    .dataframe thead th {\n",
       "        text-align: right;\n",
       "    }\n",
       "</style>\n",
       "<table border=\"1\" class=\"dataframe\">\n",
       "  <thead>\n",
       "    <tr style=\"text-align: right;\">\n",
       "      <th></th>\n",
       "      <th>name</th>\n",
       "    </tr>\n",
       "  </thead>\n",
       "  <tbody>\n",
       "    <tr>\n",
       "      <th>0</th>\n",
       "      <td>compustat</td>\n",
       "    </tr>\n",
       "    <tr>\n",
       "      <th>1</th>\n",
       "      <td>compustat_geocoded</td>\n",
       "    </tr>\n",
       "    <tr>\n",
       "      <th>2</th>\n",
       "      <td>fnam</td>\n",
       "    </tr>\n",
       "    <tr>\n",
       "      <th>3</th>\n",
       "      <td>fnpm</td>\n",
       "    </tr>\n",
       "    <tr>\n",
       "      <th>4</th>\n",
       "      <td>matched</td>\n",
       "    </tr>\n",
       "    <tr>\n",
       "      <th>5</th>\n",
       "      <td>nets_all</td>\n",
       "    </tr>\n",
       "    <tr>\n",
       "      <th>6</th>\n",
       "      <td>nets_pub</td>\n",
       "    </tr>\n",
       "  </tbody>\n",
       "</table>\n",
       "</div>"
      ],
      "text/plain": [
       "                 name\n",
       "0           compustat\n",
       "1  compustat_geocoded\n",
       "2                fnam\n",
       "3                fnpm\n",
       "4             matched\n",
       "5            nets_all\n",
       "6            nets_pub"
      ]
     },
     "execution_count": 2,
     "metadata": {},
     "output_type": "execute_result"
    }
   ],
   "source": [
    "# Conect to Database\n",
    "con = duckdb.connect(database='database.db', read_only=False)\n",
    "con.execute('INSTALL spatial')\n",
    "con.execute('LOAD spatial')\n",
    "con.sql('SHOW TABLES').fetchdf()"
   ]
  },
  {
   "cell_type": "code",
   "execution_count": 7,
   "id": "e1b8e6077f5a53d8",
   "metadata": {
    "ExecuteTime": {
     "end_time": "2024-03-19T00:34:32.125207Z",
     "start_time": "2024-03-19T00:34:32.123267Z"
    },
    "collapsed": false
   },
   "outputs": [],
   "source": [
    "prepared_statement_name_pub = \"\"\"\n",
    "    CREATE TABLE tmp AS\n",
    "    SELECT\n",
    "        hqduns, \n",
    "        hqcompany,\n",
    "        latitude,\n",
    "        longitude,\n",
    "        jaro_winkler_similarity(n.hqcompany, ?) AS similarity_score\n",
    "    FROM\n",
    "        nets_pub n\n",
    "        --we can use other similarity functions\n",
    "        --we can also use other similarity scores\n",
    "\"\"\"\n",
    "prepared_statement_name_all = \"\"\"\n",
    "    CREATE TABLE tmp AS\n",
    "    SELECT\n",
    "        hqduns, \n",
    "        hqcompany,\n",
    "        latitude,\n",
    "        longitude,\n",
    "        jaro_winkler_similarity(n.hqcompany, ?) AS similarity_score\n",
    "    FROM\n",
    "        nets_all n\n",
    "        WHERE hqcity = ?\n",
    "        --we can use other similarity functions\n",
    "        --we can also use other similarity scores\n",
    "\"\"\"\n",
    "\n",
    "prepared_statement_add_match = \"\"\"\n",
    "    INSERT INTO matched\n",
    "    VALUES (?, --gvkey \n",
    "            (SELECT hqcompany FROM compustat WHERE gvkey = ?), --hqcompany\n",
    "            ?, --hqduns_pub\n",
    "            (SELECT hqcompany FROM nets_pub WHERE hqduns = ?),\n",
    "            ?, --name similarity_pub\n",
    "            ?, --distance pub\n",
    "            ?, --hqduns_all\n",
    "            (SELECT hqcompany FROM nets_all WHERE hqduns = ?),\n",
    "            ?,  --name similarity_all\n",
    "            ?); --distance all\n",
    "\"\"\"\n",
    "\n",
    "prepared_statement_geo_match_all = \"\"\"\n",
    "    SELECT \n",
    "        hqduns,\n",
    "        similarity_score,\n",
    "        ST_Distance(\n",
    "            ST_Point(n.latitude, n.longitude)::GEOMETRY,\n",
    "            ST_Point(?, ?)::GEOMETRY\n",
    "            ) AS distance\n",
    "    FROM fnam n\n",
    "    ORDER BY distance ASC\n",
    "    LIMIT 1;\n",
    "\"\"\"\n",
    "\n",
    "prepared_statement_geo_match_pub = \"\"\"\n",
    "    SELECT \n",
    "        hqduns,\n",
    "        similarity_score,\n",
    "        ST_Distance(\n",
    "            ST_Point(n.latitude, n.longitude)::GEOMETRY,\n",
    "            ST_Point(?, ?)::GEOMETRY\n",
    "            ) AS distance\n",
    "    FROM fnpm n\n",
    "    ORDER BY distance ASC\n",
    "    LIMIT 1;\n",
    "\"\"\""
   ]
  },
  {
   "cell_type": "code",
   "execution_count": 8,
   "id": "3b33b19523b5bc8b",
   "metadata": {
    "ExecuteTime": {
     "end_time": "2024-03-19T00:34:32.136909Z",
     "start_time": "2024-03-19T00:34:32.134751Z"
    },
    "collapsed": false
   },
   "outputs": [],
   "source": [
    "# Get the matches for a specific name\n",
    "def name_similarity_pub(comp_name):\n",
    "    con.execute('DROP TABLE IF EXISTS tmp;')\n",
    "    con.execute(prepared_statement_name_pub, [comp_name])\n",
    "    return con.sql('SELECT * FROM tmp WHERE similarity_score > 0.9 ORDER BY similarity_score DESC LIMIT 5').fetchdf() #TODO change threshold\n",
    "\n",
    "def name_similarity_all(comp_name, city):\n",
    "    con.execute('DROP TABLE IF EXISTS tmp;')\n",
    "    con.execute(prepared_statement_name_all, [comp_name, city])\n",
    "    return con.sql('SELECT * FROM tmp WHERE similarity_score > 0.9 ORDER BY similarity_score DESC LIMIT 10').fetchdf() #TODO change threshold\n"
   ]
  },
  {
   "cell_type": "code",
   "execution_count": 9,
   "id": "86f538d00b6583c6",
   "metadata": {
    "ExecuteTime": {
     "end_time": "2024-03-19T00:34:32.140124Z",
     "start_time": "2024-03-19T00:34:32.137786Z"
    },
    "collapsed": false
   },
   "outputs": [
    {
     "data": {
      "text/plain": [
       "<duckdb.duckdb.DuckDBPyConnection at 0x2a813fba970>"
      ]
     },
     "execution_count": 9,
     "metadata": {},
     "output_type": "execute_result"
    }
   ],
   "source": [
    "#con.execute('DROP TABLE IF EXISTS matched;')\n",
    "sql_query = \"\"\"\n",
    "CREATE TABLE IF NOT EXISTS matched (\n",
    "    gvkey INTEGER,\n",
    "    hqcompany TEXT,\n",
    "    hqduns_pub INTEGER,\n",
    "    hqcompany_pub TEXT,\n",
    "    similarity_pub FLOAT,\n",
    "    distance_pub FLOAT,\n",
    "    hqduns_all INTEGER,\n",
    "    hqcompany_all TEXT,\n",
    "    similarity_all FLOAT,\n",
    "    distance_all FLOAT\n",
    ");\n",
    "\"\"\"\n",
    "con.execute(sql_query)"
   ]
  },
  {
   "cell_type": "code",
   "execution_count": 10,
   "id": "e08e86a8b814d0df",
   "metadata": {
    "ExecuteTime": {
     "end_time": "2024-03-19T00:34:32.148689Z",
     "start_time": "2024-03-19T00:34:32.140992Z"
    },
    "collapsed": false
   },
   "outputs": [],
   "source": [
    "\n",
    "compustat_df = con.sql('SELECT * FROM compustat').fetchdf()\n",
    "\n",
    "# Fill missing values\n",
    "compustat_df['lat'] = compustat_df['lat'].fillna(0)\n",
    "compustat_df['lon'] = compustat_df['lon'].fillna(0)"
   ]
  },
  {
   "cell_type": "code",
   "execution_count": 11,
   "id": "fee2e6385058cd99",
   "metadata": {
    "ExecuteTime": {
     "end_time": "2024-03-19T00:34:32.150723Z",
     "start_time": "2024-03-19T00:34:32.149463Z"
    },
    "collapsed": false
   },
   "outputs": [],
   "source": [
    "# Stats Counter\n",
    "pub_match_all = 0"
   ]
  },
  {
   "cell_type": "code",
   "execution_count": 12,
   "id": "984464a7622e2ef7",
   "metadata": {
    "ExecuteTime": {
     "end_time": "2024-03-19T00:34:32.186413Z",
     "start_time": "2024-03-19T00:34:32.181413Z"
    },
    "collapsed": false
   },
   "outputs": [],
   "source": [
    "def matching(compustat_df):\n",
    "    pub_match_all = 0\n",
    "    i = 0\n",
    "    for index, row in compustat_df.iterrows():\n",
    "        i += 1\n",
    "        if i % 100 == 0:\n",
    "            print(f'Processing {i} of {compustat_df.shape[0]}')\n",
    "        gvkey = row['gvkey']\n",
    "        #check if gvkey is already in matched\n",
    "        if con.sql(f'SELECT COUNT(*) FROM matched WHERE gvkey = {gvkey}').fetchdf()['count_star()'].iloc[0] > 0:\n",
    "            print(f'Already processed {gvkey}, {row[\"hqcompany\"]}')\n",
    "            continue\n",
    "        # Get candidate matches\n",
    "        name_pub_match = name_similarity_pub(row['hqcompany'])\n",
    "        \n",
    "        # Trying to get the top similarity score in the database with public companies\n",
    "        try:\n",
    "            filtered_name_pub_matches = name_pub_match[name_pub_match['similarity_score'] == name_pub_match['similarity_score'].iloc[0]]\n",
    "            # Create a temporary table with the filtered results\n",
    "            con.execute('DROP TABLE IF EXISTS fnpm;')\n",
    "            con.execute('DROP TABLE IF EXISTS tmp;')\n",
    "            con.execute('CREATE TABLE fnpm AS SELECT * FROM filtered_name_pub_matches;')\n",
    "            pub_match = con.execute(prepared_statement_geo_match_pub, [row['lat'], row['lon']]).fetchdf().iloc[0]\n",
    "        except IndexError:\n",
    "            # if no match is found, fill with dummy values\n",
    "            pub_match = pd.DataFrame(columns= ['hqduns', 'similarity_score', 'distance'])\n",
    "            pub_match.loc[0] = [-1, -1, 9999999]  # Fill with dummy values\n",
    "            \n",
    "        name_all_matches = name_similarity_all(row['hqcompany'], row['city'])\n",
    "        \n",
    "        # Trying to get the top similarity score in the database with all companies\n",
    "        try:\n",
    "            # Get the top similarity score\n",
    "            top_similarity_score = name_all_matches['similarity_score'].iloc[0]\n",
    "            # Filter the DataFrame\n",
    "            filtered_name_all_matches = name_all_matches[name_all_matches['similarity_score'] == top_similarity_score]\n",
    "            # Create a temporary table with the filtered results\n",
    "            con.execute('DROP TABLE IF EXISTS fnam;')\n",
    "            con.execute('DROP TABLE IF EXISTS tmp;')\n",
    "            con.execute('CREATE TABLE fnam AS SELECT * FROM filtered_name_all_matches;')\n",
    "            name_all_match = con.execute(prepared_statement_geo_match_all, [row['lat'], row['lon']]).fetchdf().iloc[0]\n",
    "        except IndexError:\n",
    "            # if no match is found, fill with default values\n",
    "            name_all_match = pd.DataFrame(columns= ['hqduns', 'similarity_score', 'distance'])\n",
    "            name_all_match.loc[0] = [-1, -1, 9999999]  # Fill with default values\n",
    "        \n",
    "        # Check if the public match is in the all matches and if the similarity score is higher than the current top match\n",
    "        if pub_match['hqduns'].item() in name_all_matches['hqduns'].values and pub_match['similarity_score'].item() >= name_all_match['similarity_score'].item():\n",
    "            # If the public match is in the all matches and the similarity score is higher or equal, use the public match also for the all match\n",
    "            name_all_match = pub_match\n",
    "            pub_match_all += 1\n",
    "        \n",
    "        try:    \n",
    "            con.execute(prepared_statement_add_match, [gvkey, gvkey, pub_match['hqduns'].item(), pub_match['hqduns'].item(), pub_match['similarity_score'].item(), pub_match['distance'].item(), name_all_match['hqduns'].item(), name_all_match['hqduns'].item(), name_all_match['similarity_score'].item(), name_all_match['distance'].item()])\n",
    "        except KeyError:\n",
    "             con.execute(prepared_statement_add_match, [gvkey, gvkey, pub_match['hqduns'].item(), pub_match['hqduns'].item(), pub_match['similarity_score'].item(), pub_match['distance'].item(), name_all_match['hqduns'].item(), name_all_match['hqduns'].item(), name_all_match['similarity_score'].item(), -1])"
   ]
  },
  {
   "cell_type": "code",
   "execution_count": null,
   "id": "358e7c9a003a719b",
   "metadata": {
    "collapsed": false
   },
   "outputs": [],
   "source": [
    "# Call the function with the compustat DataFrame\n",
    "matching(compustat_df[0:])"
   ]
  },
  {
   "cell_type": "code",
   "execution_count": 28,
   "id": "2929ef8fb03fe22f",
   "metadata": {
    "ExecuteTime": {
     "end_time": "2024-03-19T10:48:10.598776Z",
     "start_time": "2024-03-19T10:48:10.585633Z"
    },
    "collapsed": false
   },
   "outputs": [
    {
     "data": {
      "text/html": [
       "<div>\n",
       "<style scoped>\n",
       "    .dataframe tbody tr th:only-of-type {\n",
       "        vertical-align: middle;\n",
       "    }\n",
       "\n",
       "    .dataframe tbody tr th {\n",
       "        vertical-align: top;\n",
       "    }\n",
       "\n",
       "    .dataframe thead th {\n",
       "        text-align: right;\n",
       "    }\n",
       "</style>\n",
       "<table border=\"1\" class=\"dataframe\">\n",
       "  <thead>\n",
       "    <tr style=\"text-align: right;\">\n",
       "      <th></th>\n",
       "      <th>gvkey</th>\n",
       "      <th>hqcompany</th>\n",
       "      <th>hqduns_pub</th>\n",
       "      <th>hqcompany_pub</th>\n",
       "      <th>similarity_pub</th>\n",
       "      <th>distance_pub</th>\n",
       "      <th>hqduns_all</th>\n",
       "      <th>hqcompany_all</th>\n",
       "      <th>similarity_all</th>\n",
       "      <th>distance_all</th>\n",
       "    </tr>\n",
       "  </thead>\n",
       "  <tbody>\n",
       "    <tr>\n",
       "      <th>6574</th>\n",
       "      <td>14064</td>\n",
       "      <td>MESTEKINC</td>\n",
       "      <td>4328225</td>\n",
       "      <td>MESTEKINC</td>\n",
       "      <td>1.000000</td>\n",
       "      <td>0.345243</td>\n",
       "      <td>4328225</td>\n",
       "      <td>MESTEKINC</td>\n",
       "      <td>1.000000</td>\n",
       "      <td>0.345243</td>\n",
       "    </tr>\n",
       "    <tr>\n",
       "      <th>29093</th>\n",
       "      <td>143910</td>\n",
       "      <td>BRIDGECAPITALHLDGS</td>\n",
       "      <td>791190932</td>\n",
       "      <td>BRIDGECAPITALHLDGS</td>\n",
       "      <td>1.000000</td>\n",
       "      <td>0.000051</td>\n",
       "      <td>791190932</td>\n",
       "      <td>BRIDGECAPITALHLDGS</td>\n",
       "      <td>1.000000</td>\n",
       "      <td>0.000051</td>\n",
       "    </tr>\n",
       "    <tr>\n",
       "      <th>28118</th>\n",
       "      <td>39225</td>\n",
       "      <td>LEGALZOOM.COMINC</td>\n",
       "      <td>931244508</td>\n",
       "      <td>LEGALZOOMCOMINC</td>\n",
       "      <td>0.987500</td>\n",
       "      <td>0.003767</td>\n",
       "      <td>931244508</td>\n",
       "      <td>LEGALZOOMCOMINC</td>\n",
       "      <td>0.987500</td>\n",
       "      <td>0.003767</td>\n",
       "    </tr>\n",
       "    <tr>\n",
       "      <th>2803</th>\n",
       "      <td>30608</td>\n",
       "      <td>MPSGRPINC</td>\n",
       "      <td>96602008</td>\n",
       "      <td>MPSGRPINC</td>\n",
       "      <td>1.000000</td>\n",
       "      <td>13.151968</td>\n",
       "      <td>86726077</td>\n",
       "      <td>MPGRPINC</td>\n",
       "      <td>0.970370</td>\n",
       "      <td>0.163659</td>\n",
       "    </tr>\n",
       "    <tr>\n",
       "      <th>9204</th>\n",
       "      <td>160257</td>\n",
       "      <td>MTONEWIRELESSCORPREDH</td>\n",
       "      <td>-1</td>\n",
       "      <td>None</td>\n",
       "      <td>-1.000000</td>\n",
       "      <td>9999999.000000</td>\n",
       "      <td>830032400</td>\n",
       "      <td>MTONEWIRELESSCORP</td>\n",
       "      <td>0.961905</td>\n",
       "      <td>0.000151</td>\n",
       "    </tr>\n",
       "    <tr>\n",
       "      <th>11645</th>\n",
       "      <td>14625</td>\n",
       "      <td>AMERICANPLASTICS&amp;CHEM</td>\n",
       "      <td>-1</td>\n",
       "      <td>None</td>\n",
       "      <td>-1.000000</td>\n",
       "      <td>9999999.000000</td>\n",
       "      <td>621634583</td>\n",
       "      <td>AMERICANPLASTICS&amp;CHEMICALS</td>\n",
       "      <td>0.961538</td>\n",
       "      <td>0.001212</td>\n",
       "    </tr>\n",
       "    <tr>\n",
       "      <th>35941</th>\n",
       "      <td>9741</td>\n",
       "      <td>SIMPLEXWIREANDCABLECO</td>\n",
       "      <td>-1</td>\n",
       "      <td>None</td>\n",
       "      <td>-1.000000</td>\n",
       "      <td>9999999.000000</td>\n",
       "      <td>120885335</td>\n",
       "      <td>SIMPLEXWIRE&amp;CABLECO</td>\n",
       "      <td>0.949791</td>\n",
       "      <td>0.017240</td>\n",
       "    </tr>\n",
       "    <tr>\n",
       "      <th>27440</th>\n",
       "      <td>26296</td>\n",
       "      <td>GIBRALTARGROWTHCORP</td>\n",
       "      <td>6904429</td>\n",
       "      <td>GIBRALTAR)CORP</td>\n",
       "      <td>0.907172</td>\n",
       "      <td>40.183838</td>\n",
       "      <td>-1</td>\n",
       "      <td>None</td>\n",
       "      <td>-1.000000</td>\n",
       "      <td>9999999.000000</td>\n",
       "    </tr>\n",
       "    <tr>\n",
       "      <th>4794</th>\n",
       "      <td>185865</td>\n",
       "      <td>AUSTRALIAACQUISITIONCORP</td>\n",
       "      <td>117943061</td>\n",
       "      <td>AUSTERLITZACQUISITIONCORPII</td>\n",
       "      <td>0.900842</td>\n",
       "      <td>270.568268</td>\n",
       "      <td>-1</td>\n",
       "      <td>None</td>\n",
       "      <td>-1.000000</td>\n",
       "      <td>9999999.000000</td>\n",
       "    </tr>\n",
       "    <tr>\n",
       "      <th>23221</th>\n",
       "      <td>61449</td>\n",
       "      <td>GABELLICONV&amp;INCOMESECFD</td>\n",
       "      <td>-1</td>\n",
       "      <td>None</td>\n",
       "      <td>-1.000000</td>\n",
       "      <td>9999999.000000</td>\n",
       "      <td>-1</td>\n",
       "      <td>None</td>\n",
       "      <td>-1.000000</td>\n",
       "      <td>9999999.000000</td>\n",
       "    </tr>\n",
       "  </tbody>\n",
       "</table>\n",
       "</div>"
      ],
      "text/plain": [
       "        gvkey                 hqcompany  hqduns_pub  \\\n",
       "6574    14064                 MESTEKINC     4328225   \n",
       "29093  143910        BRIDGECAPITALHLDGS   791190932   \n",
       "28118   39225          LEGALZOOM.COMINC   931244508   \n",
       "2803    30608                 MPSGRPINC    96602008   \n",
       "9204   160257     MTONEWIRELESSCORPREDH          -1   \n",
       "11645   14625     AMERICANPLASTICS&CHEM          -1   \n",
       "35941    9741     SIMPLEXWIREANDCABLECO          -1   \n",
       "27440   26296       GIBRALTARGROWTHCORP     6904429   \n",
       "4794   185865  AUSTRALIAACQUISITIONCORP   117943061   \n",
       "23221   61449   GABELLICONV&INCOMESECFD          -1   \n",
       "\n",
       "                     hqcompany_pub  similarity_pub   distance_pub  hqduns_all  \\\n",
       "6574                     MESTEKINC        1.000000       0.345243     4328225   \n",
       "29093           BRIDGECAPITALHLDGS        1.000000       0.000051   791190932   \n",
       "28118              LEGALZOOMCOMINC        0.987500       0.003767   931244508   \n",
       "2803                     MPSGRPINC        1.000000      13.151968    86726077   \n",
       "9204                          None       -1.000000 9999999.000000   830032400   \n",
       "11645                         None       -1.000000 9999999.000000   621634583   \n",
       "35941                         None       -1.000000 9999999.000000   120885335   \n",
       "27440               GIBRALTAR)CORP        0.907172      40.183838          -1   \n",
       "4794   AUSTERLITZACQUISITIONCORPII        0.900842     270.568268          -1   \n",
       "23221                         None       -1.000000 9999999.000000          -1   \n",
       "\n",
       "                    hqcompany_all  similarity_all   distance_all  \n",
       "6574                    MESTEKINC        1.000000       0.345243  \n",
       "29093          BRIDGECAPITALHLDGS        1.000000       0.000051  \n",
       "28118             LEGALZOOMCOMINC        0.987500       0.003767  \n",
       "2803                     MPGRPINC        0.970370       0.163659  \n",
       "9204            MTONEWIRELESSCORP        0.961905       0.000151  \n",
       "11645  AMERICANPLASTICS&CHEMICALS        0.961538       0.001212  \n",
       "35941         SIMPLEXWIRE&CABLECO        0.949791       0.017240  \n",
       "27440                        None       -1.000000 9999999.000000  \n",
       "4794                         None       -1.000000 9999999.000000  \n",
       "23221                        None       -1.000000 9999999.000000  "
      ]
     },
     "execution_count": 28,
     "metadata": {},
     "output_type": "execute_result"
    }
   ],
   "source": [
    "con.sql('SELECT * FROM matched').fetchdf().sample(10).sort_values(by='similarity_all', ascending=False)"
   ]
  },
  {
   "cell_type": "code",
   "execution_count": 15,
   "id": "5f636bb5cbb71aba",
   "metadata": {
    "ExecuteTime": {
     "end_time": "2024-03-19T10:48:14.938809Z",
     "start_time": "2024-03-19T10:48:14.933607Z"
    },
    "collapsed": false
   },
   "outputs": [
    {
     "name": "stdout",
     "output_type": "stream",
     "text": [
      "38.73359810969785\n",
      "15409\n"
     ]
    }
   ],
   "source": [
    "# matched = con.sql('SELECT COUNT(*) FROM matched WHERE similarity_pub >= 0.94').fetchdf()\n",
    "# matched_size = con.sql('SELECT COUNT(*) FROM matched').fetchdf()['count_star()'].iloc[0]\n",
    "# #print percentage of matched companies|\n",
    "# print(matched['count_star()'].iloc[0] / matched_size * 100)\n",
    "# print(matched['count_star()'].iloc[0])"
   ]
  },
  {
   "cell_type": "code",
   "execution_count": 18,
   "id": "b25f697e4c8c6591",
   "metadata": {
    "collapsed": false,
    "is_executing": true
   },
   "outputs": [
    {
     "name": "stdout",
     "output_type": "stream",
     "text": [
      "Number of companies: 39782\n",
      "Accuracy with all companies: 69.92609722990298%\n",
      "Accuracy only public companies: 36.501432808808005%\n",
      "Entries with same match: 0.0%\n",
      "Entries with no pub match: 47.00115630184506%\n",
      "Entries with no pub match but all match: 7.42546880498718%\n",
      "Entries with no pub match but all match and distance < 1: 12.354833844452266%\n"
     ]
    }
   ],
   "source": [
    "# # Show statistics\n",
    "# print(f'Number of companies: {matched_size}')\n",
    "# accuracy = con.sql('SELECT COUNT(*) FROM matched WHERE similarity_pub >= 0.95').fetchdf()['count_star()'].iloc[0] / matched_size * 100\n",
    "# accuray_with_all = con.sql('SELECT COUNT(*) FROM matched WHERE similarity_all >= 0.95').fetchdf()['count_star()'].iloc[0] / matched_size * 100 + accuracy\n",
    "# print(f'Accuracy with all companies: {accuray_with_all}%')\n",
    "# print(f'Accuracy only public companies: {accuracy}%')\n",
    "# same_match = pub_match_all / matched_size * 100\n",
    "# print(f'Entries with same match: {same_match}%')\n",
    "# no_pub_percentage = con.sql('SELECT COUNT(*) FROM matched WHERE hqduns_pub = -1').fetchdf()['count_star()'].iloc[0] / matched_size * 100\n",
    "# print(f'Entries with no pub match: {no_pub_percentage}%')\n",
    "# no_pub_but_all_percentage = con.sql('SELECT COUNT(*) FROM matched WHERE hqduns_pub = -1 AND hqduns_all != -1 AND similarity_all >= 0.94').fetchdf()['count_star()'].iloc[0] / matched_size * 100\n",
    "# print(f'Entries with no pub match but all match: {no_pub_but_all_percentage}%')\n",
    "# # All matches, where no pub match and distance < 1\n",
    "# no_pub_but_all_distance_percentage = con.sql('SELECT COUNT(*) FROM matched WHERE hqduns_pub = -1 AND hqduns_all != -1 AND distance_all < 1').fetchdf()['count_star()'].iloc[0] / matched_size * 100\n",
    "# print(f'Entries with no pub match but all match and distance < 1: {no_pub_but_all_distance_percentage}%')"
   ]
  },
  {
   "cell_type": "code",
   "execution_count": 17,
   "id": "ac6e14a6336fdbc5",
   "metadata": {
    "collapsed": false,
    "is_executing": true
   },
   "outputs": [],
   "source": [
    "con.commit()\n",
    "con.close()"
   ]
  },
  {
   "cell_type": "code",
   "execution_count": 30,
   "id": "1f59ee3c",
   "metadata": {},
   "outputs": [],
   "source": [
    "con.execute('SELECT * FROM matched').fetchdf().to_csv('S:/Users/Hiwi/Maris/name_matching/Data/matched.csv', index=False)\n",
    "con.execute('SELECT * FROM matched').fetchdf().to_stata('S:/Users/Hiwi/Maris/name_matching/Data/matched.dta')"
   ]
  },
  {
   "cell_type": "code",
   "execution_count": null,
   "id": "2ae9862f",
   "metadata": {},
   "outputs": [],
   "source": []
  }
 ],
 "metadata": {
  "kernelspec": {
   "display_name": "Python 3",
   "language": "python",
   "name": "python3"
  },
  "language_info": {
   "codemirror_mode": {
    "name": "ipython",
    "version": 3
   },
   "file_extension": ".py",
   "mimetype": "text/x-python",
   "name": "python",
   "nbconvert_exporter": "python",
   "pygments_lexer": "ipython3",
   "version": "3.9.12"
  }
 },
 "nbformat": 4,
 "nbformat_minor": 5
}
